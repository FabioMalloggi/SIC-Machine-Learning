{
  "nbformat": 4,
  "nbformat_minor": 0,
  "metadata": {
    "colab": {
      "provenance": []
    },
    "kernelspec": {
      "name": "python3",
      "display_name": "Python 3"
    },
    "language_info": {
      "name": "python"
    }
  },
  "cells": [
    {
      "cell_type": "markdown",
      "source": [
        "#Malloggi-Vigna SEAI Project - Project Test Base#\n",
        "\n"
      ],
      "metadata": {
        "id": "l-8BUvC5sP3C"
      }
    },
    {
      "cell_type": "code",
      "source": [
        "!nvcc  --version"
      ],
      "metadata": {
        "colab": {
          "base_uri": "https://localhost:8080/"
        },
        "id": "Wma6P1HzxARc",
        "outputId": "4d2006aa-16b3-46f3-9fc2-fbc3969f461c"
      },
      "execution_count": null,
      "outputs": [
        {
          "output_type": "stream",
          "name": "stdout",
          "text": [
            "nvcc: NVIDIA (R) Cuda compiler driver\n",
            "Copyright (c) 2005-2023 NVIDIA Corporation\n",
            "Built on Tue_Aug_15_22:02:13_PDT_2023\n",
            "Cuda compilation tools, release 12.2, V12.2.140\n",
            "Build cuda_12.2.r12.2/compiler.33191640_0\n"
          ]
        }
      ]
    },
    {
      "cell_type": "markdown",
      "source": [
        "## KERAS 3 - Cross-platform Management\n",
        "reference:\n",
        "https://keras.io/getting_started/\n",
        "\n",
        "Aim of this project:\n",
        "- Keras 3\n",
        "- Tensorflow 2.16.1 (only one compatible with Keras3)\n",
        "\n",
        "Colab preinstalled packages:\n",
        "- Keras 2\n",
        "- Tensorflow 2.15.0\n",
        "- tf-keras 2.15.1 (previous keras version which was defined as tensorflow sub-package)\n",
        "\n",
        "Therefore we need to update Tensorflow to the latest version available.\n",
        "\n",
        "\n",
        "---\n",
        "reference: https://github.com/keras-team/tf-keras\n",
        "\n",
        "TF-Keras: the pure-TensorFlow implementation of Keras\n",
        "This repository hosts the development of the TF-Keras library. It is a pure TensorFlow implementation of Keras, based on the legacy tf.keras codebase.\n",
        "\n",
        "Note that the \"main\" version of Keras is now Keras 3 (formerly Keras Core), which is a multi-backend implementation of Keras, supporting JAX, PyTorch, and TensorFlow. Keras 3 is being developed at keras-team/keras."
      ],
      "metadata": {
        "id": "fZRdocSCu79b"
      }
    },
    {
      "cell_type": "code",
      "source": [
        "# tensorflow 2.15.0 is already installed, it must be uninstalled first\n",
        "!pip uninstall tensorflow -y\n",
        "!pip uninstall keras -y\n",
        "!pip uninstall tf-keras -y\n",
        "!pip install tensorflow\n",
        "# !pip install --upgrade keras //automatically done installing tensorflow"
      ],
      "metadata": {
        "colab": {
          "base_uri": "https://localhost:8080/"
        },
        "id": "lrGR7Un46UM_",
        "outputId": "fd1194e1-b56d-4723-dd27-51e599326c60"
      },
      "execution_count": null,
      "outputs": [
        {
          "output_type": "stream",
          "name": "stdout",
          "text": [
            "Found existing installation: tensorflow 2.16.1\n",
            "Uninstalling tensorflow-2.16.1:\n",
            "  Successfully uninstalled tensorflow-2.16.1\n",
            "Found existing installation: keras 3.3.3\n",
            "Uninstalling keras-3.3.3:\n",
            "  Successfully uninstalled keras-3.3.3\n",
            "\u001b[33mWARNING: Skipping tf-keras as it is not installed.\u001b[0m\u001b[33m\n",
            "\u001b[0mCollecting tensorflow\n",
            "  Using cached tensorflow-2.16.1-cp310-cp310-manylinux_2_17_x86_64.manylinux2014_x86_64.whl (589.8 MB)\n",
            "Requirement already satisfied: absl-py>=1.0.0 in /usr/local/lib/python3.10/dist-packages (from tensorflow) (1.4.0)\n",
            "Requirement already satisfied: astunparse>=1.6.0 in /usr/local/lib/python3.10/dist-packages (from tensorflow) (1.6.3)\n",
            "Requirement already satisfied: flatbuffers>=23.5.26 in /usr/local/lib/python3.10/dist-packages (from tensorflow) (24.3.25)\n",
            "Requirement already satisfied: gast!=0.5.0,!=0.5.1,!=0.5.2,>=0.2.1 in /usr/local/lib/python3.10/dist-packages (from tensorflow) (0.5.4)\n",
            "Requirement already satisfied: google-pasta>=0.1.1 in /usr/local/lib/python3.10/dist-packages (from tensorflow) (0.2.0)\n",
            "Requirement already satisfied: h5py>=3.10.0 in /usr/local/lib/python3.10/dist-packages (from tensorflow) (3.11.0)\n",
            "Requirement already satisfied: libclang>=13.0.0 in /usr/local/lib/python3.10/dist-packages (from tensorflow) (18.1.1)\n",
            "Requirement already satisfied: ml-dtypes~=0.3.1 in /usr/local/lib/python3.10/dist-packages (from tensorflow) (0.3.2)\n",
            "Requirement already satisfied: opt-einsum>=2.3.2 in /usr/local/lib/python3.10/dist-packages (from tensorflow) (3.3.0)\n",
            "Requirement already satisfied: packaging in /usr/local/lib/python3.10/dist-packages (from tensorflow) (24.0)\n",
            "Requirement already satisfied: protobuf!=4.21.0,!=4.21.1,!=4.21.2,!=4.21.3,!=4.21.4,!=4.21.5,<5.0.0dev,>=3.20.3 in /usr/local/lib/python3.10/dist-packages (from tensorflow) (3.20.3)\n",
            "Requirement already satisfied: requests<3,>=2.21.0 in /usr/local/lib/python3.10/dist-packages (from tensorflow) (2.31.0)\n",
            "Requirement already satisfied: setuptools in /usr/local/lib/python3.10/dist-packages (from tensorflow) (67.7.2)\n",
            "Requirement already satisfied: six>=1.12.0 in /usr/local/lib/python3.10/dist-packages (from tensorflow) (1.16.0)\n",
            "Requirement already satisfied: termcolor>=1.1.0 in /usr/local/lib/python3.10/dist-packages (from tensorflow) (2.4.0)\n",
            "Requirement already satisfied: typing-extensions>=3.6.6 in /usr/local/lib/python3.10/dist-packages (from tensorflow) (4.11.0)\n",
            "Requirement already satisfied: wrapt>=1.11.0 in /usr/local/lib/python3.10/dist-packages (from tensorflow) (1.14.1)\n",
            "Requirement already satisfied: grpcio<2.0,>=1.24.3 in /usr/local/lib/python3.10/dist-packages (from tensorflow) (1.63.0)\n",
            "Requirement already satisfied: tensorboard<2.17,>=2.16 in /usr/local/lib/python3.10/dist-packages (from tensorflow) (2.16.2)\n",
            "Collecting keras>=3.0.0 (from tensorflow)\n",
            "  Using cached keras-3.3.3-py3-none-any.whl (1.1 MB)\n",
            "Requirement already satisfied: tensorflow-io-gcs-filesystem>=0.23.1 in /usr/local/lib/python3.10/dist-packages (from tensorflow) (0.37.0)\n",
            "Requirement already satisfied: numpy<2.0.0,>=1.23.5 in /usr/local/lib/python3.10/dist-packages (from tensorflow) (1.25.2)\n",
            "Requirement already satisfied: wheel<1.0,>=0.23.0 in /usr/local/lib/python3.10/dist-packages (from astunparse>=1.6.0->tensorflow) (0.43.0)\n",
            "Requirement already satisfied: rich in /usr/local/lib/python3.10/dist-packages (from keras>=3.0.0->tensorflow) (13.7.1)\n",
            "Requirement already satisfied: namex in /usr/local/lib/python3.10/dist-packages (from keras>=3.0.0->tensorflow) (0.0.8)\n",
            "Requirement already satisfied: optree in /usr/local/lib/python3.10/dist-packages (from keras>=3.0.0->tensorflow) (0.11.0)\n",
            "Requirement already satisfied: charset-normalizer<4,>=2 in /usr/local/lib/python3.10/dist-packages (from requests<3,>=2.21.0->tensorflow) (3.3.2)\n",
            "Requirement already satisfied: idna<4,>=2.5 in /usr/local/lib/python3.10/dist-packages (from requests<3,>=2.21.0->tensorflow) (3.7)\n",
            "Requirement already satisfied: urllib3<3,>=1.21.1 in /usr/local/lib/python3.10/dist-packages (from requests<3,>=2.21.0->tensorflow) (2.0.7)\n",
            "Requirement already satisfied: certifi>=2017.4.17 in /usr/local/lib/python3.10/dist-packages (from requests<3,>=2.21.0->tensorflow) (2024.2.2)\n",
            "Requirement already satisfied: markdown>=2.6.8 in /usr/local/lib/python3.10/dist-packages (from tensorboard<2.17,>=2.16->tensorflow) (3.6)\n",
            "Requirement already satisfied: tensorboard-data-server<0.8.0,>=0.7.0 in /usr/local/lib/python3.10/dist-packages (from tensorboard<2.17,>=2.16->tensorflow) (0.7.2)\n",
            "Requirement already satisfied: werkzeug>=1.0.1 in /usr/local/lib/python3.10/dist-packages (from tensorboard<2.17,>=2.16->tensorflow) (3.0.3)\n",
            "Requirement already satisfied: MarkupSafe>=2.1.1 in /usr/local/lib/python3.10/dist-packages (from werkzeug>=1.0.1->tensorboard<2.17,>=2.16->tensorflow) (2.1.5)\n",
            "Requirement already satisfied: markdown-it-py>=2.2.0 in /usr/local/lib/python3.10/dist-packages (from rich->keras>=3.0.0->tensorflow) (3.0.0)\n",
            "Requirement already satisfied: pygments<3.0.0,>=2.13.0 in /usr/local/lib/python3.10/dist-packages (from rich->keras>=3.0.0->tensorflow) (2.16.1)\n",
            "Requirement already satisfied: mdurl~=0.1 in /usr/local/lib/python3.10/dist-packages (from markdown-it-py>=2.2.0->rich->keras>=3.0.0->tensorflow) (0.1.2)\n",
            "Installing collected packages: keras, tensorflow\n",
            "Successfully installed keras-3.3.3 tensorflow-2.16.1\n"
          ]
        }
      ]
    },
    {
      "cell_type": "markdown",
      "source": [
        "### Backend Framework instantiation"
      ],
      "metadata": {
        "id": "si1y-EJE9J-1"
      }
    },
    {
      "cell_type": "code",
      "source": [
        "# Available backend options are: \"jax\", \"tensorflow\", \"torch\".\n",
        "import os\n",
        "os.environ[\"KERAS_BACKEND\"] = \"torch\"\n"
      ],
      "metadata": {
        "id": "z1IB3HFVrdpC"
      },
      "execution_count": null,
      "outputs": []
    },
    {
      "cell_type": "markdown",
      "source": [
        "###Check frameworks version###"
      ],
      "metadata": {
        "id": "qPABF-3mtTl7"
      }
    },
    {
      "cell_type": "code",
      "source": [
        "import sys\n",
        "import torch\n",
        "import torchvision\n",
        "import tensorflow as tf\n",
        "import jax\n",
        "import keras\n",
        "import numpy as np\n",
        "\n",
        "print(f\"python3: \", {sys.version})\n",
        "print(f\"keras: {keras.__version__}\")\n",
        "print(f\"tensorflow: {tf.__version__}\")\n",
        "print(f\"jax: {jax.__version__}\")\n",
        "print(f\"torch: {torch.__version__}\")\n",
        "print(f\"torchvision: {torchvision.__version__}\")\n",
        "print(f\"CUDA: {torch.version.cuda}\")\n",
        "\n",
        "cudnn = torch.backends.cudnn.version()\n",
        "cudnn_major = cudnn // 1000\n",
        "cudnn = cudnn % 1000\n",
        "cudnn_minor = cudnn // 100\n",
        "cudnn_patch = cudnn % 100\n",
        "print( 'cuDNN:', '.'.join([str(cudnn_major),str(cudnn_minor),str(cudnn_patch)]) )\n",
        "print(f\"numpy: {np.__version__}\")"
      ],
      "metadata": {
        "colab": {
          "base_uri": "https://localhost:8080/"
        },
        "id": "3YU8vgnahsEd",
        "outputId": "03cf8010-ae9b-442c-fef2-e3c74c1ea1c6"
      },
      "execution_count": null,
      "outputs": [
        {
          "output_type": "stream",
          "name": "stdout",
          "text": [
            "keras: 3.3.3\n",
            "python3:  {'3.10.12 (main, Nov 20 2023, 15:14:05) [GCC 11.4.0]'}\n",
            "tensorflow: 2.16.1\n",
            "jax: 0.4.26\n",
            "torch: 2.2.1+cu121\n",
            "torchvision: 0.17.1+cu121\n",
            "CUDA: 12.1\n",
            "cuDNN: 8.9.6\n"
          ]
        }
      ]
    },
    {
      "cell_type": "markdown",
      "source": [
        "##Code To Test##\n"
      ],
      "metadata": {
        "id": "8CMV1R6P7-jc"
      }
    },
    {
      "cell_type": "code",
      "source": [],
      "metadata": {
        "id": "1UwL6xnrr9s5"
      },
      "execution_count": null,
      "outputs": []
    }
  ]
}