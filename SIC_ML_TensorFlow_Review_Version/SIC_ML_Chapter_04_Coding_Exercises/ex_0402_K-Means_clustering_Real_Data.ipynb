{
  "cells": [
    {
      "cell_type": "markdown",
      "metadata": {
        "id": "view-in-github",
        "colab_type": "text"
      },
      "source": [
        "<a href=\"https://colab.research.google.com/github/tn-220/SIC-Machine-Learning/blob/main/SIC_ML_Coding_Exercises/SIC_ML_Chapter_05_Coding_Exercises/ex_0402.ipynb\" target=\"_parent\"><img src=\"https://colab.research.google.com/assets/colab-badge.svg\" alt=\"Open In Colab\"/></a>"
      ]
    },
    {
      "cell_type": "markdown",
      "metadata": {
        "id": "bDfW7wXmRGXu"
      },
      "source": [
        "## Coding Exercise #0402"
      ]
    },
    {
      "cell_type": "markdown",
      "metadata": {
        "id": "79VGeKgzRGXx"
      },
      "source": [
        "### 1. K-Means clustering with real data:"
      ]
    },
    {
      "cell_type": "code",
      "execution_count": null,
      "metadata": {
        "id": "pN1lwaJARGXx"
      },
      "outputs": [],
      "source": [
        "import numpy as np\n",
        "import pandas as pd\n",
        "import matplotlib.pyplot as plt\n",
        "import seaborn as sns\n",
        "import os\n",
        "from sklearn.cluster import KMeans\n",
        "import warnings\n",
        "warnings.filterwarnings('ignore')           # Turn off the warnings. \n",
        "%matplotlib inline"
      ]
    },
    {
      "cell_type": "markdown",
      "metadata": {
        "id": "2M9SeQ1iRGXy"
      },
      "source": [
        "#### 1.1. Load the 'Iris' dataset from Seaborn:\n",
        "from this list : https://github.com/mwaskom/seaborn-data"
      ]
    },
    {
      "cell_type": "code",
      "execution_count": null,
      "metadata": {
        "id": "yQLYHWA_RGXz"
      },
      "outputs": [],
      "source": [
        "df = sns.load_dataset('iris')\n",
        "df.head()"
      ]
    },
    {
      "cell_type": "code",
      "source": [
        "X = df.drop(columns=['species'])                        # Only X variables.\n",
        "Y = df['species']                                       # Only Y variable.\n",
        "header_X = X.columns                                    # Store the column names of X.\n",
        "type(header_X)"
      ],
      "metadata": {
        "id": "8MzCPtJsePOS"
      },
      "execution_count": null,
      "outputs": []
    },
    {
      "cell_type": "code",
      "source": [
        "X.head()"
      ],
      "metadata": {
        "id": "VX0yytT7ere2"
      },
      "execution_count": null,
      "outputs": []
    },
    {
      "cell_type": "code",
      "source": [
        "Y"
      ],
      "metadata": {
        "id": "KF4irym-3rdm"
      },
      "execution_count": null,
      "outputs": []
    },
    {
      "cell_type": "markdown",
      "metadata": {
        "id": "Fx6xMGcwRGXz"
      },
      "source": [
        "#### 1.2. Apply k-means:"
      ]
    },
    {
      "cell_type": "code",
      "execution_count": null,
      "metadata": {
        "id": "vHCkuqq7RGXz"
      },
      "outputs": [],
      "source": [
        "kmeans = KMeans(n_clusters=3, random_state=123)         # kmeans object for 3 clusters. radom_state=123 means deterministic initialization.\n",
        "kmeans.fit(X)                                           # Unsupervised learning => Only X.\n",
        "res = pd.Series(kmeans.labels_)                         # Cluster labeling result as Series.\n",
        "print(np.shape(res))\n",
        "print(np.shape(kmeans.cluster_centers_))"
      ]
    },
    {
      "cell_type": "code",
      "source": [
        "kmeans?"
      ],
      "metadata": {
        "id": "QE8f7zCszWfk"
      },
      "execution_count": null,
      "outputs": []
    },
    {
      "cell_type": "code",
      "source": [
        "n0 = (res==0)\n",
        "print(n0.sum())\n",
        "n1 = (res==1)\n",
        "print(n1.sum())\n",
        "n2 = (res==2)\n",
        "print(n2.sum())"
      ],
      "metadata": {
        "id": "gYWMEmkx0RHF"
      },
      "execution_count": null,
      "outputs": []
    },
    {
      "cell_type": "code",
      "execution_count": null,
      "metadata": {
        "id": "KaPBi6aXRGX0"
      },
      "outputs": [],
      "source": [
        "# Frequency table of the observations labeled as '0'.\n",
        "# This cluster has the majority 'virginica'.\n",
        "case0 = Y[n0]\n",
        "print(case0.value_counts())"
      ]
    },
    {
      "cell_type": "code",
      "execution_count": null,
      "metadata": {
        "id": "X5F-8ijIRGX0"
      },
      "outputs": [],
      "source": [
        "# Frequency table of the observations labeled as '1'.\n",
        "# This cluster corresponds entirely to 'setosa'.\n",
        "case1 = Y[n1]\n",
        "print(case1.value_counts())"
      ]
    },
    {
      "cell_type": "code",
      "execution_count": null,
      "metadata": {
        "id": "sswm3_rsRGX0"
      },
      "outputs": [],
      "source": [
        "# Frequency table of the observations labeled as '2'.\n",
        "# This cluster has the majority 'versicolor'.\n",
        "case2 = Y[n2]\n",
        "print(case2.value_counts())"
      ]
    },
    {
      "cell_type": "code",
      "execution_count": null,
      "metadata": {
        "id": "MDj-ISwlRGX1"
      },
      "outputs": [],
      "source": [
        "# A list that contains the learned labels.\n",
        "learnedLabels = ['Virginica','Setosa','Versicolor']  "
      ]
    },
    {
      "cell_type": "code",
      "source": [
        "kmeans.cluster_centers_"
      ],
      "metadata": {
        "id": "f476T2ofGiud"
      },
      "execution_count": null,
      "outputs": []
    },
    {
      "cell_type": "code",
      "execution_count": null,
      "metadata": {
        "id": "D7WvxLToRGX1"
      },
      "outputs": [],
      "source": [
        "# Print out the cluster centers (centroids).\n",
        "np.round(pd.DataFrame(kmeans.cluster_centers_,columns=header_X,index=['Cluster 0','Cluster 1','Cluster 2']),2)"
      ]
    },
    {
      "cell_type": "markdown",
      "metadata": {
        "id": "jcaVzyRARGX1"
      },
      "source": [
        "#### 1.3. Visualize:"
      ]
    },
    {
      "cell_type": "code",
      "execution_count": null,
      "metadata": {
        "id": "w1BSgn_oRGX1"
      },
      "outputs": [],
      "source": [
        "# Visualize the labeling content of the cluster 0. \n",
        "sns.countplot(case0).set_title('Cluster 0')\n",
        "plt.show()"
      ]
    },
    {
      "cell_type": "code",
      "execution_count": null,
      "metadata": {
        "id": "3MFeK00oRGX2"
      },
      "outputs": [],
      "source": [
        "# Visualize the labeling content of the cluster 1. \n",
        "sns.countplot(case1).set_title('Cluster 1')\n",
        "plt.show()"
      ]
    },
    {
      "cell_type": "code",
      "execution_count": null,
      "metadata": {
        "id": "qHIs58IXRGX2"
      },
      "outputs": [],
      "source": [
        "# Visualize the labeling content of the cluster 2. \n",
        "sns.countplot(case2).set_title('Cluster 2')\n",
        "plt.show()"
      ]
    },
    {
      "cell_type": "markdown",
      "metadata": {
        "id": "mJw2cT4ORGX2"
      },
      "source": [
        "#### 1.4. Prediction based on what we have learned:"
      ]
    },
    {
      "cell_type": "code",
      "execution_count": null,
      "metadata": {
        "id": "GgPQhJTVRGX2"
      },
      "outputs": [],
      "source": [
        "# For a given observation of X, predict the species from what we have learned. \n",
        "# Case #1.\n",
        "X_test = {'sepal_length': [7.0] ,'sepal_width': [3.0] , 'petal_length': [5.0]  ,'petal_width': [1.5] }   # Only X is given.\n",
        "X_test = pd.DataFrame(X_test)\n",
        "print(kmeans.predict(X_test))\n",
        "predCluster = kmeans.predict(X_test)[0]\n",
        "print(\"Predicted cluster {} with the most probable label '{}'\".format(predCluster,learnedLabels[predCluster]))"
      ]
    },
    {
      "cell_type": "code",
      "execution_count": null,
      "metadata": {
        "id": "Q5-lcx9TRGX2"
      },
      "outputs": [],
      "source": [
        "# Case #2.\n",
        "X_test = {'sepal_length': [4.5] ,'sepal_width': [3.0] , 'petal_length': [1.0]  ,'petal_width': [1.0] }   # Only X is given.\n",
        "X_test = pd.DataFrame(X_test)\n",
        "predCluster = kmeans.predict(X_test)[0]\n",
        "print(\"Predicted cluster {} with the most probable label '{}'\".format(predCluster,learnedLabels[predCluster]))"
      ]
    },
    {
      "cell_type": "code",
      "execution_count": null,
      "metadata": {
        "id": "Cgqn070kRGX3"
      },
      "outputs": [],
      "source": [
        "# Case #3.\n",
        "X_test = {'sepal_length': [6.0] ,'sepal_width': [3.0] , 'petal_length': [4.0]  ,'petal_width': [1.0] }   # Only X is given.\n",
        "X_test = pd.DataFrame(X_test)\n",
        "predCluster = kmeans.predict(X_test)[0]\n",
        "print(\"Predicted cluster {} with the most probable label '{}'\".format(predCluster,learnedLabels[predCluster]))"
      ]
    },
    {
      "cell_type": "code",
      "execution_count": null,
      "metadata": {
        "id": "Lw8I8i4fRGX3"
      },
      "outputs": [],
      "source": []
    }
  ],
  "metadata": {
    "kernelspec": {
      "display_name": "Python 3",
      "language": "python",
      "name": "python3"
    },
    "language_info": {
      "codemirror_mode": {
        "name": "ipython",
        "version": 3
      },
      "file_extension": ".py",
      "mimetype": "text/x-python",
      "name": "python",
      "nbconvert_exporter": "python",
      "pygments_lexer": "ipython3",
      "version": "3.7.3"
    },
    "colab": {
      "provenance": [],
      "include_colab_link": true
    }
  },
  "nbformat": 4,
  "nbformat_minor": 0
}