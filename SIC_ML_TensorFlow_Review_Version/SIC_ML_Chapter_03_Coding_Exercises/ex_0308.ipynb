{
  "cells": [
    {
      "cell_type": "markdown",
      "metadata": {
        "id": "view-in-github",
        "colab_type": "text"
      },
      "source": [
        "<a href=\"https://colab.research.google.com/github/tn-220/SIC-Machine-Learning/blob/main/SIC_ML_Coding_Exercises/SIC_ML_Chapter_04_Coding_Exercises/ex_0308.ipynb\" target=\"_parent\"><img src=\"https://colab.research.google.com/assets/colab-badge.svg\" alt=\"Open In Colab\"/></a>"
      ]
    },
    {
      "cell_type": "markdown",
      "metadata": {
        "id": "DXe3Iv-nw_SX"
      },
      "source": [
        "## Coding Exercise #0308"
      ]
    },
    {
      "cell_type": "markdown",
      "metadata": {
        "id": "4iNwMKc3w_Sa"
      },
      "source": [
        "###  1. Hypothesis Test of the Means:"
      ]
    },
    {
      "cell_type": "markdown",
      "metadata": {
        "id": "-dxIO7uhw_Sb"
      },
      "source": [
        "#### 1.1. One sample t-test:"
      ]
    },
    {
      "cell_type": "code",
      "execution_count": null,
      "metadata": {
        "id": "_BupGu72w_Sc"
      },
      "outputs": [],
      "source": [
        "import numpy as np\n",
        "import scipy.stats as st"
      ]
    },
    {
      "cell_type": "code",
      "execution_count": null,
      "metadata": {
        "id": "Uon7klJJw_Sd"
      },
      "outputs": [],
      "source": [
        "# Simulate one sample x with Normal distribution.\n",
        "# mu = 3, sigma = 2, n = 10.\n",
        "n = 10\n",
        "mu = 3\n",
        "sigma = 2\n",
        "np.random.seed(1234)\n",
        "x = np.random.randn(n)*sigma + mu\n",
        "print(x)"
      ]
    },
    {
      "cell_type": "markdown",
      "metadata": {
        "id": "8ptjGj0-w_Sd"
      },
      "source": [
        "**Two tail test:**"
      ]
    },
    {
      "cell_type": "code",
      "execution_count": null,
      "metadata": {
        "id": "fdT5eFNww_Sd"
      },
      "outputs": [],
      "source": [
        "# Using the ttest_1samp() function from the SciPy library.\n",
        "# Compare the mean with 0.\n",
        "mu_0 = 0\n",
        "st.ttest_1samp(x, mu_0)       # Calculate the T-test for the mean of ONE group of scores."
      ]
    },
    {
      "cell_type": "code",
      "execution_count": null,
      "metadata": {
        "id": "KOpn9ahXw_Se"
      },
      "outputs": [],
      "source": [
        "# Using the formula from the lecture.\n",
        "# Compare the mean with 0.\n",
        "mu_0 = 0\n",
        "x_mean = x.mean()                                      # Sample mean.\n",
        "SEM = x.std(ddof=1)/np.sqrt(n)                         # standard error of the mean (SEM) \n",
        "p_value = (1-st.t.cdf((x_mean-mu_0)/SEM,df=n-1))*2\n",
        "p_value"
      ]
    },
    {
      "cell_type": "code",
      "execution_count": null,
      "metadata": {
        "id": "74orSf4Iw_Se"
      },
      "outputs": [],
      "source": [
        "# Using the formula from the lecture.\n",
        "# Compare the mean with 1.\n",
        "mu_0 = 1\n",
        "p_value = (1-st.t.cdf((x_mean-mu_0)/SEM,df=n-1))*2         # Use the same x_mean and SEM as above.\n",
        "p_value"
      ]
    },
    {
      "cell_type": "code",
      "execution_count": null,
      "metadata": {
        "id": "Dz7dIdPiw_Sf"
      },
      "outputs": [],
      "source": [
        "# Using the formula from the lecture.\n",
        "# Compare the mean with 2.\n",
        "mu_0 = 2\n",
        "p_value = (1-st.t.cdf((x_mean-mu_0)/SEM,df=n-1))*2         # Use the same x_mean and SEM as above.\n",
        "p_value"
      ]
    },
    {
      "cell_type": "markdown",
      "metadata": {
        "id": "3yh3hFhHw_Sf"
      },
      "source": [
        "**Right tail test:**"
      ]
    },
    {
      "cell_type": "code",
      "execution_count": null,
      "metadata": {
        "id": "QT_GP9Gqw_Sf"
      },
      "outputs": [],
      "source": [
        "# Using the formula from the lecture.\n",
        "# Compare the mean with 0.\n",
        "mu_0 = 0\n",
        "p_value = (1-st.t.cdf((x_mean-mu_0)/SEM,df=n-1))           # Use the same x_mean and SEM as above.\n",
        "p_value"
      ]
    },
    {
      "cell_type": "code",
      "execution_count": null,
      "metadata": {
        "id": "ix1-KlD8w_Sg"
      },
      "outputs": [],
      "source": [
        "# Using the formula from the lecture.\n",
        "# Compare the mean with 1.\n",
        "mu_0 = 1\n",
        "p_value = (1-st.t.cdf((x_mean-mu_0)/SEM,df=n-1))           # Use the same x_mean and SEM as above.\n",
        "p_value"
      ]
    },
    {
      "cell_type": "code",
      "execution_count": null,
      "metadata": {
        "id": "_bNGfO1Iw_Sg"
      },
      "outputs": [],
      "source": [
        "# Using the formula from the lecture.\n",
        "# Compare the mean with 2.\n",
        "mu_0 = 2\n",
        "p_value = (1-st.t.cdf((x_mean-mu_0)/SEM,df=n-1))           # Use the same x_mean and SEM as above.\n",
        "p_value"
      ]
    },
    {
      "cell_type": "markdown",
      "metadata": {
        "id": "7VZTX1q4w_Sg"
      },
      "source": [
        "**Left tail test:**"
      ]
    },
    {
      "cell_type": "code",
      "execution_count": null,
      "metadata": {
        "id": "c13xO_p9w_Sg"
      },
      "outputs": [],
      "source": [
        "# Using the formula from the lecture.\n",
        "# Compare the mean with 0.\n",
        "mu_0 = 0\n",
        "p_value = st.t.cdf((x_mean-mu_0)/SEM,df=n-1)              # Use the same x_mean and SEM as above.\n",
        "p_value"
      ]
    },
    {
      "cell_type": "code",
      "execution_count": null,
      "metadata": {
        "id": "NkpgzTh2w_Sh"
      },
      "outputs": [],
      "source": [
        "# Using the formula from the lecture.\n",
        "# Compare the mean with 1.\n",
        "mu_0 = 1\n",
        "p_value = st.t.cdf((x_mean-mu_0)/SEM,df=n-1)              # Use the same x_mean and SEM as above.\n",
        "p_value"
      ]
    },
    {
      "cell_type": "code",
      "execution_count": null,
      "metadata": {
        "id": "O-HogxY1w_Sh"
      },
      "outputs": [],
      "source": [
        "# Using the formula from the lecture.\n",
        "# Compare the mean with 2.\n",
        "mu_0 = 2\n",
        "p_value = st.t.cdf((x_mean-mu_0)/SEM,df=n-1)              # Use the same x_mean and SEM as above.\n",
        "p_value"
      ]
    },
    {
      "cell_type": "markdown",
      "metadata": {
        "id": "8WRGLgs8w_Sh"
      },
      "source": [
        "#### 1.2. Independent two sample t-test:"
      ]
    },
    {
      "cell_type": "code",
      "execution_count": null,
      "metadata": {
        "id": "_SX__r4dw_Sh"
      },
      "outputs": [],
      "source": [
        "# Simulate two samples x1 and x2 with Normal distribution.\n",
        "# mu1 = 3, sigma1 = 2, n1= 10.\n",
        "# mu2 = 5, sigma2 = 3, n2= 20\n",
        "n1 = 10\n",
        "n2 = 20\n",
        "mu1 = 3\n",
        "mu2 = 5\n",
        "sigma1 = 2\n",
        "sigma2 = 3\n",
        "x1 = np.random.randn(n1)*sigma1 + mu1\n",
        "x2 = np.random.randn(n2)*sigma2 + mu2"
      ]
    },
    {
      "cell_type": "code",
      "execution_count": null,
      "metadata": {
        "id": "jrgJ4neOw_Sh"
      },
      "outputs": [],
      "source": [
        "# Using dirrectly the dataset.\n",
        "# Assume different variances.\n",
        "# Two tail test.\n",
        "st.ttest_ind(x1,x2,equal_var=False)                                       "
      ]
    },
    {
      "cell_type": "code",
      "execution_count": null,
      "metadata": {
        "id": "zgzOmfkGw_Si"
      },
      "outputs": [],
      "source": [
        "# Using the statistic calculated with the dataset.\n",
        "# Assume different variances.\n",
        "# Two tail test.\n",
        "x1_mean = x1.mean()\n",
        "x2_mean = x2.mean()\n",
        "s1 = x1.std(ddof=1)\n",
        "s2 = x2.std(ddof=1)\n",
        "st.ttest_ind_from_stats(x1_mean,s1,n1,x2_mean,s2,n2,equal_var=False)    "
      ]
    },
    {
      "cell_type": "markdown",
      "metadata": {
        "id": "BQhZNw6jw_Si"
      },
      "source": [
        "#### 1.3. Paired two sample t-test:"
      ]
    },
    {
      "cell_type": "code",
      "execution_count": null,
      "metadata": {
        "id": "0HSfRZs6w_Si"
      },
      "outputs": [],
      "source": [
        "# Simulate two samples with Normal distribution.\n",
        "# Notice that the x2 is created by adding some 'noise' to the x1.\n",
        "# So,'one to one' relation is established.\n",
        "n = 10\n",
        "x1 = np.random.randn(n)*5 + 3\n",
        "x2 = x1 + np.random.randn(n)*1 + 1"
      ]
    },
    {
      "cell_type": "code",
      "execution_count": null,
      "metadata": {
        "id": "ocQvOngpw_Si"
      },
      "outputs": [],
      "source": [
        "# Using the ttest_rel() function from the SciPy library. \n",
        "# Two tail test.\n",
        "st.ttest_rel(x1,x2)"
      ]
    },
    {
      "cell_type": "code",
      "execution_count": null,
      "metadata": {
        "id": "lzPqz0mww_Si"
      },
      "outputs": [],
      "source": [
        "# Compare with the indepdent two sample t-test on the same dataset. \n",
        "# The p-value is completely diffetent!\n",
        "st.ttest_ind(x1,x2,equal_var=False)  "
      ]
    },
    {
      "cell_type": "markdown",
      "metadata": {
        "id": "reXT60N5w_Si"
      },
      "source": [
        "#### 1.4. ANOVA:"
      ]
    },
    {
      "cell_type": "markdown",
      "metadata": {
        "id": "sW8KFGNzw_Si"
      },
      "source": [
        "There are three groups of students. The data corresponds to the test scores. Determine whether there is any significant difference in the group test scores."
      ]
    },
    {
      "cell_type": "code",
      "execution_count": null,
      "metadata": {
        "id": "QSR-Vvuvw_Sj"
      },
      "outputs": [],
      "source": [
        "# Data.\n",
        "x1 = np.array([82,93,61,74,69,70,53])\n",
        "x2 = np.array([71,62,85,94,78,66,71])\n",
        "x3 = np.array([64,73,87,91,56,78,87])"
      ]
    },
    {
      "cell_type": "code",
      "execution_count": null,
      "metadata": {
        "id": "R4xsu9WHw_Sj"
      },
      "outputs": [],
      "source": [
        "# Using the f_onway() function from the SciPy library.\n",
        "res=st.f_oneway(x1,x2,x3)\n",
        "print(\"Test statistic  : %f \" % res[0] )\n",
        "print(\"p-value         : %f \" % res[1] )"
      ]
    },
    {
      "cell_type": "code",
      "execution_count": null,
      "metadata": {
        "id": "f7zWRAyqw_Sj"
      },
      "outputs": [],
      "source": []
    }
  ],
  "metadata": {
    "kernelspec": {
      "display_name": "Python 3",
      "language": "python",
      "name": "python3"
    },
    "language_info": {
      "codemirror_mode": {
        "name": "ipython",
        "version": 3
      },
      "file_extension": ".py",
      "mimetype": "text/x-python",
      "name": "python",
      "nbconvert_exporter": "python",
      "pygments_lexer": "ipython3",
      "version": "3.7.3"
    },
    "colab": {
      "provenance": [],
      "include_colab_link": true
    }
  },
  "nbformat": 4,
  "nbformat_minor": 0
}