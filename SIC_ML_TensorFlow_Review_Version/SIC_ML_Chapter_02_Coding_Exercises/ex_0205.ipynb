{
  "cells": [
    {
      "cell_type": "markdown",
      "metadata": {
        "id": "view-in-github",
        "colab_type": "text"
      },
      "source": [
        "<a href=\"https://colab.research.google.com/github/tn-220/SIC-Machine-Learning/blob/main/SIC_ML_Coding_Exercises/SIC_ML_Chapter_03_Coding_Exercises/ex_0205.ipynb\" target=\"_parent\"><img src=\"https://colab.research.google.com/assets/colab-badge.svg\" alt=\"Open In Colab\"/></a>"
      ]
    },
    {
      "cell_type": "markdown",
      "metadata": {
        "id": "5knT8Rp_lK9b"
      },
      "source": [
        "## Coding Exercise #0205"
      ]
    },
    {
      "cell_type": "markdown",
      "metadata": {
        "id": "V52izzbllK9f"
      },
      "source": [
        "### 1. Pandas DataFrame basics:"
      ]
    },
    {
      "cell_type": "code",
      "execution_count": null,
      "metadata": {
        "id": "gNRtX_EUlK9f"
      },
      "outputs": [],
      "source": [
        "import pandas as pd\n",
        "import numpy as np\n",
        "import os"
      ]
    },
    {
      "cell_type": "markdown",
      "metadata": {
        "id": "rGXmXROIlK9h"
      },
      "source": [
        "#### 1.1. Creating a new DataFrame:"
      ]
    },
    {
      "cell_type": "markdown",
      "metadata": {
        "id": "AtfIaBlAlK9h"
      },
      "source": [
        "From a dictionary:"
      ]
    },
    {
      "cell_type": "code",
      "execution_count": null,
      "metadata": {
        "id": "-y-hXrRSlK9h"
      },
      "outputs": [],
      "source": [
        "data = { 'NAME' : ['Jake', 'Jennifer', 'Paul', 'Andrew'], 'AGE': [24,21,25,19], 'GENDER':['M','F','M','M']}\n",
        "df = pd.DataFrame(data)\n",
        "print(df, \"\\n\")\n",
        "print(df[\"AGE\"], \"\\n\")\n",
        "print(df[[\"NAME\", \"AGE\"]], \"\\n\")\n",
        "print(df[\"NAME\"][0:2], \"\\n\")\n",
        "\n",
        "print(\"df is a \", type(df), \"\\n\")\n",
        "print(\"df['AGE'] is a \", type(df[\"AGE\"]), \"\\n\")\n",
        "print('df[[\"NAME\", \"AGE\"]] is a ', type(df[[\"NAME\", \"AGE\"]]), \"\\n\")\n",
        "print('df[\"NAME\"][0:2] is a ', type(df[\"NAME\"][0:2]))"
      ]
    },
    {
      "cell_type": "markdown",
      "metadata": {
        "id": "QF-8FZLOlK9i"
      },
      "source": [
        "From a NumPy array:"
      ]
    },
    {
      "cell_type": "code",
      "source": [
        "df = pd.Series(data)\n",
        "print(df, \"\\n\", type(df), \"\\n\")\n",
        "print(df[\"AGE\"], \"\\n\")\n",
        "print(df[1], \"\\n\")"
      ],
      "metadata": {
        "id": "t90gK2b8dAP6"
      },
      "execution_count": null,
      "outputs": []
    },
    {
      "cell_type": "code",
      "execution_count": null,
      "metadata": {
        "id": "qjjlziMwlK9i"
      },
      "outputs": [],
      "source": [
        "# print(np.random.rand(10,5))\n",
        "df = pd.DataFrame(np.random.rand(10,5), columns=['A','B','C','D','E'])\n",
        "df.head(5)"
      ]
    },
    {
      "cell_type": "markdown",
      "metadata": {
        "id": "oyrOtVOdlK9j"
      },
      "source": [
        "#### 1.2. Reading data into a DataFrame:"
      ]
    },
    {
      "cell_type": "code",
      "execution_count": null,
      "metadata": {
        "id": "M1KIbFqQlK9j"
      },
      "outputs": [],
      "source": [
        "!wget --no-clobber https://raw.githubusercontent.com/tn-220/SIC-Machine-Learning/main/SIC_ML_Coding_Exercises/SIC_ML_Chapter_03_Coding_Exercises/data_studentlist.csv"
      ]
    },
    {
      "cell_type": "code",
      "execution_count": null,
      "metadata": {
        "id": "dvB7p58_lK9j"
      },
      "outputs": [],
      "source": [
        "\"\"\"\n",
        "    Row number(s) to use as the column names, and the start of the data. \n",
        "    Default behavior is to infer the column names: if no names are passed the behavior is identical to header=0 \n",
        "    and column names are inferred from the first line of the file, \n",
        "    if column names are passed explicitly then the behavior is identical to header=None.\n",
        "\"\"\"\n",
        "df1 = pd.read_csv('data_studentlist.csv', header=None)\n",
        "print(df1.head(3), '\\n')\n",
        "# \n",
        "df = pd.read_csv('data_studentlist.csv', header='infer')\n",
        "print(df.head(3))"
      ]
    },
    {
      "cell_type": "markdown",
      "metadata": {
        "id": "eVflPzfnlK9k"
      },
      "source": [
        "Check for some of the DataFrame attributes:"
      ]
    },
    {
      "cell_type": "code",
      "execution_count": null,
      "metadata": {
        "id": "s3Dqsu3nlK9k"
      },
      "outputs": [],
      "source": [
        "print(df1.shape)\n",
        "print(df.shape)"
      ]
    },
    {
      "cell_type": "code",
      "execution_count": null,
      "metadata": {
        "id": "mPfskfItlK9k"
      },
      "outputs": [],
      "source": [
        "print(df1.size)   # 18x8\n",
        "print(df.size)    # 17x8"
      ]
    },
    {
      "cell_type": "code",
      "execution_count": null,
      "metadata": {
        "id": "lhKg6d3ElK9k"
      },
      "outputs": [],
      "source": [
        "print(df1.ndim)\n",
        "print(df.ndim)"
      ]
    },
    {
      "cell_type": "code",
      "execution_count": null,
      "metadata": {
        "id": "bV8PwFHdlK9l"
      },
      "outputs": [],
      "source": [
        "df.columns"
      ]
    },
    {
      "cell_type": "code",
      "execution_count": null,
      "metadata": {
        "id": "0s3n1JMmlK9l"
      },
      "outputs": [],
      "source": [
        "print(df.index)\n",
        "print(type(df.index))\n"
      ]
    },
    {
      "cell_type": "code",
      "execution_count": null,
      "metadata": {
        "id": "kUOA8404lK9l"
      },
      "outputs": [],
      "source": [
        "type(df)"
      ]
    },
    {
      "cell_type": "markdown",
      "metadata": {
        "id": "q770N_jXlK9l"
      },
      "source": [
        "Summarize the DataFrame:"
      ]
    },
    {
      "cell_type": "code",
      "execution_count": null,
      "metadata": {
        "id": "oNUvZc0elK9l"
      },
      "outputs": [],
      "source": [
        "df.info()"
      ]
    },
    {
      "cell_type": "code",
      "execution_count": null,
      "metadata": {
        "id": "w0bmU4vblK9l"
      },
      "outputs": [],
      "source": [
        "df2 = df.describe()\n",
        "df2.head(3)\n",
        "df2.age\n",
        "df2['age']\n",
        "df2"
      ]
    },
    {
      "cell_type": "markdown",
      "metadata": {
        "id": "PNu9egpllK9m"
      },
      "source": [
        "Show the head and tail parts:"
      ]
    },
    {
      "cell_type": "code",
      "execution_count": null,
      "metadata": {
        "id": "arLQo1LzlK9m"
      },
      "outputs": [],
      "source": [
        "df.head(3)"
      ]
    },
    {
      "cell_type": "code",
      "execution_count": null,
      "metadata": {
        "id": "aRkfSCWFlK9m"
      },
      "outputs": [],
      "source": [
        "df.tail(3)"
      ]
    },
    {
      "cell_type": "markdown",
      "metadata": {
        "id": "NdFH-vyElK9m"
      },
      "source": [
        "Replacing the 'columns' (header):"
      ]
    },
    {
      "cell_type": "code",
      "execution_count": null,
      "metadata": {
        "id": "_PIztyxflK9m"
      },
      "outputs": [],
      "source": [
        "header = df.columns\n",
        "header"
      ]
    },
    {
      "cell_type": "code",
      "execution_count": null,
      "metadata": {
        "id": "pcpjZShtlK9m"
      },
      "outputs": [],
      "source": [
        "df.columns = ['NAME', 'GENDER' , 'AGE', 'GRADE', 'ABSENCE', 'BLOODTYPE', 'HEIGHT', 'WEIGHT']\n",
        "df.head(3)"
      ]
    },
    {
      "cell_type": "markdown",
      "metadata": {
        "id": "Wqh9ognxlK9m"
      },
      "source": [
        "#### 1.3. Indexing and slicing DataFrames:"
      ]
    },
    {
      "cell_type": "code",
      "execution_count": null,
      "metadata": {
        "id": "Zanm50eUlK9n"
      },
      "outputs": [],
      "source": [
        "# A column.\n",
        "df.NAME"
      ]
    },
    {
      "cell_type": "code",
      "execution_count": null,
      "metadata": {
        "id": "eoY8TlPGlK9n"
      },
      "outputs": [],
      "source": [
        "# This is in fact a Series:\n",
        "type(df.NAME)     # This can be confusing with a python method. For example if instead of NAME we had mean\n",
        "                  # Or if we have a \".\" in between"
      ]
    },
    {
      "cell_type": "code",
      "execution_count": null,
      "metadata": {
        "id": "GRwe0w5klK9n"
      },
      "outputs": [],
      "source": [
        "# This is also a Series:\n",
        "print(df['NAME'])\n",
        "print(type(df['NAME']))\n"
      ]
    },
    {
      "cell_type": "code",
      "execution_count": null,
      "metadata": {
        "id": "rVsxbGN7lK9n"
      },
      "outputs": [],
      "source": [
        "# However, this is a DataFrame with one column, not a Series:\n",
        "#print(type(df[['NAME']]))\n",
        "df[['NAME']]"
      ]
    },
    {
      "cell_type": "code",
      "source": [
        "df[['NAME', 'GENDER']]"
      ],
      "metadata": {
        "id": "FdUTLW3TuRQF"
      },
      "execution_count": null,
      "outputs": []
    },
    {
      "cell_type": "code",
      "execution_count": null,
      "metadata": {
        "id": "5m9r_1X3lK9n"
      },
      "outputs": [],
      "source": [
        "# Another way of getting a columns as Series:\n",
        "print(type(df.loc[:,'NAME']))\n",
        "df.loc[:,'NAME']      # First elements is rows and second is the columns"
      ]
    },
    {
      "cell_type": "code",
      "execution_count": null,
      "metadata": {
        "id": "gOi_rSZ8lK9n"
      },
      "outputs": [],
      "source": [
        "print(type(df.loc[2:8,['NAME','GENDER']]))\n",
        "print(type(df.loc[2:8,'NAME']))\n",
        "print(type(df.loc[2:8,['NAME']]))\n",
        "df.loc[2:8,['NAME','GENDER']]"
      ]
    },
    {
      "cell_type": "code",
      "execution_count": null,
      "metadata": {
        "id": "3jHFMEJHlK9n"
      },
      "outputs": [],
      "source": [
        "\"\"\"\n",
        "  loc gets rows (and/or columns) with particular labels. \n",
        "  iloc gets rows (and/or columns) at integer locations.\n",
        "\"\"\"\n",
        "df.iloc[2:8,[0,1]]        # to avoid confusion use loc instead of iloc"
      ]
    },
    {
      "cell_type": "code",
      "execution_count": null,
      "metadata": {
        "id": "KHxgu-YOlK9n"
      },
      "outputs": [],
      "source": [
        "df.loc[:,(header =='NAME') | (header == 'GENDER')]"
      ]
    },
    {
      "cell_type": "code",
      "execution_count": null,
      "metadata": {
        "id": "-45lme5ylK9o"
      },
      "outputs": [],
      "source": [
        "# This is a row.\n",
        "print(df.loc[2:4], '\\n','\\n')\n",
        "print(df.loc[2], '\\n','\\n')\n",
        "print(pd.DataFrame(df.loc[2]).T, '\\n')\n",
        "print(df.loc[2:2])          # 2:2 For loc the second value is included and for iloc the second value is excluded\n",
        "print(type(df.loc[2]))"
      ]
    },
    {
      "cell_type": "code",
      "execution_count": null,
      "metadata": {
        "id": "WlhuDRbVlK9o"
      },
      "outputs": [],
      "source": [
        "df.loc[2:4]"
      ]
    },
    {
      "cell_type": "code",
      "execution_count": null,
      "metadata": {
        "id": "vdnSiYvhlK9o"
      },
      "outputs": [],
      "source": [
        "df.iloc[2:4]"
      ]
    },
    {
      "cell_type": "code",
      "execution_count": null,
      "metadata": {
        "id": "o8-EKtWrlK9o"
      },
      "outputs": [],
      "source": [
        "df.drop(columns=['NAME','GENDER']).head(4)          # This is just a view.\n",
        "                                                    # On of the reason to drop a variable happens when the variable has no effect on the model\n",
        "                                                    # for example if the model predicts the level of education of users, blood type has no effect on it\n",
        "\n",
        "#df.drop(columns=['NAME','GENDER'],inplace=True)    # => To remove permanently."
      ]
    },
    {
      "cell_type": "code",
      "execution_count": null,
      "metadata": {
        "id": "cQ89y5Q9lK9o"
      },
      "outputs": [],
      "source": [
        "df.loc[:, (header!='NAME') & (header!='GENDER')]"
      ]
    },
    {
      "cell_type": "markdown",
      "metadata": {
        "id": "bf6ChLzMlK9o"
      },
      "source": [
        "Conditional slicing:"
      ]
    },
    {
      "cell_type": "code",
      "execution_count": null,
      "metadata": {
        "id": "CcgcpuSElK9o"
      },
      "outputs": [],
      "source": [
        "# Males only.\n",
        "df[df.GENDER == 'M']"
      ]
    },
    {
      "cell_type": "code",
      "source": [
        "df[\"GENDER\"] == 'M'   # or df.GENDER == \"M\""
      ],
      "metadata": {
        "id": "JwxLecZ5IF6Q"
      },
      "execution_count": null,
      "outputs": []
    },
    {
      "cell_type": "code",
      "source": [
        "df[df.GENDER != 'M']"
      ],
      "metadata": {
        "id": "FuxClrHB3EKE"
      },
      "execution_count": null,
      "outputs": []
    },
    {
      "cell_type": "code",
      "execution_count": null,
      "metadata": {
        "id": "WLtrs66ClK9o"
      },
      "outputs": [],
      "source": [
        "# Only non-males.\n",
        "df[-(df.GENDER == 'M')]   # - converts 0 to 1 and 1 to 0\n",
        "                          # This will return the missing values also (not necessary the F only)"
      ]
    },
    {
      "cell_type": "code",
      "source": [
        "df[~(df.GENDER == 'M')]"
      ],
      "metadata": {
        "id": "PmMjL_KV2fL1"
      },
      "execution_count": null,
      "outputs": []
    },
    {
      "cell_type": "code",
      "source": [
        "df.GENDER == 'M'        # It is a series with true and false that can be used as a Mask"
      ],
      "metadata": {
        "id": "PDeKBpBa115k"
      },
      "execution_count": null,
      "outputs": []
    },
    {
      "cell_type": "code",
      "source": [
        "mask = (df.GENDER == 'M')\n",
        "df[mask]"
      ],
      "metadata": {
        "id": "xHYsY72Z2Hyn"
      },
      "execution_count": null,
      "outputs": []
    },
    {
      "cell_type": "code",
      "execution_count": null,
      "metadata": {
        "id": "qYGa2QfJlK9o"
      },
      "outputs": [],
      "source": [
        "df[df.GENDER == 'F']"
      ]
    },
    {
      "cell_type": "code",
      "execution_count": null,
      "metadata": {
        "id": "UEe-E6YJlK9o"
      },
      "outputs": [],
      "source": [
        "df[df.HEIGHT > 170]"
      ]
    },
    {
      "cell_type": "code",
      "execution_count": null,
      "metadata": {
        "id": "z1ntrX7clK9p"
      },
      "outputs": [],
      "source": [
        "df[ (df.WEIGHT > 70) & (df.WEIGHT < 80)]"
      ]
    },
    {
      "cell_type": "code",
      "execution_count": null,
      "metadata": {
        "id": "e_Lo2UdnlK9p"
      },
      "outputs": [],
      "source": [
        "df[(df.GENDER == 'M') & (df.HEIGHT > 175)]"
      ]
    },
    {
      "cell_type": "code",
      "execution_count": null,
      "metadata": {
        "id": "OKkypwxulK9p"
      },
      "outputs": [],
      "source": [
        "# Opposite criteria to the previous one.\n",
        "print(type(-((df.GENDER == 'M') & (df.HEIGHT > 175))))\n",
        "df[-((df.GENDER == 'M') & (df.HEIGHT > 175))]"
      ]
    },
    {
      "cell_type": "code",
      "source": [
        "mask1 = df.GENDER == 'M' \n",
        "mask2 = df.HEIGHT > 175\n",
        "print(df[mask1 & mask2])"
      ],
      "metadata": {
        "id": "SCc9nJ7A-34d"
      },
      "execution_count": null,
      "outputs": []
    },
    {
      "cell_type": "markdown",
      "metadata": {
        "id": "lsgAF_SglK9p"
      },
      "source": [
        "#### 1.4. File reading and writing:"
      ]
    },
    {
      "cell_type": "markdown",
      "metadata": {
        "id": "W1MKA9D6lK9p"
      },
      "source": [
        "Read and write in the CSV format:"
      ]
    },
    {
      "cell_type": "code",
      "execution_count": null,
      "metadata": {
        "id": "UdOkbprKlK9p"
      },
      "outputs": [],
      "source": [
        "df2 = df.drop(columns=['GRADE','ABSENCE'])\n",
        "df2.to_csv('data_mine.csv',index=False)"
      ]
    },
    {
      "cell_type": "code",
      "execution_count": null,
      "metadata": {
        "id": "ab_CQVJqlK9p"
      },
      "outputs": [],
      "source": [
        "df3 = pd.read_csv('data_mine.csv',encoding='latin1',header='infer')"
      ]
    },
    {
      "cell_type": "code",
      "execution_count": null,
      "metadata": {
        "id": "Yn3qD-LylK9q"
      },
      "outputs": [],
      "source": [
        "df3.head(3)"
      ]
    },
    {
      "cell_type": "markdown",
      "metadata": {
        "id": "lWwkQkpTlK9q"
      },
      "source": [
        "Read and write as a Excel document:"
      ]
    },
    {
      "cell_type": "code",
      "execution_count": null,
      "metadata": {
        "id": "nHhviOHWlK9q"
      },
      "outputs": [],
      "source": [
        "!wget --no-clobber https://github.com/tn-220/SIC-Machine-Learning/raw/main/SIC_ML_Coding_Exercises/SIC_ML_Chapter_03_Coding_Exercises/data_studentlist.xlsx"
      ]
    },
    {
      "cell_type": "code",
      "execution_count": null,
      "metadata": {
        "id": "Cy0ZfAZNlK9q"
      },
      "outputs": [],
      "source": [
        "dfx = pd.read_excel('/content/data_studentlist.xlsx')"
      ]
    },
    {
      "cell_type": "code",
      "execution_count": null,
      "metadata": {
        "id": "o5jOqQfxlK9q"
      },
      "outputs": [],
      "source": [
        "dfx.head(5)"
      ]
    },
    {
      "cell_type": "code",
      "execution_count": null,
      "metadata": {
        "id": "Hw01ilZPlK9q"
      },
      "outputs": [],
      "source": [
        "dfx.to_excel('data_studentlist2.xlsx',sheet_name='NewSheet', index=False)"
      ]
    },
    {
      "cell_type": "code",
      "execution_count": null,
      "metadata": {
        "id": "ENiwJZyElK9q"
      },
      "outputs": [],
      "source": []
    }
  ],
  "metadata": {
    "kernelspec": {
      "display_name": "Python 3.10.5 64-bit",
      "language": "python",
      "name": "python3"
    },
    "language_info": {
      "codemirror_mode": {
        "name": "ipython",
        "version": 3
      },
      "file_extension": ".py",
      "mimetype": "text/x-python",
      "name": "python",
      "nbconvert_exporter": "python",
      "pygments_lexer": "ipython3",
      "version": "3.10.5"
    },
    "vscode": {
      "interpreter": {
        "hash": "b59c3c51fbf7280eebbd8cbad263eecaa0e6f687d8c9a441ba8cbbb32184f0dc"
      }
    },
    "colab": {
      "provenance": [],
      "include_colab_link": true
    }
  },
  "nbformat": 4,
  "nbformat_minor": 0
}