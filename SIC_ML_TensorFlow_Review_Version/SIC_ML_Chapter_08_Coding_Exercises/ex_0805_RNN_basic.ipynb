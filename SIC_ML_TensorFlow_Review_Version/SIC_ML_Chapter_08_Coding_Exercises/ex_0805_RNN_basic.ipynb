{
 "cells": [
  {
   "cell_type": "markdown",
   "metadata": {
    "id": "LHYhRi8sPM8y"
   },
   "source": [
    "## Coding Exercise #0805"
   ]
  },
  {
   "cell_type": "code",
   "execution_count": 1,
   "metadata": {},
   "outputs": [],
   "source": [
    "#To enable CPU execution only\n",
    "#import os\n",
    "#os.environ['CUDA_VISIBLE_DEVICES'] = ''"
   ]
  },
  {
   "cell_type": "code",
   "execution_count": 2,
   "metadata": {},
   "outputs": [],
   "source": [
    "# Available backend options are: \"jax\", \"tensorflow\", \"torch\".\n",
    "import os\n",
    "os.environ[\"KERAS_BACKEND\"] = \"tensorflow\"\n",
    "os.environ[\"TF_CPP_MIN_LOG_LEVEL\"] = \"2\""
   ]
  },
  {
   "cell_type": "markdown",
   "metadata": {
    "id": "mObLaAOhPM8z"
   },
   "source": [
    "### 1. Time series and prediction:"
   ]
  },
  {
   "cell_type": "code",
   "execution_count": 3,
   "metadata": {
    "executionInfo": {
     "elapsed": 11023,
     "status": "ok",
     "timestamp": 1716399633827,
     "user": {
      "displayName": "Fabio M",
      "userId": "09614366475601969276"
     },
     "user_tz": -120
    },
    "id": "_rJBFSozPM8z"
   },
   "outputs": [],
   "source": [
    "import time\n",
    "import numpy as np\n",
    "import pandas as pd\n",
    "import os\n",
    "import warnings\n",
    "import tensorflow as tf\n",
    "import matplotlib.pyplot as plt\n",
    "from keras.models import Sequential\n",
    "from keras.layers import SimpleRNN, LSTM, Dense, TimeDistributed\n",
    "from keras.optimizers import Adam, RMSprop, SGD\n",
    "from sklearn.preprocessing import MinMaxScaler\n",
    "from statsmodels.tsa.holtwinters import ExponentialSmoothing\n",
    "warnings.filterwarnings('ignore')                  # Turn the warnings off.\n",
    "%matplotlib inline"
   ]
  },
  {
   "cell_type": "markdown",
   "metadata": {
    "id": "-UJg_wUgPM80"
   },
   "source": [
    "#### 1.1. Read in the data and explore:"
   ]
  },
  {
   "cell_type": "code",
   "execution_count": 4,
   "metadata": {
    "colab": {
     "base_uri": "https://localhost:8080/"
    },
    "executionInfo": {
     "elapsed": 640,
     "status": "ok",
     "timestamp": 1716399634458,
     "user": {
      "displayName": "Fabio M",
      "userId": "09614366475601969276"
     },
     "user_tz": -120
    },
    "id": "2EWLRTQPPM80",
    "outputId": "fa952b68-ae4a-4a60-aff0-e7f2da833383"
   },
   "outputs": [
    {
     "name": "stdout",
     "output_type": "stream",
     "text": [
      "File ‘data_time_series.csv’ already there; not retrieving.\n",
      "\n"
     ]
    }
   ],
   "source": [
    "!wget --no-clobber https://raw.githubusercontent.com/tn-220/SIC-Machine-Learning/main/SIC_ML_Coding_Exercises/SIC_ML_Chapter_09_Coding_Exercises/data_time_series.csv"
   ]
  },
  {
   "cell_type": "code",
   "execution_count": 5,
   "metadata": {
    "colab": {
     "base_uri": "https://localhost:8080/"
    },
    "executionInfo": {
     "elapsed": 6,
     "status": "ok",
     "timestamp": 1716399634459,
     "user": {
      "displayName": "Fabio M",
      "userId": "09614366475601969276"
     },
     "user_tz": -120
    },
    "id": "MZbQvMcVPM80",
    "outputId": "2b8dfee3-3043-40be-8beb-8d01bd6e8432"
   },
   "outputs": [
    {
     "name": "stdout",
     "output_type": "stream",
     "text": [
      "(41, 1)\n"
     ]
    }
   ],
   "source": [
    "df = pd.read_csv('data_time_series.csv', header='infer',encoding = 'latin1')\n",
    "n_time_steps = df.shape[0]\n",
    "print(df.shape)"
   ]
  },
  {
   "cell_type": "code",
   "execution_count": 6,
   "metadata": {
    "colab": {
     "base_uri": "https://localhost:8080/",
     "height": 206
    },
    "executionInfo": {
     "elapsed": 5,
     "status": "ok",
     "timestamp": 1716399634459,
     "user": {
      "displayName": "Fabio M",
      "userId": "09614366475601969276"
     },
     "user_tz": -120
    },
    "id": "iB4hXHICPM80",
    "outputId": "d28ce248-f4ba-4da4-8db6-fd1f2e4c763d"
   },
   "outputs": [
    {
     "data": {
      "text/html": [
       "<div>\n",
       "<style scoped>\n",
       "    .dataframe tbody tr th:only-of-type {\n",
       "        vertical-align: middle;\n",
       "    }\n",
       "\n",
       "    .dataframe tbody tr th {\n",
       "        vertical-align: top;\n",
       "    }\n",
       "\n",
       "    .dataframe thead th {\n",
       "        text-align: right;\n",
       "    }\n",
       "</style>\n",
       "<table border=\"1\" class=\"dataframe\">\n",
       "  <thead>\n",
       "    <tr style=\"text-align: right;\">\n",
       "      <th></th>\n",
       "      <th>Value</th>\n",
       "    </tr>\n",
       "  </thead>\n",
       "  <tbody>\n",
       "    <tr>\n",
       "      <th>0</th>\n",
       "      <td>2.26483</td>\n",
       "    </tr>\n",
       "    <tr>\n",
       "      <th>1</th>\n",
       "      <td>3.80588</td>\n",
       "    </tr>\n",
       "    <tr>\n",
       "      <th>2</th>\n",
       "      <td>4.21088</td>\n",
       "    </tr>\n",
       "    <tr>\n",
       "      <th>3</th>\n",
       "      <td>3.48790</td>\n",
       "    </tr>\n",
       "    <tr>\n",
       "      <th>4</th>\n",
       "      <td>4.86365</td>\n",
       "    </tr>\n",
       "  </tbody>\n",
       "</table>\n",
       "</div>"
      ],
      "text/plain": [
       "     Value\n",
       "0  2.26483\n",
       "1  3.80588\n",
       "2  4.21088\n",
       "3  3.48790\n",
       "4  4.86365"
      ]
     },
     "execution_count": 6,
     "metadata": {},
     "output_type": "execute_result"
    }
   ],
   "source": [
    "# Display the data frame.\n",
    "df.head()"
   ]
  },
  {
   "cell_type": "code",
   "execution_count": 7,
   "metadata": {
    "colab": {
     "base_uri": "https://localhost:8080/",
     "height": 430
    },
    "executionInfo": {
     "elapsed": 612,
     "status": "ok",
     "timestamp": 1716399635068,
     "user": {
      "displayName": "Fabio M",
      "userId": "09614366475601969276"
     },
     "user_tz": -120
    },
    "id": "7eq8_wecPM81",
    "outputId": "f383b744-743c-4889-dc80-cb8eefdc9d82"
   },
   "outputs": [
    {
     "data": {
      "image/png": "[encoded data removed]",
      "text/plain": [
       "<Figure size 640x480 with 1 Axes>"
      ]
     },
     "metadata": {},
     "output_type": "display_data"
    }
   ],
   "source": [
    "# Visualize the time series.\n",
    "plt.plot(df.Value, c=\"b\", linewidth=2, linestyle=\"-\")\n",
    "plt.show()"
   ]
  },
  {
   "cell_type": "markdown",
   "metadata": {
    "id": "hImji4_wPM81"
   },
   "source": [
    "#### 1.2. Apply the exponential smoothing method and predict:"
   ]
  },
  {
   "cell_type": "code",
   "execution_count": 8,
   "metadata": {
    "colab": {
     "base_uri": "https://localhost:8080/",
     "height": 487
    },
    "executionInfo": {
     "elapsed": 609,
     "status": "ok",
     "timestamp": 1716399635675,
     "user": {
      "displayName": "Fabio M",
      "userId": "09614366475601969276"
     },
     "user_tz": -120
    },
    "id": "j-zLJKshPM81",
    "outputId": "a530a920-ad11-463e-ec96-2ef1caec328b"
   },
   "outputs": [
    {
     "data": {
      "image/png": "[encoded data removed]",
      "text/plain": [
       "<Figure size 640x480 with 1 Axes>"
      ]
     },
     "metadata": {},
     "output_type": "display_data"
    }
   ],
   "source": [
    "model = ExponentialSmoothing(df['Value'][0:40], seasonal='mul',seasonal_periods=6).fit()    # Multiplicative exponential smoothing model.\n",
    "pred = model.predict(start= 0, end=50)\n",
    "plt.plot(df,c='b',linewidth=2, linestyle=\"-\", label=\"Data\")\n",
    "plt.plot(pred,c='r',linewidth=2, linestyle=\"--\", label=\"Fit\")\n",
    "plt.legend()\n",
    "plt.tight_layout()\n",
    "plt.show()"
   ]
  },
  {
   "cell_type": "markdown",
   "metadata": {
    "id": "9HWvdjrkPM81"
   },
   "source": [
    "### 2. Recurrent neural network (RNN):"
   ]
  },
  {
   "cell_type": "markdown",
   "metadata": {
    "id": "enOGuOoIPM81"
   },
   "source": [
    "#### 2.1. Pre-processing:"
   ]
  },
  {
   "cell_type": "code",
   "execution_count": 9,
   "metadata": {
    "colab": {
     "base_uri": "https://localhost:8080/",
     "height": 430
    },
    "executionInfo": {
     "elapsed": 640,
     "status": "ok",
     "timestamp": 1716399636312,
     "user": {
      "displayName": "Fabio M",
      "userId": "09614366475601969276"
     },
     "user_tz": -120
    },
    "id": "cGZObg4UPM81",
    "outputId": "f6d014e4-0169-48ed-c456-6efe9889f8a4"
   },
   "outputs": [
    {
     "data": {
      "image/png": "[encoded data removed]",
      "text/plain": [
       "<Figure size 640x480 with 1 Axes>"
      ]
     },
     "metadata": {},
     "output_type": "display_data"
    }
   ],
   "source": [
    "# Scaling.\n",
    "# Please, pay attention to the vertical scale of the plot.\n",
    "scaler = MinMaxScaler()\n",
    "ts_scaled = scaler.fit_transform(df)\n",
    "plt.plot(ts_scaled,c = \"g\", linewidth=2, linestyle=\"-\")\n",
    "plt.show()"
   ]
  },
  {
   "cell_type": "code",
   "execution_count": 10,
   "metadata": {
    "executionInfo": {
     "elapsed": 3,
     "status": "ok",
     "timestamp": 1716399636312,
     "user": {
      "displayName": "Fabio M",
      "userId": "09614366475601969276"
     },
     "user_tz": -120
    },
    "id": "nFuKyva8PM81"
   },
   "outputs": [],
   "source": [
    "# Reshaping.\n",
    "ts_scaled_2 = ts_scaled.reshape(1,-1,1)             # (batch_size, time series length, n_input)"
   ]
  },
  {
   "cell_type": "markdown",
   "metadata": {
    "id": "RfCnOvQxPM82"
   },
   "source": [
    "#### 2.2. Do the necessary definitions:"
   ]
  },
  {
   "cell_type": "markdown",
   "metadata": {
    "id": "XZPaT4sMPM82"
   },
   "source": [
    "Hyperparameters."
   ]
  },
  {
   "cell_type": "code",
   "execution_count": 11,
   "metadata": {
    "executionInfo": {
     "elapsed": 3,
     "status": "ok",
     "timestamp": 1716399636312,
     "user": {
      "displayName": "Fabio M",
      "userId": "09614366475601969276"
     },
     "user_tz": -120
    },
    "id": "bYr0jnNFPM82"
   },
   "outputs": [],
   "source": [
    "n_epochs = 1001\n",
    "batch_size = 1                    # There is only 1 time series data. No other choice but 1.\n",
    "learn_rate = 0.0002"
   ]
  },
  {
   "cell_type": "code",
   "execution_count": 12,
   "metadata": {
    "executionInfo": {
     "elapsed": 3,
     "status": "ok",
     "timestamp": 1716399636312,
     "user": {
      "displayName": "Fabio M",
      "userId": "09614366475601969276"
     },
     "user_tz": -120
    },
    "id": "OM0vtmPKPM82"
   },
   "outputs": [],
   "source": [
    "n_input = 1                       # Scalar input.\n",
    "n_neurons = 100                   # N# of neurons per layer.\n",
    "n_output = 1                      # Scalar output."
   ]
  },
  {
   "cell_type": "markdown",
   "metadata": {
    "id": "2ysxahz-PM82"
   },
   "source": [
    "Model."
   ]
  },
  {
   "cell_type": "code",
   "execution_count": 13,
   "metadata": {
    "executionInfo": {
     "elapsed": 1516,
     "status": "ok",
     "timestamp": 1716399637825,
     "user": {
      "displayName": "Fabio M",
      "userId": "09614366475601969276"
     },
     "user_tz": -120
    },
    "id": "cSQOtZ_KPM82"
   },
   "outputs": [],
   "source": [
    "# RNN or LSTM network.\n",
    "# return_sequnces = True: means \"Sequence to Sequence\".\n",
    "# input_shape = (None, n_inputs) : variable length of the time series.\n",
    "my_model = Sequential()\n",
    "my_model.add(SimpleRNN(units=n_neurons,return_sequences=True, input_shape=(None, n_input)))     # RNN.\n",
    "#my_model.add(LSTM(units=n_neurons,return_sequences=True, input_shape=(None, n_input)))         # LSTM.\n",
    "my_model.add(TimeDistributed(Dense(units=n_output, activation=\"linear\")))    # Wrapper."
   ]
  },
  {
   "cell_type": "code",
   "execution_count": 14,
   "metadata": {
    "colab": {
     "base_uri": "https://localhost:8080/"
    },
    "executionInfo": {
     "elapsed": 6,
     "status": "ok",
     "timestamp": 1716399637825,
     "user": {
      "displayName": "Fabio M",
      "userId": "09614366475601969276"
     },
     "user_tz": -120
    },
    "id": "3vcn36ffPM82",
    "outputId": "3b4a92de-6b6f-4fa1-d89f-a308bc1929b7"
   },
   "outputs": [
    {
     "data": {
      "text/html": [
       "<pre style=\"white-space:pre;overflow-x:auto;line-height:normal;font-family:Menlo,'DejaVu Sans Mono',consolas,'Courier New',monospace\"><span style=\"font-weight: bold\">Model: \"sequential\"</span>\n",
       "</pre>\n"
      ],
      "text/plain": [
       "\u001b[1mModel: \"sequential\"\u001b[0m\n"
      ]
     },
     "metadata": {},
     "output_type": "display_data"
    },
    {
     "data": {
      "text/html": [
       "<pre style=\"white-space:pre;overflow-x:auto;line-height:normal;font-family:Menlo,'DejaVu Sans Mono',consolas,'Courier New',monospace\">┏━━━━━━━━━━━━━━━━━━━━━━━━━━━━━━━━━┳━━━━━━━━━━━━━━━━━━━━━━━━┳━━━━━━━━━━━━━━━┓\n",
       "┃<span style=\"font-weight: bold\"> Layer (type)                    </span>┃<span style=\"font-weight: bold\"> Output Shape           </span>┃<span style=\"font-weight: bold\">       Param # </span>┃\n",
       "┡━━━━━━━━━━━━━━━━━━━━━━━━━━━━━━━━━╇━━━━━━━━━━━━━━━━━━━━━━━━╇━━━━━━━━━━━━━━━┩\n",
       "│ simple_rnn (<span style=\"color: #0087ff; text-decoration-color: #0087ff\">SimpleRNN</span>)          │ (<span style=\"color: #00d7ff; text-decoration-color: #00d7ff\">None</span>, <span style=\"color: #00d7ff; text-decoration-color: #00d7ff\">None</span>, <span style=\"color: #00af00; text-decoration-color: #00af00\">100</span>)      │        <span style=\"color: #00af00; text-decoration-color: #00af00\">10,200</span> │\n",
       "├─────────────────────────────────┼────────────────────────┼───────────────┤\n",
       "│ time_distributed                │ (<span style=\"color: #00d7ff; text-decoration-color: #00d7ff\">None</span>, <span style=\"color: #00d7ff; text-decoration-color: #00d7ff\">None</span>, <span style=\"color: #00af00; text-decoration-color: #00af00\">1</span>)        │           <span style=\"color: #00af00; text-decoration-color: #00af00\">101</span> │\n",
       "│ (<span style=\"color: #0087ff; text-decoration-color: #0087ff\">TimeDistributed</span>)               │                        │               │\n",
       "└─────────────────────────────────┴────────────────────────┴───────────────┘\n",
       "</pre>\n"
      ],
      "text/plain": [
       "┏━━━━━━━━━━━━━━━━━━━━━━━━━━━━━━━━━┳━━━━━━━━━━━━━━━━━━━━━━━━┳━━━━━━━━━━━━━━━┓\n",
       "┃\u001b[1m \u001b[0m\u001b[1mLayer (type)                   \u001b[0m\u001b[1m \u001b[0m┃\u001b[1m \u001b[0m\u001b[1mOutput Shape          \u001b[0m\u001b[1m \u001b[0m┃\u001b[1m \u001b[0m\u001b[1m      Param #\u001b[0m\u001b[1m \u001b[0m┃\n",
       "┡━━━━━━━━━━━━━━━━━━━━━━━━━━━━━━━━━╇━━━━━━━━━━━━━━━━━━━━━━━━╇━━━━━━━━━━━━━━━┩\n",
       "│ simple_rnn (\u001b[38;5;33mSimpleRNN\u001b[0m)          │ (\u001b[38;5;45mNone\u001b[0m, \u001b[38;5;45mNone\u001b[0m, \u001b[38;5;34m100\u001b[0m)      │        \u001b[38;5;34m10,200\u001b[0m │\n",
       "├─────────────────────────────────┼────────────────────────┼───────────────┤\n",
       "│ time_distributed                │ (\u001b[38;5;45mNone\u001b[0m, \u001b[38;5;45mNone\u001b[0m, \u001b[38;5;34m1\u001b[0m)        │           \u001b[38;5;34m101\u001b[0m │\n",
       "│ (\u001b[38;5;33mTimeDistributed\u001b[0m)               │                        │               │\n",
       "└─────────────────────────────────┴────────────────────────┴───────────────┘\n"
      ]
     },
     "metadata": {},
     "output_type": "display_data"
    },
    {
     "data": {
      "text/html": [
       "<pre style=\"white-space:pre;overflow-x:auto;line-height:normal;font-family:Menlo,'DejaVu Sans Mono',consolas,'Courier New',monospace\"><span style=\"font-weight: bold\"> Total params: </span><span style=\"color: #00af00; text-decoration-color: #00af00\">10,301</span> (40.24 KB)\n",
       "</pre>\n"
      ],
      "text/plain": [
       "\u001b[1m Total params: \u001b[0m\u001b[38;5;34m10,301\u001b[0m (40.24 KB)\n"
      ]
     },
     "metadata": {},
     "output_type": "display_data"
    },
    {
     "data": {
      "text/html": [
       "<pre style=\"white-space:pre;overflow-x:auto;line-height:normal;font-family:Menlo,'DejaVu Sans Mono',consolas,'Courier New',monospace\"><span style=\"font-weight: bold\"> Trainable params: </span><span style=\"color: #00af00; text-decoration-color: #00af00\">10,301</span> (40.24 KB)\n",
       "</pre>\n"
      ],
      "text/plain": [
       "\u001b[1m Trainable params: \u001b[0m\u001b[38;5;34m10,301\u001b[0m (40.24 KB)\n"
      ]
     },
     "metadata": {},
     "output_type": "display_data"
    },
    {
     "data": {
      "text/html": [
       "<pre style=\"white-space:pre;overflow-x:auto;line-height:normal;font-family:Menlo,'DejaVu Sans Mono',consolas,'Courier New',monospace\"><span style=\"font-weight: bold\"> Non-trainable params: </span><span style=\"color: #00af00; text-decoration-color: #00af00\">0</span> (0.00 B)\n",
       "</pre>\n"
      ],
      "text/plain": [
       "\u001b[1m Non-trainable params: \u001b[0m\u001b[38;5;34m0\u001b[0m (0.00 B)\n"
      ]
     },
     "metadata": {},
     "output_type": "display_data"
    }
   ],
   "source": [
    "# View the summary.\n",
    "my_model.summary()"
   ]
  },
  {
   "cell_type": "code",
   "execution_count": 15,
   "metadata": {
    "colab": {
     "base_uri": "https://localhost:8080/"
    },
    "executionInfo": {
     "elapsed": 4,
     "status": "ok",
     "timestamp": 1716399637825,
     "user": {
      "displayName": "Fabio M",
      "userId": "09614366475601969276"
     },
     "user_tz": -120
    },
    "id": "YJH6guFIPM82",
    "outputId": "79cb2f3e-0940-4fa5-cedd-a86e13b8abd7"
   },
   "outputs": [],
   "source": [
    "# Define the optimizer and compile.\n",
    "my_optimizer=Adam(learning_rate=learn_rate)\n",
    "my_model.compile(loss = \"mse\", optimizer = my_optimizer, metrics=[\"mse\"])"
   ]
  },
  {
   "cell_type": "code",
   "execution_count": 16,
   "metadata": {},
   "outputs": [],
   "source": [
    "import time"
   ]
  },
  {
   "cell_type": "markdown",
   "metadata": {
    "id": "qnjiiEqXPM82"
   },
   "source": [
    "#### 2.3. Train the model:"
   ]
  },
  {
   "cell_type": "code",
   "execution_count": 17,
   "metadata": {
    "executionInfo": {
     "elapsed": 30597,
     "status": "ok",
     "timestamp": 1716399668419,
     "user": {
      "displayName": "Fabio M",
      "userId": "09614366475601969276"
     },
     "user_tz": -120
    },
    "id": "mwDvTImgPM83"
   },
   "outputs": [
    {
     "name": "stdout",
     "output_type": "stream",
     "text": [
      "21.638815879821777\n"
     ]
    }
   ],
   "source": [
    "# No validation.\n",
    "# CAUTION: y is X shifted by +1.\n",
    "my_summary = my_model.fit(ts_scaled_2[:,:-1,:], ts_scaled_2[:,1:,:], epochs=n_epochs, batch_size = batch_size, verbose = 0)"
   ]
  },
  {
   "cell_type": "code",
   "execution_count": 15,
   "metadata": {
    "colab": {
     "base_uri": "https://localhost:8080/"
    },
    "executionInfo": {
     "elapsed": 16,
     "status": "ok",
     "timestamp": 1716399668420,
     "user": {
      "displayName": "Fabio M",
      "userId": "09614366475601969276"
     },
     "user_tz": -120
    },
    "id": "o7YBxILzPM83",
    "outputId": "0024d3db-096f-418e-ce04-06b5db3109a0"
   },
   "outputs": [
    {
     "data": {
      "text/plain": [
       "dict_keys(['loss', 'mse'])"
      ]
     },
     "execution_count": 15,
     "metadata": {},
     "output_type": "execute_result"
    }
   ],
   "source": [
    "my_summary.history.keys()"
   ]
  },
  {
   "cell_type": "code",
   "execution_count": 18,
   "metadata": {
    "colab": {
     "base_uri": "https://localhost:8080/",
     "height": 472
    },
    "executionInfo": {
     "elapsed": 13,
     "status": "ok",
     "timestamp": 1716399668420,
     "user": {
      "displayName": "Fabio M",
      "userId": "09614366475601969276"
     },
     "user_tz": -120
    },
    "id": "l_SMEWqUPM83",
    "outputId": "16746997-ca95-47b1-a528-1a29e6dd136c"
   },
   "outputs": [
    {
     "data": {
      "image/png": "[encoded data removed]",
      "text/plain": [
       "<Figure size 640x480 with 1 Axes>"
      ]
     },
     "metadata": {},
     "output_type": "display_data"
    }
   ],
   "source": [
    "plt.plot(my_summary.history['mse'], c=\"b\")\n",
    "plt.title('Training History')\n",
    "plt.ylabel('MSE')\n",
    "plt.xlabel('Epoch')\n",
    "plt.legend(['Train'], loc='lower right')\n",
    "plt.show()"
   ]
  },
  {
   "cell_type": "markdown",
   "metadata": {
    "id": "qqstJrm5PM83"
   },
   "source": [
    "#### 2.4. Predict the future:"
   ]
  },
  {
   "cell_type": "code",
   "execution_count": 19,
   "metadata": {
    "executionInfo": {
     "elapsed": 12,
     "status": "ok",
     "timestamp": 1716399668420,
     "user": {
      "displayName": "Fabio M",
      "userId": "09614366475601969276"
     },
     "user_tz": -120
    },
    "id": "n-WRzfT3PM83"
   },
   "outputs": [],
   "source": [
    "n_ts_seed = 5                                 # Seed length.\n",
    "n_predict_time_steps = 55                     # Prediction length."
   ]
  },
  {
   "cell_type": "code",
   "execution_count": 20,
   "metadata": {
    "colab": {
     "base_uri": "https://localhost:8080/"
    },
    "executionInfo": {
     "elapsed": 3997,
     "status": "ok",
     "timestamp": 1716399672405,
     "user": {
      "displayName": "Fabio M",
      "userId": "09614366475601969276"
     },
     "user_tz": -120
    },
    "id": "VO2aHWZMPM83",
    "outputId": "7747c635-0d5e-40d9-9451-8ed875a643ef"
   },
   "outputs": [],
   "source": [
    "# Prediction loop.\n",
    "ts_seed = ts_scaled[0:n_ts_seed]\n",
    "for i in range(n_predict_time_steps):\n",
    "    X = ts_seed.reshape(1,-1,1)        # Reshape.\n",
    "    y_pred = my_model(X, training=False)\n",
    "    y_last= y_pred[0,-1,0]             # The last output is the predicted y.\n",
    "    ts_seed = np.concatenate((ts_seed, np.array([y_last]).reshape(1,1)), axis=0)"
   ]
  },
  {
   "cell_type": "code",
   "execution_count": 21,
   "metadata": {
    "colab": {
     "base_uri": "https://localhost:8080/",
     "height": 487
    },
    "executionInfo": {
     "elapsed": 6,
     "status": "ok",
     "timestamp": 1716399673189,
     "user": {
      "displayName": "Fabio M",
      "userId": "09614366475601969276"
     },
     "user_tz": -120
    },
    "id": "5nsAYM7WPM83",
    "outputId": "bbd0ebe7-e938-4a72-a464-968fe9761a37"
   },
   "outputs": [
    {
     "data": {
      "image/png": "[encoded data removed]",
      "text/plain": [
       "<Figure size 640x480 with 1 Axes>"
      ]
     },
     "metadata": {},
     "output_type": "display_data"
    }
   ],
   "source": [
    "# Do the inverse transform and show the times series.\n",
    "ts = scaler.inverse_transform(ts_seed)\n",
    "plt.plot(df.Value,c='b',linewidth=2, linestyle=\"-\",label=\"Data\")\n",
    "plt.plot(ts,c='r',linewidth=2, linestyle=\"--\",label=\"Fit\")\n",
    "plt.legend()\n",
    "plt.tight_layout()\n",
    "plt.savefig(\"out.png\")\n",
    "plt.show()"
   ]
  }
 ],
 "metadata": {
  "accelerator": "GPU",
  "colab": {
   "gpuType": "T4",
   "provenance": []
  },
  "kernelspec": {
   "display_name": "Python 3 (ipykernel)",
   "language": "python",
   "name": "python3"
  },
  "language_info": {
   "codemirror_mode": {
    "name": "ipython",
    "version": 3
   },
   "file_extension": ".py",
   "mimetype": "text/x-python",
   "name": "python",
   "nbconvert_exporter": "python",
   "pygments_lexer": "ipython3",
   "version": "3.10.12"
  }
 },
 "nbformat": 4,
 "nbformat_minor": 4
}
