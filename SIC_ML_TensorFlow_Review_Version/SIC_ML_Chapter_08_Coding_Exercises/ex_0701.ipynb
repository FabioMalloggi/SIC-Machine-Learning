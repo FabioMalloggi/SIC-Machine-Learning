{
 "cells": [
  {
   "cell_type": "markdown",
   "metadata": {},
   "source": [
    "## Coding Exercise #0701"
   ]
  },
  {
   "cell_type": "markdown",
   "metadata": {},
   "source": [
    "### 1. TensorFlow basics:"
   ]
  },
  {
   "cell_type": "code",
   "execution_count": null,
   "metadata": {},
   "outputs": [],
   "source": [
    "# Install once.\n",
    "# !pip install tensorflow\n",
    "# OR\n",
    "# !pip install --user tensorflow-gpu"
   ]
  },
  {
   "cell_type": "code",
   "execution_count": null,
   "metadata": {},
   "outputs": [],
   "source": [
    "#Uncomment to force use of CPU.\n",
    "#import os\n",
    "#os.environ['CUDA_VISIBLE_DEVICES'] = ''\n",
    "\n",
    "#Suppress TF warnings\n",
    "import os\n",
    "os.environ[\"TF_CPP_MIN_LOG_LEVEL\"] = \"2\""
   ]
  },
  {
   "cell_type": "code",
   "execution_count": 1,
   "metadata": {},
   "outputs": [
    {
     "name": "stderr",
     "output_type": "stream",
     "text": [
      "2024-05-12 10:48:58.575481: I tensorflow/core/platform/cpu_feature_guard.cc:210] This TensorFlow binary is optimized to use available CPU instructions in performance-critical operations.\n",
      "To enable the following instructions: AVX2 FMA, in other operations, rebuild TensorFlow with the appropriate compiler flags.\n",
      "2024-05-12 10:48:59.278060: W tensorflow/compiler/tf2tensorrt/utils/py_utils.cc:38] TF-TRT Warning: Could not find TensorRT\n"
     ]
    }
   ],
   "source": [
    "# import tensorflow as tf\n",
    "import tensorflow as tf\n",
    "import numpy as np"
   ]
  },
  {
   "cell_type": "markdown",
   "metadata": {},
   "source": [
    "#### 1.1. Hello World!"
   ]
  },
  {
   "cell_type": "code",
   "execution_count": 2,
   "metadata": {},
   "outputs": [
    {
     "name": "stdout",
     "output_type": "stream",
     "text": [
      "b'Hello World!'\n"
     ]
    },
    {
     "name": "stderr",
     "output_type": "stream",
     "text": [
      "2024-05-12 10:51:02.593349: I external/local_xla/xla/stream_executor/cuda/cuda_executor.cc:984] could not open file to read NUMA node: /sys/bus/pci/devices/0000:01:00.0/numa_node\n",
      "Your kernel may have been built without NUMA support.\n",
      "2024-05-12 10:51:02.774759: I external/local_xla/xla/stream_executor/cuda/cuda_executor.cc:984] could not open file to read NUMA node: /sys/bus/pci/devices/0000:01:00.0/numa_node\n",
      "Your kernel may have been built without NUMA support.\n",
      "2024-05-12 10:51:02.774808: I external/local_xla/xla/stream_executor/cuda/cuda_executor.cc:984] could not open file to read NUMA node: /sys/bus/pci/devices/0000:01:00.0/numa_node\n",
      "Your kernel may have been built without NUMA support.\n",
      "2024-05-12 10:51:02.779040: I external/local_xla/xla/stream_executor/cuda/cuda_executor.cc:984] could not open file to read NUMA node: /sys/bus/pci/devices/0000:01:00.0/numa_node\n",
      "Your kernel may have been built without NUMA support.\n",
      "2024-05-12 10:51:02.779111: I external/local_xla/xla/stream_executor/cuda/cuda_executor.cc:984] could not open file to read NUMA node: /sys/bus/pci/devices/0000:01:00.0/numa_node\n",
      "Your kernel may have been built without NUMA support.\n",
      "2024-05-12 10:51:02.779140: I external/local_xla/xla/stream_executor/cuda/cuda_executor.cc:984] could not open file to read NUMA node: /sys/bus/pci/devices/0000:01:00.0/numa_node\n",
      "Your kernel may have been built without NUMA support.\n",
      "2024-05-12 10:51:02.933564: I external/local_xla/xla/stream_executor/cuda/cuda_executor.cc:984] could not open file to read NUMA node: /sys/bus/pci/devices/0000:01:00.0/numa_node\n",
      "Your kernel may have been built without NUMA support.\n",
      "2024-05-12 10:51:02.933663: I external/local_xla/xla/stream_executor/cuda/cuda_executor.cc:984] could not open file to read NUMA node: /sys/bus/pci/devices/0000:01:00.0/numa_node\n",
      "Your kernel may have been built without NUMA support.\n",
      "2024-05-12 10:51:02.933676: I tensorflow/core/common_runtime/gpu/gpu_device.cc:2019] Could not identify NUMA node of platform GPU id 0, defaulting to 0.  Your kernel may not have been built with NUMA support.\n",
      "2024-05-12 10:51:02.933775: I external/local_xla/xla/stream_executor/cuda/cuda_executor.cc:984] could not open file to read NUMA node: /sys/bus/pci/devices/0000:01:00.0/numa_node\n",
      "Your kernel may have been built without NUMA support.\n",
      "2024-05-12 10:51:02.933834: I tensorflow/core/common_runtime/gpu/gpu_device.cc:1928] Created device /job:localhost/replica:0/task:0/device:GPU:0 with 4699 MB memory:  -> device: 0, name: NVIDIA GeForce GTX 1060 6GB, pci bus id: 0000:01:00.0, compute capability: 6.1\n"
     ]
    }
   ],
   "source": [
    "hello = tf.constant(\"Hello World!\")\n",
    "print(hello.numpy())"
   ]
  },
  {
   "cell_type": "markdown",
   "metadata": {},
   "source": [
    "#### 1.2. Creating tensors:"
   ]
  },
  {
   "cell_type": "code",
   "execution_count": 5,
   "metadata": {},
   "outputs": [],
   "source": [
    "hello = tf.constant(\"Hello World!\")                         # String.\n",
    "const_scalar = tf.constant(7)                               # A scalar tensor.\n",
    "const_matrix = tf.constant([[1,2], [3,4]])                  # A matrix tensor.\n",
    "mat_fill = tf.fill((4,4),9)                                 # A 4x4 tensor filled with 9s.\n",
    "mat_zeros = tf.zeros((3,3))                                 # A 3x3 tensor filled with 0s.\n",
    "mat_ones = tf.ones((5,5))                                   # A 5x5 tensor filled with 1s.\n",
    "mat_randn = tf.random.normal((3,3), mean=0, stddev=1.0)     # 3x3 random normal tensor.\n",
    "mat_randu = tf.random.uniform((4,4), minval=0, maxval=1.0)  # 4x4 random uniform tensor."
   ]
  },
  {
   "cell_type": "code",
   "execution_count": 5,
   "metadata": {},
   "outputs": [
    {
     "name": "stdout",
     "output_type": "stream",
     "text": [
      "<class 'bytes'>\n",
      "\n",
      "\n",
      "b'Hello World!'\n",
      "\n",
      "\n",
      "<class 'numpy.int32'>\n",
      "\n",
      "\n",
      "7\n",
      "\n",
      "\n",
      "<class 'numpy.ndarray'>\n",
      "\n",
      "\n",
      "[[1 2]\n",
      " [3 4]]\n",
      "\n",
      "\n",
      "<class 'numpy.ndarray'>\n",
      "\n",
      "\n",
      "[[9 9 9 9]\n",
      " [9 9 9 9]\n",
      " [9 9 9 9]\n",
      " [9 9 9 9]]\n",
      "\n",
      "\n",
      "<class 'numpy.ndarray'>\n",
      "\n",
      "\n",
      "[[0. 0. 0.]\n",
      " [0. 0. 0.]\n",
      " [0. 0. 0.]]\n",
      "\n",
      "\n",
      "<class 'numpy.ndarray'>\n",
      "\n",
      "\n",
      "[[1. 1. 1. 1. 1.]\n",
      " [1. 1. 1. 1. 1.]\n",
      " [1. 1. 1. 1. 1.]\n",
      " [1. 1. 1. 1. 1.]\n",
      " [1. 1. 1. 1. 1.]]\n",
      "\n",
      "\n",
      "<class 'numpy.ndarray'>\n",
      "\n",
      "\n",
      "[[-1.0635753   2.16728     0.65871626]\n",
      " [-1.1424781   1.4103571  -0.7665505 ]\n",
      " [-0.59387016 -1.3400667  -0.63527215]]\n",
      "\n",
      "\n",
      "<class 'numpy.ndarray'>\n",
      "\n",
      "\n",
      "[[0.84432447 0.46790934 0.7476342  0.5494753 ]\n",
      " [0.9748596  0.08018839 0.43241918 0.24025524]\n",
      " [0.52954996 0.86130905 0.5300566  0.9774357 ]\n",
      " [0.5692916  0.8774817  0.63553107 0.56248176]]\n",
      "\n",
      "\n"
     ]
    }
   ],
   "source": [
    "my_ops=[hello, const_scalar, const_matrix, mat_fill, mat_zeros, mat_ones, mat_randn, mat_randu]\n",
    "for op in my_ops:\n",
    "    res = op.numpy()\n",
    "    print(type(res))\n",
    "    print('\\n')\n",
    "    print(res)\n",
    "    print('\\n')"
   ]
  },
  {
   "cell_type": "markdown",
   "metadata": {},
   "source": [
    "#### 1.3. Math operations:"
   ]
  },
  {
   "cell_type": "code",
   "execution_count": 6,
   "metadata": {},
   "outputs": [
    {
     "name": "stdout",
     "output_type": "stream",
     "text": [
      "2\n"
     ]
    }
   ],
   "source": [
    "n1 = tf.constant(1)\n",
    "n2 = tf.constant(2)\n",
    "n3 = n1* n2\n",
    "print(n3.numpy())"
   ]
  },
  {
   "cell_type": "code",
   "execution_count": 7,
   "metadata": {},
   "outputs": [
    {
     "name": "stdout",
     "output_type": "stream",
     "text": [
      "9\n"
     ]
    }
   ],
   "source": [
    "n1 = tf.constant(4)\n",
    "n2 = tf.constant(5)\n",
    "n3 = tf.add(n1,n2)\n",
    "print(n3.numpy())\n"
   ]
  },
  {
   "cell_type": "code",
   "execution_count": 8,
   "metadata": {},
   "outputs": [
    {
     "name": "stdout",
     "output_type": "stream",
     "text": [
      "6\n"
     ]
    }
   ],
   "source": [
    "n1 = tf.constant(2)\n",
    "n2 = tf.constant(3)\n",
    "n3 = tf.multiply(n1,n2)\n",
    "print(n3.numpy())"
   ]
  },
  {
   "cell_type": "code",
   "execution_count": 9,
   "metadata": {},
   "outputs": [
    {
     "name": "stdout",
     "output_type": "stream",
     "text": [
      "8\n"
     ]
    }
   ],
   "source": [
    "n1 = tf.constant(2)\n",
    "n2 = tf.constant(3)\n",
    "n3 = tf.pow(n1,n2)\n",
    "print(n3.numpy())"
   ]
  },
  {
   "cell_type": "markdown",
   "metadata": {},
   "source": [
    "#### 1.4. Matrix functions and operations:"
   ]
  },
  {
   "cell_type": "code",
   "execution_count": 10,
   "metadata": {},
   "outputs": [
    {
     "name": "stdout",
     "output_type": "stream",
     "text": [
      "[[ 5]\n",
      " [11]]\n"
     ]
    }
   ],
   "source": [
    "m1 = tf.constant([[1,2], [3,4]])\n",
    "m2 = tf.constant([[1], [2]])\n",
    "m3 = tf.matmul(m1, m2)                            # Matrix multiplication. Different from the element-wise multiplication with multiply().\n",
    "print(m3.numpy())"
   ]
  },
  {
   "cell_type": "code",
   "execution_count": 11,
   "metadata": {},
   "outputs": [
    {
     "name": "stdout",
     "output_type": "stream",
     "text": [
      "[[19 22]\n",
      " [43 50]]\n"
     ]
    }
   ],
   "source": [
    "m1 = tf.constant([[1,2], [3,4]])\n",
    "m2 = tf.constant([[5, 6], [7, 8]])\n",
    "m3 = tf.matmul(m1, m2)\n",
    "print(m3.numpy())"
   ]
  },
  {
   "cell_type": "code",
   "execution_count": 12,
   "metadata": {},
   "outputs": [
    {
     "name": "stdout",
     "output_type": "stream",
     "text": [
      "[[ 5 12]\n",
      " [21 32]]\n"
     ]
    }
   ],
   "source": [
    "m3 = tf.multiply(m1, m2)\n",
    "print(m3.numpy())"
   ]
  },
  {
   "cell_type": "code",
   "execution_count": 13,
   "metadata": {},
   "outputs": [
    {
     "name": "stdout",
     "output_type": "stream",
     "text": [
      "[[ 5 12]\n",
      " [21 32]]\n"
     ]
    }
   ],
   "source": [
    "m3 = m1*m2\n",
    "print(m3.numpy())"
   ]
  },
  {
   "cell_type": "code",
   "execution_count": 14,
   "metadata": {},
   "outputs": [
    {
     "name": "stdout",
     "output_type": "stream",
     "text": [
      "[[ 6  8]\n",
      " [10 12]]\n"
     ]
    }
   ],
   "source": [
    "m3 = m1 + m2\n",
    "print(m3.numpy())"
   ]
  },
  {
   "cell_type": "code",
   "execution_count": 15,
   "metadata": {},
   "outputs": [
    {
     "name": "stdout",
     "output_type": "stream",
     "text": [
      "[[-4 -4]\n",
      " [-4 -4]]\n"
     ]
    }
   ],
   "source": [
    "m3 = m1-m2\n",
    "print(m3.numpy())"
   ]
  },
  {
   "cell_type": "code",
   "execution_count": 16,
   "metadata": {},
   "outputs": [
    {
     "name": "stdout",
     "output_type": "stream",
     "text": [
      "[[0.2        0.33333333]\n",
      " [0.42857143 0.5       ]]\n"
     ]
    }
   ],
   "source": [
    "m3 = m1 / m2\n",
    "print(m3.numpy())"
   ]
  },
  {
   "cell_type": "code",
   "execution_count": 17,
   "metadata": {},
   "outputs": [
    {
     "name": "stdout",
     "output_type": "stream",
     "text": [
      "[[1. 2.]\n",
      " [3. 4.]]\n",
      "\n",
      "\n",
      "[[1 0 0]\n",
      " [0 2 0]\n",
      " [0 0 3]]\n",
      "\n",
      "\n",
      "[[1. 3.]\n",
      " [2. 4.]]\n",
      "\n",
      "\n",
      "[[-2.0000002   1.0000001 ]\n",
      " [ 1.5000001  -0.50000006]]\n",
      "\n",
      "\n",
      "[[ 1.0000000e+00  0.0000000e+00]\n",
      " [-4.7683716e-07  1.0000002e+00]]\n",
      "\n",
      "\n",
      "-2.0\n",
      "\n",
      "\n"
     ]
    }
   ],
   "source": [
    "# Matrix functions.\n",
    "m = tf.constant([[1.0,2.0],[3.0,4.0]])\n",
    "m_diagonal = tf.linalg.diag([1,2,3])\n",
    "m_transpose = tf.linalg.matrix_transpose(m)\n",
    "m_inverse = tf.linalg.inv(m)\n",
    "m_multiplied = tf.linalg.matmul(m, m_inverse)\n",
    "m_determinant = tf.linalg.det(m)\n",
    "my_matrices = [m, m_diagonal, m_transpose, m_inverse, m_multiplied, m_determinant]\n",
    "\n",
    "for op in my_matrices:\n",
    "     res = op.numpy()\n",
    "     print(res)\n",
    "     print('\\n')"
   ]
  },
  {
   "cell_type": "markdown",
   "metadata": {},
   "source": [
    "#### 1.5. TensorFlow Variable:"
   ]
  },
  {
   "cell_type": "code",
   "execution_count": 18,
   "metadata": {},
   "outputs": [
    {
     "name": "stdout",
     "output_type": "stream",
     "text": [
      "-3\n"
     ]
    }
   ],
   "source": [
    "# Initializing Variables #1\n",
    "x = tf.Variable(initial_value=5, name='x')       # Define.\n",
    "y = tf.Variable(initial_value=6, name='y')       # Define.\n",
    "f = (x - y)*y + 3                                # Define.\n",
    "\n",
    "res=f.numpy()\n",
    "print(res)"
   ]
  },
  {
   "cell_type": "code",
   "execution_count": 19,
   "metadata": {},
   "outputs": [
    {
     "name": "stdout",
     "output_type": "stream",
     "text": [
      "11\n"
     ]
    }
   ],
   "source": [
    "# Initializing Variables #2\n",
    "x = tf.Variable(initial_value=3, name='x')       # Define.\n",
    "y = tf.Variable(initial_value=2, name='y')       # Define.\n",
    "f = x*y + y + 3                                  # Define.\n",
    "\n",
    "tf.print(f)"
   ]
  },
  {
   "cell_type": "code",
   "execution_count": 20,
   "metadata": {},
   "outputs": [
    {
     "name": "stdout",
     "output_type": "stream",
     "text": [
      "59\n"
     ]
    }
   ],
   "source": [
    "# Initializing Variables #3\n",
    "x = tf.Variable(initial_value=7, name='x')       # Define.\n",
    "y = tf.Variable(initial_value=3, name='y')       # Define.\n",
    "f = x*y*y - y - 1                                # Define.\n",
    "#init = tf.global_variables_initializer()        # Prepare: no more need in TF2.\n",
    "\n",
    "tf.print(f)\n"
   ]
  },
  {
   "cell_type": "code",
   "execution_count": 21,
   "metadata": {},
   "outputs": [
    {
     "name": "stdout",
     "output_type": "stream",
     "text": [
      "[[0.403176785 0.265645146 0.697494149 0.549359322]\n",
      " [0.530969858 0.946849108 0.327228546 0.993217826]\n",
      " [0.977981806 0.0971862078 0.0358718634 0.560988784]\n",
      " [0.641904354 0.286241055 0.212258577 0.122191191]]\n"
     ]
    }
   ],
   "source": [
    "my_tensor = tf.random.uniform((4,4),0,1)\n",
    "my_var = tf.Variable(initial_value = my_tensor)                  # Initial value from a tensor.\n",
    "#my_matrix = np.random.uniform(0,1,(4,4))\n",
    "#my_var = tf.Variable(initial_value = my_matrix)                  # Initial value from a Numpy array.\n",
    "\n",
    "tf.print(my_var)"
   ]
  },
  {
   "cell_type": "markdown",
   "metadata": {},
   "source": [
    "#### 1.6. TensorFlow Placeholder"
   ]
  },
  {
   "cell_type": "code",
   "execution_count": 22,
   "metadata": {},
   "outputs": [
    {
     "name": "stdout",
     "output_type": "stream",
     "text": [
      "6.0\n"
     ]
    }
   ],
   "source": [
    "#This was for TensorFlow 1.0\n",
    "# a = tf.placeholder(tf.float32)\n",
    "# b = tf.placeholder(tf.float32)\n",
    "# y = tf.multiply(a, b)\n",
    "# with tf.Session() as sess:\n",
    "#     res = sess.run(y, feed_dict={a:2, b:3})           # Feed the actual valules.\n",
    "#     print(res)\n",
    "\n",
    "#tf.placeholder is not support in TF2. Adapted version:\n",
    "\n",
    "# Define the function\n",
    "@tf.function\n",
    "def multiply(a, b):\n",
    "    return tf.multiply(a, b)\n",
    "    \n",
    "#Here just creating constant normal TensorFlow variables.\n",
    "a = tf.Variable(2.0)\n",
    "b = tf.Variable(3.0)\n",
    "\n",
    "# Call the function\n",
    "res = multiply(a, b)\n",
    "\n",
    "# Print the result\n",
    "print(res.numpy())"
   ]
  },
  {
   "cell_type": "code",
   "execution_count": 24,
   "metadata": {},
   "outputs": [
    {
     "name": "stdout",
     "output_type": "stream",
     "text": [
      "[[1.94930222]\n",
      " [3.25957209]\n",
      " [3.79321938]]\n",
      "\n",
      "\n",
      "[[-5.18955106]\n",
      " [-0.47591604]\n",
      " [ 0.76363633]\n",
      " [ 4.6815933 ]\n",
      " [ 6.40295478]\n",
      " [-5.68629353]\n",
      " [-4.96309257]\n",
      " [-8.80927207]\n",
      " [-5.30648289]\n",
      " [ 3.05404772]]\n"
     ]
    }
   ],
   "source": [
    "#import pandas as pd\n",
    "\n",
    "# Simulated data as NumPy array.\n",
    "np.random.seed(123)\n",
    "X1 = np.random.uniform(0.0, 1.0, (3,3))\n",
    "X2 = np.random.normal(0.0, 1.0, (10,3))\n",
    "b0 = np.array([1,2,3]).reshape((-1,1))\n",
    "#\n",
    "# The data may be a DataFrame.\n",
    "#X1 = pd.DataFrame(X1)\n",
    "#X2 = pd.DataFrame(X2)\n",
    "\n",
    "# Use the same tensors directly\n",
    "print(tf.matmul(X1, b0).numpy())  \n",
    "print(\"\\n\")\n",
    "print(tf.matmul(X2, b0).numpy())  "
   ]
  }
 ],
 "metadata": {
  "kernelspec": {
   "display_name": "Python 3 (ipykernel)",
   "language": "python",
   "name": "python3"
  },
  "language_info": {
   "codemirror_mode": {
    "name": "ipython",
    "version": 3
   },
   "file_extension": ".py",
   "mimetype": "text/x-python",
   "name": "python",
   "nbconvert_exporter": "python",
   "pygments_lexer": "ipython3",
   "version": "3.10.12"
  }
 },
 "nbformat": 4,
 "nbformat_minor": 4
}
