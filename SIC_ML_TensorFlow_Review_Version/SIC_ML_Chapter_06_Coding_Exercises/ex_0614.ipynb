{
 "cells": [
  {
   "cell_type": "code",
   "execution_count": null,
   "id": "f55b82b6-6b91-452f-a189-5734cb9b5faf",
   "metadata": {},
   "outputs": [],
   "source": [
    "#For a local environment execution, it must be first installed:\n",
    "#`pip install opencv-python`"
   ]
  },
  {
   "cell_type": "markdown",
   "id": "0ef6a912-b673-4bea-8f81-3951b25edbcd",
   "metadata": {},
   "source": [
    "## Coding Practice #0614"
   ]
  },
  {
   "cell_type": "code",
   "execution_count": 1,
   "id": "83f80a01-7f3e-414d-acac-4b6d70ad03c9",
   "metadata": {},
   "outputs": [
    {
     "name": "stdout",
     "output_type": "stream",
     "text": [
      "OpenCV version :  4.10.0\n"
     ]
    }
   ],
   "source": [
    "# Install OpenCV first.\n",
    "# At the Anaconda prompt do: pip install opencv-contrib-python\n",
    "\n",
    "import cv2\n",
    "\n",
    "# Let's check for the OpvenCV version.\n",
    "print('OpenCV version : ', cv2.__version__)"
   ]
  },
  {
   "cell_type": "markdown",
   "id": "bcdb7f17-75e1-4532-974d-4dee2a8f669a",
   "metadata": {},
   "source": [
    "### 1. Working with image data."
   ]
  },
  {
   "cell_type": "markdown",
   "id": "5cb01695-2863-43af-9f9d-26459e3620c2",
   "metadata": {},
   "source": [
    "#### 1.1. Open an image in B/W and show it."
   ]
  },
  {
   "cell_type": "code",
   "execution_count": 2,
   "id": "bd7ca315-8bd7-4dc7-9a48-41a73b234ad0",
   "metadata": {},
   "outputs": [
    {
     "name": "stdout",
     "output_type": "stream",
     "text": [
      "Shape of the image read in B/W :  (1440, 1920)\n"
     ]
    }
   ],
   "source": [
    "img = cv2.imread('picture_Butterfly.jpg', 0)  # Open as a black and white image.\n",
    "print(\"Shape of the image read in B/W : \", img.shape)  # Height, width."
   ]
  },
  {
   "cell_type": "code",
   "execution_count": null,
   "id": "b5dcbef4-95ee-442d-b1ab-6ea01e278405",
   "metadata": {},
   "outputs": [],
   "source": [
    "cv2.imshow(\"A B/W Image\", img)\n",
    "cv2.waitKey(0)  # Wait until a key is pressed.\n",
    "cv2.destroyAllWindows()  # Close the open window."
   ]
  },
  {
   "cell_type": "markdown",
   "id": "049bc927-3966-4ef1-9652-2ed4e85e97ac",
   "metadata": {},
   "source": [
    "#### 1.2. Open an image in color and show it."
   ]
  },
  {
   "cell_type": "code",
   "execution_count": null,
   "id": "26d41d90-dbb6-4069-a1c5-2ef37a609315",
   "metadata": {},
   "outputs": [],
   "source": [
    "img = cv2.imread('picture_Butterfly.jpg', 1)  # Open as a color image.\n",
    "print(\"Shape of the image read in color : \", img.shape)  # Height, width, channel"
   ]
  },
  {
   "cell_type": "code",
   "execution_count": null,
   "id": "27a3dd32-35b7-4147-bb42-056a2ed955eb",
   "metadata": {},
   "outputs": [],
   "source": [
    "cv2.imshow(\"A Color Image\", img)\n",
    "cv2.waitKey(0)  # Wait until a key is pressed.\n",
    "cv2.destroyAllWindows()  # Close the open window."
   ]
  },
  {
   "cell_type": "markdown",
   "id": "fe2013d8-3322-45cd-ae2d-5ff055d77fb5",
   "metadata": {},
   "source": [
    "#### 1.3. Split the color channels (BGR and not RGB)."
   ]
  },
  {
   "cell_type": "code",
   "execution_count": null,
   "id": "75c105aa-1f9e-4cb1-b9ec-1685b3ebe0c9",
   "metadata": {},
   "outputs": [],
   "source": [
    "b = img[:, :, 0]\n",
    "g = img[:, :, 1]\n",
    "r = img[:, :, 2]\n",
    "zeros = 0 * b.copy()  # Same shape filled with 0s.\n",
    "\n",
    "blue_channel = cv2.merge([b, zeros, zeros])\n",
    "green_channel = cv2.merge([zeros, g, zeros])\n",
    "red_channel = cv2.merge([zeros, zeros, r])"
   ]
  },
  {
   "cell_type": "code",
   "execution_count": null,
   "id": "980f5dda-ef61-41f7-9f63-1a16d181efe7",
   "metadata": {},
   "outputs": [],
   "source": [
    "cv2.imshow(\"The Blue Channel\", blue_channel)\n",
    "cv2.waitKey(0)  # Wait until a key is pressed.\n",
    "cv2.destroyAllWindows()  # Close the open window."
   ]
  },
  {
   "cell_type": "code",
   "execution_count": null,
   "id": "a7da954f-ec18-46ed-8d8f-bb9666aeaf2e",
   "metadata": {},
   "outputs": [],
   "source": [
    "cv2.imshow(\"The Green Channel\", green_channel)\n",
    "cv2.waitKey(0)  # Wait until a key is pressed.\n",
    "cv2.destroyAllWindows()  # Close the open window."
   ]
  },
  {
   "cell_type": "code",
   "execution_count": null,
   "id": "b5a63248-d28a-428c-8c02-79d1c165cdff",
   "metadata": {},
   "outputs": [],
   "source": [
    "cv2.imshow(\"The Red Channel\", red_channel)\n",
    "cv2.waitKey(0)  # Wait until a key is pressed.\n",
    "cv2.destroyAllWindows()  # Close the open window."
   ]
  },
  {
   "cell_type": "markdown",
   "id": "ee7bb920-0761-48aa-902a-c86d08e2fad8",
   "metadata": {},
   "source": [
    "#### 1.4. Saving the image data in external files."
   ]
  },
  {
   "cell_type": "code",
   "execution_count": 1,
   "id": "4a8b8d8e-529f-4158-8e04-4ae5725bba00",
   "metadata": {},
   "outputs": [
    {
     "name": "stdout",
     "output_type": "stream",
     "text": [
      "OpenCV version :  4.10.0\n",
      "Shape of the image read in B/W :  (1440, 1920)\n",
      "Shape of the image read in color :  (1440, 1920, 3)\n"
     ]
    },
    {
     "data": {
      "text/plain": [
       "True"
      ]
     },
     "execution_count": 1,
     "metadata": {},
     "output_type": "execute_result"
    }
   ],
   "source": [
    "cv2.imwrite(\"picture_Butterfly_blue.jpg\", blue_channel)\n",
    "cv2.imwrite(\"picture_Butterfly_green.jpg\", green_channel)\n",
    "cv2.imwrite(\"picture_Butterfly_red.jpg\", red_channel)"
   ]
  }
 ],
 "metadata": {
  "kernelspec": {
   "display_name": "Python 3 (ipykernel)",
   "language": "python",
   "name": "python3"
  },
  "language_info": {
   "codemirror_mode": {
    "name": "ipython",
    "version": 3
   },
   "file_extension": ".py",
   "mimetype": "text/x-python",
   "name": "python",
   "nbconvert_exporter": "python",
   "pygments_lexer": "ipython3",
   "version": "3.10.12"
  }
 },
 "nbformat": 4,
 "nbformat_minor": 5
}
