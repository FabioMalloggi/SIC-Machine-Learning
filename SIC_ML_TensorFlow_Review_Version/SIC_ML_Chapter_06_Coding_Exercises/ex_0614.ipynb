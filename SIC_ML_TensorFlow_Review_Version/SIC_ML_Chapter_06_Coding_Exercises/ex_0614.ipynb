{
 "cells": [
  {
   "cell_type": "markdown",
   "id": "993eb9c5-1bd1-43ed-b82b-55efde940e95",
   "metadata": {},
   "source": [
    "For a local environment execution, it must be first installed:\n",
    "\n",
    "`pip install opencv-python`"
   ]
  },
  {
   "cell_type": "code",
   "execution_count": 1,
   "id": "4a8b8d8e-529f-4158-8e04-4ae5725bba00",
   "metadata": {},
   "outputs": [
    {
     "name": "stdout",
     "output_type": "stream",
     "text": [
      "OpenCV version :  4.10.0\n",
      "Shape of the image read in B/W :  (1440, 1920)\n",
      "Shape of the image read in color :  (1440, 1920, 3)\n"
     ]
    },
    {
     "data": {
      "text/plain": [
       "True"
      ]
     },
     "execution_count": 1,
     "metadata": {},
     "output_type": "execute_result"
    }
   ],
   "source": [
    "\"\"\"Coding Practice #0614.\"\"\"\n",
    "\n",
    "# Install OpenCV first.\n",
    "# At the Anaconda prompt do: pip install opencv-contrib-python\n",
    "\n",
    "import cv2\n",
    "\n",
    "# Let's check for the OpvenCV version.\n",
    "print('OpenCV version : ', cv2.__version__)\n",
    "\n",
    "# 1. Working with image data.\n",
    "# 1.1. Open an image in B/W and show it.\n",
    "img = cv2.imread('picture_Butterfly.jpg', 0)  # Open as a black and white image.\n",
    "print(\"Shape of the image read in B/W : \", img.shape)  # Height, width.\n",
    "\n",
    "cv2.imshow(\"A B/W Image\", img)\n",
    "cv2.waitKey(0)  # Wait until a key is pressed.\n",
    "cv2.destroyAllWindows()  # Close the open window.\n",
    "\n",
    "# 1.2. Open an image in color and show it.\n",
    "img = cv2.imread('picture_Butterfly.jpg', 1)  # Open as a color image.\n",
    "print(\"Shape of the image read in color : \", img.shape)  # Height, width, channel\n",
    "\n",
    "cv2.imshow(\"A Color Image\", img)\n",
    "cv2.waitKey(0)  # Wait until a key is pressed.\n",
    "cv2.destroyAllWindows()  # Close the open window.\n",
    "\n",
    "# 1.3. Split the color channels (BGR and not RGB).\n",
    "b = img[:, :, 0]\n",
    "g = img[:, :, 1]\n",
    "r = img[:, :, 2]\n",
    "zeros = 0 * b.copy()  # Same shape filled with 0s.\n",
    "\n",
    "blue_channel = cv2.merge([b, zeros, zeros])\n",
    "green_channel = cv2.merge([zeros, g, zeros])\n",
    "red_channel = cv2.merge([zeros, zeros, r])\n",
    "\n",
    "cv2.imshow(\"The Blue Channel\", blue_channel)\n",
    "cv2.waitKey(0)  # Wait until a key is pressed.\n",
    "cv2.destroyAllWindows()  # Close the open window.\n",
    "\n",
    "cv2.imshow(\"The Green Channel\", green_channel)\n",
    "cv2.waitKey(0)  # Wait until a key is pressed.\n",
    "cv2.destroyAllWindows()  # Close the open window.\n",
    "\n",
    "cv2.imshow(\"The Red Channel\", red_channel)\n",
    "cv2.waitKey(0)  # Wait until a key is pressed.\n",
    "cv2.destroyAllWindows()  # Close the open window.\n",
    "\n",
    "# 1.4. Saving the image data in external files.\n",
    "cv2.imwrite(\"picture_Butterfly_blue.jpg\", blue_channel)\n",
    "cv2.imwrite(\"picture_Butterfly_green.jpg\", green_channel)\n",
    "cv2.imwrite(\"picture_Butterfly_red.jpg\", red_channel)\n"
   ]
  }
 ],
 "metadata": {
  "kernelspec": {
   "display_name": "Python 3 (ipykernel)",
   "language": "python",
   "name": "python3"
  },
  "language_info": {
   "codemirror_mode": {
    "name": "ipython",
    "version": 3
   },
   "file_extension": ".py",
   "mimetype": "text/x-python",
   "name": "python",
   "nbconvert_exporter": "python",
   "pygments_lexer": "ipython3",
   "version": "3.10.12"
  }
 },
 "nbformat": 4,
 "nbformat_minor": 5
}
