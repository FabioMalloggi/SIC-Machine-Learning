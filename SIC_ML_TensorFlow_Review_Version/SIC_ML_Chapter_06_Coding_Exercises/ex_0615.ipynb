{
 "cells": [
  {
   "cell_type": "code",
   "execution_count": null,
   "id": "8a1176a2-6e8b-4bec-90ce-85540143eda4",
   "metadata": {},
   "outputs": [],
   "source": [
    "\"\"\"Coding Practice #0615.\"\"\"\n",
    "\n",
    "import cv2\n",
    "\n",
    "# 1. Working with image data:\n",
    "\n",
    "# 1.1. Open an image in color (BGR) and show it.\n",
    "img_bgr = cv2.imread('picture_Butterfly.jpg', 1)  # Open as a color image.\n",
    "print(\"Shape of the image read in color : \", img_bgr.shape)  # Height, width, channel.\n",
    "\n",
    "cv2.imshow(\"A Color Image\", img_bgr)\n",
    "cv2.waitKey(0)  # Wait until a key is pressed.\n",
    "cv2.destroyAllWindows()  # Close the open window.\n",
    "\n",
    "# 1.2. Convert to B/W (gray scale) and show it.\n",
    "img_gray = cv2.cvtColor(img_bgr, cv2.COLOR_BGR2GRAY)\n",
    "\n",
    "cv2.imshow(\"In Gray Scale\", img_gray)\n",
    "cv2.waitKey(0)  # Wait until a key is pressed.\n",
    "cv2.destroyAllWindows()  # Close the open window.\n",
    "\n",
    "# 1.3. Convert to HSV and split the channels: Hue, Saturation, Value.\n",
    "img_hsv = cv2.cvtColor(img_bgr, cv2.COLOR_BGR2HSV)\n",
    "h = img_hsv[:, :, 0]\n",
    "s = img_hsv[:, :, 1]\n",
    "v = img_hsv[:, :, 2]\n",
    "\n",
    "hue = cv2.merge([h, h, h])\n",
    "sat = cv2.merge([s, s, s])\n",
    "val = cv2.merge([v, v, v])\n",
    "\n",
    "cv2.imshow(\"The Hue Channel\", hue)\n",
    "cv2.waitKey(0)  # Wait until a key is pressed.\n",
    "cv2.destroyAllWindows()  # Close the open window.\n",
    "\n",
    "cv2.imshow(\"The Saturation Channel\", sat)\n",
    "cv2.waitKey(0)  # Wait until a key is pressed.\n",
    "cv2.destroyAllWindows()  # Close the open window.\n",
    "\n",
    "cv2.imshow(\"The Value Channel\", val)\n",
    "cv2.waitKey(0)  # Wait until a key is pressed.\n",
    "cv2.destroyAllWindows()  # Close the open window.\n"
   ]
  }
 ],
 "metadata": {
  "kernelspec": {
   "display_name": "Python 3 (ipykernel)",
   "language": "python",
   "name": "python3"
  },
  "language_info": {
   "codemirror_mode": {
    "name": "ipython",
    "version": 3
   },
   "file_extension": ".py",
   "mimetype": "text/x-python",
   "name": "python",
   "nbconvert_exporter": "python",
   "pygments_lexer": "ipython3",
   "version": "3.10.12"
  }
 },
 "nbformat": 4,
 "nbformat_minor": 5
}
