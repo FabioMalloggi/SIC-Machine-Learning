{
 "cells": [
  {
   "cell_type": "markdown",
   "id": "39011127-5ea7-49c4-bc87-1997cd45c93d",
   "metadata": {},
   "source": [
    "## Coding Practice #0617"
   ]
  },
  {
   "cell_type": "code",
   "execution_count": null,
   "id": "624b3372-c39a-4703-9149-2b843b2098ce",
   "metadata": {},
   "outputs": [],
   "source": [
    "import numpy as np\n",
    "import cv2"
   ]
  },
  {
   "cell_type": "markdown",
   "id": "dc60e8ca-11d6-4ab2-b8ab-1a943ec91a96",
   "metadata": {},
   "source": [
    "### 1. Morphological filtering."
   ]
  },
  {
   "cell_type": "markdown",
   "id": "0727c573-6d71-47a8-9d3a-a95150085d5b",
   "metadata": {},
   "source": [
    "#### Open an image in B/W."
   ]
  },
  {
   "cell_type": "code",
   "execution_count": null,
   "id": "3adb8402-f7db-4385-a004-eafe5da0d008",
   "metadata": {},
   "outputs": [],
   "source": [
    "# Open an image in B/W.\n",
    "img = cv2.imread('picture_Texture.jpg', 0)\n",
    "cv2.imshow(\"Texture\", img)\n",
    "cv2.waitKey(0)  # Wait until a key is pressed.\n",
    "cv2.destroyAllWindows()  # Close the open window."
   ]
  },
  {
   "cell_type": "markdown",
   "id": "10edcdad-06d0-4441-b95c-b6c980acf95b",
   "metadata": {},
   "source": [
    "#### 1.1. Erosion and dilation:"
   ]
  },
  {
   "cell_type": "code",
   "execution_count": null,
   "id": "345825f6-5a69-4864-ba9e-f84adada7d2a",
   "metadata": {},
   "outputs": [],
   "source": [
    "# Erosion: Turns white pixels into black ones.\n",
    "# Dilation: Turns black pixels into white ones.\n",
    "kernel = np.ones((5, 5), 'uint8')\n",
    "img_eroded = cv2.erode(img, kernel, iterations=5)  # 'iterations' is adjustable.\n",
    "img_dilated = cv2.dilate(img, kernel, iterations=5)  # 'iterations' is adjustable."
   ]
  },
  {
   "cell_type": "code",
   "execution_count": null,
   "id": "876172b3-14ca-446b-8be9-b11058af5ed4",
   "metadata": {},
   "outputs": [],
   "source": [
    "cv2.imshow(\"Eroded\", img_eroded)\n",
    "cv2.waitKey(0)  # Wait until a key is pressed.\n",
    "cv2.destroyAllWindows()  # Close the open window."
   ]
  },
  {
   "cell_type": "code",
   "execution_count": null,
   "id": "2d8b5ab4-e766-4a78-a99a-8e0dcffd6151",
   "metadata": {},
   "outputs": [],
   "source": [
    "cv2.imshow(\"Dilated\", img_dilated)\n",
    "cv2.waitKey(0)  # Wait until a key is pressed.\n",
    "cv2.destroyAllWindows()  # Close the open window."
   ]
  }
 ],
 "metadata": {
  "kernelspec": {
   "display_name": "Python 3 (ipykernel)",
   "language": "python",
   "name": "python3"
  },
  "language_info": {
   "codemirror_mode": {
    "name": "ipython",
    "version": 3
   },
   "file_extension": ".py",
   "mimetype": "text/x-python",
   "name": "python",
   "nbconvert_exporter": "python",
   "pygments_lexer": "ipython3",
   "version": "3.10.12"
  }
 },
 "nbformat": 4,
 "nbformat_minor": 5
}
