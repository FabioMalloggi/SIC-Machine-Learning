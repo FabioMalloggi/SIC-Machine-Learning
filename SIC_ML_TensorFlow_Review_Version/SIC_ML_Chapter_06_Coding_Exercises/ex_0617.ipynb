{
 "cells": [
  {
   "cell_type": "code",
   "execution_count": null,
   "id": "345825f6-5a69-4864-ba9e-f84adada7d2a",
   "metadata": {},
   "outputs": [],
   "source": [
    "\"\"\"Coding Practice #0617.\"\"\"\n",
    "\n",
    "import numpy as np\n",
    "import cv2\n",
    "\n",
    "# 1. Morphological filtering.\n",
    "# Open an image in B/W.\n",
    "img = cv2.imread('picture_Texture.jpg', 0)\n",
    "cv2.imshow(\"Texture\", img)\n",
    "cv2.waitKey(0)  # Wait until a key is pressed.\n",
    "cv2.destroyAllWindows()  # Close the open window.\n",
    "\n",
    "# 1.1. Erosion and dilation:\n",
    "# Erosion: Turns white pixels into black ones.\n",
    "# Dilation: Turns black pixels into white ones.\n",
    "kernel = np.ones((5, 5), 'uint8')\n",
    "img_eroded = cv2.erode(img, kernel, iterations=5)  # 'iterations' is adjustable.\n",
    "img_dilated = cv2.dilate(img, kernel, iterations=5)  # 'iterations' is adjustable.\n",
    "\n",
    "cv2.imshow(\"Eroded\", img_eroded)\n",
    "cv2.waitKey(0)  # Wait until a key is pressed.\n",
    "cv2.destroyAllWindows()  # Close the open window.\n",
    "\n",
    "cv2.imshow(\"Dilated\", img_dilated)\n",
    "cv2.waitKey(0)  # Wait until a key is pressed.\n",
    "cv2.destroyAllWindows()  # Close the open window.\n"
   ]
  }
 ],
 "metadata": {
  "kernelspec": {
   "display_name": "Python 3 (ipykernel)",
   "language": "python",
   "name": "python3"
  },
  "language_info": {
   "codemirror_mode": {
    "name": "ipython",
    "version": 3
   },
   "file_extension": ".py",
   "mimetype": "text/x-python",
   "name": "python",
   "nbconvert_exporter": "python",
   "pygments_lexer": "ipython3",
   "version": "3.10.12"
  }
 },
 "nbformat": 4,
 "nbformat_minor": 5
}
