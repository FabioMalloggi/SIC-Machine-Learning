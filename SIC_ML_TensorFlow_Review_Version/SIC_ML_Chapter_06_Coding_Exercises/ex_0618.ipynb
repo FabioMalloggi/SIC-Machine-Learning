{
 "cells": [
  {
   "cell_type": "code",
   "execution_count": null,
   "id": "4cb3066b-5e2f-46b7-8aa8-1b02caf65cf0",
   "metadata": {},
   "outputs": [],
   "source": [
    "\"\"\"Coding Practice #0618.\"\"\"\n",
    "\n",
    "import cv2\n",
    "\n",
    "# Open an image in color.\n",
    "img = cv2.imread('picture_LenaSoderberg.jpg')\n",
    "cv2.imshow(\"Lena Soderberg\", img)\n",
    "cv2.waitKey(0)  # Wait until a key is pressed.\n",
    "cv2.destroyAllWindows()  # Close the open window.\n",
    "\n",
    "# 1. Transforming image data.\n",
    "\n",
    "# 1.1. Resizing image.\n",
    "img_half = cv2.resize(img, (0, 0), fx=0.5, fy=0.5)  # (0,0) means relative size.\n",
    "cv2.imshow(\"Smaller Image\", img_half)\n",
    "cv2.waitKey(0)  # Wait until a key is pressed.\n",
    "cv2.destroyAllWindows()  # Close the open window.\n",
    "\n",
    "img_stretch1 = cv2.resize(img, (0, 0), fx=1.2, fy=0.5)\n",
    "cv2.imshow(\"Streatched Image\", img_stretch1)\n",
    "cv2.waitKey(0)  # Wait until a key is pressed.\n",
    "cv2.destroyAllWindows()  # Close the open window.\n",
    "\n",
    "img_stretch2 = cv2.resize(img, (0, 0), fx=0.5, fy=1.2)\n",
    "cv2.imshow(\"Streatched Image\", img_stretch2)\n",
    "cv2.waitKey(0)  # Wait until a key is pressed.\n",
    "cv2.destroyAllWindows()  # Close the open window.\n",
    "\n",
    "# 1.2. Image rotation by affine transformation.\n",
    "height = img.shape[0]\n",
    "width = img.shape[1]\n",
    "\n",
    "rmat = cv2.getRotationMatrix2D(center=(0, 0), angle=-15, scale=1)\n",
    "img_rotated1 = cv2.warpAffine(img, rmat, (width, height))\n",
    "cv2.imshow(\"Rotated Image (centered at the top left corner).\", img_rotated1)\n",
    "cv2.waitKey(0)  # Wait until a key is pressed.\n",
    "cv2.destroyAllWindows()  # Close the open window.\n",
    "\n",
    "rmat = cv2.getRotationMatrix2D(center=(width / 2, height / 2), angle=45, scale=1)\n",
    "img_rotated2 = cv2.warpAffine(img, rmat, (width, height))\n",
    "cv2.imshow(\"Rotated Image\", img_rotated2)\n",
    "cv2.waitKey(0)  # Wait until a key is pressed.\n",
    "cv2.destroyAllWindows()  # Close the open window.\n"
   ]
  }
 ],
 "metadata": {
  "kernelspec": {
   "display_name": "Python 3 (ipykernel)",
   "language": "python",
   "name": "python3"
  },
  "language_info": {
   "codemirror_mode": {
    "name": "ipython",
    "version": 3
   },
   "file_extension": ".py",
   "mimetype": "text/x-python",
   "name": "python",
   "nbconvert_exporter": "python",
   "pygments_lexer": "ipython3",
   "version": "3.10.12"
  }
 },
 "nbformat": 4,
 "nbformat_minor": 5
}
