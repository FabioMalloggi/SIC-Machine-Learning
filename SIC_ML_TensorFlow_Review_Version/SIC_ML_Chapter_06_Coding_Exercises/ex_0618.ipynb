{
 "cells": [
  {
   "cell_type": "markdown",
   "id": "ee0ecf85-ffa9-4ad7-9be6-2c6af3981af4",
   "metadata": {},
   "source": [
    "## Coding Exercise #0618"
   ]
  },
  {
   "cell_type": "code",
   "execution_count": null,
   "id": "36539d2b-ea87-4b40-8646-6c24d0258f5c",
   "metadata": {},
   "outputs": [],
   "source": [
    "import cv2"
   ]
  },
  {
   "cell_type": "markdown",
   "id": "9cef4dba-2bc8-4c8c-b7c7-26245766c7eb",
   "metadata": {},
   "source": [
    "#### Open an image in color."
   ]
  },
  {
   "cell_type": "code",
   "execution_count": null,
   "id": "4e429879-3290-4bae-b84f-85bab9ee7a07",
   "metadata": {},
   "outputs": [],
   "source": [
    "# Open an image in color.\n",
    "img = cv2.imread('picture_LenaSoderberg.jpg')\n",
    "cv2.imshow(\"Lena Soderberg\", img)\n",
    "cv2.waitKey(0)  # Wait until a key is pressed.\n",
    "cv2.destroyAllWindows()  # Close the open window."
   ]
  },
  {
   "cell_type": "markdown",
   "id": "57a376c6-6058-42d7-8629-3335e9359bb3",
   "metadata": {},
   "source": [
    "### 1. Transforming image data."
   ]
  },
  {
   "cell_type": "markdown",
   "id": "fca1c25f-5c35-4dae-8e72-63f5aabe8edc",
   "metadata": {},
   "source": [
    "#### 1.1. Resizing image."
   ]
  },
  {
   "cell_type": "code",
   "execution_count": null,
   "id": "e42bf386-f180-4f5e-bc96-348a02c528b7",
   "metadata": {},
   "outputs": [],
   "source": [
    "img_half = cv2.resize(img, (0, 0), fx=0.5, fy=0.5)  # (0,0) means relative size.\n",
    "cv2.imshow(\"Smaller Image\", img_half)\n",
    "cv2.waitKey(0)  # Wait until a key is pressed.\n",
    "cv2.destroyAllWindows()  # Close the open window."
   ]
  },
  {
   "cell_type": "code",
   "execution_count": null,
   "id": "8dc665b9-e475-4b4b-9f47-54dd635bd8d0",
   "metadata": {},
   "outputs": [],
   "source": [
    "img_stretch1 = cv2.resize(img, (0, 0), fx=1.2, fy=0.5)\n",
    "cv2.imshow(\"Streatched Image\", img_stretch1)\n",
    "cv2.waitKey(0)  # Wait until a key is pressed.\n",
    "cv2.destroyAllWindows()  # Close the open window."
   ]
  },
  {
   "cell_type": "code",
   "execution_count": null,
   "id": "04e5d062-c21e-4c03-ab70-c799ba2155ca",
   "metadata": {},
   "outputs": [],
   "source": [
    "img_stretch2 = cv2.resize(img, (0, 0), fx=0.5, fy=1.2)\n",
    "cv2.imshow(\"Streatched Image\", img_stretch2)\n",
    "cv2.waitKey(0)  # Wait until a key is pressed.\n",
    "cv2.destroyAllWindows()  # Close the open window."
   ]
  },
  {
   "cell_type": "markdown",
   "id": "eb166bf7-156d-445b-8998-eab90413f799",
   "metadata": {},
   "source": [
    "#### 1.2. Image rotation by affine transformation."
   ]
  },
  {
   "cell_type": "code",
   "execution_count": null,
   "id": "4cbb1266-ee53-41d6-8d47-d6775dafba91",
   "metadata": {},
   "outputs": [],
   "source": [
    "height = img.shape[0]\n",
    "width = img.shape[1]"
   ]
  },
  {
   "cell_type": "code",
   "execution_count": null,
   "id": "4cb3066b-5e2f-46b7-8aa8-1b02caf65cf0",
   "metadata": {},
   "outputs": [],
   "source": [
    "rmat = cv2.getRotationMatrix2D(center=(0, 0), angle=-15, scale=1)\n",
    "img_rotated1 = cv2.warpAffine(img, rmat, (width, height))\n",
    "cv2.imshow(\"Rotated Image (centered at the top left corner).\", img_rotated1)\n",
    "cv2.waitKey(0)  # Wait until a key is pressed.\n",
    "cv2.destroyAllWindows()  # Close the open window."
   ]
  },
  {
   "cell_type": "code",
   "execution_count": null,
   "id": "469077b9-7521-40c7-86c9-adfd586a0e7c",
   "metadata": {},
   "outputs": [],
   "source": [
    "rmat = cv2.getRotationMatrix2D(center=(width / 2, height / 2), angle=45, scale=1)\n",
    "img_rotated2 = cv2.warpAffine(img, rmat, (width, height))\n",
    "cv2.imshow(\"Rotated Image\", img_rotated2)\n",
    "cv2.waitKey(0)  # Wait until a key is pressed.\n",
    "cv2.destroyAllWindows()  # Close the open window."
   ]
  }
 ],
 "metadata": {
  "kernelspec": {
   "display_name": "Python 3 (ipykernel)",
   "language": "python",
   "name": "python3"
  },
  "language_info": {
   "codemirror_mode": {
    "name": "ipython",
    "version": 3
   },
   "file_extension": ".py",
   "mimetype": "text/x-python",
   "name": "python",
   "nbconvert_exporter": "python",
   "pygments_lexer": "ipython3",
   "version": "3.10.12"
  }
 },
 "nbformat": 4,
 "nbformat_minor": 5
}
