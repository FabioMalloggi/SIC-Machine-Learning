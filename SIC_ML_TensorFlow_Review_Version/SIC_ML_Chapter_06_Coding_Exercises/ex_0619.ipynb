{
 "cells": [
  {
   "cell_type": "markdown",
   "id": "6ad4c783-2620-45ec-ac7d-74014e1ae311",
   "metadata": {},
   "source": [
    "## Coding Exercise #0619"
   ]
  },
  {
   "cell_type": "code",
   "execution_count": null,
   "id": "4b5390ca-ce2f-4b5c-9947-8f5c60a3894c",
   "metadata": {},
   "outputs": [],
   "source": [
    "import cv2"
   ]
  },
  {
   "cell_type": "markdown",
   "id": "932a8d5d-d07e-45a5-8cf8-58912690f370",
   "metadata": {},
   "source": [
    "#### Open an image B/W."
   ]
  },
  {
   "cell_type": "code",
   "execution_count": null,
   "id": "bd2f76dc-3b34-446a-9c4f-3913d06c1e1b",
   "metadata": {},
   "outputs": [],
   "source": [
    "img = cv2.imread('picture_LenaSoderberg.jpg', 0)"
   ]
  },
  {
   "cell_type": "markdown",
   "id": "b1095177-5084-4994-a7a8-e27fabdee12b",
   "metadata": {},
   "source": [
    "### 1. Thresholding."
   ]
  },
  {
   "cell_type": "markdown",
   "id": "a412d5fe-965c-4e86-96c7-6cfb63ca2475",
   "metadata": {},
   "source": [
    "#### 1.1. Binary thresholding."
   ]
  },
  {
   "cell_type": "code",
   "execution_count": null,
   "id": "9fd194fb-b35a-4fb1-b036-85ccc3a7d512",
   "metadata": {},
   "outputs": [],
   "source": [
    "threshold_val = 80\n",
    "max_val = 255  # Maximum value.\n",
    "_, img_bin = cv2.threshold(img, threshold_val, max_val, cv2.THRESH_BINARY)\n",
    "cv2.imshow(\"Lena Soderberg Binary Thresholding\", img_bin)\n",
    "cv2.waitKey(0)  # Wait until a key is pressed.\n",
    "cv2.destroyAllWindows()  # Close the open window."
   ]
  },
  {
   "cell_type": "markdown",
   "id": "eed31da6-13f3-497e-8ed3-342757899457",
   "metadata": {},
   "source": [
    "#### 1.2. Adaptive thresholding."
   ]
  },
  {
   "cell_type": "code",
   "execution_count": null,
   "id": "ecc2fa70-7287-4f80-af09-77daf96fd1de",
   "metadata": {},
   "outputs": [],
   "source": [
    "max_val = 255  # Maximum value.\n",
    "block_size = 55  # Block size considered for calculating the threshold value. Has to be an odd number.\n",
    "mean_reference = 0  # Constant subtracted form the local mean (threshold).\n",
    "img_adapt = cv2.adaptiveThreshold(img, max_val, cv2.ADAPTIVE_THRESH_GAUSSIAN_C, cv2.THRESH_BINARY, block_size, mean_reference)\n",
    "cv2.imshow(\"Lena Soderberg Adaptive Thresholding\", img_adapt)\n",
    "cv2.waitKey(0)  # Wait until a key is pressed.\n",
    "cv2.destroyAllWindows()  # Close the open window."
   ]
  }
 ],
 "metadata": {
  "kernelspec": {
   "display_name": "Python 3 (ipykernel)",
   "language": "python",
   "name": "python3"
  },
  "language_info": {
   "codemirror_mode": {
    "name": "ipython",
    "version": 3
   },
   "file_extension": ".py",
   "mimetype": "text/x-python",
   "name": "python",
   "nbconvert_exporter": "python",
   "pygments_lexer": "ipython3",
   "version": "3.10.12"
  }
 },
 "nbformat": 4,
 "nbformat_minor": 5
}
