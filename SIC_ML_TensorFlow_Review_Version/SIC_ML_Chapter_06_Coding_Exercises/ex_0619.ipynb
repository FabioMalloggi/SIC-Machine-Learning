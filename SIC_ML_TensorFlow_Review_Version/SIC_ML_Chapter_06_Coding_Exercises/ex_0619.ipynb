{
 "cells": [
  {
   "cell_type": "code",
   "execution_count": null,
   "id": "ecc2fa70-7287-4f80-af09-77daf96fd1de",
   "metadata": {},
   "outputs": [],
   "source": [
    "\"\"\"Coding Practice #0619.\"\"\"\n",
    "\n",
    "import cv2\n",
    "\n",
    "# Open an image B/W.\n",
    "img = cv2.imread('picture_LenaSoderberg.jpg', 0)\n",
    "\n",
    "# 1. Thresholding.\n",
    "\n",
    "# 1.1. Binary thresholding.\n",
    "threshold_val = 80\n",
    "max_val = 255  # Maximum value.\n",
    "_, img_bin = cv2.threshold(img, threshold_val, max_val, cv2.THRESH_BINARY)\n",
    "cv2.imshow(\"Lena Soderberg Binary Thresholding\", img_bin)\n",
    "cv2.waitKey(0)  # Wait until a key is pressed.\n",
    "cv2.destroyAllWindows()  # Close the open window.\n",
    "\n",
    "# 1.2. Adaptive thresholding.\n",
    "max_val = 255  # Maximum value.\n",
    "block_size = 55  # Block size considered for calculating the threshold value. Has to be an odd number.\n",
    "mean_reference = 0  # Constant subtracted form the local mean (threshold).\n",
    "img_adapt = cv2.adaptiveThreshold(img, max_val, cv2.ADAPTIVE_THRESH_GAUSSIAN_C, cv2.THRESH_BINARY, block_size, mean_reference)\n",
    "cv2.imshow(\"Lena Soderberg Adaptive Thresholding\", img_adapt)\n",
    "cv2.waitKey(0)  # Wait until a key is pressed.\n",
    "cv2.destroyAllWindows()  # Close the open window.\n"
   ]
  }
 ],
 "metadata": {
  "kernelspec": {
   "display_name": "Python 3 (ipykernel)",
   "language": "python",
   "name": "python3"
  },
  "language_info": {
   "codemirror_mode": {
    "name": "ipython",
    "version": 3
   },
   "file_extension": ".py",
   "mimetype": "text/x-python",
   "name": "python",
   "nbconvert_exporter": "python",
   "pygments_lexer": "ipython3",
   "version": "3.10.12"
  }
 },
 "nbformat": 4,
 "nbformat_minor": 5
}
