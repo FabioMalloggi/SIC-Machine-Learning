{
 "cells": [
  {
   "cell_type": "markdown",
   "id": "f610e185-b839-442c-a9bb-fc6a22ca313a",
   "metadata": {},
   "source": [
    "## Coding Practice #0615"
   ]
  },
  {
   "cell_type": "code",
   "execution_count": null,
   "id": "27ce6d4e-acb0-4e82-89c3-9bf0cf35ab3a",
   "metadata": {},
   "outputs": [],
   "source": [
    "import cv2"
   ]
  },
  {
   "cell_type": "markdown",
   "id": "079e8c56-e6f0-46ea-afb6-4f1f9a0cb073",
   "metadata": {},
   "source": [
    "## 1. Working with image data:"
   ]
  },
  {
   "cell_type": "markdown",
   "id": "426a5edb-e720-47cf-83d5-36f169ec2182",
   "metadata": {},
   "source": [
    "#### 1.1. Open an image in color (BGR) and show it."
   ]
  },
  {
   "cell_type": "code",
   "execution_count": null,
   "id": "5271965a-c10d-4690-a77a-b06f939ae0e5",
   "metadata": {},
   "outputs": [],
   "source": [
    "img_bgr = cv2.imread('picture_Butterfly.jpg', 1)  # Open as a color image.\n",
    "print(\"Shape of the image read in color : \", img_bgr.shape)  # Height, width, channel."
   ]
  },
  {
   "cell_type": "code",
   "execution_count": null,
   "id": "339bbe61-776c-4be7-8fd2-6d50710ef7de",
   "metadata": {},
   "outputs": [],
   "source": [
    "cv2.imshow(\"A Color Image\", img_bgr)\n",
    "cv2.waitKey(0)  # Wait until a key is pressed.\n",
    "cv2.destroyAllWindows()  # Close the open window."
   ]
  },
  {
   "cell_type": "markdown",
   "id": "f85917b3-c6b6-4340-8f23-fbfff205c4ed",
   "metadata": {},
   "source": [
    "#### 1.2. Convert to B/W (gray scale) and show it."
   ]
  },
  {
   "cell_type": "code",
   "execution_count": null,
   "id": "6da0c9e9-e706-4cc1-88f6-a6c20cd6599a",
   "metadata": {},
   "outputs": [],
   "source": [
    "img_gray = cv2.cvtColor(img_bgr, cv2.COLOR_BGR2GRAY)\n",
    "\n",
    "cv2.imshow(\"In Gray Scale\", img_gray)\n",
    "cv2.waitKey(0)  # Wait until a key is pressed.\n",
    "cv2.destroyAllWindows()  # Close the open window."
   ]
  },
  {
   "cell_type": "markdown",
   "id": "a9def7f0-bea2-4f48-b701-396ebde65586",
   "metadata": {},
   "source": [
    "#### 1.3. Convert to HSV and split the channels: Hue, Saturation, Value."
   ]
  },
  {
   "cell_type": "code",
   "execution_count": null,
   "id": "c4a04798-7663-4d69-8376-793ec6b0922a",
   "metadata": {},
   "outputs": [],
   "source": [
    "img_hsv = cv2.cvtColor(img_bgr, cv2.COLOR_BGR2HSV)\n",
    "h = img_hsv[:, :, 0]\n",
    "s = img_hsv[:, :, 1]\n",
    "v = img_hsv[:, :, 2]"
   ]
  },
  {
   "cell_type": "code",
   "execution_count": null,
   "id": "22fd6ead-e925-4666-843e-b7ed39a17412",
   "metadata": {},
   "outputs": [],
   "source": [
    "hue = cv2.merge([h, h, h])\n",
    "sat = cv2.merge([s, s, s])\n",
    "val = cv2.merge([v, v, v])"
   ]
  },
  {
   "cell_type": "code",
   "execution_count": null,
   "id": "6df80eb8-3f52-442c-b8f9-152a06ddcca2",
   "metadata": {},
   "outputs": [],
   "source": [
    "cv2.imshow(\"The Hue Channel\", hue)\n",
    "cv2.waitKey(0)  # Wait until a key is pressed.\n",
    "cv2.destroyAllWindows()  # Close the open window."
   ]
  },
  {
   "cell_type": "code",
   "execution_count": null,
   "id": "94ac9c12-f4e1-4d33-bb55-a935909b4314",
   "metadata": {},
   "outputs": [],
   "source": [
    "cv2.imshow(\"The Saturation Channel\", sat)\n",
    "cv2.waitKey(0)  # Wait until a key is pressed.\n",
    "cv2.destroyAllWindows()  # Close the open window."
   ]
  },
  {
   "cell_type": "code",
   "execution_count": null,
   "id": "8a1176a2-6e8b-4bec-90ce-85540143eda4",
   "metadata": {},
   "outputs": [],
   "source": [
    "cv2.imshow(\"The Value Channel\", val)\n",
    "cv2.waitKey(0)  # Wait until a key is pressed.\n",
    "cv2.destroyAllWindows()  # Close the open window."
   ]
  }
 ],
 "metadata": {
  "kernelspec": {
   "display_name": "Python 3 (ipykernel)",
   "language": "python",
   "name": "python3"
  },
  "language_info": {
   "codemirror_mode": {
    "name": "ipython",
    "version": 3
   },
   "file_extension": ".py",
   "mimetype": "text/x-python",
   "name": "python",
   "nbconvert_exporter": "python",
   "pygments_lexer": "ipython3",
   "version": "3.10.12"
  }
 },
 "nbformat": 4,
 "nbformat_minor": 5
}
