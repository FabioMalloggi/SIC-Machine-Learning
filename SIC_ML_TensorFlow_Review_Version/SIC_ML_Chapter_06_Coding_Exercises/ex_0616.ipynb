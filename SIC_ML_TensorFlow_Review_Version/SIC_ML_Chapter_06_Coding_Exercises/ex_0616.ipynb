{
 "cells": [
  {
   "cell_type": "markdown",
   "id": "7eafca46-b6fa-4abe-a29a-9007d7d300bc",
   "metadata": {},
   "source": [
    "## Coding Practice #0616"
   ]
  },
  {
   "cell_type": "code",
   "execution_count": null,
   "id": "6728b63c-fb7f-4d90-aa56-2bdf1076dad0",
   "metadata": {},
   "outputs": [],
   "source": [
    "import numpy as np\n",
    "import cv2"
   ]
  },
  {
   "cell_type": "markdown",
   "id": "a03b30c2-f5c2-4475-b3ae-d28582dda661",
   "metadata": {},
   "source": [
    "### 1. Convolutional filtering."
   ]
  },
  {
   "cell_type": "markdown",
   "id": "fc0016be-637b-494c-be67-dfa980617060",
   "metadata": {},
   "source": [
    "#### Open an image in B/W (Gray scale) and show it."
   ]
  },
  {
   "cell_type": "code",
   "execution_count": null,
   "id": "28848e53-7d24-4efc-96e9-f692bc095bbb",
   "metadata": {},
   "outputs": [],
   "source": [
    "img = cv2.imread('picture_LenaSoderberg_small.jpg', 0)  # Open as a B/W image.\n",
    "cv2.imshow(\"In Gray Scale\", img)\n",
    "cv2.waitKey(0)  # Wait until a key is pressed.\n",
    "cv2.destroyAllWindows()  # Close the open window."
   ]
  },
  {
   "cell_type": "markdown",
   "id": "2763cb15-f54f-498c-9c34-224fd694d7ff",
   "metadata": {},
   "source": [
    "#### 1.1. Applying the Gaussian blur kernel."
   ]
  },
  {
   "cell_type": "code",
   "execution_count": null,
   "id": "9af32fc0-a7d9-4f38-95fc-5509f1cac769",
   "metadata": {},
   "outputs": [],
   "source": [
    "img_blurred = cv2.GaussianBlur(img, ksize=(5, 5), sigmaX=10, sigmaY=10)\n",
    "cv2.imshow(\"Blurred\", img_blurred)\n",
    "cv2.waitKey(0)  # Wait until a key is pressed.\n",
    "cv2.destroyAllWindows()  # Close the open window."
   ]
  },
  {
   "cell_type": "markdown",
   "id": "fa8ab632-3441-4af9-86d5-e22912afce5c",
   "metadata": {},
   "source": [
    "#### 1.2. Applying the Sharpening kernel."
   ]
  },
  {
   "cell_type": "code",
   "execution_count": null,
   "id": "45f39f90-b93c-4953-a302-3dad6d328ed0",
   "metadata": {},
   "outputs": [],
   "source": [
    "kernel_sharp = np.array([[0, -1, 0], [-1, 5, -1], [0, -1, 0]])\n",
    "img_sharp = cv2.filter2D(img, ddepth=-1, kernel=kernel_sharp)  # ddepth = -1 => the destination has the same depth as the source image.\n",
    "cv2.imshow(\"Sharpened\", img_sharp)\n",
    "cv2.waitKey(0)  # Wait until a key is pressed.\n",
    "cv2.destroyAllWindows()  # Close the open window."
   ]
  },
  {
   "cell_type": "markdown",
   "id": "ef162952-380c-4cae-9724-27b481119ab0",
   "metadata": {},
   "source": [
    "#### 1.3. Applying the Outline kernel #1"
   ]
  },
  {
   "cell_type": "code",
   "execution_count": null,
   "id": "2c6d0e46-fdcb-420c-a676-f6362ed9c90c",
   "metadata": {},
   "outputs": [],
   "source": [
    "kernel_outline1 = np.array([[-1, -1, -1], [-1, 8, -1], [-1, -1, -1]])\n",
    "img_outlined1 = cv2.filter2D(img, ddepth=-1, kernel=kernel_outline1)  # ddepth = -1 => the destination has the same depth as the source image.\n",
    "cv2.imshow(\"Outlined #1\", img_outlined1)\n",
    "cv2.waitKey(0)  # Wait until a key is pressed.\n",
    "cv2.destroyAllWindows()  # Close the open window."
   ]
  },
  {
   "cell_type": "markdown",
   "id": "a35b42e3-51bd-49a0-be18-ab599c368c60",
   "metadata": {},
   "source": [
    "#### 1.4. Applying the Outline kernel #2."
   ]
  },
  {
   "cell_type": "code",
   "execution_count": null,
   "id": "2fcb1133-77cc-4c99-9bd4-9505e3aee2db",
   "metadata": {},
   "outputs": [],
   "source": [
    "kernel_outline2 = np.array([[0, 1, 0], [1, -4, 1], [0, 1, 0]])\n",
    "img_outlined2 = cv2.filter2D(img, ddepth=-1, kernel=kernel_outline2)  # ddepth = -1 => the destination has the same depth as the source image.\n",
    "cv2.imshow(\"Outlined #2\", img_outlined2)\n",
    "cv2.waitKey(0)  # Wait until a key is pressed.\n",
    "cv2.destroyAllWindows()  # Close the open window."
   ]
  }
 ],
 "metadata": {
  "kernelspec": {
   "display_name": "Python 3 (ipykernel)",
   "language": "python",
   "name": "python3"
  },
  "language_info": {
   "codemirror_mode": {
    "name": "ipython",
    "version": 3
   },
   "file_extension": ".py",
   "mimetype": "text/x-python",
   "name": "python",
   "nbconvert_exporter": "python",
   "pygments_lexer": "ipython3",
   "version": "3.10.12"
  }
 },
 "nbformat": 4,
 "nbformat_minor": 5
}
