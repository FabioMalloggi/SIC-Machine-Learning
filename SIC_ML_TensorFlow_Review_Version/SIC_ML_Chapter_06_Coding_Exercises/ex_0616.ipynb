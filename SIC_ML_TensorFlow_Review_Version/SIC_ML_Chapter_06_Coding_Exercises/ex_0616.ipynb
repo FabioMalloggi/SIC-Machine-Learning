{
 "cells": [
  {
   "cell_type": "code",
   "execution_count": null,
   "id": "2c6d0e46-fdcb-420c-a676-f6362ed9c90c",
   "metadata": {},
   "outputs": [],
   "source": [
    "\"\"\"Coding Practice #0616.\"\"\"\n",
    "\n",
    "import numpy as np\n",
    "import cv2\n",
    "\n",
    "# 1. Convolutional filtering.\n",
    "# Open an image in B/W (Gray scale) and show it.\n",
    "img = cv2.imread('picture_LenaSoderberg_small.jpg', 0)  # Open as a B/W image.\n",
    "cv2.imshow(\"In Gray Scale\", img)\n",
    "cv2.waitKey(0)  # Wait until a key is pressed.\n",
    "cv2.destroyAllWindows()  # Close the open window.\n",
    "\n",
    "# 1.1. Applying the Gaussian blur kernel.\n",
    "img_blurred = cv2.GaussianBlur(img, ksize=(5, 5), sigmaX=10, sigmaY=10)\n",
    "cv2.imshow(\"Blurred\", img_blurred)\n",
    "cv2.waitKey(0)  # Wait until a key is pressed.\n",
    "cv2.destroyAllWindows()  # Close the open window.\n",
    "\n",
    "# 1.2. Applying the Sharpening kernel.\n",
    "kernel_sharp = np.array([[0, -1, 0], [-1, 5, -1], [0, -1, 0]])\n",
    "img_sharp = cv2.filter2D(img, ddepth=-1, kernel=kernel_sharp)  # ddepth = -1 => the destination has the same depth as the source image.\n",
    "cv2.imshow(\"Sharpened\", img_sharp)\n",
    "cv2.waitKey(0)  # Wait until a key is pressed.\n",
    "cv2.destroyAllWindows()  # Close the open window.\n",
    "\n",
    "# 1.3. Applying the Outline kernel #1.\n",
    "kernel_outline1 = np.array([[-1, -1, -1], [-1, 8, -1], [-1, -1, -1]])\n",
    "img_outlined1 = cv2.filter2D(img, ddepth=-1, kernel=kernel_outline1)  # ddepth = -1 => the destination has the same depth as the source image.\n",
    "cv2.imshow(\"Outlined #1\", img_outlined1)\n",
    "cv2.waitKey(0)  # Wait until a key is pressed.\n",
    "cv2.destroyAllWindows()  # Close the open window.\n",
    "\n",
    "# 1.4. Applying the Outline kernel #2.\n",
    "kernel_outline2 = np.array([[0, 1, 0], [1, -4, 1], [0, 1, 0]])\n",
    "img_outlined2 = cv2.filter2D(img, ddepth=-1, kernel=kernel_outline2)  # ddepth = -1 => the destination has the same depth as the source image.\n",
    "cv2.imshow(\"Outlined #2\", img_outlined2)\n",
    "cv2.waitKey(0)  # Wait until a key is pressed.\n",
    "cv2.destroyAllWindows()  # Close the open window.\n"
   ]
  }
 ],
 "metadata": {
  "kernelspec": {
   "display_name": "Python 3 (ipykernel)",
   "language": "python",
   "name": "python3"
  },
  "language_info": {
   "codemirror_mode": {
    "name": "ipython",
    "version": 3
   },
   "file_extension": ".py",
   "mimetype": "text/x-python",
   "name": "python",
   "nbconvert_exporter": "python",
   "pygments_lexer": "ipython3",
   "version": "3.10.12"
  }
 },
 "nbformat": 4,
 "nbformat_minor": 5
}
