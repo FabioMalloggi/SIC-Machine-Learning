{
 "cells": [
  {
   "cell_type": "markdown",
   "metadata": {
    "id": "l-8BUvC5sP3C"
   },
   "source": [
    "# Malloggi-Vigna SEAI Project - Project Test Base\n",
    "\n"
   ]
  },
  {
   "cell_type": "code",
   "execution_count": 18,
   "metadata": {
    "colab": {
     "base_uri": "https://localhost:8080/"
    },
    "executionInfo": {
     "elapsed": 244,
     "status": "ok",
     "timestamp": 1717689166922,
     "user": {
      "displayName": "Fabio M",
      "userId": "09614366475601969276"
     },
     "user_tz": -120
    },
    "id": "Wma6P1HzxARc",
    "outputId": "7ede70b7-75ee-4613-91c2-9ed0fd24f002"
   },
   "outputs": [
    {
     "name": "stdout",
     "output_type": "stream",
     "text": [
      "nvcc: NVIDIA (R) Cuda compiler driver\n",
      "Copyright (c) 2005-2024 NVIDIA Corporation\n",
      "Built on Thu_Mar_28_02:18:24_PDT_2024\n",
      "Cuda compilation tools, release 12.4, V12.4.131\n",
      "Build cuda_12.4.r12.4/compiler.34097967_0\n"
     ]
    },
    {
     "name": "stderr",
     "output_type": "stream",
     "text": [
      "/usr/lib/python3.10/pty.py:89: RuntimeWarning: os.fork() was called. os.fork() is incompatible with multithreaded code, and JAX is multithreaded, so this will likely lead to a deadlock.\n",
      "  pid, fd = os.forkpty()\n"
     ]
    }
   ],
   "source": [
    "!nvcc  --version"
   ]
  },
  {
   "cell_type": "markdown",
   "metadata": {
    "id": "uDdeEXXYGpjn",
    "jp-MarkdownHeadingCollapsed": true
   },
   "source": [
    "## Colab (ONLY) Environment Setup"
   ]
  },
  {
   "cell_type": "markdown",
   "metadata": {
    "id": "7e8E0JtFeD51"
   },
   "source": [
    "reference:\n",
    "https://keras.io/getting_started/\n",
    "\n",
    "Aim of this project:\n",
    "- Keras 3\n",
    "- Tensorflow 2.16.1 (only one compatible with Keras3)\n",
    "\n",
    "Colab preinstalled packages:\n",
    "- Keras 2\n",
    "- Tensorflow 2.15.0\n",
    "- tf-keras 2.15.1 (previous keras version which was defined as tensorflow sub-package)\n",
    "\n",
    "Therefore we need to update Tensorflow to the latest version available.\n",
    "\n",
    "\n",
    "---\n",
    "reference: https://github.com/keras-team/tf-keras\n",
    "\n",
    "TF-Keras: the pure-TensorFlow implementation of Keras\n",
    "This repository hosts the development of the TF-Keras library. It is a pure TensorFlow implementation of Keras, based on the legacy tf.keras codebase.\n",
    "\n",
    "Note that the \"main\" version of Keras is now Keras 3 (formerly Keras Core), which is a multi-backend implementation of Keras, supporting JAX, PyTorch, and TensorFlow. Keras 3 is being developed at keras-team/keras."
   ]
  },
  {
   "cell_type": "code",
   "execution_count": 19,
   "metadata": {
    "colab": {
     "base_uri": "https://localhost:8080/"
    },
    "executionInfo": {
     "elapsed": 84525,
     "status": "ok",
     "timestamp": 1717689254911,
     "user": {
      "displayName": "Fabio M",
      "userId": "09614366475601969276"
     },
     "user_tz": -120
    },
    "id": "lrGR7Un46UM_",
    "outputId": "a0d06f45-7747-40e3-aed0-2b35aa50b6c9"
   },
   "outputs": [
    {
     "name": "stdout",
     "output_type": "stream",
     "text": [
      "Found existing installation: tensorflow 2.16.1\n",
      "Uninstalling tensorflow-2.16.1:\n",
      "  Successfully uninstalled tensorflow-2.16.1\n",
      "Found existing installation: keras 3.3.3\n",
      "Uninstalling keras-3.3.3:\n",
      "  Successfully uninstalled keras-3.3.3\n",
      "\u001b[33mWARNING: Skipping tf-keras as it is not installed.\u001b[0m\u001b[33m\n",
      "\u001b[0mDefaulting to user installation because normal site-packages is not writeable\n",
      "Collecting tensorflow\n",
      "  Downloading tensorflow-2.16.1-cp310-cp310-manylinux_2_17_x86_64.manylinux2014_x86_64.whl.metadata (4.3 kB)\n",
      "Requirement already satisfied: absl-py>=1.0.0 in ./.local/lib/python3.10/site-packages (from tensorflow) (2.1.0)\n",
      "Requirement already satisfied: astunparse>=1.6.0 in ./.local/lib/python3.10/site-packages (from tensorflow) (1.6.3)\n",
      "Requirement already satisfied: flatbuffers>=23.5.26 in ./.local/lib/python3.10/site-packages (from tensorflow) (24.3.25)\n",
      "Requirement already satisfied: gast!=0.5.0,!=0.5.1,!=0.5.2,>=0.2.1 in ./.local/lib/python3.10/site-packages (from tensorflow) (0.5.4)\n",
      "Requirement already satisfied: google-pasta>=0.1.1 in ./.local/lib/python3.10/site-packages (from tensorflow) (0.2.0)\n",
      "Requirement already satisfied: h5py>=3.10.0 in ./.local/lib/python3.10/site-packages (from tensorflow) (3.11.0)\n",
      "Requirement already satisfied: libclang>=13.0.0 in ./.local/lib/python3.10/site-packages (from tensorflow) (18.1.1)\n",
      "Requirement already satisfied: ml-dtypes~=0.3.1 in ./.local/lib/python3.10/site-packages (from tensorflow) (0.3.2)\n",
      "Requirement already satisfied: opt-einsum>=2.3.2 in ./.local/lib/python3.10/site-packages (from tensorflow) (3.3.0)\n",
      "Requirement already satisfied: packaging in ./.local/lib/python3.10/site-packages (from tensorflow) (24.0)\n",
      "Requirement already satisfied: protobuf!=4.21.0,!=4.21.1,!=4.21.2,!=4.21.3,!=4.21.4,!=4.21.5,<5.0.0dev,>=3.20.3 in ./.local/lib/python3.10/site-packages (from tensorflow) (3.20.3)\n",
      "Requirement already satisfied: requests<3,>=2.21.0 in ./.local/lib/python3.10/site-packages (from tensorflow) (2.31.0)\n",
      "Requirement already satisfied: setuptools in /usr/lib/python3/dist-packages (from tensorflow) (59.6.0)\n",
      "Requirement already satisfied: six>=1.12.0 in ./.local/lib/python3.10/site-packages (from tensorflow) (1.16.0)\n",
      "Requirement already satisfied: termcolor>=1.1.0 in ./.local/lib/python3.10/site-packages (from tensorflow) (2.4.0)\n",
      "Requirement already satisfied: typing-extensions>=3.6.6 in ./.local/lib/python3.10/site-packages (from tensorflow) (4.11.0)\n",
      "Requirement already satisfied: wrapt>=1.11.0 in ./.local/lib/python3.10/site-packages (from tensorflow) (1.16.0)\n",
      "Requirement already satisfied: grpcio<2.0,>=1.24.3 in ./.local/lib/python3.10/site-packages (from tensorflow) (1.63.0)\n",
      "Requirement already satisfied: tensorboard<2.17,>=2.16 in ./.local/lib/python3.10/site-packages (from tensorflow) (2.16.2)\n",
      "Collecting keras>=3.0.0 (from tensorflow)\n",
      "  Downloading keras-3.3.3-py3-none-any.whl.metadata (5.7 kB)\n",
      "Requirement already satisfied: tensorflow-io-gcs-filesystem>=0.23.1 in ./.local/lib/python3.10/site-packages (from tensorflow) (0.37.0)\n",
      "Requirement already satisfied: numpy<2.0.0,>=1.23.5 in ./.local/lib/python3.10/site-packages (from tensorflow) (1.26.3)\n",
      "Requirement already satisfied: wheel<1.0,>=0.23.0 in /usr/lib/python3/dist-packages (from astunparse>=1.6.0->tensorflow) (0.37.1)\n",
      "Requirement already satisfied: rich in ./.local/lib/python3.10/site-packages (from keras>=3.0.0->tensorflow) (13.7.1)\n",
      "Requirement already satisfied: namex in ./.local/lib/python3.10/site-packages (from keras>=3.0.0->tensorflow) (0.0.8)\n",
      "Requirement already satisfied: optree in ./.local/lib/python3.10/site-packages (from keras>=3.0.0->tensorflow) (0.11.0)\n",
      "Requirement already satisfied: charset-normalizer<4,>=2 in ./.local/lib/python3.10/site-packages (from requests<3,>=2.21.0->tensorflow) (3.3.2)\n",
      "Requirement already satisfied: idna<4,>=2.5 in ./.local/lib/python3.10/site-packages (from requests<3,>=2.21.0->tensorflow) (3.7)\n",
      "Requirement already satisfied: urllib3<3,>=1.21.1 in ./.local/lib/python3.10/site-packages (from requests<3,>=2.21.0->tensorflow) (2.2.1)\n",
      "Requirement already satisfied: certifi>=2017.4.17 in ./.local/lib/python3.10/site-packages (from requests<3,>=2.21.0->tensorflow) (2024.2.2)\n",
      "Requirement already satisfied: markdown>=2.6.8 in ./.local/lib/python3.10/site-packages (from tensorboard<2.17,>=2.16->tensorflow) (3.6)\n",
      "Requirement already satisfied: tensorboard-data-server<0.8.0,>=0.7.0 in ./.local/lib/python3.10/site-packages (from tensorboard<2.17,>=2.16->tensorflow) (0.7.2)\n",
      "Requirement already satisfied: werkzeug>=1.0.1 in ./.local/lib/python3.10/site-packages (from tensorboard<2.17,>=2.16->tensorflow) (3.0.3)\n",
      "Requirement already satisfied: MarkupSafe>=2.1.1 in ./.local/lib/python3.10/site-packages (from werkzeug>=1.0.1->tensorboard<2.17,>=2.16->tensorflow) (2.1.5)\n",
      "Requirement already satisfied: markdown-it-py>=2.2.0 in ./.local/lib/python3.10/site-packages (from rich->keras>=3.0.0->tensorflow) (3.0.0)\n",
      "Requirement already satisfied: pygments<3.0.0,>=2.13.0 in ./.local/lib/python3.10/site-packages (from rich->keras>=3.0.0->tensorflow) (2.18.0)\n",
      "Requirement already satisfied: mdurl~=0.1 in ./.local/lib/python3.10/site-packages (from markdown-it-py>=2.2.0->rich->keras>=3.0.0->tensorflow) (0.1.2)\n",
      "Downloading tensorflow-2.16.1-cp310-cp310-manylinux_2_17_x86_64.manylinux2014_x86_64.whl (589.8 MB)\n",
      "\u001b[2K   \u001b[91m━━━━━━━━━━━━━━━━━━━━━━━━━━━━\u001b[0m\u001b[91m╸\u001b[0m\u001b[90m━━━━━━━━━━━\u001b[0m \u001b[32m422.8/589.8 MB\u001b[0m \u001b[31m6.4 MB/s\u001b[0m eta \u001b[36m0:00:26\u001b[0m^C\n",
      "\u001b[2K   \u001b[91m━━━━━━━━━━━━━━━━━━━━━━━━━━━━\u001b[0m\u001b[91m╸\u001b[0m\u001b[90m━━━━━━━━━━━\u001b[0m \u001b[32m422.9/589.8 MB\u001b[0m \u001b[31m6.4 MB/s\u001b[0m eta \u001b[36m0:00:26\u001b[0m\n",
      "\u001b[?25h\u001b[31mERROR: Operation cancelled by user\u001b[0m\u001b[31m\n",
      "\u001b[0m\n",
      "\u001b[1m[\u001b[0m\u001b[34;49mnotice\u001b[0m\u001b[1;39;49m]\u001b[0m\u001b[39;49m A new release of pip is available: \u001b[0m\u001b[31;49m24.0\u001b[0m\u001b[39;49m -> \u001b[0m\u001b[32;49m24.1\u001b[0m\n",
      "\u001b[1m[\u001b[0m\u001b[34;49mnotice\u001b[0m\u001b[1;39;49m]\u001b[0m\u001b[39;49m To update, run: \u001b[0m\u001b[32;49mpython3 -m pip install --upgrade pip\u001b[0m\n"
     ]
    }
   ],
   "source": [
    "# tensorflow 2.15.0 is already installed, it must be uninstalled first\n",
    "!pip uninstall tensorflow -y\n",
    "!pip uninstall keras -y\n",
    "!pip uninstall tf-keras -y\n",
    "!pip install tensorflow\n",
    "# !pip install --upgrade keras //automatically done installing tensorflow"
   ]
  },
  {
   "cell_type": "markdown",
   "metadata": {
    "id": "fZRdocSCu79b"
   },
   "source": [
    "# KERAS 3 - Multi-backend High-level API\n",
    "Keras is the high-level API of the TensorFlow platform. It provides an approachable, highly-productive interface for solving machine learning (ML) problems, with a focus on modern deep learning."
   ]
  },
  {
   "cell_type": "markdown",
   "metadata": {
    "id": "GVGrmCiFeD52"
   },
   "source": [
    "## Backend instantiation\n",
    "Remember to configure the backend before importing Keras (and the other modules), as the backend cannot be changed once the package is imported."
   ]
  },
  {
   "cell_type": "code",
   "execution_count": 1,
   "metadata": {
    "id": "z1IB3HFVrdpC"
   },
   "outputs": [],
   "source": [
    "# Available backend options are: \"jax\", \"tensorflow\", \"torch\".\n",
    "import os\n",
    "os.environ[\"KERAS_BACKEND\"] = \"jax\"\n",
    "\n",
    "# Suppress all warnings and only show errors\n",
    "os.environ['TF_CPP_MIN_LOG_LEVEL'] = '2' "
   ]
  },
  {
   "cell_type": "markdown",
   "metadata": {
    "id": "6S1xZiAueD52"
   },
   "source": [
    "## frameworks version"
   ]
  },
  {
   "cell_type": "code",
   "execution_count": 2,
   "metadata": {
    "colab": {
     "base_uri": "https://localhost:8080/"
    },
    "executionInfo": {
     "elapsed": 18347,
     "status": "ok",
     "timestamp": 1717689280344,
     "user": {
      "displayName": "Fabio M",
      "userId": "09614366475601969276"
     },
     "user_tz": -120
    },
    "id": "3YU8vgnahsEd",
    "outputId": "0f8a0529-0438-4ac6-ba59-2298d28c36d0"
   },
   "outputs": [
    {
     "name": "stdout",
     "output_type": "stream",
     "text": [
      "python3: 3.10.12 (main, Nov 20 2023, 15:14:05) [GCC 11.4.0]\n",
      "tensorflow: 2.16.1\n",
      "jax: 0.4.27\n",
      "keras: 3.3.3\n",
      "numpy: 1.26.3\n",
      "torch: 2.3.0+cu118\n",
      "torchvision: 0.18.0+cu118\n",
      "CUDA: 11.8\n",
      "cuDNN: 8.9.7\n"
     ]
    }
   ],
   "source": [
    "import sys\n",
    "import tensorflow as tf\n",
    "import jax\n",
    "import jaxlib\n",
    "import keras\n",
    "import numpy as np\n",
    "import torch\n",
    "import torch.nn as nn\n",
    "import torchvision\n",
    "import torchvision.transforms\n",
    "from jax import numpy as jnp\n",
    "\n",
    "print(f\"python3: {sys.version}\")\n",
    "print(f\"tensorflow: {tf.__version__}\")\n",
    "print(f\"jax: {jax.__version__}\")\n",
    "print(f\"keras: {keras.__version__}\")\n",
    "print(f\"numpy: {np.__version__}\")\n",
    "print(f\"torch: {torch.__version__}\")\n",
    "print(f\"torchvision: {torchvision.__version__}\")\n",
    "print(f\"CUDA: {torch.version.cuda}\")\n",
    "\n",
    "cudnn = torch.backends.cudnn.version()\n",
    "cudnn_major = cudnn // 1000\n",
    "cudnn = cudnn % 1000\n",
    "cudnn_minor = cudnn // 100\n",
    "cudnn_patch = cudnn % 100\n",
    "print( 'cuDNN:', '.'.join([str(cudnn_major),str(cudnn_minor),str(cudnn_patch)]) )\n",
    "\n",
    "# setting device on GPU if available, else CPU\n",
    "device = torch.device('cuda' if torch.cuda.is_available() else 'cpu')"
   ]
  },
  {
   "cell_type": "markdown",
   "metadata": {},
   "source": [
    "## Exclusive CPU Execution\n",
    "uncomment the following command to force a CPU-ONLY processing."
   ]
  },
  {
   "cell_type": "code",
   "execution_count": 3,
   "metadata": {},
   "outputs": [],
   "source": [
    "# Hide GPU from visible devices (force CPU-ONLY processing)\n",
    "#os.environ['CUDA_VISIBLE_DEVICES'] = ''"
   ]
  },
  {
   "cell_type": "markdown",
   "metadata": {
    "id": "S6KNFNVHeD52"
   },
   "source": [
    "## Test GPU support"
   ]
  },
  {
   "cell_type": "code",
   "execution_count": 4,
   "metadata": {
    "colab": {
     "base_uri": "https://localhost:8080/"
    },
    "executionInfo": {
     "elapsed": 8,
     "status": "ok",
     "timestamp": 1716473587624,
     "user": {
      "displayName": "Fabio M",
      "userId": "09614366475601969276"
     },
     "user_tz": -120
    },
    "id": "BbUt693AeD52",
    "outputId": "640a3c6e-5fe3-437e-f1da-e815f381739e"
   },
   "outputs": [
    {
     "name": "stdout",
     "output_type": "stream",
     "text": [
      "Tensorflow runs on device: \n",
      "\t ['/physical_device:GPU:0']\n"
     ]
    }
   ],
   "source": [
    "from tensorflow.python.client import device_lib\n",
    "\n",
    "print('Tensorflow runs on device: ')\n",
    "gpus = tf.config.list_physical_devices('GPU')\n",
    "print('\\t',[d.name for d in gpus])"
   ]
  },
  {
   "cell_type": "code",
   "execution_count": 5,
   "metadata": {
    "colab": {
     "base_uri": "https://localhost:8080/"
    },
    "executionInfo": {
     "elapsed": 8,
     "status": "ok",
     "timestamp": 1716473587624,
     "user": {
      "displayName": "Fabio M",
      "userId": "09614366475601969276"
     },
     "user_tz": -120
    },
    "id": "thE2mCDFeD52",
    "outputId": "47328ae4-f262-4724-c938-0dc3e4b02e68"
   },
   "outputs": [
    {
     "name": "stdout",
     "output_type": "stream",
     "text": [
      "Pytorch runs on device: cuda\n",
      "\t NVIDIA GeForce RTX 3070 Laptop GPU\n",
      "\t Currently Memory Allocated: 0.0 GB\n",
      "\t Currently Memory Cached:    0.0 GB\n"
     ]
    }
   ],
   "source": [
    "print('Pytorch runs on device:', device)\n",
    "\n",
    "#Additional Info when using cuda\n",
    "if device.type == 'cuda':\n",
    "    print('\\t',torch.cuda.get_device_name(0))\n",
    "    print('\\t','Currently Memory Allocated:', round(torch.cuda.memory_allocated(0)/1024**3,1), 'GB')\n",
    "    print('\\t','Currently Memory Cached:   ', round(torch.cuda.memory_reserved(0)/1024**3,1), 'GB')"
   ]
  },
  {
   "cell_type": "code",
   "execution_count": 6,
   "metadata": {},
   "outputs": [
    {
     "name": "stdout",
     "output_type": "stream",
     "text": [
      "JAX runs on device: \n",
      "\t [cuda(id=0)]\n"
     ]
    }
   ],
   "source": [
    "print('JAX runs on device: \\n\\t',jax.local_devices())"
   ]
  },
  {
   "cell_type": "markdown",
   "metadata": {
    "id": "8CMV1R6P7-jc"
   },
   "source": [
    "# Code To Test: LeNet-5 Architecture (CNN)\n",
    "\n",
    "\n",
    "---\n"
   ]
  },
  {
   "cell_type": "markdown",
   "metadata": {},
   "source": [
    "## Overall Frameworks Hyperparameters"
   ]
  },
  {
   "cell_type": "code",
   "execution_count": 7,
   "metadata": {},
   "outputs": [],
   "source": [
    "#Input data:\n",
    "input_shape = (28, 28, 1)\n",
    "IMG_SIZE = 28\n",
    "num_classes = 10\n",
    "train_dataset_size = 60000\n",
    "test_dataset_size = 10000\n",
    "\n",
    "train_batch_size = 1024\n",
    "epochs = 50\n",
    "learn_rate = 0.005\n",
    "validation_split = 0.2\n",
    "\n",
    "valid_batch_size = 1024\n",
    "test_batch_size = 1024"
   ]
  },
  {
   "cell_type": "markdown",
   "metadata": {},
   "source": [
    "### Results and Statistics Plotting Functions"
   ]
  },
  {
   "cell_type": "code",
   "execution_count": 8,
   "metadata": {},
   "outputs": [],
   "source": [
    "import time\n",
    "from matplotlib import pyplot as plt\n",
    "\n",
    "def accuracy_plot(train_acc_history, valid_acc_history, test_acc, model, backend=None):\n",
    "    if backend:\n",
    "        model += ' (backend: ' + backend + ')'\n",
    "    \n",
    "    # Find the epoch with the highest validation accuracy\n",
    "    max_val_epoch = np.argmax(valid_acc_history) + 1\n",
    "    max_val_acc = valid_acc_history[max_val_epoch - 1]\n",
    "\n",
    "    # Visualizing the training and validation accuracy\n",
    "    plt.title(f'{model} model: Training and Validation Accuracy')\n",
    "    plt.plot(train_acc_history, 'g-', label='Train Accuracy')\n",
    "    plt.plot(valid_acc_history, 'b-', label='Val Accuracy')\n",
    "    # Highlight the maximum validation accuracy\n",
    "    plt.scatter(max_val_epoch, max_val_acc, color='black', s=100, zorder=5, label='Max Val Accuracy')\n",
    "    plt.annotate(f'({max_val_epoch}, {max_val_acc:.2f})', \n",
    "                 (max_val_epoch, max_val_acc), \n",
    "                 textcoords=\"offset points\", \n",
    "                 xytext=(10,-10), \n",
    "                 ha='center', \n",
    "                 fontsize=12, \n",
    "                 color='black')\n",
    "    \n",
    "    # Highlight the test accuracy\n",
    "    plt.scatter(epochs, test_acc, color='red', s=100, zorder=5, label='Test Accuracy')\n",
    "    plt.annotate(f'({epochs}, {test_acc:.2f})', \n",
    "                 (epochs, test_acc), \n",
    "                 textcoords=\"offset points\", \n",
    "                 xytext=(10,-10), \n",
    "                 ha='center', \n",
    "                 fontsize=12, \n",
    "                 color='red')\n",
    "    \n",
    "    plt.xlabel('Epochs')\n",
    "    plt.ylabel('Accuracy')\n",
    "    plt.legend()\n",
    "    plt.show()\n",
    "\n",
    "def print_statistics(start_time, end_time, test_acc, test_loss, model, backend=None):\n",
    "    if backend:\n",
    "        model += ' (backend: ' + backend + ')'\n",
    "    print(f'{model} model ')\n",
    "    print(f'\\t train batch size:     {train_batch_size}')\n",
    "    print(f'\\t number of epochs:     {epochs}')\n",
    "    print(f'\\t learning rate:        {learn_rate}')\n",
    "    print(f'\\t validation split:     {validation_split}')\n",
    "    print(f'\\t total training time:  {end_time-start_time:.3f}')\n",
    "    print(f'\\t test accuracy:        {test_acc:.3f}')\n",
    "    print(f'\\t test loss:            {test_loss:3f}')"
   ]
  },
  {
   "cell_type": "markdown",
   "metadata": {},
   "source": [
    "## Preprocessing: Fashion MNIST Dataset"
   ]
  },
  {
   "cell_type": "code",
   "execution_count": 9,
   "metadata": {},
   "outputs": [],
   "source": [
    "from sklearn.model_selection import train_test_split\n",
    "import keras.utils\n",
    "\n",
    "#Keras - Getting and Splitting the Dataset\n",
    "fashion_mnist = keras.datasets.fashion_mnist\n",
    "#TensorFlow - Loading the Data\n",
    "(x_train, y_train), (x_test, y_test) = fashion_mnist.load_data()\n",
    "\n",
    "x_train = x_train.astype(\"float32\") / 255\n",
    "x_test = x_test.astype(\"float32\") / 255\n",
    "\n",
    "x_train = np.expand_dims(x_train, -1)\n",
    "x_test = np.expand_dims(x_test, -1)\n",
    "\n",
    "# convert class vectors to binary class matrices\n",
    "y_train = keras.utils.to_categorical(y_train, num_classes)\n",
    "y_test = keras.utils.to_categorical(y_test, num_classes)\n",
    "\n",
    "x_train, x_valid, y_train, y_valid = train_test_split(\n",
    "    x_train, y_train, test_size=validation_split, random_state=42 )\n"
   ]
  },
  {
   "cell_type": "code",
   "execution_count": 10,
   "metadata": {},
   "outputs": [
    {
     "name": "stdout",
     "output_type": "stream",
     "text": [
      "x_train shape: (48000, 28, 28, 1)\n",
      "48000 train samples\n",
      "12000 valid samples\n",
      "10000 test samples\n"
     ]
    }
   ],
   "source": [
    "print(\"x_train shape:\", x_train.shape)\n",
    "print(x_train.shape[0], \"train samples\")\n",
    "print(x_valid.shape[0], \"valid samples\")\n",
    "print(x_test.shape[0], \"test samples\")"
   ]
  },
  {
   "cell_type": "markdown",
   "metadata": {},
   "source": [
    "## PyTorch LeNet-5 Architecture (CNN)\n",
    "\n",
    "reference: https://medium.com/@soumensardarintmain/manage-cuda-cores-ultimate-memory-management-strategy-with-pytorch-2bed30cab1#:~:text=The%20recommended%20way%20is%20to,first%20and%20then%20call%20torch."
   ]
  },
  {
   "cell_type": "code",
   "execution_count": 9,
   "metadata": {},
   "outputs": [],
   "source": [
    "# Pytorch - loaders\n",
    "tensor_x_train = torch.Tensor(x_train).squeeze(-1).unsqueeze(1)\n",
    "tensor_y_train = torch.Tensor(y_train).type(torch.FloatTensor)\n",
    "\n",
    "tensor_x_valid = torch.Tensor(x_valid).squeeze(-1).unsqueeze(1)\n",
    "tensor_y_valid = torch.Tensor(y_valid).type(torch.FloatTensor)\n",
    "\n",
    "tensor_x_test = torch.Tensor(x_test).squeeze(-1).unsqueeze(1)\n",
    "tensor_y_test = torch.Tensor(y_test).type(torch.FloatTensor)\n",
    "\n",
    "train_dataset_pt = torch.utils.data.TensorDataset(tensor_x_train, tensor_y_train)\n",
    "train_loader_pt = torch.utils.data.DataLoader(dataset=train_dataset_pt,\n",
    "                                              batch_size=train_batch_size,\n",
    "                                              shuffle=True)\n",
    "valid_dataset_pt = torch.utils.data.TensorDataset(tensor_x_valid,tensor_y_valid) \n",
    "valid_loader_pt = torch.utils.data.DataLoader(dataset=valid_dataset_pt,\n",
    "                                              batch_size=valid_batch_size, \n",
    "                                              shuffle=False)\n",
    "test_dataset_pt = torch.utils.data.TensorDataset(tensor_x_test,tensor_y_test) \n",
    "test_loader_pt = torch.utils.data.DataLoader(dataset=test_dataset_pt, \n",
    "                                             batch_size=test_batch_size, \n",
    "                                             shuffle=False)"
   ]
  },
  {
   "cell_type": "code",
   "execution_count": 10,
   "metadata": {},
   "outputs": [
    {
     "data": {
      "text/plain": [
       "Sequential(\n",
       "  (0): Conv2d(1, 6, kernel_size=(5, 5), stride=(1, 1), padding=(2, 2))\n",
       "  (1): ReLU()\n",
       "  (2): AvgPool2d(kernel_size=(2, 2), stride=2, padding=0)\n",
       "  (3): Conv2d(6, 16, kernel_size=(5, 5), stride=(1, 1), padding=(2, 2))\n",
       "  (4): ReLU()\n",
       "  (5): AvgPool2d(kernel_size=(2, 2), stride=2, padding=0)\n",
       "  (6): Flatten(start_dim=1, end_dim=-1)\n",
       "  (7): Linear(in_features=784, out_features=120, bias=True)\n",
       "  (8): ReLU()\n",
       "  (9): Linear(in_features=120, out_features=84, bias=True)\n",
       "  (10): ReLU()\n",
       "  (11): Linear(in_features=84, out_features=10, bias=True)\n",
       ")"
      ]
     },
     "execution_count": 10,
     "metadata": {},
     "output_type": "execute_result"
    }
   ],
   "source": [
    "#Pytorch - Building the Model\n",
    "model_pt = nn.Sequential(\n",
    "    # Layer1 = Conv1\n",
    "    nn.Conv2d(1, 6, (5, 5), stride=1, padding=2),\n",
    "    nn.ReLU(),\n",
    "    nn.AvgPool2d((2, 2), stride=2),\n",
    "\n",
    "    # Layer2 = Conv2\n",
    "    nn.Conv2d(6, 16, (5, 5), stride=1, padding=2),\n",
    "    nn.ReLU(),\n",
    "    nn.AvgPool2d((2, 2), stride=2),\n",
    "\n",
    "    nn.Flatten(),\n",
    "    # Layer3 = Conv3\n",
    "    nn.Linear(784,120),\n",
    "    nn.ReLU(),\n",
    "    nn.Linear(120,84),\n",
    "    nn.ReLU(),\n",
    "    nn.Linear(84,10)\n",
    ")\n",
    "model_pt.to(device)"
   ]
  },
  {
   "cell_type": "code",
   "execution_count": 11,
   "metadata": {},
   "outputs": [
    {
     "name": "stdout",
     "output_type": "stream",
     "text": [
      "PyTorch model \n",
      "\t train batch size:     1024\n",
      "\t number of epochs:     50\n",
      "\t learning rate:        0.005\n",
      "\t validation split:     0.2\n",
      "\t total training time:  33.993\n",
      "\t test accuracy:        0.900\n",
      "\t test loss:            0.371071\n"
     ]
    },
    {
     "data": {
      "image/png": "[encoded data removed]",
      "text/plain": [
       "<Figure size 640x480 with 1 Axes>"
      ]
     },
     "metadata": {},
     "output_type": "display_data"
    }
   ],
   "source": [
    "#Pytorch - Training the Model\n",
    "import statistics as stats\n",
    "\n",
    "criterion_pt = nn.CrossEntropyLoss()\n",
    "optimizer_pt = torch.optim.Adam(model_pt.parameters(),lr=learn_rate)\n",
    "\n",
    "\n",
    "def model_pt_forward_pass(images, labels, model, criterion, optimizer=None):\n",
    "    images = images.to(device)\n",
    "    labels = labels.to(device)\n",
    "    if optimizer:\n",
    "        optimizer.zero_grad()\n",
    "    out = model_pt(images)\n",
    "    loss = criterion(out, labels)\n",
    "    # backward pass for training (optimizer exists)\n",
    "    if optimizer:\n",
    "        loss.backward()\n",
    "        optimizer.step()\n",
    "    # Compute statistics\n",
    "    _, predicted = torch.max(out, 1)\n",
    "    _, actual = torch.max(labels, 1)\n",
    "    correct_predictions = (predicted == actual).sum().item()\n",
    "    accuracy = correct_predictions / labels.shape[0]\n",
    "    return loss, accuracy\n",
    "\n",
    "\n",
    "def model_pt_training(loader, model, criterion, optimizer):\n",
    "    model_pt.train()\n",
    "    accuracy_list = []\n",
    "    loss_list = []\n",
    "    # loop over batch (same epoch)\n",
    "    for images, labels in loader:    \n",
    "        batch_loss, batch_accuracy = model_pt_forward_pass(images, labels, model, criterion, optimizer)\n",
    "        accuracy_list.append(batch_accuracy)\n",
    "        loss_list.append(batch_loss)\n",
    "    return accuracy_list, loss_list\n",
    "        \n",
    "\n",
    "def model_pt_evaluation(loader, model, criterion):\n",
    "    model_pt.eval()\n",
    "    accuracy_list = []\n",
    "    loss_list = []\n",
    "    with torch.no_grad():\n",
    "        # loop over batch (same epoch)\n",
    "        for images, labels in loader:\n",
    "            batch_loss, batch_accuracy = model_pt_forward_pass(images, labels, model, criterion)\n",
    "            accuracy_list.append(batch_accuracy)\n",
    "            loss_list.append(batch_loss)\n",
    "    return accuracy_list, loss_list\n",
    "    \n",
    "\n",
    "\n",
    "train_acc_history = []\n",
    "train_loss_history = []\n",
    "valid_acc_history = []\n",
    "valid_loss_history = []\n",
    "test_acc = None\n",
    "test_loss = None\n",
    "\n",
    "start_time = time.time()\n",
    "# Training and Validation Phase\n",
    "# Loop over epochs\n",
    "for e in range(epochs):\n",
    "\n",
    "    # Training Step\n",
    "    accuracy_list, loss_list = model_pt_training(train_loader_pt, model_pt, criterion_pt, optimizer_pt)\n",
    "    train_acc_history.append(stats.fmean(accuracy_list))\n",
    "    train_loss_history.append(stats.fmean(loss_list))\n",
    "    \n",
    "    # Validation Step\n",
    "    accuracy_list, loss_list = model_pt_evaluation(valid_loader_pt, model_pt, criterion_pt)\n",
    "    valid_acc_history.append(stats.fmean(accuracy_list))\n",
    "    valid_loss_history.append(stats.fmean(loss_list))\n",
    "\n",
    "end_time = time.time()\n",
    "\n",
    "#Pytorch - Testing the Model\n",
    "accuracy_list, loss_list = model_pt_evaluation(test_loader_pt, model_pt, criterion_pt)\n",
    "test_acc = stats.fmean(accuracy_list)\n",
    "test_loss = stats.fmean(loss_list)\n",
    "\n",
    "# Printing Results\n",
    "print_statistics(start_time, end_time, test_acc, test_loss, 'PyTorch')\n",
    "accuracy_plot(train_acc_history, valid_acc_history, test_acc, 'PyTorch')"
   ]
  },
  {
   "cell_type": "markdown",
   "metadata": {
    "jp-MarkdownHeadingCollapsed": true
   },
   "source": [
    "## Keras LeNet-5 Architecture (CNN)"
   ]
  },
  {
   "cell_type": "code",
   "execution_count": 9,
   "metadata": {},
   "outputs": [],
   "source": [
    "# Keras Datasets\n",
    "x_train_ks = x_train\n",
    "y_train_ks = y_train\n",
    "x_valid_ks = x_valid\n",
    "y_valid_ks = y_valid\n",
    "x_test_ks = x_test\n",
    "y_test_ks = y_test\n"
   ]
  },
  {
   "cell_type": "code",
   "execution_count": 10,
   "metadata": {},
   "outputs": [
    {
     "data": {
      "text/html": [
       "<pre style=\"white-space:pre;overflow-x:auto;line-height:normal;font-family:Menlo,'DejaVu Sans Mono',consolas,'Courier New',monospace\"><span style=\"font-weight: bold\">Model: \"sequential\"</span>\n",
       "</pre>\n"
      ],
      "text/plain": [
       "\u001b[1mModel: \"sequential\"\u001b[0m\n"
      ]
     },
     "metadata": {},
     "output_type": "display_data"
    },
    {
     "data": {
      "text/html": [
       "<pre style=\"white-space:pre;overflow-x:auto;line-height:normal;font-family:Menlo,'DejaVu Sans Mono',consolas,'Courier New',monospace\">┏━━━━━━━━━━━━━━━━━━━━━━━━━━━━━━━━━┳━━━━━━━━━━━━━━━━━━━━━━━━┳━━━━━━━━━━━━━━━┓\n",
       "┃<span style=\"font-weight: bold\"> Layer (type)                    </span>┃<span style=\"font-weight: bold\"> Output Shape           </span>┃<span style=\"font-weight: bold\">       Param # </span>┃\n",
       "┡━━━━━━━━━━━━━━━━━━━━━━━━━━━━━━━━━╇━━━━━━━━━━━━━━━━━━━━━━━━╇━━━━━━━━━━━━━━━┩\n",
       "│ conv2d (<span style=\"color: #0087ff; text-decoration-color: #0087ff\">Conv2D</span>)                 │ (<span style=\"color: #00d7ff; text-decoration-color: #00d7ff\">None</span>, <span style=\"color: #00af00; text-decoration-color: #00af00\">28</span>, <span style=\"color: #00af00; text-decoration-color: #00af00\">28</span>, <span style=\"color: #00af00; text-decoration-color: #00af00\">6</span>)      │           <span style=\"color: #00af00; text-decoration-color: #00af00\">156</span> │\n",
       "├─────────────────────────────────┼────────────────────────┼───────────────┤\n",
       "│ average_pooling2d               │ (<span style=\"color: #00d7ff; text-decoration-color: #00d7ff\">None</span>, <span style=\"color: #00af00; text-decoration-color: #00af00\">14</span>, <span style=\"color: #00af00; text-decoration-color: #00af00\">14</span>, <span style=\"color: #00af00; text-decoration-color: #00af00\">6</span>)      │             <span style=\"color: #00af00; text-decoration-color: #00af00\">0</span> │\n",
       "│ (<span style=\"color: #0087ff; text-decoration-color: #0087ff\">AveragePooling2D</span>)              │                        │               │\n",
       "├─────────────────────────────────┼────────────────────────┼───────────────┤\n",
       "│ conv2d_1 (<span style=\"color: #0087ff; text-decoration-color: #0087ff\">Conv2D</span>)               │ (<span style=\"color: #00d7ff; text-decoration-color: #00d7ff\">None</span>, <span style=\"color: #00af00; text-decoration-color: #00af00\">14</span>, <span style=\"color: #00af00; text-decoration-color: #00af00\">14</span>, <span style=\"color: #00af00; text-decoration-color: #00af00\">16</span>)     │         <span style=\"color: #00af00; text-decoration-color: #00af00\">2,416</span> │\n",
       "├─────────────────────────────────┼────────────────────────┼───────────────┤\n",
       "│ average_pooling2d_1             │ (<span style=\"color: #00d7ff; text-decoration-color: #00d7ff\">None</span>, <span style=\"color: #00af00; text-decoration-color: #00af00\">7</span>, <span style=\"color: #00af00; text-decoration-color: #00af00\">7</span>, <span style=\"color: #00af00; text-decoration-color: #00af00\">16</span>)       │             <span style=\"color: #00af00; text-decoration-color: #00af00\">0</span> │\n",
       "│ (<span style=\"color: #0087ff; text-decoration-color: #0087ff\">AveragePooling2D</span>)              │                        │               │\n",
       "├─────────────────────────────────┼────────────────────────┼───────────────┤\n",
       "│ flatten (<span style=\"color: #0087ff; text-decoration-color: #0087ff\">Flatten</span>)               │ (<span style=\"color: #00d7ff; text-decoration-color: #00d7ff\">None</span>, <span style=\"color: #00af00; text-decoration-color: #00af00\">784</span>)            │             <span style=\"color: #00af00; text-decoration-color: #00af00\">0</span> │\n",
       "├─────────────────────────────────┼────────────────────────┼───────────────┤\n",
       "│ dense (<span style=\"color: #0087ff; text-decoration-color: #0087ff\">Dense</span>)                   │ (<span style=\"color: #00d7ff; text-decoration-color: #00d7ff\">None</span>, <span style=\"color: #00af00; text-decoration-color: #00af00\">120</span>)            │        <span style=\"color: #00af00; text-decoration-color: #00af00\">94,200</span> │\n",
       "├─────────────────────────────────┼────────────────────────┼───────────────┤\n",
       "│ dense_1 (<span style=\"color: #0087ff; text-decoration-color: #0087ff\">Dense</span>)                 │ (<span style=\"color: #00d7ff; text-decoration-color: #00d7ff\">None</span>, <span style=\"color: #00af00; text-decoration-color: #00af00\">84</span>)             │        <span style=\"color: #00af00; text-decoration-color: #00af00\">10,164</span> │\n",
       "├─────────────────────────────────┼────────────────────────┼───────────────┤\n",
       "│ dense_2 (<span style=\"color: #0087ff; text-decoration-color: #0087ff\">Dense</span>)                 │ (<span style=\"color: #00d7ff; text-decoration-color: #00d7ff\">None</span>, <span style=\"color: #00af00; text-decoration-color: #00af00\">10</span>)             │           <span style=\"color: #00af00; text-decoration-color: #00af00\">850</span> │\n",
       "└─────────────────────────────────┴────────────────────────┴───────────────┘\n",
       "</pre>\n"
      ],
      "text/plain": [
       "┏━━━━━━━━━━━━━━━━━━━━━━━━━━━━━━━━━┳━━━━━━━━━━━━━━━━━━━━━━━━┳━━━━━━━━━━━━━━━┓\n",
       "┃\u001b[1m \u001b[0m\u001b[1mLayer (type)                   \u001b[0m\u001b[1m \u001b[0m┃\u001b[1m \u001b[0m\u001b[1mOutput Shape          \u001b[0m\u001b[1m \u001b[0m┃\u001b[1m \u001b[0m\u001b[1m      Param #\u001b[0m\u001b[1m \u001b[0m┃\n",
       "┡━━━━━━━━━━━━━━━━━━━━━━━━━━━━━━━━━╇━━━━━━━━━━━━━━━━━━━━━━━━╇━━━━━━━━━━━━━━━┩\n",
       "│ conv2d (\u001b[38;5;33mConv2D\u001b[0m)                 │ (\u001b[38;5;45mNone\u001b[0m, \u001b[38;5;34m28\u001b[0m, \u001b[38;5;34m28\u001b[0m, \u001b[38;5;34m6\u001b[0m)      │           \u001b[38;5;34m156\u001b[0m │\n",
       "├─────────────────────────────────┼────────────────────────┼───────────────┤\n",
       "│ average_pooling2d               │ (\u001b[38;5;45mNone\u001b[0m, \u001b[38;5;34m14\u001b[0m, \u001b[38;5;34m14\u001b[0m, \u001b[38;5;34m6\u001b[0m)      │             \u001b[38;5;34m0\u001b[0m │\n",
       "│ (\u001b[38;5;33mAveragePooling2D\u001b[0m)              │                        │               │\n",
       "├─────────────────────────────────┼────────────────────────┼───────────────┤\n",
       "│ conv2d_1 (\u001b[38;5;33mConv2D\u001b[0m)               │ (\u001b[38;5;45mNone\u001b[0m, \u001b[38;5;34m14\u001b[0m, \u001b[38;5;34m14\u001b[0m, \u001b[38;5;34m16\u001b[0m)     │         \u001b[38;5;34m2,416\u001b[0m │\n",
       "├─────────────────────────────────┼────────────────────────┼───────────────┤\n",
       "│ average_pooling2d_1             │ (\u001b[38;5;45mNone\u001b[0m, \u001b[38;5;34m7\u001b[0m, \u001b[38;5;34m7\u001b[0m, \u001b[38;5;34m16\u001b[0m)       │             \u001b[38;5;34m0\u001b[0m │\n",
       "│ (\u001b[38;5;33mAveragePooling2D\u001b[0m)              │                        │               │\n",
       "├─────────────────────────────────┼────────────────────────┼───────────────┤\n",
       "│ flatten (\u001b[38;5;33mFlatten\u001b[0m)               │ (\u001b[38;5;45mNone\u001b[0m, \u001b[38;5;34m784\u001b[0m)            │             \u001b[38;5;34m0\u001b[0m │\n",
       "├─────────────────────────────────┼────────────────────────┼───────────────┤\n",
       "│ dense (\u001b[38;5;33mDense\u001b[0m)                   │ (\u001b[38;5;45mNone\u001b[0m, \u001b[38;5;34m120\u001b[0m)            │        \u001b[38;5;34m94,200\u001b[0m │\n",
       "├─────────────────────────────────┼────────────────────────┼───────────────┤\n",
       "│ dense_1 (\u001b[38;5;33mDense\u001b[0m)                 │ (\u001b[38;5;45mNone\u001b[0m, \u001b[38;5;34m84\u001b[0m)             │        \u001b[38;5;34m10,164\u001b[0m │\n",
       "├─────────────────────────────────┼────────────────────────┼───────────────┤\n",
       "│ dense_2 (\u001b[38;5;33mDense\u001b[0m)                 │ (\u001b[38;5;45mNone\u001b[0m, \u001b[38;5;34m10\u001b[0m)             │           \u001b[38;5;34m850\u001b[0m │\n",
       "└─────────────────────────────────┴────────────────────────┴───────────────┘\n"
      ]
     },
     "metadata": {},
     "output_type": "display_data"
    },
    {
     "data": {
      "text/html": [
       "<pre style=\"white-space:pre;overflow-x:auto;line-height:normal;font-family:Menlo,'DejaVu Sans Mono',consolas,'Courier New',monospace\"><span style=\"font-weight: bold\"> Total params: </span><span style=\"color: #00af00; text-decoration-color: #00af00\">107,786</span> (421.04 KB)\n",
       "</pre>\n"
      ],
      "text/plain": [
       "\u001b[1m Total params: \u001b[0m\u001b[38;5;34m107,786\u001b[0m (421.04 KB)\n"
      ]
     },
     "metadata": {},
     "output_type": "display_data"
    },
    {
     "data": {
      "text/html": [
       "<pre style=\"white-space:pre;overflow-x:auto;line-height:normal;font-family:Menlo,'DejaVu Sans Mono',consolas,'Courier New',monospace\"><span style=\"font-weight: bold\"> Trainable params: </span><span style=\"color: #00af00; text-decoration-color: #00af00\">107,786</span> (421.04 KB)\n",
       "</pre>\n"
      ],
      "text/plain": [
       "\u001b[1m Trainable params: \u001b[0m\u001b[38;5;34m107,786\u001b[0m (421.04 KB)\n"
      ]
     },
     "metadata": {},
     "output_type": "display_data"
    },
    {
     "data": {
      "text/html": [
       "<pre style=\"white-space:pre;overflow-x:auto;line-height:normal;font-family:Menlo,'DejaVu Sans Mono',consolas,'Courier New',monospace\"><span style=\"font-weight: bold\"> Non-trainable params: </span><span style=\"color: #00af00; text-decoration-color: #00af00\">0</span> (0.00 B)\n",
       "</pre>\n"
      ],
      "text/plain": [
       "\u001b[1m Non-trainable params: \u001b[0m\u001b[38;5;34m0\u001b[0m (0.00 B)\n"
      ]
     },
     "metadata": {},
     "output_type": "display_data"
    }
   ],
   "source": [
    "#Keras - Building the Model\n",
    "model_ks = keras.Sequential(\n",
    "    [\n",
    "        keras.Input(shape=input_shape),\n",
    "        keras.layers.Conv2D(6, kernel_size=(5, 5), strides=1, padding=\"same\", activation=\"relu\"),\n",
    "        keras.layers.AveragePooling2D(pool_size=(2, 2), strides=2),\n",
    "        keras.layers.Conv2D(16, kernel_size=(5, 5), strides=1, padding=\"same\", activation=\"relu\"),\n",
    "        keras.layers.AveragePooling2D(pool_size=(2, 2), strides=2),\n",
    "        keras.layers.Flatten(),\n",
    "        keras.layers.Dense(120, activation=\"relu\"),\n",
    "        keras.layers.Dense(84, activation=\"relu\"),\n",
    "        keras.layers.Dense(num_classes, activation=\"softmax\")\n",
    "    ]\n",
    ")\n",
    "#Keras - Visualizing the Model\n",
    "model_ks.summary()"
   ]
  },
  {
   "cell_type": "code",
   "execution_count": 11,
   "metadata": {},
   "outputs": [
    {
     "name": "stdout",
     "output_type": "stream",
     "text": [
      "Keras 3 (backend: jax) model \n",
      "\t train batch size:     1024\n",
      "\t number of epochs:     50\n",
      "\t learning rate:        0.005\n",
      "\t validation split:     0.2\n",
      "\t total training time:  26.574\n",
      "\t test accuracy:        0.895\n",
      "\t test loss:            0.300816\n"
     ]
    },
    {
     "data": {
      "image/png": "[encoded data removed]",
      "text/plain": [
       "<Figure size 640x480 with 1 Axes>"
      ]
     },
     "metadata": {},
     "output_type": "display_data"
    }
   ],
   "source": [
    "model_ks.compile(loss=\"categorical_crossentropy\",\n",
    "                    optimizer=\"adam\",\n",
    "                    metrics=[\"accuracy\"])\n",
    "#Keras - Training the Model\n",
    "start_time = time.time()\n",
    "results = model_ks.fit(x_train_ks, y_train_ks, batch_size=train_batch_size, epochs=epochs, validation_data=(x_valid_ks, y_valid_ks), shuffle=True, verbose=False)\n",
    "end_time = time.time()\n",
    "\n",
    "#Keras - Testing the Model\n",
    "test_loss, test_acc = model_ks.evaluate(x_test_ks, y_test_ks, verbose=0)\n",
    "\n",
    "# Printing Results\n",
    "print_statistics(start_time, end_time, test_acc, test_loss, 'Keras 3', os.environ[\"KERAS_BACKEND\"])\n",
    "accuracy_plot(results.history['accuracy'], results.history['val_accuracy'], test_acc, 'Keras 3', os.environ[\"KERAS_BACKEND\"])"
   ]
  },
  {
   "cell_type": "markdown",
   "metadata": {
    "jp-MarkdownHeadingCollapsed": true
   },
   "source": [
    "## TensorFlow LeNet-5 Architecture (CNN)"
   ]
  },
  {
   "cell_type": "code",
   "execution_count": 9,
   "metadata": {},
   "outputs": [],
   "source": [
    "#Tensorflow - Datasets\n",
    "train_dataset_tf = tf.data.Dataset.from_tensor_slices((x_train, y_train))\n",
    "valid_dataset_tf = tf.data.Dataset.from_tensor_slices((x_valid, y_valid))\n",
    "test_dataset_tf = tf.data.Dataset.from_tensor_slices((x_test, y_test))\n",
    "\n",
    "train_dataset_tf = train_dataset_tf.shuffle(buffer_size= x_train.shape[0], reshuffle_each_iteration=True).batch(train_batch_size)\n",
    "valid_dataset_tf = valid_dataset_tf.batch(valid_batch_size)\n",
    "test_dataset_tf = test_dataset_tf.batch(test_batch_size)"
   ]
  },
  {
   "cell_type": "code",
   "execution_count": 10,
   "metadata": {},
   "outputs": [],
   "source": [
    "#Tensorflow - Building the Model\n",
    "class Model_tf(tf.Module):\n",
    "    def __init__(self, name=\"LeNet_model_tf\"):\n",
    "        super().__init__(name=name)\n",
    "\n",
    "        # Variables definition\n",
    "        self.conv1 = tf.Variable(tf.random.normal([5, 5, input_shape[-1], 6]), name='conv1')\n",
    "        self.conv2 = tf.Variable(tf.random.normal([5, 5, 6, 16]), name='conv2')\n",
    "        self.fc1 = tf.Variable(tf.random.normal([784, 120]), name='fc1')\n",
    "        self.fc2 = tf.Variable(tf.random.normal([120, 84]), name='fc2')\n",
    "        self.fc3 = tf.Variable(tf.random.normal([84, num_classes]), name='fc3')\n",
    "\n",
    "        self.bias1 = tf.Variable(tf.zeros([6]), name='bias1')\n",
    "        self.bias2 = tf.Variable(tf.zeros([16]), name='bias2')\n",
    "        self.bias3 = tf.Variable(tf.zeros([120]), name='bias3')\n",
    "        self.bias4 = tf.Variable(tf.zeros([84]), name='bias4')\n",
    "        self.bias5 = tf.Variable(tf.zeros([num_classes]), name='bias5')\n",
    "\n",
    "    @tf.function\n",
    "    def __call__(self, x):\n",
    "        # 1st layer: Convolution\n",
    "        x = tf.nn.conv2d(x, self.conv1, strides=[1, 1, 1, 1], padding='SAME')\n",
    "        x = tf.nn.bias_add(x, self.bias1)\n",
    "        x = tf.nn.relu(x)\n",
    "        # 1st layer: Pooling\n",
    "        x = tf.nn.avg_pool2d(x, ksize=2, strides=2, padding='SAME')\n",
    "\n",
    "        # 2nd layer: Convolution\n",
    "        x = tf.nn.conv2d(x, self.conv2, strides=[1, 1, 1, 1], padding='SAME')\n",
    "        x = tf.nn.bias_add(x, self.bias2)\n",
    "        x = tf.nn.relu(x)\n",
    "        # 2nd layer: Pooling\n",
    "        x = tf.nn.avg_pool2d(x, ksize=2, strides=2, padding='SAME')\n",
    "\n",
    "        # flattening\n",
    "        x = tf.reshape(x, [-1, 784])\n",
    "\n",
    "        # 3rd layer: Dense\n",
    "        x = tf.nn.relu(tf.add(tf.matmul(x, self.fc1), self.bias3))\n",
    "        # 4th layer: Dense\n",
    "        x = tf.nn.relu(tf.add(tf.matmul(x, self.fc2), self.bias4))\n",
    "        # 5th layer: Dense\n",
    "        x = tf.add(tf.matmul(x, self.fc3), self.bias5)\n",
    "        return x\n",
    "\n",
    "model_tf = Model_tf()"
   ]
  },
  {
   "cell_type": "code",
   "execution_count": 11,
   "metadata": {},
   "outputs": [
    {
     "name": "stdout",
     "output_type": "stream",
     "text": [
      "Tensorflow model \n",
      "\t train batch size:     1024\n",
      "\t number of epochs:     50\n",
      "\t learning rate:        0.005\n",
      "\t validation split:     0.2\n",
      "\t total training time:  27.522\n",
      "\t test accuracy:        0.828\n",
      "\t test loss:            16.397055\n"
     ]
    },
    {
     "data": {
      "image/png": "[encoded data removed]",
      "text/plain": [
       "<Figure size 640x480 with 1 Axes>"
      ]
     },
     "metadata": {},
     "output_type": "display_data"
    }
   ],
   "source": [
    "#Tensorflow - Training the Model\n",
    "loss_fn = tf.losses.CategoricalCrossentropy(from_logits=True)\n",
    "optimizer = tf.optimizers.Adam(learning_rate = learn_rate)\n",
    " \n",
    " \n",
    "@tf.function\n",
    "def train_step(X, y):\n",
    "    with tf.GradientTape() as tape:\n",
    "        y_pred = model_tf(X)\n",
    "        loss = loss_fn(y, y_pred)\n",
    "    gradients = tape.gradient(loss, model_tf.trainable_variables)\n",
    "    optimizer.apply_gradients(zip(gradients, model_tf.trainable_variables))\n",
    " \n",
    "    # Calculate accuracy\n",
    "    correct_predictions = tf.equal(tf.argmax(y_pred, 1), tf.argmax(y, 1))\n",
    "    accuracy = tf.reduce_mean(tf.cast(correct_predictions, tf.float32))\n",
    "    return loss, accuracy\n",
    " \n",
    " \n",
    "def test_step(X, y):\n",
    "    y_pred = model_tf(X)\n",
    "    loss = loss_fn(y, y_pred)\n",
    " \n",
    "    # Calculate accuracy\n",
    "    correct_predictions = tf.equal(tf.argmax(y_pred, 1), tf.argmax(y, 1))\n",
    "    accuracy = tf.reduce_mean(tf.cast(correct_predictions, tf.float32))\n",
    "    return loss, accuracy\n",
    " \n",
    " \n",
    "def model_tf_training():\n",
    "    loss_list = []\n",
    "    accuracy_list=[]\n",
    "    # Loop over batches\n",
    "    for batch_x, batch_y in train_dataset_tf:\n",
    "        batch_loss, batch_accuracy = train_step(batch_x, batch_y)\n",
    "        loss_list.append(batch_loss)\n",
    "        accuracy_list.append(batch_accuracy)\n",
    "    return loss_list, accuracy_list\n",
    " \n",
    " \n",
    "def model_tf_evaluation(dataset):\n",
    "    loss_list = []\n",
    "    accuracy_list=[]\n",
    "    # Loop over batches\n",
    "    for batch_x, batch_y in dataset:\n",
    "        batch_loss, batch_accuracy = test_step(batch_x, batch_y)\n",
    "        loss_list.append(batch_loss)\n",
    "        accuracy_list.append(batch_accuracy)\n",
    "    return loss_list, accuracy_list\n",
    " \n",
    "train_acc_history = []\n",
    "train_loss_history = []\n",
    "valid_acc_history = []\n",
    "valid_loss_history = []\n",
    "test_acc = None\n",
    "test_loss = None\n",
    "\n",
    " \n",
    "start_time = time.time()\n",
    "# Training and Validation Phase\n",
    "# Loop over epochs\n",
    "for i in range(epochs):\n",
    "    # Training Step\n",
    "    loss_list, accuracy_list = model_tf_training()\n",
    "    train_loss_history.append(tf.reduce_mean(loss_list))\n",
    "    train_acc_history.append(tf.reduce_mean(accuracy_list))\n",
    " \n",
    "    # Validation Step\n",
    "    loss_list, accuracy_list = model_tf_evaluation(valid_dataset_tf)\n",
    "    valid_loss_history.append(tf.reduce_mean(loss_list))\n",
    "    valid_acc_history.append(tf.reduce_mean(accuracy_list))\n",
    "end_time = time.time()\n",
    " \n",
    "#Tensorflow - Testing the Model\n",
    "loss_list, accuracy_list = model_tf_evaluation(test_dataset_tf)\n",
    "test_loss = tf.reduce_mean(loss_list)\n",
    "test_acc = tf.reduce_mean(accuracy_list)\n",
    " \n",
    "# Printing Results\n",
    "print_statistics(start_time, end_time, test_acc, test_loss, 'Tensorflow')\n",
    "accuracy_plot(train_acc_history, valid_acc_history, test_acc, 'Tensorflow')"
   ]
  },
  {
   "cell_type": "markdown",
   "metadata": {
    "id": "buWkXQqSNtFz"
   },
   "source": [
    "## Jax-Flax LeNet-5 Architecture (CNN)\n",
    "\n",
    "\n",
    "reference:\n",
    "\n",
    "\n",
    "https://github.com/8bitmp3/JAX-Flax-Tutorial-Image-Classification-with-Line\n",
    "\n",
    "https://www.machinelearningnuggets.com/jax-cnn/\n",
    "\n",
    "https://www.kaggle.com/code/sauravmaheshkar/image-classification-using-flax\n"
   ]
  },
  {
   "cell_type": "markdown",
   "metadata": {
    "id": "lmNZ50FvgnPw"
   },
   "source": [
    "!pip install --upgrade -q pip jax jaxlib flax optax tensorflow-datasets"
   ]
  },
  {
   "cell_type": "code",
   "execution_count": 11,
   "metadata": {
    "id": "urCuLAQ6NxqC"
   },
   "outputs": [],
   "source": [
    "#JAX-FLAX - further imports needed\n",
    "import tensorflow_datasets as tfds\n",
    "import pandas as pd\n",
    "from jax import random\n",
    "from jax import numpy as jnp\n",
    "import optax\n",
    "import flax\n",
    "from flax import linen as nn\n",
    "from flax.training import train_state"
   ]
  },
  {
   "cell_type": "code",
   "execution_count": 12,
   "metadata": {
    "id": "Ac_xifg7OPN6"
   },
   "outputs": [],
   "source": [
    "#JAX - Datasets\n",
    "from sklearn.model_selection import train_test_split\n",
    "import keras.utils\n",
    "\n",
    "#Keras - Getting and Splitting the Dataset\n",
    "fashion_mnist = keras.datasets.fashion_mnist\n",
    "#TensorFlow - Loading the Data\n",
    "(x_train, y_train), (x_test, y_test) = fashion_mnist.load_data()\n",
    "\n",
    "x_train = x_train.astype(\"float32\") / 255\n",
    "x_test = x_test.astype(\"float32\") / 255\n",
    "\n",
    "x_train = jnp.expand_dims(x_train, -1)\n",
    "x_test = jnp.expand_dims(x_test, -1)\n",
    "\n",
    "x_train, x_valid, y_train, y_valid = train_test_split(\n",
    "x_train, y_train, test_size=validation_split, random_state=42 )\n",
    "\n",
    "train_dataset_jax = tf.data.Dataset.from_tensor_slices((x_train, y_train))\n",
    "valid_dataset_jax = tf.data.Dataset.from_tensor_slices((x_valid, y_valid))\n",
    "test_dataset_jax = tf.data.Dataset.from_tensor_slices((x_test, y_test))\n",
    "\n",
    "train_dataset_jax = train_dataset_jax.shuffle(buffer_size= x_train.shape[0], reshuffle_each_iteration=True).batch(train_batch_size)\n",
    "valid_dataset_jax = valid_dataset_jax.batch(valid_batch_size)\n",
    "test_dataset_jax = test_dataset_jax.batch(test_batch_size)"
   ]
  },
  {
   "cell_type": "code",
   "execution_count": 13,
   "metadata": {
    "id": "kFWpQwDNOPi6"
   },
   "outputs": [],
   "source": [
    "#JAX-FLAX - Building the Model\n",
    "class Model_Flax(nn.Module):\n",
    "    @nn.compact\n",
    "    def __call__(self, x):\n",
    "        x = nn.Conv(features=6, kernel_size=(5, 5), strides=(1, 1), padding='SAME')(x)\n",
    "        x = nn.relu(x)\n",
    "        \n",
    "        x = nn.avg_pool(x, window_shape=(2, 2), strides=(2, 2), padding='VALID')\n",
    "        x = nn.Conv(features=16, kernel_size=(5, 5), strides=(1, 1), padding='VALID')(x)\n",
    "        x = nn.relu(x)\n",
    "        x = nn.avg_pool(x, window_shape=(2, 2), strides=(2, 2), padding='VALID')\n",
    "        x = x.reshape((x.shape[0], -1))  # Flatten\n",
    "        x = nn.Dense(features=120)(x)\n",
    "        x = nn.relu(x)\n",
    "        x = nn.Dense(features=84)(x)\n",
    "        x = nn.relu(x)\n",
    "        x = nn.Dense(features=10)(x)\n",
    "        return x"
   ]
  },
  {
   "cell_type": "code",
   "execution_count": 14,
   "metadata": {},
   "outputs": [
    {
     "data": {
      "text/plain": [
       "Array([[ 0.73247004,  0.26672053, -0.38702714,  0.7236394 ,  0.41028094,\n",
       "        -0.11334093,  0.00428261, -0.16949001,  0.3927234 ,  0.5572688 ]],      dtype=float32)"
      ]
     },
     "execution_count": 14,
     "metadata": {},
     "output_type": "execute_result"
    }
   ],
   "source": [
    "# JAX-FLAX - initializing the Model\n",
    "rng = random.PRNGKey(0)\n",
    "rng, init_rng = random.split(rng)\n",
    "\n",
    "model = Model_Flax()\n",
    "inp = jnp.ones([1, IMG_SIZE, IMG_SIZE, 1])\n",
    "\n",
    "# Initialize the model\n",
    "params = model.init(init_rng, inp)\n",
    "model.apply(params, inp)"
   ]
  },
  {
   "cell_type": "markdown",
   "metadata": {
    "id": "BEXNZGM-OMAK"
   },
   "source": [
    "Step 4: Training the Model"
   ]
  },
  {
   "cell_type": "code",
   "execution_count": 15,
   "metadata": {
    "id": "upcRDfNVOP4i"
   },
   "outputs": [],
   "source": [
    "#JAX-FLAX - Defining the Training and Testing operations\n",
    "#Definition of the optimizer and update the model state\n",
    "optimizer = optax.adam(learning_rate=learn_rate) \n",
    "model_state = train_state.TrainState.create(apply_fn=model.apply, params=params, tx=optimizer)\n",
    "\n",
    "\n",
    "@jax.jit # Jit the function for efficiency\n",
    "def train_step(state, images, labels):\n",
    "    #Method use to calculate loss and accuracy\n",
    "    def calculate_loss_acc(params, images, labels):\n",
    "        # Obtain the logits and predictions of the model for the input data\n",
    "        logits = state.apply_fn(params, images)\n",
    "        # Calculate the loss and accuracy\n",
    "        loss = jnp.mean(optax.softmax_cross_entropy(logits, jax.nn.one_hot(labels, num_classes)))\n",
    "        # Multiclass classification\n",
    "        acc = jnp.mean(jnp.argmax(logits, -1) == labels)\n",
    "        return loss, acc\n",
    "\n",
    "    # Gradient function & Determine gradients for current model, parameters and batch\n",
    "    (loss, acc), grads = jax.value_and_grad(calculate_loss_acc, has_aux=True)(state.params, images, labels)\n",
    "    # Perform parameter update with gradients and optimizer\n",
    "    state = state.apply_gradients(grads=grads)\n",
    "    return state, loss, acc\n",
    "\n",
    "\n",
    "@jax.jit  # Jit the function for efficiency\n",
    "def eval_step(state, images, labels):\n",
    "    def calculate_loss_acc(params, images, labels):\n",
    "        logits = state.apply_fn(params, images)\n",
    "        loss = jnp.mean(optax.softmax_cross_entropy(logits, jax.nn.one_hot(labels, num_classes)))\n",
    "        acc = jnp.mean(jnp.argmax(logits, -1) == labels)\n",
    "        return loss, acc\n",
    "    # Determine the accuracy\n",
    "    loss, acc = calculate_loss_acc(state.params, images, labels)\n",
    "    return loss, acc\n",
    "\n",
    "\n",
    "train_acc_history = []\n",
    "train_loss_history = []\n",
    "valid_acc_history = []\n",
    "valid_loss_history = []\n",
    "test_acc = 0\n",
    "test_loss = 0\n",
    "\n",
    "\n",
    "def train_model(state, train_loader, valid_loader, num_epochs=30):\n",
    "    # Training loop\n",
    "    for epoch in range(num_epochs):\n",
    "        train_batch_loss, train_batch_accuracy = [], []\n",
    "        val_batch_loss, val_batch_accuracy = [], []\n",
    "\n",
    "        for images, labels in train_loader:\n",
    "            state, loss, acc = train_step(state, images, labels)\n",
    "            train_batch_loss.append(loss)\n",
    "            train_batch_accuracy.append(acc)\n",
    "\n",
    "        for images, labels in valid_loader:\n",
    "            val_loss, val_acc = eval_step(state, images, labels)\n",
    "\n",
    "            val_batch_loss.append(val_loss)\n",
    "            val_batch_accuracy.append(val_acc)\n",
    "\n",
    "        # Loss for the current epoch\n",
    "        epoch_train_loss = np.mean(train_batch_loss)\n",
    "        epoch_val_loss = np.mean(val_batch_loss)\n",
    "\n",
    "        # Accuracy for the current epoch\n",
    "        epoch_train_acc = np.mean(train_batch_accuracy)\n",
    "        epoch_val_acc = np.mean(val_batch_accuracy)\n",
    "\n",
    "        valid_loss_history.append(epoch_val_loss)\n",
    "        valid_acc_history.append(epoch_val_acc)\n",
    "\n",
    "        train_loss_history.append(epoch_train_loss)\n",
    "        train_acc_history.append(epoch_train_acc)\n",
    "    return state\n",
    "\n",
    "def evaluate_model(state, eval_loader):\n",
    "    eval_losses, eval_accs = [], []\n",
    "    for  images, labels in eval_loader:\n",
    "        loss, acc = eval_step(state,  images, labels)\n",
    "        eval_losses.append(loss)\n",
    "        eval_accs.append(acc)\n",
    "    mean_loss = np.mean(eval_losses)\n",
    "    mean_acc = np.mean(eval_accs)\n",
    "    return mean_loss, mean_acc\n",
    "    "
   ]
  },
  {
   "cell_type": "code",
   "execution_count": 16,
   "metadata": {},
   "outputs": [],
   "source": [
    "#JAX-FLAX - Training the Model\n",
    "import time\n",
    "start_time = time.time()\n",
    "trained_model_state = train_model(model_state, tfds.as_numpy(train_dataset_jax), tfds.as_numpy(valid_dataset_jax), num_epochs=epochs)\n",
    "end_time = time.time()\n",
    "\n",
    "#JAX-FLAX - Testing the Model\n",
    "test_loss, test_acc = evaluate_model(trained_model_state, tfds.as_numpy(test_dataset_jax))"
   ]
  },
  {
   "cell_type": "code",
   "execution_count": 20,
   "metadata": {},
   "outputs": [
    {
     "name": "stdout",
     "output_type": "stream",
     "text": [
      "JAX model \n",
      "\t train batch size:     1024\n",
      "\t number of epochs:     50\n",
      "\t learning rate:        0.005\n",
      "\t validation split:     0.2\n",
      "\t total training time:  22.859\n",
      "\t test accuracy:        0.903\n",
      "\t test loss:            0.371160\n"
     ]
    },
    {
     "data": {
      "image/png": "[encoded data removed]",
      "text/plain": [
       "<Figure size 640x480 with 1 Axes>"
      ]
     },
     "metadata": {},
     "output_type": "display_data"
    }
   ],
   "source": [
    "# Printing Results\n",
    "print_statistics(start_time, end_time, test_acc, test_loss, 'JAX')\n",
    "accuracy_plot(train_acc_history, valid_acc_history, test_acc, 'JAX')"
   ]
  }
 ],
 "metadata": {
  "accelerator": "GPU",
  "colab": {
   "gpuType": "T4",
   "provenance": [
    {
     "file_id": "17d1PWgH_pVube_ieHqlr64Lk-PaveGYp",
     "timestamp": 1715423387479
    }
   ]
  },
  "kernelspec": {
   "display_name": "Python 3 (ipykernel)",
   "language": "python",
   "name": "python3"
  },
  "language_info": {
   "codemirror_mode": {
    "name": "ipython",
    "version": 3
   },
   "file_extension": ".py",
   "mimetype": "text/x-python",
   "name": "python",
   "nbconvert_exporter": "python",
   "pygments_lexer": "ipython3",
   "version": "3.10.12"
  }
 },
 "nbformat": 4,
 "nbformat_minor": 4
}
