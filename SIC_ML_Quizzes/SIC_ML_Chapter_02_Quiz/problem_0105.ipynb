{
  "cells": [
    {
      "cell_type": "markdown",
      "metadata": {
        "id": "3LW8lDw9ug8n"
      },
      "source": [
        "## Quiz #0105 "
      ]
    },
    {
      "cell_type": "markdown",
      "metadata": {
        "id": "1BYEjLFfug8q"
      },
      "source": [
        "#### Assignment: \n",
        "- Write a function named 'palindrome' to test whether the entered word or sentence is a palindrome.<br>\n",
        "- Ignore capitalization, spaces, punctuation marks, symbols, etc. <br>\n",
        "- Use the properties of 'queue' and 'stack' data structures. <br>"
      ]
    },
    {
      "cell_type": "markdown",
      "metadata": {
        "id": "56CpKiLFug8r"
      },
      "source": [
        "Palindrome examples: <br>\n",
        "- mom\n",
        "- wow\n",
        "- noon\n",
        "- level\n",
        "- radar\n",
        "- kayak\n",
        "- racecar\n",
        "- God's dog\n",
        "- Madam, I'm Adam"
      ]
    },
    {
      "cell_type": "code",
      "execution_count": null,
      "metadata": {
        "id": "yWjxWj8Jug8r"
      },
      "outputs": [],
      "source": [
        "def palindrome(d):\n",
        "\n",
        "    \n",
        "    \n",
        "    \n",
        "    "
      ]
    },
    {
      "cell_type": "markdown",
      "metadata": {
        "id": "ikdH2BMPug8s"
      },
      "source": [
        "Test results:"
      ]
    },
    {
      "cell_type": "code",
      "execution_count": null,
      "metadata": {
        "id": "gKYO9nahug8s"
      },
      "outputs": [],
      "source": [
        "palindrome(\"Kayak\")"
      ]
    },
    {
      "cell_type": "code",
      "execution_count": null,
      "metadata": {
        "id": "OiUKh4Uyug8t"
      },
      "outputs": [],
      "source": [
        "palindrome(\"Madam, I'm Adam\")"
      ]
    },
    {
      "cell_type": "code",
      "execution_count": null,
      "metadata": {
        "id": "lb3BF584ug8t"
      },
      "outputs": [],
      "source": [
        "palindrome(\"Hello\")"
      ]
    },
    {
      "cell_type": "code",
      "execution_count": null,
      "metadata": {
        "id": "_t_Id_-nug8u"
      },
      "outputs": [],
      "source": []
    }
  ],
  "metadata": {
    "kernelspec": {
      "display_name": "Python 3",
      "language": "python",
      "name": "python3"
    },
    "language_info": {
      "codemirror_mode": {
        "name": "ipython",
        "version": 3
      },
      "file_extension": ".py",
      "mimetype": "text/x-python",
      "name": "python",
      "nbconvert_exporter": "python",
      "pygments_lexer": "ipython3",
      "version": "3.7.3"
    },
    "colab": {
      "provenance": []
    }
  },
  "nbformat": 4,
  "nbformat_minor": 0
}