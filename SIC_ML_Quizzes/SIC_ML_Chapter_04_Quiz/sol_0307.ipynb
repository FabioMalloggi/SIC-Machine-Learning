{
  "cells": [
    {
      "cell_type": "markdown",
      "metadata": {
        "id": "view-in-github",
        "colab_type": "text"
      },
      "source": [
        "<a href=\"https://colab.research.google.com/github/tn-220/SIC-Machine-Learning/blob/main/SIC_ML_Quizzes/SIC_ML_Chapter_04_Quiz/sol_0307.ipynb\" target=\"_parent\"><img src=\"https://colab.research.google.com/assets/colab-badge.svg\" alt=\"Open In Colab\"/></a>"
      ]
    },
    {
      "cell_type": "markdown",
      "metadata": {
        "id": "JXf7O-L5a_3H"
      },
      "source": [
        "## Quiz #0307 (Solution)"
      ]
    },
    {
      "cell_type": "markdown",
      "metadata": {
        "id": "Rl6-cwFRa_3K"
      },
      "source": [
        "### \"Exploratory Data Analysis (EDA) and Analysis of variance (ANOVA) for guinea pig tooth growth\""
      ]
    },
    {
      "cell_type": "code",
      "execution_count": null,
      "metadata": {
        "id": "oprHQw95a_3L"
      },
      "outputs": [],
      "source": [
        "import numpy as np\n",
        "import pandas as pd\n",
        "import scipy.stats as st\n",
        "import matplotlib.pyplot as plt\n",
        "import os\n",
        "%matplotlib inline"
      ]
    },
    {
      "cell_type": "markdown",
      "metadata": {
        "id": "hoBDOfPEa_3M"
      },
      "source": [
        "#### Answer the following questions by providing Python code:"
      ]
    },
    {
      "cell_type": "markdown",
      "metadata": {
        "id": "ckNkNiIxa_3M"
      },
      "source": [
        "We will use the dataset \"data_ToothGrowth.csv\". \n",
        "- len = teeth length. \n",
        "- supp = supplementary type with two possible values: VC (vitamin C) or OJ (orange juice). \n",
        "- dose (mgr/day) = dosage per day with three possible values: 0.5, 1.0, 2.0."
      ]
    },
    {
      "cell_type": "code",
      "execution_count": null,
      "metadata": {
        "id": "0To9i0M4a_3M"
      },
      "outputs": [],
      "source": [
        "!wget --no-clobber https://raw.githubusercontent.com/tn-220/SIC-Machine-Learning/main/SIC_ML_Quizzes/SIC_ML_Chapter_04_Quiz/data_ToothGrowth.csv"
      ]
    },
    {
      "cell_type": "code",
      "execution_count": null,
      "metadata": {
        "id": "FgUiuEDga_3N"
      },
      "outputs": [],
      "source": [
        "df = pd.read_csv('data_ToothGrowth.csv', header='infer')"
      ]
    },
    {
      "cell_type": "code",
      "execution_count": null,
      "metadata": {
        "id": "abdIiXAaa_3N"
      },
      "outputs": [],
      "source": [
        "df.head()"
      ]
    },
    {
      "cell_type": "code",
      "execution_count": null,
      "metadata": {
        "id": "Q6tlOrfta_3O"
      },
      "outputs": [],
      "source": [
        "df.info()"
      ]
    },
    {
      "cell_type": "markdown",
      "metadata": {
        "id": "D2wkzFMka_3O"
      },
      "source": [
        "1). Perform the EDA and ANOVA ($\\alpha=$ 5%) with the 'supp' variable. <br>\n",
        "Summarize the result."
      ]
    },
    {
      "cell_type": "code",
      "execution_count": null,
      "metadata": {
        "id": "gqHHh1OMa_3O"
      },
      "outputs": [],
      "source": [
        "# Categories of 'supp'. \n",
        "df.supp.unique()"
      ]
    },
    {
      "cell_type": "code",
      "execution_count": null,
      "metadata": {
        "id": "1ItKS7A6a_3P"
      },
      "outputs": [],
      "source": [
        "# Group by category.\n",
        "x_vc = df[df.supp=='VC'].len\n",
        "x_oj = df[df.supp=='OJ'].len"
      ]
    },
    {
      "cell_type": "code",
      "execution_count": null,
      "metadata": {
        "id": "UXn7Jok_a_3P"
      },
      "outputs": [],
      "source": [
        "# Multiple Boxplots.\n",
        "fig = plt.figure()\n",
        "ax = fig.add_axes([0,0,1,1])\n",
        "ax.boxplot([x_vc,x_oj],0)\n",
        "ax.set_xticklabels(['VC','OJ'])\n",
        "plt.show()"
      ]
    },
    {
      "cell_type": "code",
      "execution_count": null,
      "metadata": {
        "scrolled": true,
        "id": "2n_HdYNFa_3P"
      },
      "outputs": [],
      "source": [
        "# ANOVA.\n",
        "\"\"\"The ANOVA test has important assumptions that must be satisfied in order for the associated p-value to be valid.\n",
        "\n",
        "The samples are independent.\n",
        "Each sample is from a normally distributed population.\n",
        "The population standard deviations of the groups are all equal. \"\"\"\n",
        "\n",
        "res=st.f_oneway(x_oj,x_vc)      # Performs a 1-way ANOVA\n",
        "print(\"Test statictic  : %f \" % res[0] )\n",
        "print(\"p-value         : %f \" % res[1] )"
      ]
    },
    {
      "cell_type": "markdown",
      "metadata": {
        "id": "pvnl7oGha_3Q"
      },
      "source": [
        "=> We summarize that with $\\alpha = $ 5%, there is **no** significant difference among the 'supp' categories."
      ]
    },
    {
      "cell_type": "markdown",
      "metadata": {
        "id": "joR2tM7Ea_3Q"
      },
      "source": [
        "2). Perform the EDA and ANOVA ($\\alpha=$ 5%) with the 'dose' variable. <br>\n",
        "Summarize the result."
      ]
    },
    {
      "cell_type": "code",
      "execution_count": null,
      "metadata": {
        "id": "trg7R1OFa_3Q"
      },
      "outputs": [],
      "source": [
        "# Categories of 'dose'. \n",
        "df.dose.unique()"
      ]
    },
    {
      "cell_type": "code",
      "execution_count": null,
      "metadata": {
        "id": "texnZuVEa_3Q"
      },
      "outputs": [],
      "source": [
        "# Group by category.\n",
        "x_05 = df[df.dose==0.5].len\n",
        "x_1 = df[df.dose==1.0].len\n",
        "x_2 = df[df.dose==2.0].len"
      ]
    },
    {
      "cell_type": "code",
      "execution_count": null,
      "metadata": {
        "id": "yAHIkXNba_3Q"
      },
      "outputs": [],
      "source": [
        "# Multiple Boxplots.\n",
        "fig = plt.figure()\n",
        "ax = fig.add_axes([0,0,1,1])\n",
        "ax.boxplot([x_05,x_1,x_2],0)\n",
        "ax.set_xticklabels(['0.5','1.0','2.0'])\n",
        "plt.show()"
      ]
    },
    {
      "cell_type": "code",
      "execution_count": null,
      "metadata": {
        "id": "L2iyXaYJa_3Q"
      },
      "outputs": [],
      "source": [
        "# ANOVA.\n",
        "res=st.f_oneway(x_05,x_1,x_2)\n",
        "print(\"Test statictic  : %f \" % res[0] )\n",
        "print(\"p-value         : %f \" % res[1] )"
      ]
    },
    {
      "cell_type": "markdown",
      "metadata": {
        "id": "cUTAl-UJa_3R"
      },
      "source": [
        "=> We summarize that with $\\alpha = $ 5%, there **is** a significant difference among the 'dose' categories."
      ]
    },
    {
      "cell_type": "code",
      "execution_count": null,
      "metadata": {
        "id": "Wx6AXfifa_3R"
      },
      "outputs": [],
      "source": []
    }
  ],
  "metadata": {
    "kernelspec": {
      "display_name": "Python 3",
      "language": "python",
      "name": "python3"
    },
    "language_info": {
      "codemirror_mode": {
        "name": "ipython",
        "version": 3
      },
      "file_extension": ".py",
      "mimetype": "text/x-python",
      "name": "python",
      "nbconvert_exporter": "python",
      "pygments_lexer": "ipython3",
      "version": "3.7.3"
    },
    "colab": {
      "provenance": [],
      "include_colab_link": true
    }
  },
  "nbformat": 4,
  "nbformat_minor": 0
}