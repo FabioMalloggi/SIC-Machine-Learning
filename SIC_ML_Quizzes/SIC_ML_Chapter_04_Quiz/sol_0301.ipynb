{
 "cells": [
  {
   "cell_type": "markdown",
   "metadata": {},
   "source": [
    "## Quiz #0301 (Solution)"
   ]
  },
  {
   "cell_type": "markdown",
   "metadata": {},
   "source": [
    "### \"Sample size\""
   ]
  },
  {
   "cell_type": "code",
   "execution_count": null,
   "metadata": {},
   "outputs": [],
   "source": [
    "import numpy as np\n",
    "import scipy.stats as st"
   ]
  },
  {
   "cell_type": "markdown",
   "metadata": {},
   "source": [
    "#### Answer the following questions by providing Python code:"
   ]
  },
  {
   "cell_type": "markdown",
   "metadata": {},
   "source": [
    "The female students are known to have mean weight $\\mu=58$kg with  $\\sigma=3$kg. <br>\n",
    "Calculate the *minimum* sample size in each of the following cases."
   ]
  },
  {
   "cell_type": "code",
   "execution_count": null,
   "metadata": {},
   "outputs": [],
   "source": [
    "mu = 58.0\n",
    "sigma = 3.0"
   ]
  },
  {
   "cell_type": "markdown",
   "metadata": {},
   "source": [
    "1). When we target the standard error less than 1kg:"
   ]
  },
  {
   "cell_type": "code",
   "execution_count": null,
   "metadata": {},
   "outputs": [],
   "source": [
    "std_error = 1\n",
    "n = sigma**2/std_error**2\n",
    "int(np.ceil(n))"
   ]
  },
  {
   "cell_type": "markdown",
   "metadata": {},
   "source": [
    "2). When we want the full width of the 95% confidence interval to be less than 2kg: <br>\n",
    "NOTE: Use the Standard Normal distribution."
   ]
  },
  {
   "cell_type": "code",
   "execution_count": null,
   "metadata": {},
   "outputs": [],
   "source": [
    "W = 2/2                                             # Full width = W*2!\n",
    "n = (st.norm.ppf(0.975)*sigma/W)**2\n",
    "int(np.ceil(n))"
   ]
  },
  {
   "cell_type": "markdown",
   "metadata": {},
   "source": [
    "3). When we want the full width of the 95% confidence interval to be less than 2kg: <br>\n",
    "NOTE: Use the Student-t distribution. <br>\n",
    "HINT: As the Student-t distribution depends on $n$, it is not as straightforward as in the Stadard Normal case."
   ]
  },
  {
   "cell_type": "code",
   "execution_count": null,
   "metadata": {},
   "outputs": [],
   "source": [
    "W = 100.0\n",
    "n = 5\n",
    "while (W > 1):\n",
    "    n += 1\n",
    "    df = n-1\n",
    "    W = st.t.ppf(0.975,df)*sigma/np.sqrt(n)\n",
    "print(n)"
   ]
  },
  {
   "cell_type": "code",
   "execution_count": null,
   "metadata": {},
   "outputs": [],
   "source": []
  }
 ],
 "metadata": {
  "kernelspec": {
   "display_name": "Python 3",
   "language": "python",
   "name": "python3"
  },
  "language_info": {
   "codemirror_mode": {
    "name": "ipython",
    "version": 3
   },
   "file_extension": ".py",
   "mimetype": "text/x-python",
   "name": "python",
   "nbconvert_exporter": "python",
   "pygments_lexer": "ipython3",
   "version": "3.7.3"
  }
 },
 "nbformat": 4,
 "nbformat_minor": 2
}
