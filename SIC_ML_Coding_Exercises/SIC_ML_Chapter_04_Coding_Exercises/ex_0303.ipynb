{
  "cells": [
    {
      "cell_type": "markdown",
      "metadata": {
        "id": "view-in-github",
        "colab_type": "text"
      },
      "source": [
        "<a href=\"https://colab.research.google.com/github/tn-220/SIC-Machine-Learning/blob/main/SIC_ML_Coding_Exercises/SIC_ML_Chapter_04_Coding_Exercises/ex_0303.ipynb\" target=\"_parent\"><img src=\"https://colab.research.google.com/assets/colab-badge.svg\" alt=\"Open In Colab\"/></a>"
      ]
    },
    {
      "cell_type": "markdown",
      "metadata": {
        "id": "XbEPQYQAVdnZ"
      },
      "source": [
        "## Coding Exercise #0303"
      ]
    },
    {
      "cell_type": "markdown",
      "metadata": {
        "id": "ZaLecPE0Vdnb"
      },
      "source": [
        "### 1. Descriptive statistics:"
      ]
    },
    {
      "cell_type": "code",
      "execution_count": null,
      "metadata": {
        "id": "Uc78AcITVdnc"
      },
      "outputs": [],
      "source": [
        "import pandas as pd\n",
        "import numpy as np\n",
        "import matplotlib.pyplot as plt\n",
        "import os\n",
        "%matplotlib inline"
      ]
    },
    {
      "cell_type": "code",
      "execution_count": null,
      "metadata": {
        "id": "v9kmkwsrVdnd"
      },
      "outputs": [],
      "source": [
        "!wget --no-clobber https://raw.githubusercontent.com/tn-220/SIC-Machine-Learning/main/SIC_ML_Coding_Exercises/SIC_ML_Chapter_04_Coding_Exercises/data_studentlist.csv"
      ]
    },
    {
      "cell_type": "code",
      "execution_count": null,
      "metadata": {
        "id": "DyDMGq-AVdnd"
      },
      "outputs": [],
      "source": [
        "# Read in the data.\n",
        "df = pd.read_csv('data_studentlist.csv', header='infer')"
      ]
    },
    {
      "cell_type": "code",
      "execution_count": null,
      "metadata": {
        "id": "PiqEmfUsVdnd"
      },
      "outputs": [],
      "source": [
        "df.shape"
      ]
    },
    {
      "cell_type": "code",
      "execution_count": null,
      "metadata": {
        "id": "VDH6C1Z8Vdne"
      },
      "outputs": [],
      "source": [
        "df.head(5)"
      ]
    },
    {
      "cell_type": "markdown",
      "metadata": {
        "id": "B9s6rPaxVdne"
      },
      "source": [
        "#### 1.1. Sample statistics:"
      ]
    },
    {
      "cell_type": "code",
      "source": [
        "len(list(df['height']))\n",
        "\n"
      ],
      "metadata": {
        "id": "RIxky1ywV5Fz"
      },
      "execution_count": null,
      "outputs": []
    },
    {
      "cell_type": "code",
      "execution_count": null,
      "metadata": {
        "id": "qv_BccxFVdne"
      },
      "outputs": [],
      "source": [
        "# Unbiased mean.\n",
        "df['height'].mean()"
      ]
    },
    {
      "cell_type": "code",
      "execution_count": null,
      "metadata": {
        "id": "ABPHG9b0Vdnf"
      },
      "outputs": [],
      "source": [
        "# Unbiased estimator of the variance.\n",
        "df['height'].var(ddof=1)    # Delta Degrees of Freedom: the divisor used in the calculation is N - ddof\n",
        "                            # where N represents the number of elements. By default ddof is zero."
      ]
    },
    {
      "cell_type": "code",
      "execution_count": null,
      "metadata": {
        "id": "XSLNWGPhVdnf"
      },
      "outputs": [],
      "source": [
        "# Unbiased estimator of the standard deviation.\n",
        "df['height'].std(ddof=1)"
      ]
    },
    {
      "cell_type": "code",
      "execution_count": null,
      "metadata": {
        "id": "6j7gCMjQVdnf"
      },
      "outputs": [],
      "source": [
        "# Median.\n",
        "df['height'].median()"
      ]
    },
    {
      "cell_type": "code",
      "source": [
        "a = list(df['height'])\n",
        "a.sort()\n",
        "a[8]  "
      ],
      "metadata": {
        "id": "BcwgYcxvYQV1"
      },
      "execution_count": null,
      "outputs": []
    },
    {
      "cell_type": "code",
      "execution_count": null,
      "metadata": {
        "id": "P_9XcXSBVdng"
      },
      "outputs": [],
      "source": [
        "# Minimum.\n",
        "df['height'].min()"
      ]
    },
    {
      "cell_type": "code",
      "execution_count": null,
      "metadata": {
        "id": "3kKo-4tEVdnh"
      },
      "outputs": [],
      "source": [
        "# Maximum.\n",
        "df['height'].max()"
      ]
    },
    {
      "cell_type": "code",
      "execution_count": null,
      "metadata": {
        "id": "4KI7lPvyVdnh"
      },
      "outputs": [],
      "source": [
        "# Quantile at alpha = 0.1\n",
        "print(a, \"\\n\")\n",
        "df['height'].quantile(0.1)"
      ]
    },
    {
      "cell_type": "code",
      "execution_count": null,
      "metadata": {
        "id": "zdeO95LMVdnh"
      },
      "outputs": [],
      "source": [
        "# Quantile at alpha = 0.9\n",
        "df['height'].quantile(0.9)"
      ]
    },
    {
      "cell_type": "markdown",
      "metadata": {
        "id": "hn23vXt2Vdnh"
      },
      "source": [
        "#### 1.2. Boxplot: "
      ]
    },
    {
      "cell_type": "code",
      "execution_count": null,
      "metadata": {
        "id": "-_1ohQnAVdni"
      },
      "outputs": [],
      "source": [
        "# The Inter Quartile Range\n",
        "IQR = df['height'].quantile(0.75)- df['height'].quantile(0.25)\n",
        "IQR"
      ]
    },
    {
      "cell_type": "code",
      "execution_count": null,
      "metadata": {
        "id": "T3SaNu-kVdni"
      },
      "outputs": [],
      "source": [
        "# Show a Boxplot for the height.\n",
        "plt.boxplot(df['height'])\n",
        "plt.show()"
      ]
    },
    {
      "cell_type": "code",
      "execution_count": null,
      "metadata": {
        "id": "9FhTSxgiVdni"
      },
      "outputs": [],
      "source": [
        "# Show a Boxplot for the weight.\n",
        "plt.boxplot(df['weight'])\n",
        "plt.show()"
      ]
    },
    {
      "cell_type": "markdown",
      "metadata": {
        "id": "NXuymS7KVdni"
      },
      "source": [
        "#### 1.3. Covariance and Correlation:"
      ]
    },
    {
      "cell_type": "code",
      "execution_count": null,
      "metadata": {
        "id": "K8rlKX3pVdni"
      },
      "outputs": [],
      "source": [
        "# Covariance.\n",
        "df['height'].cov(df['weight'])"
      ]
    },
    {
      "cell_type": "code",
      "execution_count": null,
      "metadata": {
        "id": "PSJk3tiOVdni"
      },
      "outputs": [],
      "source": [
        "# Correlation.\n",
        "df['height'].corr(df['weight'])"
      ]
    },
    {
      "cell_type": "code",
      "execution_count": null,
      "metadata": {
        "id": "dxFA1c0EVdnj"
      },
      "outputs": [],
      "source": [
        "# Calculate the correlation using the covariance.\n",
        "# We get the same result as above.\n",
        "df['height'].cov(df['weight'])/(df['height'].std()*df['weight'].std())"
      ]
    },
    {
      "cell_type": "markdown",
      "metadata": {
        "id": "4acdT-Z1Vdnj"
      },
      "source": [
        "#### 1.4. Visualization:"
      ]
    },
    {
      "cell_type": "code",
      "execution_count": null,
      "metadata": {
        "id": "AZ2fgPrbVdnj"
      },
      "outputs": [],
      "source": [
        "# Visually inspect the relationship between X and Y.\n",
        "df.plot.scatter(x='weight',y='height')\n",
        "plt.show()"
      ]
    },
    {
      "cell_type": "code",
      "execution_count": null,
      "metadata": {
        "id": "skQpWNOoVdnj"
      },
      "outputs": [],
      "source": [
        "# Visually inspect the relationship between X and Y.\n",
        "# Distinguish the gender by color.\n",
        "base=df[df.gender=='M'].plot.scatter(x='height', y='weight',color='blue',marker='o',s=20)\n",
        "df[df.gender=='F'].plot.scatter(x='height', y='weight',color='red',marker='o',s=20, ax=base)\n",
        "plt.show()"
      ]
    },
    {
      "cell_type": "code",
      "execution_count": null,
      "metadata": {
        "id": "0ZGNIjwJVdnj"
      },
      "outputs": [],
      "source": []
    }
  ],
  "metadata": {
    "kernelspec": {
      "display_name": "Python 3",
      "language": "python",
      "name": "python3"
    },
    "language_info": {
      "codemirror_mode": {
        "name": "ipython",
        "version": 3
      },
      "file_extension": ".py",
      "mimetype": "text/x-python",
      "name": "python",
      "nbconvert_exporter": "python",
      "pygments_lexer": "ipython3",
      "version": "3.7.3"
    },
    "colab": {
      "provenance": [],
      "include_colab_link": true
    }
  },
  "nbformat": 4,
  "nbformat_minor": 0
}