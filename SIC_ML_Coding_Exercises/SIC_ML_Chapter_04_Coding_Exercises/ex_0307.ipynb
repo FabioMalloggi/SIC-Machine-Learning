{
  "cells": [
    {
      "cell_type": "markdown",
      "metadata": {
        "id": "view-in-github",
        "colab_type": "text"
      },
      "source": [
        "<a href=\"https://colab.research.google.com/github/tn-220/SIC-Machine-Learning/blob/main/SIC_ML_Coding_Exercises/SIC_ML_Chapter_04_Coding_Exercises/ex_0307.ipynb\" target=\"_parent\"><img src=\"https://colab.research.google.com/assets/colab-badge.svg\" alt=\"Open In Colab\"/></a>"
      ]
    },
    {
      "cell_type": "markdown",
      "metadata": {
        "id": "kLiMthLgw1C1"
      },
      "source": [
        "## Coding Exercise #0307"
      ]
    },
    {
      "cell_type": "markdown",
      "metadata": {
        "id": "JCy9YtQGw1C4"
      },
      "source": [
        "### 1. Correlation:"
      ]
    },
    {
      "cell_type": "code",
      "execution_count": null,
      "metadata": {
        "id": "AkFZ5GT7w1C5"
      },
      "outputs": [],
      "source": [
        "import pandas as pd\n",
        "import numpy as np\n",
        "import scipy.stats as st\n",
        "import os"
      ]
    },
    {
      "cell_type": "code",
      "execution_count": null,
      "metadata": {
        "id": "PQIeo2v8w1C6"
      },
      "outputs": [],
      "source": [
        "!wget --no-clobber https://raw.githubusercontent.com/tn-220/SIC-Machine-Learning/main/SIC_ML_Coding_Exercises/SIC_ML_Chapter_04_Coding_Exercises/data_iris.csv"
      ]
    },
    {
      "cell_type": "code",
      "execution_count": null,
      "metadata": {
        "id": "qTilHYe-w1C6"
      },
      "outputs": [],
      "source": [
        "# Read in the data.\n",
        "df = pd.read_csv('data_iris.csv', header='infer')"
      ]
    },
    {
      "cell_type": "code",
      "execution_count": null,
      "metadata": {
        "id": "iAyhOGraw1C6"
      },
      "outputs": [],
      "source": [
        "df.shape"
      ]
    },
    {
      "cell_type": "code",
      "execution_count": null,
      "metadata": {
        "id": "jUFuoH_Yw1C7"
      },
      "outputs": [],
      "source": [
        "df.head(3)"
      ]
    },
    {
      "cell_type": "code",
      "execution_count": null,
      "metadata": {
        "id": "Ego7-x1pw1C7"
      },
      "outputs": [],
      "source": [
        "# Set aside two variables.\n",
        "x = df['Petal.Length']\n",
        "y = df['Sepal.Length']"
      ]
    },
    {
      "cell_type": "markdown",
      "metadata": {
        "id": "0_0KJx6aw1C7"
      },
      "source": [
        "#### 1.1. Pearson:"
      ]
    },
    {
      "cell_type": "code",
      "execution_count": null,
      "metadata": {
        "id": "GR9yV8gcw1C8"
      },
      "outputs": [],
      "source": [
        "# Using the SciPy function.\n",
        "# Correlation and p-value.\n",
        "np.round(st.pearsonr(x,y, alter),3)      # Pearson correlation coefficient and p-value for testing non-correlation.     \n",
        "                                         \n",
        "\"\"\"\n",
        "    An object with the following attributes:\n",
        "       - Pearson product-moment correlation coefficent.\n",
        "       - The p-value associated with the chosen alternative.\n",
        "\"\"\""
      ]
    },
    {
      "cell_type": "code",
      "execution_count": null,
      "metadata": {
        "id": "xb7S74CEw1C8"
      },
      "outputs": [],
      "source": [
        "# Using the Pandas function.\n",
        "x.corr(y)"
      ]
    },
    {
      "cell_type": "code",
      "execution_count": null,
      "metadata": {
        "id": "Xagjp8XPw1C9"
      },
      "outputs": [],
      "source": [
        "# Correlation array.\n",
        "np.round(df.corr(),3)               "
      ]
    },
    {
      "cell_type": "markdown",
      "metadata": {
        "id": "wSEh7GI7w1C9"
      },
      "source": [
        "#### 1.2. Spearman:"
      ]
    },
    {
      "cell_type": "code",
      "execution_count": null,
      "metadata": {
        "id": "4GuSFucrw1C-"
      },
      "outputs": [],
      "source": [
        "# Using the SciPy function.\n",
        "# Correlation and p-value.\n",
        "np.round(st.spearmanr(x,y),3)          "
      ]
    },
    {
      "cell_type": "markdown",
      "metadata": {
        "id": "8UVCrojuw1C-"
      },
      "source": [
        "#### 1.3. Kendall:"
      ]
    },
    {
      "cell_type": "code",
      "execution_count": null,
      "metadata": {
        "id": "R6h1fhypw1C-"
      },
      "outputs": [],
      "source": [
        "# Using the SciPy function.\n",
        "# Correlation and p-value.\n",
        "np.round(st.kendalltau(x,y),3)         # 상관계수와 p-값."
      ]
    },
    {
      "cell_type": "markdown",
      "metadata": {
        "id": "wP2v_mkJw1C-"
      },
      "source": [
        "### 2. Interval Estimation of the Correlation:"
      ]
    },
    {
      "cell_type": "code",
      "execution_count": null,
      "metadata": {
        "id": "Tso2ZOlCw1C_"
      },
      "outputs": [],
      "source": [
        "!wget --no-clobber https://raw.githubusercontent.com/tn-220/SIC-Machine-Learning/main/SIC_ML_Coding_Exercises/SIC_ML_Chapter_04_Coding_Exercises/data_studentlist.csv"
      ]
    },
    {
      "cell_type": "code",
      "execution_count": null,
      "metadata": {
        "id": "bq7sKXPMw1C_"
      },
      "outputs": [],
      "source": [
        "# Read in another data set.\n",
        "df = pd.read_csv('data_studentlist.csv', header='infer')"
      ]
    },
    {
      "cell_type": "code",
      "execution_count": null,
      "metadata": {
        "id": "Xfzcet8Tw1C_"
      },
      "outputs": [],
      "source": [
        "df.head(3)"
      ]
    },
    {
      "cell_type": "code",
      "execution_count": null,
      "metadata": {
        "id": "fykVeZakw1C_"
      },
      "outputs": [],
      "source": [
        "# Set aside two variables.\n",
        "x = df.height\n",
        "y = df.weight"
      ]
    },
    {
      "cell_type": "markdown",
      "metadata": {
        "id": "QM4BwEIBw1C_"
      },
      "source": [
        "#### 2.2. Confidence Interval of the Pearson Correlation: "
      ]
    },
    {
      "cell_type": "code",
      "execution_count": null,
      "metadata": {
        "id": "lpqlGYM3w1DA"
      },
      "outputs": [],
      "source": [
        "# Apply the Fisher's z-transformation.\n",
        "# See the lecture.\n",
        "n = len(x)\n",
        "r = x.corr(y)\n",
        "z = np.arctanh(r)\n",
        "std_error_z = 1/np.sqrt(n-3)"
      ]
    },
    {
      "cell_type": "code",
      "execution_count": null,
      "metadata": {
        "id": "jvGm1dZzw1DA"
      },
      "outputs": [],
      "source": [
        "# 95% confidence interval. \n",
        "# Expressed as a dictionary object.\n",
        "{'low':np.tanh(z-st.norm.ppf(0.975)*std_error_z), 'high': np.tanh(z+st.norm.ppf(0.975)*std_error_z)}"
      ]
    },
    {
      "cell_type": "code",
      "execution_count": null,
      "metadata": {
        "id": "_toVhlbGw1DA"
      },
      "outputs": [],
      "source": [
        "# 99% confidence interval.\n",
        "# Expressed as a dictionary object.\n",
        "{'low':np.tanh(z-st.norm.ppf(0.995)*std_error_z), 'high': np.tanh(z+st.norm.ppf(0.995)*std_error_z)}"
      ]
    },
    {
      "cell_type": "code",
      "execution_count": null,
      "metadata": {
        "id": "jpkLoUm8w1DA"
      },
      "outputs": [],
      "source": []
    }
  ],
  "metadata": {
    "kernelspec": {
      "display_name": "Python 3",
      "language": "python",
      "name": "python3"
    },
    "language_info": {
      "codemirror_mode": {
        "name": "ipython",
        "version": 3
      },
      "file_extension": ".py",
      "mimetype": "text/x-python",
      "name": "python",
      "nbconvert_exporter": "python",
      "pygments_lexer": "ipython3",
      "version": "3.7.3"
    },
    "colab": {
      "provenance": [],
      "include_colab_link": true
    }
  },
  "nbformat": 4,
  "nbformat_minor": 0
}