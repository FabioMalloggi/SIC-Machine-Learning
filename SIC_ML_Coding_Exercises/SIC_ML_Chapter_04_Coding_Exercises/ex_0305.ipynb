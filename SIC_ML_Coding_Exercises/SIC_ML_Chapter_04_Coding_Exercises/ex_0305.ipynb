{
  "cells": [
    {
      "cell_type": "markdown",
      "metadata": {
        "id": "view-in-github",
        "colab_type": "text"
      },
      "source": [
        "<a href=\"https://colab.research.google.com/github/tn-220/SIC-Machine-Learning/blob/main/SIC_ML_Coding_Exercises/SIC_ML_Chapter_04_Coding_Exercises/ex_0305.ipynb\" target=\"_parent\"><img src=\"https://colab.research.google.com/assets/colab-badge.svg\" alt=\"Open In Colab\"/></a>"
      ]
    },
    {
      "cell_type": "markdown",
      "metadata": {
        "id": "mUOPiPsy_OY3"
      },
      "source": [
        "## Coding Exercise #0305"
      ]
    },
    {
      "cell_type": "markdown",
      "metadata": {
        "id": "7QiNJJcD_OY6"
      },
      "source": [
        "### 1. Interval Estimation of the Mean:"
      ]
    },
    {
      "cell_type": "code",
      "execution_count": null,
      "metadata": {
        "id": "SAAVUPy-_OY7"
      },
      "outputs": [],
      "source": [
        "import numpy as np\n",
        "import scipy.stats as st"
      ]
    },
    {
      "cell_type": "code",
      "execution_count": null,
      "metadata": {
        "id": "uenc-Lah_OY8"
      },
      "outputs": [],
      "source": [
        "# x contains a sample.\n",
        "# n = sample size.\n",
        "x = np.array([25,24,24,27,29,31,28,24,25,26,25,18,30,28,23,26,27,23,16,20,22,22,25,24, 24,25,25,27,26,30,25,25,26,26,25,24])\n",
        "n = len(x)\n",
        "print(x)\n",
        "print(n)"
      ]
    },
    {
      "cell_type": "code",
      "execution_count": null,
      "metadata": {
        "id": "YdFkX2go_OY8"
      },
      "outputs": [],
      "source": [
        "# SEM = Standard Error of the Mean.\n",
        "# In order to do unbiased estimation of the standard deviation, we set ddof = 1. \n",
        "x_mean = x.mean()\n",
        "SEM = x.std(ddof=1)/np.sqrt(n*1.0)"
      ]
    },
    {
      "cell_type": "markdown",
      "metadata": {
        "id": "_hYxxkr6_OY8"
      },
      "source": [
        "#### 1.1 90% Confidence Interval:"
      ]
    },
    {
      "cell_type": "code",
      "source": [
        "z = st.norm.ppf(0.05)\n",
        "print(z)"
      ],
      "metadata": {
        "id": "LgWXuk-NBUmm"
      },
      "execution_count": null,
      "outputs": []
    },
    {
      "cell_type": "code",
      "execution_count": null,
      "metadata": {
        "id": "-H8pBoO8_OY9"
      },
      "outputs": [],
      "source": [
        "# Using the approximated quantiles of the Standard Normal.\n",
        "\n",
        "(x_mean - 1.645*SEM, x_mean + 1.645*SEM)"
      ]
    },
    {
      "cell_type": "code",
      "execution_count": null,
      "metadata": {
        "id": "LN_Sc-FD_OY-"
      },
      "outputs": [],
      "source": [
        "# Using the exact quantiles of the Standard Normal.\n",
        "(x_mean - st.norm.ppf(0.95,loc=0,scale=1)*SEM, x_mean + st.norm.ppf(0.95,loc=0,scale=1)*SEM)"
      ]
    },
    {
      "cell_type": "code",
      "execution_count": null,
      "metadata": {
        "id": "2jO_Td59_OY-"
      },
      "outputs": [],
      "source": [
        "# Using the interval() function from the SciPy library (Standard Normal). \n",
        "st.norm.interval(0.9, loc = x_mean, scale = SEM )"
      ]
    },
    {
      "cell_type": "code",
      "execution_count": null,
      "metadata": {
        "id": "IFYSjgV3_OY_"
      },
      "outputs": [],
      "source": [
        "# Using the exact quantiles of the Student-t.\n",
        "(x_mean - st.t.ppf(0.95,df=n-1)*SEM, x_mean + st.t.ppf(0.95,df=n-1)*SEM)"
      ]
    },
    {
      "cell_type": "code",
      "execution_count": null,
      "metadata": {
        "id": "Oe1t8SZY_OY_"
      },
      "outputs": [],
      "source": [
        "# Using the interval() function from the SciPy library (Student-t).\n",
        "st.t.interval(0.9, df = n-1, loc = x_mean, scale = SEM )"
      ]
    },
    {
      "cell_type": "markdown",
      "metadata": {
        "id": "5ruzU9Zx_OZA"
      },
      "source": [
        "#### 1.2. 95% Confidence Interval:"
      ]
    },
    {
      "cell_type": "code",
      "execution_count": null,
      "metadata": {
        "id": "y4DoR8oM_OZA"
      },
      "outputs": [],
      "source": [
        "# Using the approximated quantiles of the Standard Normal.\n",
        "(x_mean - 1.96*SEM, x_mean + 1.96*SEM)"
      ]
    },
    {
      "cell_type": "code",
      "execution_count": null,
      "metadata": {
        "id": "_uHevT9K_OZA"
      },
      "outputs": [],
      "source": [
        "# Using the exact quantiles of the Standard Normal.\n",
        "(x_mean - st.norm.ppf(0.975,loc=0,scale=1)*SEM, x_mean + st.norm.ppf(0.975,loc=0,scale=1)*SEM)"
      ]
    },
    {
      "cell_type": "code",
      "execution_count": null,
      "metadata": {
        "id": "A8M8LMcw_OZB"
      },
      "outputs": [],
      "source": [
        "# Using the interval() function from the SciPy library (Standard Normal). \n",
        "st.norm.interval(0.95, loc = x_mean, scale = SEM )"
      ]
    },
    {
      "cell_type": "code",
      "execution_count": null,
      "metadata": {
        "id": "c273zvwi_OZB"
      },
      "outputs": [],
      "source": [
        "# Using the exact quantiles of the Student-t.\n",
        "(x_mean - st.t.ppf(0.975,df=n-1)*SEM, x_mean + st.t.ppf(0.975,df=n-1)*SEM)"
      ]
    },
    {
      "cell_type": "code",
      "execution_count": null,
      "metadata": {
        "id": "a5S3KiA-_OZB"
      },
      "outputs": [],
      "source": [
        "# Using the interval() function from the SciPy library (Student-t).\n",
        "st.t.interval(0.95, df = n-1, loc = x_mean, scale = SEM )"
      ]
    },
    {
      "cell_type": "markdown",
      "metadata": {
        "id": "-JqDZD9j_OZB"
      },
      "source": [
        "#### 1.3. 99% Confidence Interval:"
      ]
    },
    {
      "cell_type": "code",
      "execution_count": null,
      "metadata": {
        "id": "5YbY6o_Z_OZC"
      },
      "outputs": [],
      "source": [
        "# Using the approximated quantiles of the Standard Normal.\n",
        "(x_mean - 2.576*SEM, x_mean + 2.576*SEM)"
      ]
    },
    {
      "cell_type": "code",
      "execution_count": null,
      "metadata": {
        "id": "PZC8b9aG_OZC"
      },
      "outputs": [],
      "source": [
        "# Using the exact quantiles of the Standard Normal.\n",
        "(x_mean - st.norm.ppf(0.995,loc=0,scale=1)*SEM, x_mean + st.norm.ppf(0.995,loc=0,scale=1)*SEM)"
      ]
    },
    {
      "cell_type": "code",
      "execution_count": null,
      "metadata": {
        "id": "X9uMfhKX_OZC"
      },
      "outputs": [],
      "source": [
        "# Using the interval() function from the SciPy library (Standard Normal). \n",
        "st.norm.interval(0.99, loc = x_mean, scale = SEM )"
      ]
    },
    {
      "cell_type": "code",
      "execution_count": null,
      "metadata": {
        "id": "oXVGQWvu_OZC"
      },
      "outputs": [],
      "source": [
        "# Using the exact quantiles of the Student-t.\n",
        "(x_mean - st.t.ppf(0.995,df=n-1)*SEM, x_mean + st.t.ppf(0.995,df=n-1)*SEM)"
      ]
    },
    {
      "cell_type": "code",
      "execution_count": null,
      "metadata": {
        "id": "gIXsN0nO_OZD"
      },
      "outputs": [],
      "source": [
        "# Using the interval() function from the SciPy library (Student-t).\n",
        "st.t.interval(0.99, df = n-1, loc = x_mean, scale = SEM )"
      ]
    },
    {
      "cell_type": "code",
      "execution_count": null,
      "metadata": {
        "id": "nr4O3t2F_OZD"
      },
      "outputs": [],
      "source": []
    },
    {
      "cell_type": "code",
      "execution_count": null,
      "metadata": {
        "id": "dKCWeo-h_OZD"
      },
      "outputs": [],
      "source": []
    }
  ],
  "metadata": {
    "kernelspec": {
      "display_name": "Python 3",
      "language": "python",
      "name": "python3"
    },
    "language_info": {
      "codemirror_mode": {
        "name": "ipython",
        "version": 3
      },
      "file_extension": ".py",
      "mimetype": "text/x-python",
      "name": "python",
      "nbconvert_exporter": "python",
      "pygments_lexer": "ipython3",
      "version": "3.7.3"
    },
    "colab": {
      "provenance": [],
      "include_colab_link": true
    }
  },
  "nbformat": 4,
  "nbformat_minor": 0
}