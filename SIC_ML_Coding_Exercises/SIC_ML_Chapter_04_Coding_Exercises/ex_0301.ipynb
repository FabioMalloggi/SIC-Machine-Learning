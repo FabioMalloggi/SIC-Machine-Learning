{
  "cells": [
    {
      "cell_type": "markdown",
      "metadata": {
        "id": "Pu8bTEyEBUGt"
      },
      "source": [
        "## Coding Exercise #0301"
      ]
    },
    {
      "cell_type": "markdown",
      "metadata": {
        "id": "VS9H4V6yBUGw"
      },
      "source": [
        "### 1. Discrete probability distribution:"
      ]
    },
    {
      "cell_type": "code",
      "execution_count": 2,
      "metadata": {
        "id": "gjb5mj0bBUGx"
      },
      "outputs": [],
      "source": [
        "import scipy.stats as st\n",
        "import matplotlib.pyplot as plt\n",
        "import numpy as np\n",
        "%matplotlib inline"
      ]
    },
    {
      "cell_type": "markdown",
      "metadata": {
        "id": "0i9xvTR7BUGy"
      },
      "source": [
        "#### 1.1. Bernoulli:\n",
        "It is the discrete probability.\n",
        "* A single trial\n",
        "* The trial can result in one of two possible outcomes: success and failure\n",
        "* P(Success)=p\n",
        "* P(Failure)=1-p"
      ]
    },
    {
      "cell_type": "code",
      "source": [
        "p = 0.3\n",
        "mean, var = st.bernoulli.stats(p, moments='mv')\n",
        "print(f\"If succes rate is %{p*100} then the mean of Bernoulli distribution is {mean} and the Variance is {var}\")"
      ],
      "metadata": {
        "id": "rpWNghLh0gXJ",
        "outputId": "d0fb7582-fcb3-4f8a-fc84-5d31ccb0a959",
        "colab": {
          "base_uri": "https://localhost:8080/"
        }
      },
      "execution_count": 3,
      "outputs": [
        {
          "output_type": "stream",
          "name": "stdout",
          "text": [
            "If succes rate is %30.0 then the mean of Bernoulli distribution is 0.3 and the Variance is 0.21\n"
          ]
        }
      ]
    },
    {
      "cell_type": "code",
      "source": [
        "r = st.bernoulli.rvs(p, size=100)     # Random variates \n",
        "r"
      ],
      "metadata": {
        "id": "SXPBcqDp08Zn"
      },
      "execution_count": null,
      "outputs": []
    },
    {
      "cell_type": "code",
      "source": [
        "r = st.bernoulli.rvs(p, size=10000)     # Random variates \n",
        "r"
      ],
      "metadata": {
        "id": "PYnWqg1T7nOu"
      },
      "execution_count": null,
      "outputs": []
    },
    {
      "cell_type": "code",
      "source": [
        "r.mean()"
      ],
      "metadata": {
        "id": "fL3dDIho4YWE"
      },
      "execution_count": null,
      "outputs": []
    },
    {
      "cell_type": "code",
      "source": [
        "r.var()"
      ],
      "metadata": {
        "id": "jVcVrza64oIz"
      },
      "execution_count": null,
      "outputs": []
    },
    {
      "cell_type": "code",
      "source": [],
      "metadata": {
        "id": "n2FF7R501dJ4"
      },
      "execution_count": null,
      "outputs": []
    },
    {
      "cell_type": "markdown",
      "metadata": {
        "id": "9QPqeSPdynh9"
      },
      "source": [
        "#### 1.2. Binomial:\n",
        "It is the discrete probability distribution of the number of successes in a sequence of n independent experiments, each asking a yes–no question.\n",
        "\n",
        "\n",
        "For example if a coin is fliped n times, what is the probability of having x head?"
      ]
    },
    {
      "cell_type": "code",
      "execution_count": null,
      "metadata": {
        "id": "yq9jQZViBUGy"
      },
      "outputs": [],
      "source": [
        "# Sample size and the p parameter.\n",
        "n=10\n",
        "p=0.5"
      ]
    },
    {
      "cell_type": "code",
      "execution_count": null,
      "metadata": {
        "id": "rezg58TnBUGz"
      },
      "outputs": [],
      "source": [
        "# Probability distribution at x = 5.\n",
        "st.binom.pmf(5, n, p)"
      ]
    },
    {
      "cell_type": "code",
      "source": [
        "st.binom.pmf(0, n, p) + st.binom.pmf(1, n, p) + st.binom.pmf(2, n, p) + st.binom.pmf(3, n, p) + st.binom.pmf(4, n, p) + st.binom.pmf(5, n, p)"
      ],
      "metadata": {
        "id": "vMLxgLdSnd5O"
      },
      "execution_count": null,
      "outputs": []
    },
    {
      "cell_type": "code",
      "execution_count": null,
      "metadata": {
        "id": "_gFJPay0BUG0"
      },
      "outputs": [],
      "source": [
        "# P(0 <= x <= 5)\n",
        "st.binom.cdf(5,n,p)"
      ]
    },
    {
      "cell_type": "code",
      "execution_count": null,
      "metadata": {
        "id": "zHnIb9MbBUG0"
      },
      "outputs": [],
      "source": [
        "# P(3 <= x <=7)\n",
        "st.binom.cdf(7,n,p)-st.binom.cdf(2,n,p)        "
      ]
    },
    {
      "cell_type": "code",
      "execution_count": null,
      "metadata": {
        "id": "GpVz6VwhBUGz"
      },
      "outputs": [],
      "source": [
        "# Percent point function \n",
        "v = st.binom.ppf(0.6, n, p)     # 60% of the time there is at least v head"
      ]
    },
    {
      "cell_type": "code",
      "execution_count": null,
      "metadata": {
        "id": "fAcZKWt2BUG0"
      },
      "outputs": [],
      "source": [
        "# Visualizing the probability distribution.\n",
        "x=np.arange(0,11)\n",
        "plt.scatter(x, st.binom.pmf(x,n,p),color='red')\n",
        "plt.show()"
      ]
    },
    {
      "cell_type": "code",
      "source": [
        "mean, var = st.binom.stats(n, p, moments='mv')\n",
        "print(f\"if a fair coin flips {n} times, we expect in avrage {mean} head with the variance of {var}\")"
      ],
      "metadata": {
        "id": "HtgveCNm7-mq"
      },
      "execution_count": null,
      "outputs": []
    },
    {
      "cell_type": "code",
      "source": [
        "r = st.binom.rvs(n, p, size=100)     # Random variates \n",
        "r"
      ],
      "metadata": {
        "id": "vWYJMCZ75NOa"
      },
      "execution_count": null,
      "outputs": []
    },
    {
      "cell_type": "code",
      "source": [
        "r = st.binom.rvs(n, p, size=10000)     # Random variates \n",
        "print(r.mean())\n",
        "print(r.var())"
      ],
      "metadata": {
        "id": "iePsZSoN7gnB"
      },
      "execution_count": null,
      "outputs": []
    },
    {
      "cell_type": "markdown",
      "metadata": {
        "id": "e3PqKwj_BUG1"
      },
      "source": [
        "#### 1.3. Geometric:\n",
        "It represents the number of failures before you get a success in a series of Bernoulli trials.\n",
        "\n",
        "\n",
        "Example: If, in a network, there is a probability of success in sending a packet from a telecommunication switch to the adjacent switch p, on average, how many times should we send the packet so that the packet is successful once?\n",
        "\n"
      ]
    },
    {
      "cell_type": "code",
      "source": [
        "p = 0.5\n",
        "mean, var = st.geom.stats(p, moments='mv')\n",
        "print(f\"mean = {mean} , variance = {var}\")"
      ],
      "metadata": {
        "id": "i0QOZJ_nDlxJ"
      },
      "execution_count": null,
      "outputs": []
    },
    {
      "cell_type": "code",
      "source": [
        "r = st.geom.rvs(p, size=100)     # Random variates \n",
        "r"
      ],
      "metadata": {
        "id": "DZS4Z2XcERCG"
      },
      "execution_count": null,
      "outputs": []
    },
    {
      "cell_type": "code",
      "source": [
        "r = st.geom.rvs(p, size=10000) \n",
        "r.mean()"
      ],
      "metadata": {
        "id": "nloHBTM-F184"
      },
      "execution_count": null,
      "outputs": []
    },
    {
      "cell_type": "markdown",
      "metadata": {
        "id": "l4yOHWiUBkRH"
      },
      "source": [
        "#### 1.4. Poisson:\n",
        "\n",
        "A Poisson random variable counts the number of events occurring in a fixed interval of time or space, given that these events occur with an average rate λ. \n",
        "\n",
        "\n",
        "This distribution has been used to model events such as meteor showers, goals in a soccer match, "
      ]
    },
    {
      "cell_type": "code",
      "execution_count": null,
      "metadata": {
        "id": "WZtKWfQwBUG1"
      },
      "outputs": [],
      "source": [
        "# The lambda parameter.\n",
        "lamb = 2"
      ]
    },
    {
      "cell_type": "code",
      "execution_count": null,
      "metadata": {
        "id": "3XgSH1SqBUG1"
      },
      "outputs": [],
      "source": [
        "# Probability distribution at x = 2.\n",
        "st.poisson.pmf(2,lamb)             "
      ]
    },
    {
      "cell_type": "code",
      "execution_count": null,
      "metadata": {
        "id": "0GntSzwXBUG1"
      },
      "outputs": [],
      "source": [
        "# Quantile at alpha = 0.5\n",
        "# More about quantiles in the Unit III.\n",
        "st.poisson.ppf(0.5,lamb)                 "
      ]
    },
    {
      "cell_type": "code",
      "execution_count": null,
      "metadata": {
        "id": "AmojRRLWBUG2"
      },
      "outputs": [],
      "source": [
        "# P(0 <= x <= 5)\n",
        "st.poisson.cdf(5,lamb)"
      ]
    },
    {
      "cell_type": "code",
      "execution_count": null,
      "metadata": {
        "id": "SQQZbGR2BUG2"
      },
      "outputs": [],
      "source": [
        "# P(3 <= x <=7)\n",
        "st.poisson.cdf(7,lamb)-st.poisson.cdf(2,lamb)"
      ]
    },
    {
      "cell_type": "code",
      "execution_count": null,
      "metadata": {
        "id": "AtrN8IRvBUG2"
      },
      "outputs": [],
      "source": [
        "# Visualizing the probability distribution.\n",
        "x=np.arange(0,11)\n",
        "plt.scatter(x, st.poisson.pmf(x,lamb),color='green')\n",
        "plt.show()"
      ]
    },
    {
      "cell_type": "code",
      "execution_count": null,
      "metadata": {
        "id": "AzJ4H0sABUG2"
      },
      "outputs": [],
      "source": []
    }
  ],
  "metadata": {
    "kernelspec": {
      "display_name": "Python 3",
      "language": "python",
      "name": "python3"
    },
    "language_info": {
      "codemirror_mode": {
        "name": "ipython",
        "version": 3
      },
      "file_extension": ".py",
      "mimetype": "text/x-python",
      "name": "python",
      "nbconvert_exporter": "python",
      "pygments_lexer": "ipython3",
      "version": "3.7.3"
    },
    "colab": {
      "provenance": []
    }
  },
  "nbformat": 4,
  "nbformat_minor": 0
}