{
  "cells": [
    {
      "cell_type": "markdown",
      "metadata": {
        "id": "view-in-github",
        "colab_type": "text"
      },
      "source": [
        "<a href=\"https://colab.research.google.com/github/tn-220/SIC-Machine-Learning/blob/main/SIC_ML_Coding_Exercises/SIC_ML_Chapter_07_Coding_Exercises/ex_0601.ipynb\" target=\"_parent\"><img src=\"https://colab.research.google.com/assets/colab-badge.svg\" alt=\"Open In Colab\"/></a>"
      ]
    },
    {
      "cell_type": "markdown",
      "metadata": {
        "id": "OTw-5TnTWLl0"
      },
      "source": [
        "## Coding Exercise #0601"
      ]
    },
    {
      "cell_type": "markdown",
      "metadata": {
        "id": "hkURiBxJWLl3"
      },
      "source": [
        "### 1. String functions:"
      ]
    },
    {
      "cell_type": "code",
      "execution_count": null,
      "metadata": {
        "id": "duQIwL4bWLl4"
      },
      "outputs": [],
      "source": [
        "# To lowercase.\n",
        "\"HELLO! HOW ARE YOU?\".lower()"
      ]
    },
    {
      "cell_type": "code",
      "execution_count": null,
      "metadata": {
        "id": "W4P_hJPtWLl4"
      },
      "outputs": [],
      "source": [
        "# To uppercase.\n",
        "\"this is a warning!\".upper()"
      ]
    },
    {
      "cell_type": "code",
      "execution_count": null,
      "metadata": {
        "id": "KNBOsU9FWLl5"
      },
      "outputs": [],
      "source": [
        "# Split the string using a space as separator.\n",
        "x = \"Once uppon a time, there was a prince and a princess.\".split(\" \")"
      ]
    },
    {
      "cell_type": "code",
      "execution_count": null,
      "metadata": {
        "id": "pdKKFkeFWLl5"
      },
      "outputs": [],
      "source": [
        "print(x)"
      ]
    },
    {
      "cell_type": "code",
      "execution_count": null,
      "metadata": {
        "id": "OUi8hrfQWLl6"
      },
      "outputs": [],
      "source": [
        "# Join the list of string objects using a space as separator.\n",
        "\" \".join(x)"
      ]
    },
    {
      "cell_type": "code",
      "execution_count": null,
      "metadata": {
        "id": "LnovbnkBWLl6"
      },
      "outputs": [],
      "source": [
        "# Measure the length of a string object.\n",
        "y = \"Once uppon a time, there was a prince and a princess.\"\n",
        "print(len(y))"
      ]
    },
    {
      "cell_type": "code",
      "execution_count": null,
      "metadata": {
        "id": "7-iVVPoUWLl6"
      },
      "outputs": [],
      "source": [
        "# Count the number of occurrences of 'a'.\n",
        "y.count('a')"
      ]
    },
    {
      "cell_type": "code",
      "execution_count": null,
      "metadata": {
        "id": "r6reWvWdWLl7"
      },
      "outputs": [],
      "source": [
        "# Sub-string.\n",
        "y[0:10]"
      ]
    },
    {
      "cell_type": "markdown",
      "metadata": {
        "id": "9KnTQohbWLl7"
      },
      "source": [
        "### 2. Regular expressions:\n",
        "This module provides regular expression matching operations similar to those found in Perl."
      ]
    },
    {
      "cell_type": "code",
      "execution_count": null,
      "metadata": {
        "id": "p_RCeKqnWLl7"
      },
      "outputs": [],
      "source": [
        "import re "
      ]
    },
    {
      "cell_type": "markdown",
      "metadata": {
        "id": "OCTy3mrtWLl8"
      },
      "source": [
        "#### 2.1. Metacharacter: Dot "
      ]
    },
    {
      "cell_type": "code",
      "execution_count": null,
      "metadata": {
        "id": "6sWo2NA2WLl8"
      },
      "outputs": [],
      "source": [
        "# Target strings.\n",
        "x1 = \"ct\"\n",
        "x2 = \"cat\"\n",
        "x3 = \"caat\""
      ]
    },
    {
      "cell_type": "code",
      "execution_count": null,
      "metadata": {
        "id": "0aZSIvuIWLl8"
      },
      "outputs": [],
      "source": [
        "# A regular expression.\n",
        "my_expression = re.compile(\"c.t\")"
      ]
    },
    {
      "cell_type": "code",
      "execution_count": null,
      "metadata": {
        "id": "VMZm_XE_WLl8"
      },
      "outputs": [],
      "source": [
        "if my_expression.search(x1):\n",
        "    print(\"Yes!\")\n",
        "else:\n",
        "    print(\"No\")"
      ]
    },
    {
      "cell_type": "code",
      "execution_count": null,
      "metadata": {
        "id": "-m8kbeNAWLl8"
      },
      "outputs": [],
      "source": [
        "if my_expression.search(x2):\n",
        "    print(\"Yes!\")\n",
        "else:\n",
        "    print(\"No\")"
      ]
    },
    {
      "cell_type": "code",
      "execution_count": null,
      "metadata": {
        "id": "3-iIn1nGWLl9"
      },
      "outputs": [],
      "source": [
        "if my_expression.search(x3):\n",
        "    print(\"Yes!\")\n",
        "else:\n",
        "    print(\"No\")"
      ]
    },
    {
      "cell_type": "markdown",
      "metadata": {
        "id": "X8E61S85WLl9"
      },
      "source": [
        "#### 2.2. Metacharacter: ?"
      ]
    },
    {
      "cell_type": "code",
      "execution_count": null,
      "metadata": {
        "id": "j7OZBs6HWLl9"
      },
      "outputs": [],
      "source": [
        "# A regular expression.\n",
        "my_exp = \"ca?t\""
      ]
    },
    {
      "cell_type": "code",
      "source": [
        "re.sub('\\d+', 'aa', 'I have 35 students')\n"
      ],
      "metadata": {
        "id": "_A6vPAaWXZMe"
      },
      "execution_count": null,
      "outputs": []
    },
    {
      "cell_type": "code",
      "source": [
        "re.sub('<\\w+>', '', '<bx>I have 35 students<bx>')"
      ],
      "metadata": {
        "id": "4kE6x9EtX9ry"
      },
      "execution_count": null,
      "outputs": []
    },
    {
      "cell_type": "code",
      "execution_count": null,
      "metadata": {
        "id": "Eza-OQKcWLl9"
      },
      "outputs": [],
      "source": [
        "if re.search(my_exp, x1):\n",
        "    print(\"Yes!\")\n",
        "else:\n",
        "    print(\"No\")"
      ]
    },
    {
      "cell_type": "code",
      "execution_count": null,
      "metadata": {
        "id": "3DM-ZYuCWLl9"
      },
      "outputs": [],
      "source": [
        "if re.search(my_exp, x2):\n",
        "    print(\"Yes!\")\n",
        "else:\n",
        "    print(\"No\")"
      ]
    },
    {
      "cell_type": "code",
      "execution_count": null,
      "metadata": {
        "id": "AMXmCRuXWLl9"
      },
      "outputs": [],
      "source": [
        "if re.search(my_exp, x3):\n",
        "    print(\"Yes!\")\n",
        "else:\n",
        "    print(\"No\")"
      ]
    },
    {
      "cell_type": "markdown",
      "metadata": {
        "id": "yA2jAHgoWLl-"
      },
      "source": [
        "#### 2.3. Metacharacter: {m,n}"
      ]
    },
    {
      "cell_type": "code",
      "execution_count": null,
      "metadata": {
        "id": "mNsMtnrqWLl-"
      },
      "outputs": [],
      "source": [
        "# Target strings.\n",
        "x1 = \"ct\"\n",
        "x2 = \"cat\"\n",
        "x3 = \"caat\"\n",
        "x4 = \"caaat\""
      ]
    },
    {
      "cell_type": "code",
      "execution_count": null,
      "metadata": {
        "id": "nOmygsiwWLl-"
      },
      "outputs": [],
      "source": [
        "# A regular expression.\n",
        "my_exp= \"ca{1,2}t\""
      ]
    },
    {
      "cell_type": "code",
      "execution_count": null,
      "metadata": {
        "id": "t71FreBvWLl-"
      },
      "outputs": [],
      "source": [
        "if re.search(my_exp, x1):\n",
        "    print(\"Yes!\")\n",
        "else:\n",
        "    print(\"No\")"
      ]
    },
    {
      "cell_type": "code",
      "execution_count": null,
      "metadata": {
        "id": "b952bRpvWLl-"
      },
      "outputs": [],
      "source": [
        "if re.search(my_exp, x2):\n",
        "    print(\"Yes!\")\n",
        "else:\n",
        "    print(\"No\")"
      ]
    },
    {
      "cell_type": "code",
      "execution_count": null,
      "metadata": {
        "id": "tVjaBBveWLl-"
      },
      "outputs": [],
      "source": [
        "if re.search(my_exp, x3):\n",
        "    print(\"Yes!\")\n",
        "else:\n",
        "    print(\"No\")"
      ]
    },
    {
      "cell_type": "code",
      "execution_count": null,
      "metadata": {
        "id": "w7kYPIo6WLl-"
      },
      "outputs": [],
      "source": [
        "if re.search(my_exp, x4):\n",
        "    print(\"Yes!\")\n",
        "else:\n",
        "    print(\"No\")"
      ]
    },
    {
      "cell_type": "markdown",
      "metadata": {
        "id": "po1PffnXWLl-"
      },
      "source": [
        "#### 2.4. Metacharacter: ^"
      ]
    },
    {
      "cell_type": "code",
      "execution_count": null,
      "metadata": {
        "id": "U4DbnHO1WLl-"
      },
      "outputs": [],
      "source": [
        "# Target strings.\n",
        "x1 = \"That is your book.\"\n",
        "x2 = \"This is my book.\""
      ]
    },
    {
      "cell_type": "code",
      "execution_count": null,
      "metadata": {
        "id": "QtKLP42hWLl_"
      },
      "outputs": [],
      "source": [
        "# A regular expression.\n",
        "my_exp = \"^This\""
      ]
    },
    {
      "cell_type": "code",
      "execution_count": null,
      "metadata": {
        "id": "hVxoTssFWLl_"
      },
      "outputs": [],
      "source": [
        "if re.search(my_exp, x1):\n",
        "    print(\"Yes!\")\n",
        "else:\n",
        "    print(\"No\")"
      ]
    },
    {
      "cell_type": "code",
      "execution_count": null,
      "metadata": {
        "id": "h4UXaHVOWLl_"
      },
      "outputs": [],
      "source": [
        "if re.search(my_exp, x2):\n",
        "    print(\"Yes!\")\n",
        "else:\n",
        "    print(\"No\")"
      ]
    },
    {
      "cell_type": "markdown",
      "metadata": {
        "id": "M9a_S_tnWLl_"
      },
      "source": [
        "#### 2.5. Metacharacter: ^"
      ]
    },
    {
      "cell_type": "code",
      "execution_count": null,
      "metadata": {
        "id": "yDV6RGbKWLl_"
      },
      "outputs": [],
      "source": [
        "# Target strings.\n",
        "x1 = \"I don't like you\"\n",
        "x2 = \"You are great\"\n",
        "x3 = \"in case you forget, remember this\""
      ]
    },
    {
      "cell_type": "code",
      "execution_count": null,
      "metadata": {
        "id": "fwXJ3I5zWLl_"
      },
      "outputs": [],
      "source": [
        "# A regular expression.\n",
        "my_exp = \"^[Ii]\""
      ]
    },
    {
      "cell_type": "code",
      "execution_count": null,
      "metadata": {
        "id": "9pUkGaggWLl_"
      },
      "outputs": [],
      "source": [
        "if re.search(my_exp, x1):\n",
        "    print(\"Yes!\")\n",
        "else:\n",
        "    print(\"No\")"
      ]
    },
    {
      "cell_type": "code",
      "execution_count": null,
      "metadata": {
        "id": "YWbqMIyTWLl_"
      },
      "outputs": [],
      "source": [
        "if re.search(my_exp, x2):\n",
        "    print(\"Yes!\")\n",
        "else:\n",
        "    print(\"No\")"
      ]
    },
    {
      "cell_type": "code",
      "execution_count": null,
      "metadata": {
        "id": "OZef8yt5WLl_"
      },
      "outputs": [],
      "source": [
        "if re.search(my_exp, x3):\n",
        "    print(\"Yes!\")\n",
        "else:\n",
        "    print(\"No\")"
      ]
    },
    {
      "cell_type": "markdown",
      "metadata": {
        "id": "MpmCz5o_WLl_"
      },
      "source": [
        "More examples:"
      ]
    },
    {
      "cell_type": "code",
      "execution_count": null,
      "metadata": {
        "id": "eqy89v4TWLl_"
      },
      "outputs": [],
      "source": [
        "# Target strings.\n",
        "x1 = \"This is year 2019\"\n",
        "x2 = \"2000 is the year of my birth\""
      ]
    },
    {
      "cell_type": "code",
      "execution_count": null,
      "metadata": {
        "id": "jG0gxn2-WLmA"
      },
      "outputs": [],
      "source": [
        "# A regular expression.\n",
        "my_exp = \"^[0-9]\""
      ]
    },
    {
      "cell_type": "code",
      "execution_count": null,
      "metadata": {
        "id": "9KgZPIcAWLmA"
      },
      "outputs": [],
      "source": [
        "if re.search(my_exp, x1):\n",
        "    print(\"Yes!\")\n",
        "else:\n",
        "    print(\"No\")"
      ]
    },
    {
      "cell_type": "code",
      "execution_count": null,
      "metadata": {
        "id": "Vg0jk8A4WLmA"
      },
      "outputs": [],
      "source": [
        "if re.search(my_exp, x2):\n",
        "    print(\"Yes!\")\n",
        "else:\n",
        "    print(\"No\")"
      ]
    },
    {
      "cell_type": "markdown",
      "metadata": {
        "id": "O-18nS5HWLmA"
      },
      "source": [
        "#### 2.6. Metacharacter: $"
      ]
    },
    {
      "cell_type": "code",
      "execution_count": null,
      "metadata": {
        "id": "I2lR6-EWWLmA"
      },
      "outputs": [],
      "source": [
        "# Target strings.\n",
        "x1 = \"Python is easy\"\n",
        "x2 = \"You need Python\""
      ]
    },
    {
      "cell_type": "code",
      "execution_count": null,
      "metadata": {
        "id": "Qbn9lNPWWLmA"
      },
      "outputs": [],
      "source": [
        "# A regular expression.\n",
        "my_exp = \"Python$\""
      ]
    },
    {
      "cell_type": "code",
      "execution_count": null,
      "metadata": {
        "id": "n5GaaHoAWLmA"
      },
      "outputs": [],
      "source": [
        "if re.search(my_exp, x1):\n",
        "    print(\"Yes!\")\n",
        "else:\n",
        "    print(\"No\")"
      ]
    },
    {
      "cell_type": "code",
      "execution_count": null,
      "metadata": {
        "id": "lSCympufWLmA"
      },
      "outputs": [],
      "source": [
        "if re.search(my_exp, x2):\n",
        "    print(\"Yes!\")\n",
        "else:\n",
        "    print(\"No\")"
      ]
    },
    {
      "cell_type": "markdown",
      "metadata": {
        "id": "RiPofpVDWLmA"
      },
      "source": [
        "#### 2.7. Metacharacter: |"
      ]
    },
    {
      "cell_type": "code",
      "execution_count": null,
      "metadata": {
        "id": "3sfysWZMWLmA"
      },
      "outputs": [],
      "source": [
        "# Target strings.\n",
        "x1 = \"I love you\"\n",
        "x2 = \"I hate you\"\n",
        "x3 = \"I like you\""
      ]
    },
    {
      "cell_type": "code",
      "execution_count": null,
      "metadata": {
        "id": "PuZ6NiwuWLmB"
      },
      "outputs": [],
      "source": [
        "# A regular expression.\n",
        "my_exp = \"love|hate\""
      ]
    },
    {
      "cell_type": "code",
      "execution_count": null,
      "metadata": {
        "id": "ErJg5ur0WLmB"
      },
      "outputs": [],
      "source": [
        "if re.search(my_exp, x1):\n",
        "    print(\"Yes!\")\n",
        "else:\n",
        "    print(\"No\")"
      ]
    },
    {
      "cell_type": "code",
      "execution_count": null,
      "metadata": {
        "id": "dVKQ49H2WLmB"
      },
      "outputs": [],
      "source": [
        "if re.search(my_exp, x2):\n",
        "    print(\"Yes!\")\n",
        "else:\n",
        "    print(\"No\")"
      ]
    },
    {
      "cell_type": "code",
      "execution_count": null,
      "metadata": {
        "id": "JYGNoFrpWLmB"
      },
      "outputs": [],
      "source": [
        "if re.search(my_exp, x3):\n",
        "    print(\"Yes!\")\n",
        "else:\n",
        "    print(\"No\")"
      ]
    },
    {
      "cell_type": "markdown",
      "metadata": {
        "id": "UpkCe5fDWLmB"
      },
      "source": [
        "#### 2.8. sub() function:"
      ]
    },
    {
      "cell_type": "code",
      "execution_count": null,
      "metadata": {
        "id": "Da56TalWWLmB"
      },
      "outputs": [],
      "source": [
        "# Target strings.\n",
        "x1 = \"Welcome to the year 2018\"\n",
        "x2 = \"Just ~%* ++++--- arrived at @Jack's ##place.\"\n",
        "x3 = \"I                  love                you.\""
      ]
    },
    {
      "cell_type": "code",
      "execution_count": null,
      "metadata": {
        "id": "XPv-uYm0WLmB"
      },
      "outputs": [],
      "source": [
        "# Substitute the matching pattern with 'X'.\n",
        "re.sub('\\d','X',x1)"
      ]
    },
    {
      "cell_type": "code",
      "execution_count": null,
      "metadata": {
        "id": "21bx_yoCWLmB"
      },
      "outputs": [],
      "source": [
        "# Substitute the matching pattern with space.\n",
        "x2_modified = re.sub('[@~*#%+-]',' ',x2)\n",
        "x2_modified"
      ]
    },
    {
      "cell_type": "code",
      "execution_count": null,
      "metadata": {
        "id": "TmjUENL6WLmC"
      },
      "outputs": [],
      "source": [
        "# Remove the excessive spaces.\n",
        "x2_final = re.sub('\\s+',' ',x2_modified)\n",
        "x2_final"
      ]
    },
    {
      "cell_type": "code",
      "execution_count": null,
      "metadata": {
        "id": "bqraXzgMWLmC"
      },
      "outputs": [],
      "source": [
        "# Remove the excessive spaces.\n",
        "re.sub('\\s+',' ',x3)"
      ]
    },
    {
      "cell_type": "code",
      "execution_count": null,
      "metadata": {
        "id": "lnp6VPE2WLmC"
      },
      "outputs": [],
      "source": []
    }
  ],
  "metadata": {
    "kernelspec": {
      "display_name": "Python 3",
      "language": "python",
      "name": "python3"
    },
    "language_info": {
      "codemirror_mode": {
        "name": "ipython",
        "version": 3
      },
      "file_extension": ".py",
      "mimetype": "text/x-python",
      "name": "python",
      "nbconvert_exporter": "python",
      "pygments_lexer": "ipython3",
      "version": "3.7.3"
    },
    "colab": {
      "provenance": [],
      "include_colab_link": true
    }
  },
  "nbformat": 4,
  "nbformat_minor": 0
}