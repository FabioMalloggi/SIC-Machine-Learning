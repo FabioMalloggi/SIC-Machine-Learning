{
  "cells": [
    {
      "cell_type": "markdown",
      "metadata": {
        "id": "view-in-github",
        "colab_type": "text"
      },
      "source": [
        "<a href=\"https://colab.research.google.com/github/tn-220/SIC-Machine-Learning/blob/main/SIC_ML_Coding_Exercises/SIC_ML_Chapter_05_Coding_Exercises/ex_0401.ipynb\" target=\"_parent\"><img src=\"https://colab.research.google.com/assets/colab-badge.svg\" alt=\"Open In Colab\"/></a>"
      ]
    },
    {
      "cell_type": "markdown",
      "metadata": {
        "id": "r37I6Yfs-2ho"
      },
      "source": [
        "## Coding Exercise #0401"
      ]
    },
    {
      "cell_type": "markdown",
      "metadata": {
        "id": "1G1LIEQp-2hr"
      },
      "source": [
        "### 1. K-Means clustering with simulated data:\n",
        "\n",
        "all algorithms: https://scikit-learn.org/stable/modules/clustering.html"
      ]
    },
    {
      "cell_type": "code",
      "execution_count": null,
      "metadata": {
        "id": "jZEwa6OZ-2hr"
      },
      "outputs": [],
      "source": [
        "import numpy as np\n",
        "import pandas as pd\n",
        "import matplotlib.pyplot as plt\n",
        "import os\n",
        "from sklearn.cluster import KMeans\n",
        "from sklearn.datasets import make_blobs\n",
        "%matplotlib inline"
      ]
    },
    {
      "cell_type": "code",
      "source": [
        "KMeans?"
      ],
      "metadata": {
        "id": "pJC7ofrN7BXu"
      },
      "execution_count": null,
      "outputs": []
    },
    {
      "cell_type": "markdown",
      "metadata": {
        "id": "slwzleKS-2hs"
      },
      "source": [
        "#### 1.1. Generate simulated data and visualize:"
      ]
    },
    {
      "cell_type": "code",
      "source": [
        "\"\"\"\n",
        "    make_blobs : Generate isotropic Gaussian blobs for clustering.\n",
        "\"\"\"\n",
        "make_blobs?"
      ],
      "metadata": {
        "id": "FiEUaJ0xqb5_"
      },
      "execution_count": null,
      "outputs": []
    },
    {
      "cell_type": "code",
      "source": [
        "# 2 Features\n",
        "# 3 Clusters\n",
        "\n",
        "x, y = make_blobs(n_samples=100, n_features=2, centers=3) # Creats random sets of data\n",
        "print(type(x), x.shape)\n",
        "print(type(y), y.shape, \"\\n\")\n",
        "print(x[:5], \"\\n\")\n",
        "print(y[:5], \"\\n\")\n",
        "print(len(np.unique(x)),)\n",
        "print(len(np.unique(y)),)"
      ],
      "metadata": {
        "id": "V9UcSqj-rL8R"
      },
      "execution_count": null,
      "outputs": []
    },
    {
      "cell_type": "code",
      "source": [
        "plt.scatter(x[:,0], x[:,1], c=y) "
      ],
      "metadata": {
        "id": "P3fSLf9dtXNq"
      },
      "execution_count": null,
      "outputs": []
    },
    {
      "cell_type": "code",
      "source": [
        "# 3 Features\n",
        "# 3 Clusters\n",
        "\n",
        "x, y = make_blobs(n_samples=100, n_features=3, centers=3) # Creats random sets of data\n",
        "print(x.shape)\n",
        "\n",
        "fig = plt.figure()\n",
        "ax = fig.add_subplot(111, projection='3d')\n",
        "\n",
        "ax.scatter(x[:,0], x[:,1], x[:,2], c=y) \n",
        "\n",
        "plt.show()"
      ],
      "metadata": {
        "id": "-ZSCxmfyLAoo"
      },
      "execution_count": null,
      "outputs": []
    },
    {
      "cell_type": "code",
      "execution_count": null,
      "metadata": {
        "id": "0b1PvdFO-2ht"
      },
      "outputs": [],
      "source": [
        "# Dataset #1.\n",
        "\n",
        "print(type(make_blobs(n_samples=100, n_features=2, centers=2, cluster_std = 5, random_state=123)))\n",
        "X1, label1 = make_blobs(n_samples=100, n_features=2, centers=2, cluster_std = 5, random_state=123) # change the std to see the difference\n",
        "print(type(X1))\n",
        "print(type(label1))\n",
        "\n",
        "plt.scatter(X1[:,0],X1[:,1], c= label1, alpha=0.7 )   # c is the color, here is like hue in seaborn, label is the cluster\n",
        "plt.title('Dataset #1 : Original')\n",
        "plt.show()"
      ]
    },
    {
      "cell_type": "code",
      "execution_count": null,
      "metadata": {
        "id": "uhupbuYi-2ht"
      },
      "outputs": [],
      "source": [
        "# Dataset #2\n",
        "X2, label2 = make_blobs(n_samples=100, n_features=2, centers=3, cluster_std = 1, random_state=321)\n",
        "plt.scatter(X2[:,0],X2[:,1], c= label2, alpha=0.7 )\n",
        "plt.title('Dataset #2 : Original')\n",
        "plt.show()"
      ]
    },
    {
      "cell_type": "markdown",
      "metadata": {
        "id": "Hk1xxfb5-2ht"
      },
      "source": [
        "#### 1.2. Apply k-means clustering and visualize:"
      ]
    },
    {
      "cell_type": "code",
      "source": [
        "KMeans?"
      ],
      "metadata": {
        "id": "o4ZI5BaNwCfH"
      },
      "execution_count": null,
      "outputs": []
    },
    {
      "cell_type": "code",
      "execution_count": null,
      "metadata": {
        "id": "JyHLOE_K-2hu"
      },
      "outputs": [],
      "source": [
        "# Dataset #1 and two clusters.\n",
        "kmeans = KMeans(n_clusters=2,random_state=123)                 # kmeans object for 2 clusters. radom_state=123 means deterministic initialization.\n",
        "kmeans.fit(X1)                                                 # Unsupervised learning => Only X1.    \n",
        "myColors = {0:'red',1:'green', 2:'blue'}                       # Define a color palette: 0~2.\n",
        "print(len(kmeans.labels_), len(np.unique(kmeans.labels_)))\n",
        "plt.scatter(X1[:,0],X1[:,1], c= pd.Series(kmeans.labels_).apply(lambda x: myColors[x]), alpha=0.7 )   \n",
        "plt.title('Dataset #1 : K-Means')\n",
        "plt.show()"
      ]
    },
    {
      "cell_type": "code",
      "execution_count": null,
      "metadata": {
        "id": "YIb0Qp3V-2hu"
      },
      "outputs": [],
      "source": [
        "# Dataset #1 and three clusters.\n",
        "kmeans = KMeans(n_clusters=3,random_state=123)                 # kmeans object for 3 clusters. radom_state=123 means deterministic initialization.\n",
        "kmeans.fit(X1)                                                 # Unsupervised learning => Only X1.    \n",
        "plt.scatter(X1[:,0],X1[:,1], c= pd.Series(kmeans.labels_).apply(lambda x: myColors[x]), alpha=0.7 ) \n",
        "plt.title('Dataset #1 : K-Means')\n",
        "plt.show()"
      ]
    },
    {
      "cell_type": "code",
      "execution_count": null,
      "metadata": {
        "id": "6AZt5pMr-2hv"
      },
      "outputs": [],
      "source": [
        "# Dataset #2 and two clusters.\n",
        "kmeans = KMeans(n_clusters=2,random_state=123)                 # kmeans object for 2 clusters. radom_state=123 means deterministic initialization.\n",
        "kmeans.fit(X2)                                                 # Unsupervised learning => Only X2.    \n",
        "plt.scatter(X2[:,0],X2[:,1], c= pd.Series(kmeans.labels_).apply(lambda x: myColors[x]), alpha=0.7 )  \n",
        "plt.title('Dataset #2 : K-Means')\n",
        "plt.show()"
      ]
    },
    {
      "cell_type": "code",
      "execution_count": null,
      "metadata": {
        "id": "RNfzys-9-2hv"
      },
      "outputs": [],
      "source": [
        "# Dataset #2 and three clusters.\n",
        "kmeans = KMeans(n_clusters=3, random_state=123)                # kmeans object for 3 clusters. radom_state=123 means deterministic initialization.\n",
        "kmeans.fit(X2)                                                 # Unsupervised learning => Only X2.    \n",
        "plt.scatter(X2[:,0],X2[:,1], c= pd.Series(kmeans.labels_).apply(lambda x: myColors[x]), alpha=0.7 )  \n",
        "plt.title('Dataset #2 : K-Means')\n",
        "plt.show()"
      ]
    },
    {
      "cell_type": "code",
      "source": [
        "# Dataset #5 and three clusters.\n",
        "kmeans = KMeans(n_clusters=5)               \n",
        "myColors = {0:'red',1:'green', 2:'blue', 3:'black', 4:'yellow'}          \n",
        "kmeans.fit(X2)                                    \n",
        "plt.scatter(X2[:,0],X2[:,1], c= pd.Series(kmeans.labels_).apply(lambda x: myColors[x]), alpha=0.7 )  \n",
        "plt.title('Dataset #2 : K-Means')\n",
        "plt.show()"
      ],
      "metadata": {
        "id": "avGxjozMP7yX"
      },
      "execution_count": null,
      "outputs": []
    },
    {
      "cell_type": "code",
      "source": [
        "# Write similar code for data with 3 features\n",
        "\n",
        "\n",
        "\n"
      ],
      "metadata": {
        "id": "GGyUVezJPLVo"
      },
      "execution_count": null,
      "outputs": []
    },
    {
      "cell_type": "markdown",
      "metadata": {
        "id": "DnaPvzFl-2hw"
      },
      "source": [
        "NOTE: k means clusters have linear boundaries. The clustering result may reveal the existing structure, but this is not always guaranteed.\n",
        "\n",
        "Adjust the hyperparameters above and consider the results."
      ]
    }
  ],
  "metadata": {
    "kernelspec": {
      "display_name": "Python 3",
      "language": "python",
      "name": "python3"
    },
    "language_info": {
      "codemirror_mode": {
        "name": "ipython",
        "version": 3
      },
      "file_extension": ".py",
      "mimetype": "text/x-python",
      "name": "python",
      "nbconvert_exporter": "python",
      "pygments_lexer": "ipython3",
      "version": "3.7.3"
    },
    "colab": {
      "provenance": [],
      "include_colab_link": true
    }
  },
  "nbformat": 4,
  "nbformat_minor": 0
}