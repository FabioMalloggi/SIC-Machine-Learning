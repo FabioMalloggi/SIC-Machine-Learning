{
  "cells": [
    {
      "cell_type": "markdown",
      "metadata": {
        "id": "view-in-github",
        "colab_type": "text"
      },
      "source": [
        "<a href=\"https://colab.research.google.com/github/tn-220/SIC-Machine-Learning/blob/main/SIC_ML_Coding_Exercises/SIC_ML_Chapter_03_Coding_Exercises/ex_0209.ipynb\" target=\"_parent\"><img src=\"https://colab.research.google.com/assets/colab-badge.svg\" alt=\"Open In Colab\"/></a>"
      ]
    },
    {
      "cell_type": "markdown",
      "metadata": {
        "id": "FQ7RUeNs6ehE"
      },
      "source": [
        "## Coding Exercise #0209 "
      ]
    },
    {
      "cell_type": "code",
      "execution_count": null,
      "metadata": {
        "id": "h4oZitaG6ehI"
      },
      "outputs": [],
      "source": [
        "import matplotlib.pyplot as plt\n",
        "import numpy as np\n",
        "%matplotlib inline"
      ]
    },
    {
      "cell_type": "markdown",
      "metadata": {
        "id": "5CBv0kTe6ehK"
      },
      "source": [
        "### 1. Basic Matplotlib visualization:"
      ]
    },
    {
      "cell_type": "markdown",
      "metadata": {
        "id": "6ibTcSTd6ehK"
      },
      "source": [
        "#### 1.1. Bar plot:"
      ]
    },
    {
      "cell_type": "code",
      "execution_count": null,
      "metadata": {
        "id": "MiqslPp76ehK"
      },
      "outputs": [],
      "source": [
        "x = np.array(['Q1', 'Q2', 'Q3','Q4'])\n",
        "y = np.array([ 234.0, 254.7, 144.6, 317.6])\n",
        "plt.bar(x,y,color = 'purple')\n",
        "plt.title('BAR CHART')\n",
        "plt.show()"
      ]
    },
    {
      "cell_type": "markdown",
      "metadata": {
        "id": "fTY4zl6D6ehL"
      },
      "source": [
        "#### 1.2. Histogram:"
      ]
    },
    {
      "cell_type": "code",
      "execution_count": null,
      "metadata": {
        "id": "qErJBv_s6ehL"
      },
      "outputs": [],
      "source": [
        "x = np.random.randn(10000)\n",
        "plt.hist(x,bins=20,color='green',density=True)\n",
        "plt.title('HISTOGRAM')\n",
        "plt.show()"
      ]
    },
    {
      "cell_type": "code",
      "execution_count": null,
      "metadata": {
        "id": "Yj6r24rW6ehM"
      },
      "outputs": [],
      "source": [
        "x = np.random.randn(10000)\n",
        "plt.hist(x,bins=100,color='blue',density=False,alpha=0.3)\n",
        "plt.title('HISTOGRAM')\n",
        "plt.show()"
      ]
    },
    {
      "cell_type": "markdown",
      "metadata": {
        "id": "EAcI1CpE6ehM"
      },
      "source": [
        "#### 1.3. Box plot:"
      ]
    },
    {
      "cell_type": "code",
      "execution_count": null,
      "metadata": {
        "id": "0WepiUsi6ehN"
      },
      "outputs": [],
      "source": [
        "x = np.random.randn(10000)*10+3\n",
        "y = np.random.randn(10000)*10+5\n",
        "z = np.random.randn(10000)*10+1\n",
        "plt.boxplot([x,y,z],0)\n",
        "plt.title('BOX PLOTS')\n",
        "plt.show()"
      ]
    },
    {
      "cell_type": "code",
      "execution_count": null,
      "metadata": {
        "id": "vNxuqc4y6ehN"
      },
      "outputs": [],
      "source": [
        "plt.boxplot([x,y,z],0,vert=False)\n",
        "plt.title('BOX PLOTS')\n",
        "plt.show()"
      ]
    },
    {
      "cell_type": "markdown",
      "metadata": {
        "id": "ZvkoYQd76ehN"
      },
      "source": [
        "#### 1.4. Line plot:"
      ]
    },
    {
      "cell_type": "code",
      "execution_count": null,
      "metadata": {
        "id": "haIMwOkS6ehO"
      },
      "outputs": [],
      "source": [
        "x = np.linspace(0,10,100)\n",
        "y = np.sin(x)\n",
        "plt.plot(x,y,color='orange',linewidth=2)               # linestyle = '-'\n",
        "plt.xlabel('X')\n",
        "plt.ylabel('Sin')\n",
        "plt.title('LINE PLOT')\n",
        "plt.show()"
      ]
    },
    {
      "cell_type": "code",
      "execution_count": null,
      "metadata": {
        "id": "2664nmXx6ehO"
      },
      "outputs": [],
      "source": [
        "x = np.linspace(0,10,100)\n",
        "y = np.sin(x)\n",
        "plt.plot(x,y,color='blue',linestyle=':',linewidth=2)\n",
        "plt.xlabel('X')\n",
        "plt.ylabel('Sin')\n",
        "plt.title('LINE PLOT')\n",
        "plt.show()"
      ]
    },
    {
      "cell_type": "code",
      "execution_count": null,
      "metadata": {
        "id": "U65LhkEM6ehO"
      },
      "outputs": [],
      "source": [
        "x = np.linspace(0,10,100)\n",
        "y = np.sin(x)\n",
        "plt.plot(x,y,color='red',linestyle='-.',linewidth=2)\n",
        "plt.xlabel('X')\n",
        "plt.ylabel('Sin')\n",
        "plt.title('LINE PLOT')\n",
        "plt.show()"
      ]
    },
    {
      "cell_type": "code",
      "execution_count": null,
      "metadata": {
        "id": "zXFHrhas6ehO"
      },
      "outputs": [],
      "source": [
        "x = np.linspace(0,10,100)\n",
        "y = np.sin(x)\n",
        "plt.plot(x,y,color='green',linestyle='--',linewidth=2)\n",
        "plt.xlabel('X')\n",
        "plt.ylabel('Sin')\n",
        "plt.title('LINE PLOT')\n",
        "plt.show()"
      ]
    },
    {
      "cell_type": "code",
      "execution_count": null,
      "metadata": {
        "id": "XVtvG9rH6ehP"
      },
      "outputs": [],
      "source": [
        "x = np.linspace(0,10,100)\n",
        "y = np.sin(x)\n",
        "plt.plot(x,y,color='purple',linestyle='steps',linewidth=2)\n",
        "plt.xlabel('X')\n",
        "plt.ylabel('Sin')\n",
        "plt.title('LINE PLOT')\n",
        "plt.show()"
      ]
    },
    {
      "cell_type": "code",
      "execution_count": null,
      "metadata": {
        "id": "ZR71IVye6ehP"
      },
      "outputs": [],
      "source": [
        "x = np.linspace(0,10,100)\n",
        "y = np.sin(x)\n",
        "plt.plot(x,y,color='purple',linestyle='-',linewidth=2)\n",
        "plt.xlabel('X')\n",
        "plt.ylabel('Sin')\n",
        "plt.title('LINE PLOT')\n",
        "plt.xlim([0,5])                                     # Horizontal axis limits.\n",
        "plt.ylim([-2,+2])                                   # Vertical axis limits.\n",
        "plt.show()"
      ]
    },
    {
      "cell_type": "markdown",
      "metadata": {
        "id": "t9uq58wE6ehP"
      },
      "source": [
        "#### 1.5. Scatter plot 1:"
      ]
    },
    {
      "cell_type": "markdown",
      "metadata": {
        "id": "3eBjC00J6ehP"
      },
      "source": [
        "Scatter plots with plot() function and linestyle ='none':"
      ]
    },
    {
      "cell_type": "code",
      "execution_count": null,
      "metadata": {
        "id": "tk3B9AMd6ehP"
      },
      "outputs": [],
      "source": [
        "x = np.linspace(0,10,100)\n",
        "y = np.sin(x)\n",
        "plt.plot(x,y,color='red',marker='o',linestyle='none',markersize=5, alpha=0.5)\n",
        "plt.xlabel('X')\n",
        "plt.ylabel('Sin')\n",
        "plt.title('SCATTER PLOT')\n",
        "plt.show()"
      ]
    },
    {
      "cell_type": "code",
      "execution_count": null,
      "metadata": {
        "id": "06K3iJHY6ehQ"
      },
      "outputs": [],
      "source": [
        "x = np.linspace(0,10,100)\n",
        "y = np.sin(x)\n",
        "plt.plot(x,y,color='#FF8C00',marker='o',linestyle='none',markersize=5, alpha=0.5)     # RGB color.\n",
        "plt.xlabel('X')\n",
        "plt.ylabel('Sin')\n",
        "plt.title('SCATTER PLOT')\n",
        "plt.show()"
      ]
    },
    {
      "cell_type": "code",
      "execution_count": null,
      "metadata": {
        "id": "bXSF0NJj6ehQ"
      },
      "outputs": [],
      "source": [
        "x = np.linspace(0,10,100)\n",
        "y = np.sin(x)\n",
        "plt.plot(x,y,marker='o',linestyle='none',markersize=15,markerfacecolor='yellow',markeredgecolor='purple',markeredgewidth=2)\n",
        "plt.xlabel('X')\n",
        "plt.ylabel('Sin')\n",
        "plt.title('SCATTER PLOT')\n",
        "plt.show()"
      ]
    },
    {
      "cell_type": "markdown",
      "metadata": {
        "id": "KRF6mEOE6ehQ"
      },
      "source": [
        "#### 1.6. Scatter plot 2:"
      ]
    },
    {
      "cell_type": "markdown",
      "metadata": {
        "id": "nnuCsZWF6ehQ"
      },
      "source": [
        "Scatter plots with scatter() function:"
      ]
    },
    {
      "cell_type": "code",
      "execution_count": null,
      "metadata": {
        "id": "Yg0FFBOa6ehQ"
      },
      "outputs": [],
      "source": [
        "x = np.linspace(0,10,100)\n",
        "y = np.sin(x)\n",
        "plt.scatter(x,y,c='red',marker='.',alpha=0.5)\n",
        "plt.xlabel('X')\n",
        "plt.ylabel('Sin')\n",
        "plt.title('SCATTER PLOT')\n",
        "plt.show()"
      ]
    },
    {
      "cell_type": "code",
      "execution_count": null,
      "metadata": {
        "id": "ulE10NjE6ehQ"
      },
      "outputs": [],
      "source": [
        "x = np.linspace(0,10,100)\n",
        "y = np.sin(x)\n",
        "plt.scatter(x,y,c='blue',marker='v',alpha=0.5)\n",
        "plt.xlabel('X')\n",
        "plt.ylabel('Sin')\n",
        "plt.title('SCATTER PLOT')\n",
        "plt.show()"
      ]
    },
    {
      "cell_type": "code",
      "execution_count": null,
      "metadata": {
        "id": "uyriDEvB6ehQ"
      },
      "outputs": [],
      "source": [
        "x = np.linspace(0,10,100)\n",
        "y = np.sin(x)\n",
        "plt.scatter(x,y,c='green',marker='^',alpha=0.5)\n",
        "plt.xlabel('X')\n",
        "plt.ylabel('Sin')\n",
        "plt.title('SCATTER PLOT')\n",
        "plt.show()"
      ]
    },
    {
      "cell_type": "code",
      "execution_count": null,
      "metadata": {
        "id": "qzssJ1hi6ehR"
      },
      "outputs": [],
      "source": [
        "x = np.linspace(0,10,100)\n",
        "y = np.sin(x)\n",
        "plt.scatter(x,y,c='orange',marker='s',alpha=0.5)\n",
        "plt.xlabel('X')\n",
        "plt.ylabel('Sin')\n",
        "plt.title('SCATTER PLOT')\n",
        "plt.show()"
      ]
    },
    {
      "cell_type": "code",
      "execution_count": null,
      "metadata": {
        "id": "XeCrs7D26ehR"
      },
      "outputs": [],
      "source": [
        "x = np.linspace(0,10,100)\n",
        "y = np.sin(x)\n",
        "plt.scatter(x,y,c='purple',marker='*',alpha=0.5)\n",
        "plt.xlabel('X')\n",
        "plt.ylabel('Sin')\n",
        "plt.title('SCATTER PLOT')\n",
        "plt.show()"
      ]
    },
    {
      "cell_type": "code",
      "execution_count": null,
      "metadata": {
        "id": "_TtgZzm56ehR"
      },
      "outputs": [],
      "source": []
    }
  ],
  "metadata": {
    "kernelspec": {
      "display_name": "Python 3",
      "language": "python",
      "name": "python3"
    },
    "language_info": {
      "codemirror_mode": {
        "name": "ipython",
        "version": 3
      },
      "file_extension": ".py",
      "mimetype": "text/x-python",
      "name": "python",
      "nbconvert_exporter": "python",
      "pygments_lexer": "ipython3",
      "version": "3.7.3"
    },
    "colab": {
      "provenance": [],
      "include_colab_link": true
    }
  },
  "nbformat": 4,
  "nbformat_minor": 0
}