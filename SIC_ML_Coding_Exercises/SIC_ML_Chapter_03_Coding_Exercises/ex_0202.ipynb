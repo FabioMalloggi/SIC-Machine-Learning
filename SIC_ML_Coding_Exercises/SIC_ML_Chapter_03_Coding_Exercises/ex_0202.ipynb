{
  "cells": [
    {
      "cell_type": "markdown",
      "metadata": {
        "id": "iFwa-IfEdCrQ"
      },
      "source": [
        "## Coding Exercise #0202"
      ]
    },
    {
      "cell_type": "markdown",
      "metadata": {
        "id": "xDDv2e9rdCrU"
      },
      "source": [
        "### 1. NumPy array operations:"
      ]
    },
    {
      "cell_type": "markdown",
      "metadata": {
        "id": "iQHoLQYKdCrV"
      },
      "source": [
        "#### 1.1. '+' and '*' operators for Python lists:"
      ]
    },
    {
      "cell_type": "code",
      "execution_count": null,
      "metadata": {
        "id": "AbSkeOvadCrV"
      },
      "outputs": [],
      "source": [
        "import numpy as np"
      ]
    },
    {
      "cell_type": "code",
      "execution_count": null,
      "metadata": {
        "id": "Gs6QotkHdCrW"
      },
      "outputs": [],
      "source": [
        "a = [1, 2, 3]"
      ]
    },
    {
      "cell_type": "code",
      "execution_count": null,
      "metadata": {
        "id": "innsvIv8dCrW"
      },
      "outputs": [],
      "source": [
        "a + a"
      ]
    },
    {
      "cell_type": "code",
      "execution_count": null,
      "metadata": {
        "id": "0v3AoWh1dCrW"
      },
      "outputs": [],
      "source": [
        "a*3"
      ]
    },
    {
      "cell_type": "code",
      "execution_count": null,
      "metadata": {
        "id": "wNFuUNIddCrX"
      },
      "outputs": [],
      "source": [
        "b = np.array([1, 2, 3])"
      ]
    },
    {
      "cell_type": "code",
      "execution_count": null,
      "metadata": {
        "id": "U17UW-yPdCrX"
      },
      "outputs": [],
      "source": [
        "b*3"
      ]
    },
    {
      "cell_type": "code",
      "execution_count": null,
      "metadata": {
        "id": "21HmTURedCrY"
      },
      "outputs": [],
      "source": [
        "b + b"
      ]
    },
    {
      "cell_type": "code",
      "execution_count": null,
      "metadata": {
        "id": "ZYs4ZtA6dCrY"
      },
      "outputs": [],
      "source": [
        "np.repeat(b, 3)"
      ]
    },
    {
      "cell_type": "code",
      "source": [
        "np.tile(b,3)"
      ],
      "metadata": {
        "id": "HySA-G22dlEi"
      },
      "execution_count": null,
      "outputs": []
    },
    {
      "cell_type": "markdown",
      "metadata": {
        "id": "VL-_u_CMdCrY"
      },
      "source": [
        "#### 1.2. '+' and '*' operators for NumPy arrays:"
      ]
    },
    {
      "cell_type": "code",
      "execution_count": null,
      "metadata": {
        "id": "MqgURil-dCrZ"
      },
      "outputs": [],
      "source": [
        "a = np.array([1, 2, 3])\n",
        "b = np.array([4, 5, 6])"
      ]
    },
    {
      "cell_type": "code",
      "execution_count": null,
      "metadata": {
        "id": "TYPeSXTvdCrZ"
      },
      "outputs": [],
      "source": [
        "a+b"
      ]
    },
    {
      "cell_type": "code",
      "execution_count": null,
      "metadata": {
        "id": "oz9iUEmCdCrZ"
      },
      "outputs": [],
      "source": [
        "a-b"
      ]
    },
    {
      "cell_type": "code",
      "execution_count": null,
      "metadata": {
        "id": "rK17czwidCrZ"
      },
      "outputs": [],
      "source": [
        "a*b"
      ]
    },
    {
      "cell_type": "code",
      "execution_count": null,
      "metadata": {
        "id": "X8YzBZoydCra"
      },
      "outputs": [],
      "source": [
        "1.0*a/b"
      ]
    },
    {
      "cell_type": "markdown",
      "metadata": {
        "id": "9X5AYzxzdCra"
      },
      "source": [
        "#### 1.3. Universal functions:"
      ]
    },
    {
      "cell_type": "code",
      "execution_count": null,
      "metadata": {
        "id": "ieDmikj7dCra"
      },
      "outputs": [],
      "source": [
        "x = np.array([0, 1, 2, 3, 4, 5])"
      ]
    },
    {
      "cell_type": "code",
      "execution_count": null,
      "metadata": {
        "id": "62RPOsQ3dCra"
      },
      "outputs": [],
      "source": [
        "np.sqrt(x)"
      ]
    },
    {
      "cell_type": "code",
      "execution_count": null,
      "metadata": {
        "id": "f9uc-UpidCra"
      },
      "outputs": [],
      "source": [
        "np.exp(x)"
      ]
    },
    {
      "cell_type": "code",
      "execution_count": null,
      "metadata": {
        "id": "xPtyAzAwdCra"
      },
      "outputs": [],
      "source": [
        "type(np.sqrt)"
      ]
    },
    {
      "cell_type": "code",
      "execution_count": null,
      "metadata": {
        "id": "2FBgSyMwdCrb"
      },
      "outputs": [],
      "source": [
        "type(np.exp)"
      ]
    },
    {
      "cell_type": "markdown",
      "metadata": {
        "id": "M7tQJ4nAdCrb"
      },
      "source": [
        "#### 1.4. NumPy functions:"
      ]
    },
    {
      "cell_type": "code",
      "execution_count": null,
      "metadata": {
        "id": "hrRNpO-rdCrb"
      },
      "outputs": [],
      "source": [
        "# np.random.seed(123)\n",
        "a = np.random.randint(1, 11, size=1000)\n",
        "# print(a)"
      ]
    },
    {
      "cell_type": "code",
      "execution_count": null,
      "metadata": {
        "id": "pr6GhC1zdCrb"
      },
      "outputs": [],
      "source": [
        "print(np.unique(a))\n",
        "print(np.unique(a).size)"
      ]
    },
    {
      "cell_type": "code",
      "execution_count": null,
      "metadata": {
        "id": "l3hsPVP3dCrb"
      },
      "outputs": [],
      "source": [
        "np.median(a)"
      ]
    },
    {
      "cell_type": "code",
      "execution_count": null,
      "metadata": {
        "id": "b0JNpShxdCrb"
      },
      "outputs": [],
      "source": [
        "np.sum(a)"
      ]
    },
    {
      "cell_type": "code",
      "execution_count": null,
      "metadata": {
        "id": "diS04UwzdCrb"
      },
      "outputs": [],
      "source": [
        "print(np.var(a))\n",
        "print(np.round(np.var(a),2))"
      ]
    },
    {
      "cell_type": "code",
      "execution_count": null,
      "metadata": {
        "id": "qEGNLf9tdCrc"
      },
      "outputs": [],
      "source": [
        "np.round(np.mean(a),2)"
      ]
    },
    {
      "cell_type": "code",
      "execution_count": null,
      "metadata": {
        "id": "bKcC9_PWdCrc"
      },
      "outputs": [],
      "source": [
        "np.round(np.std(a),2)"
      ]
    },
    {
      "cell_type": "code",
      "execution_count": null,
      "metadata": {
        "id": "COLZ5bFMdCrc"
      },
      "outputs": [],
      "source": [
        "np.max(a)"
      ]
    },
    {
      "cell_type": "code",
      "execution_count": null,
      "metadata": {
        "id": "e6u0p413dCrc"
      },
      "outputs": [],
      "source": [
        "np.min(a)"
      ]
    },
    {
      "cell_type": "markdown",
      "metadata": {
        "id": "Ut3VGRH3dCrd"
      },
      "source": [
        "#### 1.5. Statistical methods of NumPy arrays:"
      ]
    },
    {
      "cell_type": "code",
      "execution_count": null,
      "metadata": {
        "id": "W54tvCfwdCrd"
      },
      "outputs": [],
      "source": [
        "x=np.arange(1,11)\n",
        "print(x)\n"
      ]
    },
    {
      "cell_type": "code",
      "execution_count": null,
      "metadata": {
        "id": "0OWAS_BidCrd"
      },
      "outputs": [],
      "source": [
        "x.sum()"
      ]
    },
    {
      "cell_type": "code",
      "execution_count": null,
      "metadata": {
        "id": "g29V8YBOdCrd"
      },
      "outputs": [],
      "source": [
        "x.mean()"
      ]
    },
    {
      "cell_type": "code",
      "execution_count": null,
      "metadata": {
        "id": "GrO2BH5MdCrd"
      },
      "outputs": [],
      "source": [
        "x.std()"
      ]
    },
    {
      "cell_type": "code",
      "execution_count": null,
      "metadata": {
        "id": "ajzpa7BPdCrd"
      },
      "outputs": [],
      "source": [
        "x.var()"
      ]
    },
    {
      "cell_type": "code",
      "execution_count": null,
      "metadata": {
        "id": "3fSO4zV2dCrd"
      },
      "outputs": [],
      "source": [
        "x.cumsum()"
      ]
    },
    {
      "cell_type": "code",
      "execution_count": null,
      "metadata": {
        "id": "B-6PQ8aldCrd"
      },
      "outputs": [],
      "source": [
        "y = np.arange(1,10)\n",
        "print(y, \"\\n\")\n",
        "y = y.reshape((3,-1))\n",
        "print(y)"
      ]
    },
    {
      "cell_type": "code",
      "execution_count": null,
      "metadata": {
        "id": "i4pnUJuddCrd"
      },
      "outputs": [],
      "source": [
        "print(y.mean(axis=0))"
      ]
    },
    {
      "cell_type": "code",
      "execution_count": null,
      "metadata": {
        "id": "OROgfO6VdCre"
      },
      "outputs": [],
      "source": [
        "print(y.mean(axis=1))"
      ]
    },
    {
      "cell_type": "code",
      "execution_count": null,
      "metadata": {
        "id": "LfNkmI3JdCre"
      },
      "outputs": [],
      "source": [
        "z = np.random.randint(10,size=1000)"
      ]
    },
    {
      "cell_type": "code",
      "execution_count": null,
      "metadata": {
        "id": "gkfCBlPUdCre"
      },
      "outputs": [],
      "source": [
        "z.max()"
      ]
    },
    {
      "cell_type": "code",
      "execution_count": null,
      "metadata": {
        "id": "T08btBX6dCre"
      },
      "outputs": [],
      "source": [
        "z.min()"
      ]
    },
    {
      "cell_type": "code",
      "execution_count": 94,
      "metadata": {
        "colab": {
          "base_uri": "https://localhost:8080/"
        },
        "id": "ipCs-38ydCre",
        "outputId": "1a7eece9-95d8-401b-deab-9f6ad182cdb0"
      },
      "outputs": [
        {
          "output_type": "stream",
          "name": "stdout",
          "text": [
            "414\n",
            "<class 'numpy.ndarray'>\n",
            "[False  True False  True False  True False False  True  True  True False\n",
            " False False  True False False  True False False False False False  True\n",
            " False False  True  True False False False  True  True  True False False\n",
            " False  True False False  True False False  True  True False False False\n",
            "  True False False False False False  True False False  True  True False\n",
            " False False False  True  True  True False False False False  True  True\n",
            "  True  True  True  True False False False  True False False False  True\n",
            " False False  True False  True False  True False  True False  True  True\n",
            "  True False  True False False  True False False False  True False False\n",
            " False  True False False False False False  True False False  True False\n",
            " False  True False False  True False False False False  True  True False\n",
            " False False False  True False False False  True False  True  True  True\n",
            " False  True False  True False False False False False False  True False\n",
            "  True False False  True False False  True  True False  True False  True\n",
            " False False False False  True  True  True False False False False False\n",
            "  True False False False False False False  True  True  True  True False\n",
            " False False False  True  True  True False  True  True False False  True\n",
            " False False False False  True False  True False False  True False False\n",
            "  True False False  True  True False False  True False False False False\n",
            "  True  True  True  True False False False  True False False  True  True\n",
            "  True  True False False  True  True False  True False  True  True  True\n",
            " False False False False False False  True False  True False  True False\n",
            " False False False False False  True False  True False  True False  True\n",
            "  True False False False  True False False False False False False False\n",
            " False  True  True False  True  True False False  True False  True False\n",
            " False False False  True False False False False  True False False  True\n",
            " False  True False False  True False False  True  True False False  True\n",
            " False  True  True False  True False False  True  True False  True False\n",
            "  True  True  True False  True False False False  True  True  True  True\n",
            " False  True False False False False False  True False False False  True\n",
            " False False  True  True False  True False  True  True False  True  True\n",
            " False False False False False  True  True False False  True False  True\n",
            " False False False  True  True  True False  True  True  True False  True\n",
            " False  True False False False False  True False False False False False\n",
            " False False False  True  True False False False  True False False  True\n",
            " False False  True False  True  True False  True False False False  True\n",
            " False False  True  True False  True  True False  True  True  True  True\n",
            " False False False False  True False  True False  True  True False False\n",
            " False  True False  True  True False  True  True False False False False\n",
            " False  True False False False  True  True  True False False  True False\n",
            "  True  True False False  True False  True  True  True False False  True\n",
            " False False False False False False  True False False  True False False\n",
            " False False False  True  True False False  True  True False  True False\n",
            " False  True  True  True False  True False  True False False False False\n",
            " False  True False False  True False False False  True  True False False\n",
            " False  True  True  True False False  True  True False  True False  True\n",
            " False False False False False  True  True False False  True False False\n",
            " False False  True  True  True False False  True  True False False  True\n",
            " False  True False  True False  True False  True False False  True False\n",
            " False False  True False  True False  True False False False  True  True\n",
            "  True False  True  True False False False  True  True  True  True False\n",
            " False False False  True False False False  True  True False False  True\n",
            "  True False  True  True False False  True  True  True False  True  True\n",
            " False False  True  True  True False  True False False False False  True\n",
            " False  True False False  True  True False False  True False False  True\n",
            "  True False  True False False False False False False False False False\n",
            " False  True False  True  True False  True False False  True  True  True\n",
            " False False  True False False  True False False  True  True  True  True\n",
            " False  True  True False False False False  True False False  True  True\n",
            "  True False  True  True False False  True False  True False  True False\n",
            "  True  True False  True False False  True False  True False False False\n",
            " False False  True False False False False False  True False False  True\n",
            "  True  True  True  True False  True  True False False  True False False\n",
            "  True False  True False False False  True False False False False False\n",
            "  True False False False False False False  True  True  True  True  True\n",
            "  True  True False False False False  True False  True False False False\n",
            "  True False False False  True False False  True  True  True  True False\n",
            "  True False  True False False False False  True False False  True  True\n",
            " False False  True  True  True False  True  True False False  True  True\n",
            "  True False  True  True  True False False False  True False  True  True\n",
            " False  True False  True False False False  True False  True  True False\n",
            "  True  True False  True False  True False False  True False False False\n",
            " False False False False  True False False False  True  True False False\n",
            "  True  True False  True  True False False False  True  True False False\n",
            "  True  True False  True False  True False False False  True  True False\n",
            "  True False  True False False False  True False  True False  True  True\n",
            "  True False False False False False  True False False  True False False\n",
            " False  True  True  True False  True False False False False False False\n",
            "  True False False False  True  True False  True False False False False\n",
            " False  True  True False False False  True  True False False  True  True\n",
            " False False False False  True False False  True False False  True False\n",
            "  True False False False False False  True False False  True False  True\n",
            "  True  True  True  True  True False False False  True  True False  True\n",
            "  True  True  True False]\n"
          ]
        }
      ],
      "source": [
        "print((z > 5).sum())\n",
        "print(type(z > 5))\n",
        "# print(z > 5)      # This is a mask matrix"
      ]
    },
    {
      "cell_type": "code",
      "execution_count": null,
      "metadata": {
        "id": "MIPzztEZdCre"
      },
      "outputs": [],
      "source": [
        "np.unique(z)"
      ]
    },
    {
      "cell_type": "code",
      "execution_count": null,
      "metadata": {
        "id": "AqbcRAEQdCre"
      },
      "outputs": [],
      "source": [
        "print(set(z))\n",
        "sorted(set(z))"
      ]
    },
    {
      "cell_type": "code",
      "execution_count": null,
      "metadata": {
        "id": "HKfWdOkrdCre"
      },
      "outputs": [],
      "source": [
        "a = np.array([2,-3,4,5,7,0,1,-1])\n",
        "print(a)"
      ]
    },
    {
      "cell_type": "code",
      "execution_count": null,
      "metadata": {
        "id": "xIsHcjRbdCre"
      },
      "outputs": [],
      "source": [
        "a.argmax()    # Returns the indices of the maximum values along an axis."
      ]
    },
    {
      "cell_type": "code",
      "execution_count": null,
      "metadata": {
        "id": "vZSVrSAFdCre"
      },
      "outputs": [],
      "source": [
        "a.argmin()    # Returns the indices of the minimum values along an axis."
      ]
    },
    {
      "cell_type": "code",
      "execution_count": null,
      "metadata": {
        "id": "PKkXUPlhdCrf"
      },
      "outputs": [],
      "source": []
    }
  ],
  "metadata": {
    "kernelspec": {
      "display_name": "Python 3",
      "language": "python",
      "name": "python3"
    },
    "language_info": {
      "codemirror_mode": {
        "name": "ipython",
        "version": 3
      },
      "file_extension": ".py",
      "mimetype": "text/x-python",
      "name": "python",
      "nbconvert_exporter": "python",
      "pygments_lexer": "ipython3",
      "version": "3.7.3"
    },
    "colab": {
      "provenance": []
    }
  },
  "nbformat": 4,
  "nbformat_minor": 0
}