{
  "cells": [
    {
      "cell_type": "markdown",
      "metadata": {
        "id": "SoarXfygRXLz"
      },
      "source": [
        "## Coding Exercise #0203"
      ]
    },
    {
      "cell_type": "markdown",
      "metadata": {
        "id": "x2RvqgmRRXL3"
      },
      "source": [
        "### 1. Doing linear algebra with NumPy arrays:"
      ]
    },
    {
      "cell_type": "code",
      "execution_count": null,
      "metadata": {
        "id": "Dus4hgFURXL4"
      },
      "outputs": [],
      "source": [
        "import numpy as np"
      ]
    },
    {
      "cell_type": "markdown",
      "metadata": {
        "id": "VCZ98Q8QRXL5"
      },
      "source": [
        "#### 1.1. Vectors:"
      ]
    },
    {
      "cell_type": "code",
      "execution_count": null,
      "metadata": {
        "id": "RG7BNFmfRXL5"
      },
      "outputs": [],
      "source": [
        "x = np.array([1, 3, 5])\n",
        "y = np.array([2, 4, 6])"
      ]
    },
    {
      "cell_type": "code",
      "execution_count": null,
      "metadata": {
        "id": "ZGEfp-lTRXL6"
      },
      "outputs": [],
      "source": [
        "x + y"
      ]
    },
    {
      "cell_type": "code",
      "execution_count": null,
      "metadata": {
        "id": "lUl0BZTeRXL6"
      },
      "outputs": [],
      "source": [
        "x - y"
      ]
    },
    {
      "cell_type": "markdown",
      "metadata": {
        "id": "vilAOY2HRXL7"
      },
      "source": [
        "The following operations are possible in NumPy but not in linear algebra:"
      ]
    },
    {
      "cell_type": "code",
      "execution_count": null,
      "metadata": {
        "id": "5Llr-TOaRXL7"
      },
      "outputs": [],
      "source": [
        "x * y"
      ]
    },
    {
      "cell_type": "code",
      "execution_count": null,
      "metadata": {
        "id": "sJoTeub2RXL8"
      },
      "outputs": [],
      "source": [
        "x / y"
      ]
    },
    {
      "cell_type": "markdown",
      "metadata": {
        "id": "fFrsBBpDRXL8"
      },
      "source": [
        "Internal product with dot():"
      ]
    },
    {
      "cell_type": "code",
      "execution_count": null,
      "metadata": {
        "id": "gxDKi6rzRXL8"
      },
      "outputs": [],
      "source": [
        "np.dot(x,y)"
      ]
    },
    {
      "cell_type": "code",
      "execution_count": null,
      "metadata": {
        "id": "0hqJfOK2RXL9"
      },
      "outputs": [],
      "source": [
        "x.dot(y)"
      ]
    },
    {
      "cell_type": "code",
      "execution_count": null,
      "metadata": {
        "id": "XcandUiSRXL9"
      },
      "outputs": [],
      "source": [
        "y.dot(x)"
      ]
    },
    {
      "cell_type": "code",
      "execution_count": null,
      "metadata": {
        "id": "onN9c-13RXL9"
      },
      "outputs": [],
      "source": [
        "np.sum(x*y)"
      ]
    },
    {
      "cell_type": "markdown",
      "metadata": {
        "id": "YKYlIqFYRXL9"
      },
      "source": [
        "#### 1.2. Creating matrices:"
      ]
    },
    {
      "cell_type": "code",
      "execution_count": null,
      "metadata": {
        "id": "EYEQOXQsRXL-"
      },
      "outputs": [],
      "source": [
        "np.zeros((2,3))"
      ]
    },
    {
      "cell_type": "code",
      "execution_count": null,
      "metadata": {
        "id": "4yh9IS1gRXL-"
      },
      "outputs": [],
      "source": [
        "np.ones((2,3))"
      ]
    },
    {
      "cell_type": "code",
      "execution_count": null,
      "metadata": {
        "id": "OBEZHkdhRXL-"
      },
      "outputs": [],
      "source": [
        "np.random.seed(222)\n",
        "np.random.random((2,2))"
      ]
    },
    {
      "cell_type": "code",
      "execution_count": null,
      "metadata": {
        "id": "t0FWxdaFRXL-"
      },
      "outputs": [],
      "source": [
        "np.random.seed(111)\n",
        "np.random.randn(2,2)"
      ]
    },
    {
      "cell_type": "code",
      "execution_count": null,
      "metadata": {
        "id": "aenyPDKARXL_"
      },
      "outputs": [],
      "source": [
        "arr = np.diag([1,2,3,4,5])\n",
        "print(arr)"
      ]
    },
    {
      "cell_type": "code",
      "source": [
        "print(np.fliplr(arr))"
      ],
      "metadata": {
        "id": "mJhzCp1JTTqO"
      },
      "execution_count": null,
      "outputs": []
    },
    {
      "cell_type": "code",
      "source": [
        "print(np.diagonal(arr))"
      ],
      "metadata": {
        "id": "zVYMp5SgUR3J"
      },
      "execution_count": null,
      "outputs": []
    },
    {
      "cell_type": "markdown",
      "metadata": {
        "id": "g0dwIBnCRXL_"
      },
      "source": [
        "#### 1.3. Matrix operations:"
      ]
    },
    {
      "cell_type": "markdown",
      "metadata": {
        "id": "dGfF3Kv_RXL_"
      },
      "source": [
        "Matrix addition, subtraction and multiplication:"
      ]
    },
    {
      "cell_type": "code",
      "execution_count": null,
      "metadata": {
        "id": "mvCLkg7rRXMA"
      },
      "outputs": [],
      "source": [
        "m1 = np.array([[1, 2, 3],[4, 5, 6]])\n",
        "m2 = np.array([[6, 5, 4],[3, 2, 1]])\n",
        "print(m1, \"\\n\")\n",
        "print(m2)"
      ]
    },
    {
      "cell_type": "code",
      "execution_count": null,
      "metadata": {
        "id": "T9BrXynQRXMA"
      },
      "outputs": [],
      "source": [
        "m1 + m2"
      ]
    },
    {
      "cell_type": "code",
      "execution_count": null,
      "metadata": {
        "id": "0EBmWy1LRXMA"
      },
      "outputs": [],
      "source": [
        "m1 - m2"
      ]
    },
    {
      "cell_type": "code",
      "execution_count": null,
      "metadata": {
        "id": "7203FzwoRXMA"
      },
      "outputs": [],
      "source": [
        "np.transpose(m2)"
      ]
    },
    {
      "cell_type": "markdown",
      "metadata": {
        "id": "RVCrBsoqRXMA"
      },
      "source": [
        "Matrix multiplication with dot():"
      ]
    },
    {
      "cell_type": "code",
      "execution_count": null,
      "metadata": {
        "id": "leE-RvUBRXMA"
      },
      "outputs": [],
      "source": [
        "np.dot(m1,np.transpose(m2))"
      ]
    },
    {
      "cell_type": "code",
      "execution_count": null,
      "metadata": {
        "id": "12tOnJ3URXMA"
      },
      "outputs": [],
      "source": [
        "x = np.array([1, 3, 5])\n",
        "y = np.array([2, 4, 6])\n",
        "x = x.reshape((3,1))\n",
        "y = y.reshape((1,3))\n",
        "print(\"{}\".format(x))\n",
        "print(\" ----------\")\n",
        "print(\"{}\".format(y))"
      ]
    },
    {
      "cell_type": "code",
      "source": [
        "print(y.dot(x))"
      ],
      "metadata": {
        "id": "vmCiyjywVl51"
      },
      "execution_count": null,
      "outputs": []
    },
    {
      "cell_type": "code",
      "execution_count": null,
      "metadata": {
        "id": "AQCagontRXMB"
      },
      "outputs": [],
      "source": [
        "y.dot(x)[0,0]"
      ]
    },
    {
      "cell_type": "code",
      "source": [
        "x.dot(y)"
      ],
      "metadata": {
        "id": "Y0Rr8IVDVvBE"
      },
      "execution_count": null,
      "outputs": []
    },
    {
      "cell_type": "code",
      "execution_count": null,
      "metadata": {
        "id": "-ZJ8aI0vRXMB"
      },
      "outputs": [],
      "source": []
    },
    {
      "cell_type": "markdown",
      "metadata": {
        "id": "gXdEvQaVRXMB"
      },
      "source": [
        "The following operations are possible in NumPy but not in linear algebra:"
      ]
    },
    {
      "cell_type": "code",
      "execution_count": null,
      "metadata": {
        "id": "vBVY_uwFRXMB"
      },
      "outputs": [],
      "source": [
        "m1 * m2"
      ]
    },
    {
      "cell_type": "code",
      "execution_count": null,
      "metadata": {
        "id": "3bn0iFzdRXMB"
      },
      "outputs": [],
      "source": [
        "m1 / m2"
      ]
    },
    {
      "cell_type": "markdown",
      "metadata": {
        "id": "l52VDYzwRXMC"
      },
      "source": [
        "Operations involving matrix and scalar:"
      ]
    },
    {
      "cell_type": "code",
      "execution_count": null,
      "metadata": {
        "id": "Y7O-NT7MRXMC"
      },
      "outputs": [],
      "source": [
        "m = np.array([[1, 2],[3, 4]])\n",
        "m"
      ]
    },
    {
      "cell_type": "code",
      "execution_count": null,
      "metadata": {
        "id": "1IagxxDPRXMC"
      },
      "outputs": [],
      "source": [
        "m*3"
      ]
    },
    {
      "cell_type": "code",
      "execution_count": null,
      "metadata": {
        "id": "BRE8D8q-RXMC"
      },
      "outputs": [],
      "source": [
        "m/2"
      ]
    },
    {
      "cell_type": "markdown",
      "metadata": {
        "id": "CR1VHQ1ERXMC"
      },
      "source": [
        "#### 1.4. Inverse matrix and system of linear equations:"
      ]
    },
    {
      "cell_type": "markdown",
      "metadata": {
        "id": "8g4ig6w-RXMC"
      },
      "source": [
        "Calculating the inverse matrix:"
      ]
    },
    {
      "cell_type": "code",
      "execution_count": null,
      "metadata": {
        "id": "XY19xmgbRXMC"
      },
      "outputs": [],
      "source": [
        "m = np.array([[1, 2],[3, 4]])\n",
        "print(m, \"\\n\")\n",
        "minv = np.linalg.inv(m)\n",
        "minv"
      ]
    },
    {
      "cell_type": "code",
      "execution_count": null,
      "metadata": {
        "id": "nlNapIwhRXMC"
      },
      "outputs": [],
      "source": [
        "mres = np.dot(m, minv)\n",
        "np.round(mres,2) "
      ]
    },
    {
      "cell_type": "markdown",
      "metadata": {
        "id": "paDXbIJjRXMD"
      },
      "source": [
        "System of linear equations (number of equations = number of unknowns):"
      ]
    },
    {
      "cell_type": "code",
      "execution_count": null,
      "metadata": {
        "id": "XPYB1l3xRXMD"
      },
      "outputs": [],
      "source": [
        "A = np.array([[5, 8],[6, 4]])\n",
        "b = np.array([[30], [25]])\n",
        "Ainv = np.linalg.inv(A)\n",
        "print(np.dot(Ainv,b))"
      ]
    },
    {
      "cell_type": "code",
      "execution_count": null,
      "metadata": {
        "id": "3Jwxoej7RXMD"
      },
      "outputs": [],
      "source": [
        "np.linalg.solve(A, b)"
      ]
    }
  ],
  "metadata": {
    "kernelspec": {
      "display_name": "Python 3",
      "language": "python",
      "name": "python3"
    },
    "language_info": {
      "codemirror_mode": {
        "name": "ipython",
        "version": 3
      },
      "file_extension": ".py",
      "mimetype": "text/x-python",
      "name": "python",
      "nbconvert_exporter": "python",
      "pygments_lexer": "ipython3",
      "version": "3.7.3"
    },
    "colab": {
      "provenance": []
    }
  },
  "nbformat": 4,
  "nbformat_minor": 0
}