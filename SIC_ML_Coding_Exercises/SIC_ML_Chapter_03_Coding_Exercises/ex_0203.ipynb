{
  "cells": [
    {
      "cell_type": "markdown",
      "metadata": {
        "id": "view-in-github",
        "colab_type": "text"
      },
      "source": [
        "<a href=\"https://colab.research.google.com/github/tn-220/SIC-Machine-Learning/blob/main/SIC_ML_Coding_Exercises/SIC_ML_Chapter_03_Coding_Exercises/ex_0203.ipynb\" target=\"_parent\"><img src=\"https://colab.research.google.com/assets/colab-badge.svg\" alt=\"Open In Colab\"/></a>"
      ]
    },
    {
      "cell_type": "markdown",
      "metadata": {
        "id": "SoarXfygRXLz"
      },
      "source": [
        "## Coding Exercise #0203"
      ]
    },
    {
      "cell_type": "markdown",
      "metadata": {
        "id": "x2RvqgmRRXL3"
      },
      "source": [
        "### 1. Doing linear algebra with NumPy arrays:"
      ]
    },
    {
      "cell_type": "code",
      "execution_count": 1,
      "metadata": {
        "id": "Dus4hgFURXL4"
      },
      "outputs": [],
      "source": [
        "import numpy as np"
      ]
    },
    {
      "cell_type": "markdown",
      "metadata": {
        "id": "VCZ98Q8QRXL5"
      },
      "source": [
        "#### 1.1. Vectors:"
      ]
    },
    {
      "cell_type": "code",
      "execution_count": 2,
      "metadata": {
        "id": "RG7BNFmfRXL5"
      },
      "outputs": [],
      "source": [
        "x = np.array([1, 3, 5])\n",
        "y = np.array([2, 4, 6])"
      ]
    },
    {
      "cell_type": "code",
      "execution_count": 3,
      "metadata": {
        "id": "ZGEfp-lTRXL6",
        "outputId": "1fa37e6e-4417-4382-afb6-bf7c4d6e6499",
        "colab": {
          "base_uri": "https://localhost:8080/"
        }
      },
      "outputs": [
        {
          "output_type": "execute_result",
          "data": {
            "text/plain": [
              "array([ 3,  7, 11])"
            ]
          },
          "metadata": {},
          "execution_count": 3
        }
      ],
      "source": [
        "x + y"
      ]
    },
    {
      "cell_type": "code",
      "execution_count": 4,
      "metadata": {
        "id": "lUl0BZTeRXL6",
        "outputId": "94903092-bc63-4cbb-b377-d90c27e4d59d",
        "colab": {
          "base_uri": "https://localhost:8080/"
        }
      },
      "outputs": [
        {
          "output_type": "execute_result",
          "data": {
            "text/plain": [
              "array([-1, -1, -1])"
            ]
          },
          "metadata": {},
          "execution_count": 4
        }
      ],
      "source": [
        "x - y"
      ]
    },
    {
      "cell_type": "markdown",
      "metadata": {
        "id": "vilAOY2HRXL7"
      },
      "source": [
        "The following operations are possible in NumPy but not in linear algebra:"
      ]
    },
    {
      "cell_type": "code",
      "execution_count": 5,
      "metadata": {
        "id": "5Llr-TOaRXL7",
        "outputId": "5c5bcd9a-1c30-443f-b0ab-77460628b0dd",
        "colab": {
          "base_uri": "https://localhost:8080/"
        }
      },
      "outputs": [
        {
          "output_type": "execute_result",
          "data": {
            "text/plain": [
              "array([ 2, 12, 30])"
            ]
          },
          "metadata": {},
          "execution_count": 5
        }
      ],
      "source": [
        "x * y"
      ]
    },
    {
      "cell_type": "code",
      "execution_count": 6,
      "metadata": {
        "id": "sJoTeub2RXL8",
        "outputId": "18940a48-5fe8-400a-885d-ac20cae62171",
        "colab": {
          "base_uri": "https://localhost:8080/"
        }
      },
      "outputs": [
        {
          "output_type": "execute_result",
          "data": {
            "text/plain": [
              "array([0.5       , 0.75      , 0.83333333])"
            ]
          },
          "metadata": {},
          "execution_count": 6
        }
      ],
      "source": [
        "x / y"
      ]
    },
    {
      "cell_type": "markdown",
      "metadata": {
        "id": "fFrsBBpDRXL8"
      },
      "source": [
        "Internal product with dot():"
      ]
    },
    {
      "cell_type": "code",
      "execution_count": 7,
      "metadata": {
        "id": "gxDKi6rzRXL8",
        "outputId": "4e6ed4e5-83bc-4039-a163-c3eca4efc816",
        "colab": {
          "base_uri": "https://localhost:8080/"
        }
      },
      "outputs": [
        {
          "output_type": "execute_result",
          "data": {
            "text/plain": [
              "44"
            ]
          },
          "metadata": {},
          "execution_count": 7
        }
      ],
      "source": [
        "np.dot(x,y)"
      ]
    },
    {
      "cell_type": "code",
      "execution_count": 8,
      "metadata": {
        "id": "0hqJfOK2RXL9",
        "outputId": "1a23b72a-5efd-43bf-e26b-5de4c7358704",
        "colab": {
          "base_uri": "https://localhost:8080/"
        }
      },
      "outputs": [
        {
          "output_type": "execute_result",
          "data": {
            "text/plain": [
              "44"
            ]
          },
          "metadata": {},
          "execution_count": 8
        }
      ],
      "source": [
        "x.dot(y)"
      ]
    },
    {
      "cell_type": "code",
      "execution_count": 9,
      "metadata": {
        "id": "XcandUiSRXL9",
        "outputId": "42692453-b7e6-48e9-9261-e3f2d0df5500",
        "colab": {
          "base_uri": "https://localhost:8080/"
        }
      },
      "outputs": [
        {
          "output_type": "execute_result",
          "data": {
            "text/plain": [
              "44"
            ]
          },
          "metadata": {},
          "execution_count": 9
        }
      ],
      "source": [
        "y.dot(x)"
      ]
    },
    {
      "cell_type": "code",
      "execution_count": 10,
      "metadata": {
        "id": "onN9c-13RXL9",
        "outputId": "50e09d7d-40df-41d1-d4dd-5dbfbed1fd5e",
        "colab": {
          "base_uri": "https://localhost:8080/"
        }
      },
      "outputs": [
        {
          "output_type": "execute_result",
          "data": {
            "text/plain": [
              "44"
            ]
          },
          "metadata": {},
          "execution_count": 10
        }
      ],
      "source": [
        "np.sum(x*y)"
      ]
    },
    {
      "cell_type": "markdown",
      "metadata": {
        "id": "YKYlIqFYRXL9"
      },
      "source": [
        "#### 1.2. Creating matrices:"
      ]
    },
    {
      "cell_type": "code",
      "execution_count": 11,
      "metadata": {
        "id": "EYEQOXQsRXL-",
        "outputId": "1e3fc8f9-64a5-4809-804c-9daa31bba9f5",
        "colab": {
          "base_uri": "https://localhost:8080/"
        }
      },
      "outputs": [
        {
          "output_type": "execute_result",
          "data": {
            "text/plain": [
              "array([[0., 0., 0.],\n",
              "       [0., 0., 0.]])"
            ]
          },
          "metadata": {},
          "execution_count": 11
        }
      ],
      "source": [
        "np.zeros((2,3))"
      ]
    },
    {
      "cell_type": "code",
      "execution_count": 12,
      "metadata": {
        "id": "4yh9IS1gRXL-",
        "outputId": "fcb0de0a-5d87-439b-9c07-07f08544a42e",
        "colab": {
          "base_uri": "https://localhost:8080/"
        }
      },
      "outputs": [
        {
          "output_type": "execute_result",
          "data": {
            "text/plain": [
              "array([[1., 1., 1.],\n",
              "       [1., 1., 1.]])"
            ]
          },
          "metadata": {},
          "execution_count": 12
        }
      ],
      "source": [
        "np.ones((2,3))"
      ]
    },
    {
      "cell_type": "code",
      "execution_count": 13,
      "metadata": {
        "id": "OBEZHkdhRXL-",
        "outputId": "af2b555f-fad3-439d-b647-4027694fb686",
        "colab": {
          "base_uri": "https://localhost:8080/"
        }
      },
      "outputs": [
        {
          "output_type": "execute_result",
          "data": {
            "text/plain": [
              "array([[0.52602843, 0.68531719],\n",
              "       [0.83567419, 0.65376526]])"
            ]
          },
          "metadata": {},
          "execution_count": 13
        }
      ],
      "source": [
        "np.random.seed(222)\n",
        "np.random.random((2,2))   # Return random floats in the half-open interval [0.0, 1.0)"
      ]
    },
    {
      "cell_type": "code",
      "execution_count": 40,
      "metadata": {
        "id": "t0FWxdaFRXL-",
        "outputId": "bb9035e2-ef5d-4e79-e827-d32f054f69d6",
        "colab": {
          "base_uri": "https://localhost:8080/"
        }
      },
      "outputs": [
        {
          "output_type": "stream",
          "name": "stdout",
          "text": [
            "-0.0019638616576093757\n",
            "0.9987442197017593\n"
          ]
        }
      ],
      "source": [
        "np.random.seed(111)\n",
        "x = np.random.randn(1000,1000)    # Return a sample (or samples) from the “standard normal” distribution.\n",
        "print(x.mean())\n",
        "print(x.std())"
      ]
    },
    {
      "cell_type": "code",
      "execution_count": 41,
      "metadata": {
        "id": "aenyPDKARXL_",
        "outputId": "4bd993ad-c484-4137-9108-824209355348",
        "colab": {
          "base_uri": "https://localhost:8080/"
        }
      },
      "outputs": [
        {
          "output_type": "stream",
          "name": "stdout",
          "text": [
            "[[1 0 0 0 0]\n",
            " [0 2 0 0 0]\n",
            " [0 0 3 0 0]\n",
            " [0 0 0 4 0]\n",
            " [0 0 0 0 5]]\n"
          ]
        }
      ],
      "source": [
        "arr = np.diag([1,2,3,4,5])\n",
        "print(arr)"
      ]
    },
    {
      "cell_type": "code",
      "source": [
        "print(np.fliplr(arr))"
      ],
      "metadata": {
        "id": "mJhzCp1JTTqO",
        "outputId": "388a8b6c-c74e-4944-a248-39b3f7b72328",
        "colab": {
          "base_uri": "https://localhost:8080/"
        }
      },
      "execution_count": 16,
      "outputs": [
        {
          "output_type": "stream",
          "name": "stdout",
          "text": [
            "[[0 0 0 0 1]\n",
            " [0 0 0 2 0]\n",
            " [0 0 3 0 0]\n",
            " [0 4 0 0 0]\n",
            " [5 0 0 0 0]]\n"
          ]
        }
      ]
    },
    {
      "cell_type": "code",
      "source": [
        "print(np.diagonal(arr))"
      ],
      "metadata": {
        "id": "zVYMp5SgUR3J",
        "outputId": "77fef198-5f3d-4919-e664-dde38db9aa55",
        "colab": {
          "base_uri": "https://localhost:8080/"
        }
      },
      "execution_count": 17,
      "outputs": [
        {
          "output_type": "stream",
          "name": "stdout",
          "text": [
            "[1 2 3 4 5]\n"
          ]
        }
      ]
    },
    {
      "cell_type": "markdown",
      "metadata": {
        "id": "g0dwIBnCRXL_"
      },
      "source": [
        "#### 1.3. Matrix operations:"
      ]
    },
    {
      "cell_type": "markdown",
      "metadata": {
        "id": "dGfF3Kv_RXL_"
      },
      "source": [
        "Matrix addition, subtraction and multiplication:"
      ]
    },
    {
      "cell_type": "code",
      "execution_count": 18,
      "metadata": {
        "id": "mvCLkg7rRXMA",
        "outputId": "7ec1304d-08c6-4a82-d397-6d8b68ec9ab3",
        "colab": {
          "base_uri": "https://localhost:8080/"
        }
      },
      "outputs": [
        {
          "output_type": "stream",
          "name": "stdout",
          "text": [
            "[[1 2 3]\n",
            " [4 5 6]] \n",
            "\n",
            "[[6 5 4]\n",
            " [3 2 1]]\n"
          ]
        }
      ],
      "source": [
        "m1 = np.array([[1, 2, 3],[4, 5, 6]])\n",
        "m2 = np.array([[6, 5, 4],[3, 2, 1]])\n",
        "print(m1, \"\\n\")\n",
        "print(m2)"
      ]
    },
    {
      "cell_type": "code",
      "execution_count": 19,
      "metadata": {
        "id": "T9BrXynQRXMA",
        "outputId": "69d8c4b6-f1d0-44b1-d60c-7f2239cefeb6",
        "colab": {
          "base_uri": "https://localhost:8080/"
        }
      },
      "outputs": [
        {
          "output_type": "execute_result",
          "data": {
            "text/plain": [
              "array([[7, 7, 7],\n",
              "       [7, 7, 7]])"
            ]
          },
          "metadata": {},
          "execution_count": 19
        }
      ],
      "source": [
        "m1 + m2"
      ]
    },
    {
      "cell_type": "code",
      "execution_count": 20,
      "metadata": {
        "id": "0EBmWy1LRXMA",
        "outputId": "cafdd432-995c-440c-a20d-ff0d2f5fcd6d",
        "colab": {
          "base_uri": "https://localhost:8080/"
        }
      },
      "outputs": [
        {
          "output_type": "execute_result",
          "data": {
            "text/plain": [
              "array([[-5, -3, -1],\n",
              "       [ 1,  3,  5]])"
            ]
          },
          "metadata": {},
          "execution_count": 20
        }
      ],
      "source": [
        "m1 - m2"
      ]
    },
    {
      "cell_type": "code",
      "execution_count": 21,
      "metadata": {
        "id": "7203FzwoRXMA",
        "outputId": "f36f2e55-c868-4e4d-8383-30dc6cade812",
        "colab": {
          "base_uri": "https://localhost:8080/"
        }
      },
      "outputs": [
        {
          "output_type": "execute_result",
          "data": {
            "text/plain": [
              "array([[6, 3],\n",
              "       [5, 2],\n",
              "       [4, 1]])"
            ]
          },
          "metadata": {},
          "execution_count": 21
        }
      ],
      "source": [
        "np.transpose(m2)"
      ]
    },
    {
      "cell_type": "code",
      "source": [
        "m2.T"
      ],
      "metadata": {
        "id": "WNDdYMzh4Ahs",
        "outputId": "8b845811-dff8-4a8c-e455-965cc97e76c3",
        "colab": {
          "base_uri": "https://localhost:8080/"
        }
      },
      "execution_count": 43,
      "outputs": [
        {
          "output_type": "execute_result",
          "data": {
            "text/plain": [
              "array([[6, 3],\n",
              "       [5, 2],\n",
              "       [4, 1]])"
            ]
          },
          "metadata": {},
          "execution_count": 43
        }
      ]
    },
    {
      "cell_type": "code",
      "source": [
        "m3 = np.array([1,2,3,4]).reshape(2,2)\n",
        "m4 = np.linalg.inv(m3)\n",
        "np.round(np.dot(m3, m4),10)"
      ],
      "metadata": {
        "id": "n0uOoPTK4ghc",
        "outputId": "f91968c8-723f-445b-994d-235c9226d93c",
        "colab": {
          "base_uri": "https://localhost:8080/"
        }
      },
      "execution_count": 57,
      "outputs": [
        {
          "output_type": "execute_result",
          "data": {
            "text/plain": [
              "array([[1., 0.],\n",
              "       [0., 1.]])"
            ]
          },
          "metadata": {},
          "execution_count": 57
        }
      ]
    },
    {
      "cell_type": "markdown",
      "metadata": {
        "id": "RVCrBsoqRXMA"
      },
      "source": [
        "Matrix multiplication with dot():"
      ]
    },
    {
      "cell_type": "code",
      "execution_count": 22,
      "metadata": {
        "id": "leE-RvUBRXMA",
        "outputId": "1ba71ea1-4c36-4f57-a72b-72cac0259a33",
        "colab": {
          "base_uri": "https://localhost:8080/"
        }
      },
      "outputs": [
        {
          "output_type": "execute_result",
          "data": {
            "text/plain": [
              "array([[28, 10],\n",
              "       [73, 28]])"
            ]
          },
          "metadata": {},
          "execution_count": 22
        }
      ],
      "source": [
        "np.dot(m1,np.transpose(m2))"
      ]
    },
    {
      "cell_type": "code",
      "execution_count": 58,
      "metadata": {
        "id": "12tOnJ3URXMA",
        "outputId": "f6ed40e9-2c1d-43cf-e51c-ca66894e139a",
        "colab": {
          "base_uri": "https://localhost:8080/"
        }
      },
      "outputs": [
        {
          "output_type": "stream",
          "name": "stdout",
          "text": [
            "[[1]\n",
            " [3]\n",
            " [5]]\n",
            " ----------\n",
            "[[2 4 6]]\n"
          ]
        }
      ],
      "source": [
        "x = np.array([1, 3, 5])\n",
        "y = np.array([2, 4, 6])\n",
        "x = x.reshape((3,1))\n",
        "y = y.reshape((1,3))\n",
        "print(\"{}\".format(x))\n",
        "print(\" ----------\")\n",
        "print(\"{}\".format(y))"
      ]
    },
    {
      "cell_type": "code",
      "source": [
        "print(y.dot(x))"
      ],
      "metadata": {
        "id": "vmCiyjywVl51",
        "outputId": "31e10a28-00cd-46c9-93cb-ca419e94cef7",
        "colab": {
          "base_uri": "https://localhost:8080/"
        }
      },
      "execution_count": 59,
      "outputs": [
        {
          "output_type": "stream",
          "name": "stdout",
          "text": [
            "[[44]]\n"
          ]
        }
      ]
    },
    {
      "cell_type": "code",
      "source": [
        "print(y.dot(x).shape)"
      ],
      "metadata": {
        "id": "bpeWfcIT6mi7",
        "outputId": "1caab8c4-7a7c-4fbd-fcf5-4a90e4658ab1",
        "colab": {
          "base_uri": "https://localhost:8080/"
        }
      },
      "execution_count": 61,
      "outputs": [
        {
          "output_type": "stream",
          "name": "stdout",
          "text": [
            "(1, 1)\n"
          ]
        }
      ]
    },
    {
      "cell_type": "code",
      "execution_count": 25,
      "metadata": {
        "id": "AQCagontRXMB",
        "outputId": "0ffb1ce8-8ead-4d43-e480-7eaef07d5051",
        "colab": {
          "base_uri": "https://localhost:8080/"
        }
      },
      "outputs": [
        {
          "output_type": "execute_result",
          "data": {
            "text/plain": [
              "44"
            ]
          },
          "metadata": {},
          "execution_count": 25
        }
      ],
      "source": [
        "y.dot(x)[0,0]"
      ]
    },
    {
      "cell_type": "code",
      "source": [
        "x.dot(y)"
      ],
      "metadata": {
        "id": "Y0Rr8IVDVvBE",
        "outputId": "f38a6e91-5c3f-4af1-d79a-5f73ece0cb66",
        "colab": {
          "base_uri": "https://localhost:8080/"
        }
      },
      "execution_count": 26,
      "outputs": [
        {
          "output_type": "execute_result",
          "data": {
            "text/plain": [
              "array([[ 2,  4,  6],\n",
              "       [ 6, 12, 18],\n",
              "       [10, 20, 30]])"
            ]
          },
          "metadata": {},
          "execution_count": 26
        }
      ]
    },
    {
      "cell_type": "code",
      "execution_count": 26,
      "metadata": {
        "id": "-ZJ8aI0vRXMB"
      },
      "outputs": [],
      "source": []
    },
    {
      "cell_type": "markdown",
      "metadata": {
        "id": "gXdEvQaVRXMB"
      },
      "source": [
        "The following operations are possible in NumPy but not in linear algebra:"
      ]
    },
    {
      "cell_type": "code",
      "execution_count": 27,
      "metadata": {
        "id": "vBVY_uwFRXMB",
        "outputId": "51bcde9e-c1bc-49d3-a824-845c3b4acd07",
        "colab": {
          "base_uri": "https://localhost:8080/"
        }
      },
      "outputs": [
        {
          "output_type": "execute_result",
          "data": {
            "text/plain": [
              "array([[ 6, 10, 12],\n",
              "       [12, 10,  6]])"
            ]
          },
          "metadata": {},
          "execution_count": 27
        }
      ],
      "source": [
        "m1 * m2"
      ]
    },
    {
      "cell_type": "code",
      "source": [
        "(m1 * m2).shape"
      ],
      "metadata": {
        "id": "ZVkDxIHp69T4",
        "outputId": "926ff81d-6244-4942-8592-2f407fe33e15",
        "colab": {
          "base_uri": "https://localhost:8080/"
        }
      },
      "execution_count": 62,
      "outputs": [
        {
          "output_type": "execute_result",
          "data": {
            "text/plain": [
              "(2, 3)"
            ]
          },
          "metadata": {},
          "execution_count": 62
        }
      ]
    },
    {
      "cell_type": "code",
      "execution_count": 28,
      "metadata": {
        "id": "3bn0iFzdRXMB",
        "outputId": "8a54b8a2-3368-49de-8c03-ad6b5406a95e",
        "colab": {
          "base_uri": "https://localhost:8080/"
        }
      },
      "outputs": [
        {
          "output_type": "execute_result",
          "data": {
            "text/plain": [
              "array([[0.16666667, 0.4       , 0.75      ],\n",
              "       [1.33333333, 2.5       , 6.        ]])"
            ]
          },
          "metadata": {},
          "execution_count": 28
        }
      ],
      "source": [
        "m1 / m2"
      ]
    },
    {
      "cell_type": "markdown",
      "metadata": {
        "id": "l52VDYzwRXMC"
      },
      "source": [
        "Operations involving matrix and scalar:"
      ]
    },
    {
      "cell_type": "code",
      "execution_count": 29,
      "metadata": {
        "id": "Y7O-NT7MRXMC",
        "outputId": "473f2242-5538-4600-d730-d85c231600dd",
        "colab": {
          "base_uri": "https://localhost:8080/"
        }
      },
      "outputs": [
        {
          "output_type": "execute_result",
          "data": {
            "text/plain": [
              "array([[1, 2],\n",
              "       [3, 4]])"
            ]
          },
          "metadata": {},
          "execution_count": 29
        }
      ],
      "source": [
        "m = np.array([[1, 2],[3, 4]])\n",
        "m"
      ]
    },
    {
      "cell_type": "code",
      "execution_count": 30,
      "metadata": {
        "id": "1IagxxDPRXMC",
        "outputId": "3ce581d1-d8eb-4e37-ef28-7cb289165be5",
        "colab": {
          "base_uri": "https://localhost:8080/"
        }
      },
      "outputs": [
        {
          "output_type": "execute_result",
          "data": {
            "text/plain": [
              "array([[ 3,  6],\n",
              "       [ 9, 12]])"
            ]
          },
          "metadata": {},
          "execution_count": 30
        }
      ],
      "source": [
        "m*3"
      ]
    },
    {
      "cell_type": "code",
      "execution_count": 31,
      "metadata": {
        "id": "BRE8D8q-RXMC",
        "outputId": "821d4385-a19e-441d-b15c-a4ad16f7ccdd",
        "colab": {
          "base_uri": "https://localhost:8080/"
        }
      },
      "outputs": [
        {
          "output_type": "execute_result",
          "data": {
            "text/plain": [
              "array([[0.5, 1. ],\n",
              "       [1.5, 2. ]])"
            ]
          },
          "metadata": {},
          "execution_count": 31
        }
      ],
      "source": [
        "m/2"
      ]
    },
    {
      "cell_type": "markdown",
      "metadata": {
        "id": "CR1VHQ1ERXMC"
      },
      "source": [
        "#### 1.4. Inverse matrix and system of linear equations:"
      ]
    },
    {
      "cell_type": "markdown",
      "metadata": {
        "id": "8g4ig6w-RXMC"
      },
      "source": [
        "Calculating the inverse matrix:"
      ]
    },
    {
      "cell_type": "code",
      "execution_count": 32,
      "metadata": {
        "id": "XY19xmgbRXMC",
        "outputId": "e42cb910-efb6-4dcc-dc49-230cb6818ba4",
        "colab": {
          "base_uri": "https://localhost:8080/"
        }
      },
      "outputs": [
        {
          "output_type": "stream",
          "name": "stdout",
          "text": [
            "[[1 2]\n",
            " [3 4]] \n",
            "\n"
          ]
        },
        {
          "output_type": "execute_result",
          "data": {
            "text/plain": [
              "array([[-2. ,  1. ],\n",
              "       [ 1.5, -0.5]])"
            ]
          },
          "metadata": {},
          "execution_count": 32
        }
      ],
      "source": [
        "m = np.array([[1, 2],[3, 4]])\n",
        "print(m, \"\\n\")\n",
        "minv = np.linalg.inv(m)\n",
        "minv"
      ]
    },
    {
      "cell_type": "code",
      "execution_count": 33,
      "metadata": {
        "id": "nlNapIwhRXMC",
        "outputId": "4390355e-d13c-4db0-fe95-326d9d9b026e",
        "colab": {
          "base_uri": "https://localhost:8080/"
        }
      },
      "outputs": [
        {
          "output_type": "execute_result",
          "data": {
            "text/plain": [
              "array([[1., 0.],\n",
              "       [0., 1.]])"
            ]
          },
          "metadata": {},
          "execution_count": 33
        }
      ],
      "source": [
        "mres = np.dot(m, minv)\n",
        "np.round(mres,2) "
      ]
    },
    {
      "cell_type": "markdown",
      "metadata": {
        "id": "paDXbIJjRXMD"
      },
      "source": [
        "System of linear equations (number of equations = number of unknowns):"
      ]
    },
    {
      "cell_type": "code",
      "execution_count": 69,
      "metadata": {
        "id": "XPYB1l3xRXMD",
        "outputId": "781493e7-9e5c-4b55-be14-d4ab35ee573f",
        "colab": {
          "base_uri": "https://localhost:8080/"
        }
      },
      "outputs": [
        {
          "output_type": "stream",
          "name": "stdout",
          "text": [
            "A\n",
            "[[5 8]\n",
            " [6 4]]\n",
            "\n",
            "b\n",
            "[[30]\n",
            " [25]]\n",
            "A.Ainv\n",
            "[[1. 0.]\n",
            " [0. 1.]]\n",
            "\n",
            "np.dot(Ainv,b)\n",
            "[[2.85714286]\n",
            " [1.96428571]]\n"
          ]
        }
      ],
      "source": [
        "A = np.array([[5, 8],[6, 4]])\n",
        "b = np.array([[30], [25]])\n",
        "print(\"A\")\n",
        "print(A)\n",
        "print(\"\\nb\")\n",
        "print(b)\n",
        "Ainv = np.linalg.inv(A)\n",
        "print(\"A.Ainv\")\n",
        "print(np.round(np.dot(A,Ainv), 5))\n",
        "print(\"\\nnp.dot(Ainv,b)\")\n",
        "print(np.dot(Ainv,b))"
      ]
    },
    {
      "cell_type": "code",
      "execution_count": 35,
      "metadata": {
        "id": "3Jwxoej7RXMD",
        "outputId": "30d2bec2-476d-4615-b14c-7e0a8a9afad8",
        "colab": {
          "base_uri": "https://localhost:8080/"
        }
      },
      "outputs": [
        {
          "output_type": "execute_result",
          "data": {
            "text/plain": [
              "array([[2.85714286],\n",
              "       [1.96428571]])"
            ]
          },
          "metadata": {},
          "execution_count": 35
        }
      ],
      "source": [
        "np.linalg.solve(A, b)"
      ]
    }
  ],
  "metadata": {
    "kernelspec": {
      "display_name": "Python 3",
      "language": "python",
      "name": "python3"
    },
    "language_info": {
      "codemirror_mode": {
        "name": "ipython",
        "version": 3
      },
      "file_extension": ".py",
      "mimetype": "text/x-python",
      "name": "python",
      "nbconvert_exporter": "python",
      "pygments_lexer": "ipython3",
      "version": "3.7.3"
    },
    "colab": {
      "provenance": [],
      "include_colab_link": true
    }
  },
  "nbformat": 4,
  "nbformat_minor": 0
}