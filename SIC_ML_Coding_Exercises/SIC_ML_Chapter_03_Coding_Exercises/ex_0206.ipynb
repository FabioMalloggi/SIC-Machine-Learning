{
  "cells": [
    {
      "cell_type": "markdown",
      "metadata": {
        "id": "view-in-github",
        "colab_type": "text"
      },
      "source": [
        "<a href=\"https://colab.research.google.com/github/tn-220/SIC-Machine-Learning/blob/main/SIC_ML_Coding_Exercises/SIC_ML_Chapter_03_Coding_Exercises/ex_0206.ipynb\" target=\"_parent\"><img src=\"https://colab.research.google.com/assets/colab-badge.svg\" alt=\"Open In Colab\"/></a>"
      ]
    },
    {
      "cell_type": "markdown",
      "metadata": {
        "id": "cICsBBG3EMIp"
      },
      "source": [
        "## Coding Exercise #0206"
      ]
    },
    {
      "cell_type": "markdown",
      "metadata": {
        "id": "b2GPM_PhEMIs"
      },
      "source": [
        "### 1. Transforming DataFrames:"
      ]
    },
    {
      "cell_type": "code",
      "execution_count": null,
      "metadata": {
        "id": "1aijpEDnEMIt"
      },
      "outputs": [],
      "source": [
        "import pandas as pd\n",
        "import numpy as np\n",
        "import os"
      ]
    },
    {
      "cell_type": "code",
      "execution_count": null,
      "metadata": {
        "id": "BZA3E3OJEMIu"
      },
      "outputs": [],
      "source": [
        "!wget --no-clobber https://raw.githubusercontent.com/tn-220/SIC-Machine-Learning/main/SIC_ML_Coding_Exercises/SIC_ML_Chapter_03_Coding_Exercises/data_studentlist.csv"
      ]
    },
    {
      "cell_type": "code",
      "execution_count": null,
      "metadata": {
        "id": "WtF7ef9tEMIu"
      },
      "outputs": [],
      "source": [
        "df = pd.read_csv('data_studentlist.csv', header='infer')\n",
        "df.head(3)"
      ]
    },
    {
      "cell_type": "code",
      "execution_count": null,
      "metadata": {
        "id": "6-e30_H_EMIu"
      },
      "outputs": [],
      "source": [
        "# Replace the columns (header).\n",
        "df.columns = ['NAME', 'GENDER' , 'AGE', 'GRADE', 'ABSENCE', 'BLOODTYPE', 'HEIGHT', 'WEIGHT']\n",
        "df.head(3)"
      ]
    },
    {
      "cell_type": "markdown",
      "metadata": {
        "id": "SP63cmVtEMIv"
      },
      "source": [
        "#### 1.1. Adding and removing columns:"
      ]
    },
    {
      "cell_type": "code",
      "execution_count": null,
      "metadata": {
        "id": "QhzoNQsDEMIv"
      },
      "outputs": [],
      "source": [
        "df['BMI'] = 10000*df['WEIGHT']/df['HEIGHT']**2"
      ]
    },
    {
      "cell_type": "code",
      "execution_count": null,
      "metadata": {
        "id": "TQslc2eiEMIw"
      },
      "outputs": [],
      "source": [
        "df.head(5)"
      ]
    },
    {
      "cell_type": "code",
      "execution_count": null,
      "metadata": {
        "id": "KjNLlhSnEMIw"
      },
      "outputs": [],
      "source": [
        "# drop() method removes a column. But it is just a 'view'.\n",
        "df.drop('BMI',axis=1)"
      ]
    },
    {
      "cell_type": "code",
      "execution_count": null,
      "metadata": {
        "id": "7VMXy_r8EMIx"
      },
      "outputs": [],
      "source": [
        "# The 'drop' was not permanent,\n",
        "df.head(5)"
      ]
    },
    {
      "cell_type": "code",
      "execution_count": null,
      "metadata": {
        "id": "Msd_Mgc6EMIx"
      },
      "outputs": [],
      "source": [
        "# inplace=True makes the removal permanent.\n",
        "df.drop('BMI',axis=1,inplace=True)\n",
        "df.head(5)"
      ]
    },
    {
      "cell_type": "markdown",
      "metadata": {
        "id": "p0peHMjvEMIx"
      },
      "source": [
        "#### 1.2. Merging DataFrames:\n",
        "\n",
        "* Syntax\n",
        "\n",
        "\n",
        "dataframe.merge(right, how, on, left_on, right_on, left_index, right_index, sort, suffixes, copy, indicator, validate)"
      ]
    },
    {
      "cell_type": "code",
      "execution_count": null,
      "metadata": {
        "id": "imym_7X8EMIx"
      },
      "outputs": [],
      "source": [
        "df_left = df.loc[:,['NAME','AGE','GENDER','GRADE','ABSENCE']]\n",
        "df_left_small = df_left.loc[:10,]\n",
        "df_left_small"
      ]
    },
    {
      "cell_type": "code",
      "execution_count": null,
      "metadata": {
        "id": "fP4SbHvUEMIy"
      },
      "outputs": [],
      "source": [
        "df_right = df.loc[:,['NAME','BLOODTYPE','WEIGHT','HEIGHT']]\n",
        "df_right_small = df_right.loc[7:,]\n",
        "df_right_small"
      ]
    },
    {
      "cell_type": "markdown",
      "metadata": {
        "id": "whEhiNv_EMIy"
      },
      "source": [
        "Inner join:"
      ]
    },
    {
      "cell_type": "code",
      "execution_count": null,
      "metadata": {
        "id": "UrA9rSCmEMIy"
      },
      "outputs": [],
      "source": [
        "pd.merge(df_left_small,df_right_small,left_on='NAME', right_on = 'NAME', how='inner')"
      ]
    },
    {
      "cell_type": "markdown",
      "metadata": {
        "id": "eL2obvobEMIz"
      },
      "source": [
        "Left join:"
      ]
    },
    {
      "cell_type": "code",
      "execution_count": null,
      "metadata": {
        "id": "GMVZUJcYEMIz"
      },
      "outputs": [],
      "source": [
        "pd.merge(df_left_small,df_right_small,left_on='NAME', right_on = 'NAME', how='left')"
      ]
    },
    {
      "cell_type": "markdown",
      "metadata": {
        "id": "9pJ7RITREMIz"
      },
      "source": [
        "Right join:"
      ]
    },
    {
      "cell_type": "code",
      "execution_count": null,
      "metadata": {
        "id": "gM0qUHgMEMIz"
      },
      "outputs": [],
      "source": [
        "pd.merge(df_left_small,df_right_small,left_on='NAME', right_on = 'NAME', how='right')"
      ]
    },
    {
      "cell_type": "markdown",
      "metadata": {
        "id": "IgdUyyjvEMI0"
      },
      "source": [
        "Full outer join:"
      ]
    },
    {
      "cell_type": "code",
      "execution_count": null,
      "metadata": {
        "id": "wqLpcXG7EMI0"
      },
      "outputs": [],
      "source": [
        "pd.merge(df_left_small,df_right_small,left_on='NAME', right_on = 'NAME', how='outer')"
      ]
    },
    {
      "cell_type": "markdown",
      "metadata": {
        "id": "mxIMrn4yEMI0"
      },
      "source": [
        "#### 1.3. Binding DataFrames:"
      ]
    },
    {
      "cell_type": "markdown",
      "metadata": {
        "id": "sPu6tS5LEMI0"
      },
      "source": [
        "Bind vertically matched by 'columns':"
      ]
    },
    {
      "cell_type": "code",
      "execution_count": null,
      "metadata": {
        "id": "xaERALVzEMI0"
      },
      "outputs": [],
      "source": [
        "pd.concat([df_left_small,df_right_small],sort=True)  "
      ]
    },
    {
      "cell_type": "markdown",
      "metadata": {
        "id": "IB17TUaAEMI1"
      },
      "source": [
        "Bind horizontally matched by 'index':"
      ]
    },
    {
      "cell_type": "code",
      "execution_count": null,
      "metadata": {
        "id": "BslQIW1uEMI1"
      },
      "outputs": [],
      "source": [
        "pd.concat([df_left_small,df_right_small],axis=1,sort=True)         "
      ]
    },
    {
      "cell_type": "code",
      "execution_count": null,
      "metadata": {
        "id": "acxnwWEBEMI1"
      },
      "outputs": [],
      "source": []
    }
  ],
  "metadata": {
    "kernelspec": {
      "display_name": "Python 3.10.5 64-bit",
      "language": "python",
      "name": "python3"
    },
    "language_info": {
      "codemirror_mode": {
        "name": "ipython",
        "version": 3
      },
      "file_extension": ".py",
      "mimetype": "text/x-python",
      "name": "python",
      "nbconvert_exporter": "python",
      "pygments_lexer": "ipython3",
      "version": "3.10.5"
    },
    "vscode": {
      "interpreter": {
        "hash": "b59c3c51fbf7280eebbd8cbad263eecaa0e6f687d8c9a441ba8cbbb32184f0dc"
      }
    },
    "colab": {
      "provenance": [],
      "include_colab_link": true
    }
  },
  "nbformat": 4,
  "nbformat_minor": 0
}