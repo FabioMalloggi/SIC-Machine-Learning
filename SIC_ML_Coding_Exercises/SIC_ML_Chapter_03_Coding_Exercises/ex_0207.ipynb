{
  "cells": [
    {
      "cell_type": "markdown",
      "metadata": {
        "id": "uQvM8zNj1jQb"
      },
      "source": [
        "## Coding Exercise #0207"
      ]
    },
    {
      "cell_type": "markdown",
      "metadata": {
        "id": "QRG-h5Pq1jQe"
      },
      "source": [
        "### 1. Statistics with Pandas:"
      ]
    },
    {
      "cell_type": "code",
      "execution_count": null,
      "metadata": {
        "id": "bQk3Vf6O1jQf"
      },
      "outputs": [],
      "source": [
        "import pandas as pd\n",
        "import numpy as np\n",
        "import os"
      ]
    },
    {
      "cell_type": "markdown",
      "metadata": {
        "id": "fbzbd6pX1jQg"
      },
      "source": [
        "#### 1.1. Read data into a DataFrame:"
      ]
    },
    {
      "cell_type": "code",
      "execution_count": null,
      "metadata": {
        "id": "dBAfLEap1jQg"
      },
      "outputs": [],
      "source": [
        "!wget --no-clobber https://raw.githubusercontent.com/tn-220/SIC-Machine-Learning/main/SIC_ML_Coding_Exercises/SIC_ML_Chapter_03_Coding_Exercises/data_iris.csv"
      ]
    },
    {
      "cell_type": "code",
      "execution_count": null,
      "metadata": {
        "id": "Psqb_Zo81jQh"
      },
      "outputs": [],
      "source": [
        "df = pd.read_csv('data_iris.csv', header='infer')"
      ]
    },
    {
      "cell_type": "code",
      "execution_count": null,
      "metadata": {
        "id": "MOoPqpcL1jQh"
      },
      "outputs": [],
      "source": [
        "df.shape"
      ]
    },
    {
      "cell_type": "code",
      "execution_count": null,
      "metadata": {
        "id": "gLAEJBlA1jQh"
      },
      "outputs": [],
      "source": [
        "df.info()"
      ]
    },
    {
      "cell_type": "code",
      "execution_count": null,
      "metadata": {
        "id": "R8AgLI4o1jQi"
      },
      "outputs": [],
      "source": [
        "df.head(3)"
      ]
    },
    {
      "cell_type": "code",
      "execution_count": null,
      "metadata": {
        "id": "CFBclJPi1jQi"
      },
      "outputs": [],
      "source": [
        "df.tail(3)"
      ]
    },
    {
      "cell_type": "markdown",
      "metadata": {
        "id": "aHt1HGdK1jQj"
      },
      "source": [
        "#### 1.2. Statistics using DataFrame methods:"
      ]
    },
    {
      "cell_type": "code",
      "execution_count": null,
      "metadata": {
        "id": "4tG_zQHT1jQj"
      },
      "outputs": [],
      "source": [
        "# Column averages.\n",
        "df.mean(axis=0)"
      ]
    },
    {
      "cell_type": "code",
      "execution_count": null,
      "metadata": {
        "id": "xV-f76h71jQj"
      },
      "outputs": [],
      "source": [
        "# Descriptive statistics.\n",
        "df.describe()"
      ]
    },
    {
      "cell_type": "code",
      "execution_count": null,
      "metadata": {
        "id": "54fb5xMX1jQj"
      },
      "outputs": [],
      "source": [
        "# Correlation.\n",
        "df.loc[:,'Sepal.Length'].corr(df.loc[:,'Sepal.Width'])"
      ]
    },
    {
      "cell_type": "code",
      "execution_count": null,
      "metadata": {
        "id": "505BcbEW1jQk"
      },
      "outputs": [],
      "source": [
        "# Correlation.\n",
        "df.loc[:,'Sepal.Length'].corr(df.loc[:,'Petal.Length'])"
      ]
    },
    {
      "cell_type": "code",
      "execution_count": null,
      "metadata": {
        "id": "yZSmtW5g1jQk"
      },
      "outputs": [],
      "source": [
        "# Correlation matrix.\n",
        "np.round(df.corr(),3)"
      ]
    },
    {
      "cell_type": "code",
      "execution_count": null,
      "metadata": {
        "id": "RP0qaIbo1jQk"
      },
      "outputs": [],
      "source": [
        "# Correlation with respect to one variable (column).\n",
        "df.corrwith(df.loc[:,'Petal.Length'])"
      ]
    },
    {
      "cell_type": "markdown",
      "metadata": {
        "id": "MytlGEdm1jQk"
      },
      "source": [
        "#### 1.3. Slice and then apply a statistic method:"
      ]
    },
    {
      "cell_type": "code",
      "execution_count": null,
      "metadata": {
        "id": "55reqVya1jQk"
      },
      "outputs": [],
      "source": [
        "df[df.Species=='setosa'].mean(axis=0)"
      ]
    },
    {
      "cell_type": "code",
      "execution_count": null,
      "metadata": {
        "id": "baPIyd5O1jQk"
      },
      "outputs": [],
      "source": [
        "df[df.Species=='virginica'].mean(axis=0)"
      ]
    },
    {
      "cell_type": "code",
      "execution_count": null,
      "metadata": {
        "id": "xKkdS90L1jQl"
      },
      "outputs": [],
      "source": [
        "df[df.Species=='versicolor'].mean(axis=0)"
      ]
    },
    {
      "cell_type": "markdown",
      "metadata": {
        "id": "iu2eqxBv1jQl"
      },
      "source": [
        "Frequency table:"
      ]
    },
    {
      "cell_type": "code",
      "execution_count": null,
      "metadata": {
        "id": "UyQZ-xeK1jQl"
      },
      "outputs": [],
      "source": [
        "df.Species.value_counts()"
      ]
    },
    {
      "cell_type": "markdown",
      "metadata": {
        "id": "9qxOpD2b1jQl"
      },
      "source": [
        "### 2. Missing values:"
      ]
    },
    {
      "cell_type": "markdown",
      "metadata": {
        "id": "NAvPl1Zt1jQl"
      },
      "source": [
        "First of all, we purposefully enter the missing values:"
      ]
    },
    {
      "cell_type": "code",
      "execution_count": null,
      "metadata": {
        "id": "lfhOyIqs1jQl"
      },
      "outputs": [],
      "source": [
        "df.iloc[10,0] = np.nan\n",
        "df.iloc[2,2] = np.nan\n",
        "df.iloc[17,2] = np.nan\n",
        "df.iloc[2,3] = np.nan\n",
        "df.iloc[129,2] = np.nan"
      ]
    },
    {
      "cell_type": "code",
      "execution_count": null,
      "metadata": {
        "id": "imyrb50o1jQl"
      },
      "outputs": [],
      "source": [
        "df.head(3)"
      ]
    },
    {
      "cell_type": "markdown",
      "metadata": {
        "id": "-qSy34611jQl"
      },
      "source": [
        "#### 2.1. Statistics of the missing values:"
      ]
    },
    {
      "cell_type": "code",
      "execution_count": null,
      "metadata": {
        "id": "LoL_4KPZ1jQl"
      },
      "outputs": [],
      "source": [
        "# Count non-missing values per column.\n",
        "df.count(axis=0)"
      ]
    },
    {
      "cell_type": "code",
      "execution_count": null,
      "metadata": {
        "id": "b9pmL5vg1jQm"
      },
      "outputs": [],
      "source": [
        "# Calculate the averages skipping the missing values.\n",
        "df.drop(columns='Species').mean(axis=0)                                 # 'Species' column is left out."
      ]
    },
    {
      "cell_type": "code",
      "execution_count": null,
      "metadata": {
        "id": "agK7KT6T1jQm"
      },
      "outputs": [],
      "source": [
        "# Try to calculate the averages without skipping the missing values.  => NaNs appear!\n",
        "df.drop(columns='Species').mean(axis=0, skipna=False)                  # 'Species' column is left out."
      ]
    },
    {
      "cell_type": "markdown",
      "metadata": {
        "id": "ulVNgUTS1jQm"
      },
      "source": [
        "#### 2.2. Detect and process the missing values:"
      ]
    },
    {
      "cell_type": "code",
      "execution_count": null,
      "metadata": {
        "id": "NtOMjf1S1jQm"
      },
      "outputs": [],
      "source": [
        "# Count the missing values per column.\n",
        "(df.isnull()).sum(axis=0)"
      ]
    },
    {
      "cell_type": "code",
      "execution_count": null,
      "metadata": {
        "id": "kMKQpzqp1jQm"
      },
      "outputs": [],
      "source": [
        "# Proportion of missing values per column.\n",
        "(df.isnull()).mean(axis=0)"
      ]
    },
    {
      "cell_type": "code",
      "execution_count": null,
      "metadata": {
        "id": "qmFoj67R1jQm"
      },
      "outputs": [],
      "source": [
        "# Drop the rows with at leat one missing value.\n",
        "df2 = df.dropna(axis=0)"
      ]
    },
    {
      "cell_type": "code",
      "execution_count": null,
      "metadata": {
        "id": "mbM3L__p1jQm"
      },
      "outputs": [],
      "source": [
        "df2.shape"
      ]
    },
    {
      "cell_type": "code",
      "execution_count": null,
      "metadata": {
        "id": "avsli71q1jQm"
      },
      "outputs": [],
      "source": [
        "df2.head(3)"
      ]
    },
    {
      "cell_type": "code",
      "execution_count": null,
      "metadata": {
        "id": "hZH25PmY1jQm"
      },
      "outputs": [],
      "source": [
        "# Drop the rows with less than 4 normal values.\n",
        "df2 = df.dropna(axis=0, thresh = 4)\n",
        "df2.shape"
      ]
    },
    {
      "cell_type": "code",
      "execution_count": null,
      "metadata": {
        "id": "FMxoewsS1jQn"
      },
      "outputs": [],
      "source": [
        "# Drop the columns with at least one missing value.\n",
        "df3 = df.dropna(axis=1)\n",
        "df3.shape"
      ]
    },
    {
      "cell_type": "code",
      "execution_count": null,
      "metadata": {
        "id": "OAvWfvrD1jQp"
      },
      "outputs": [],
      "source": [
        "df3.head(3)"
      ]
    },
    {
      "cell_type": "code",
      "execution_count": null,
      "metadata": {
        "id": "M2X4JFFB1jQp"
      },
      "outputs": [],
      "source": [
        "# Drop the columns with less than 149 normal values.\n",
        "df3 = df.dropna(axis=1, thresh = 149)\n",
        "df3.shape"
      ]
    },
    {
      "cell_type": "code",
      "execution_count": null,
      "metadata": {
        "id": "WESYs4ho1jQp"
      },
      "outputs": [],
      "source": [
        "df3.head(3)"
      ]
    },
    {
      "cell_type": "markdown",
      "metadata": {
        "id": "5WeRa8cW1jQp"
      },
      "source": [
        "#### 2.3. Fill the missing values:"
      ]
    },
    {
      "cell_type": "code",
      "execution_count": null,
      "metadata": {
        "id": "MlL2s_Vn1jQp"
      },
      "outputs": [],
      "source": [
        "# Fill the missing values with 0.\n",
        "df4 = df.fillna(value=0)\n",
        "df4.count()                         # axis=0 by default."
      ]
    },
    {
      "cell_type": "code",
      "execution_count": null,
      "metadata": {
        "id": "FILZB-bC1jQp"
      },
      "outputs": [],
      "source": [
        "# Fill the missing values using column averages.\n",
        "df['Sepal.Length'] = df['Sepal.Length'].fillna(value=df['Sepal.Length'].mean())\n",
        "df['Petal.Length'] = df['Petal.Length'].fillna(value=df['Petal.Length'].mean())\n",
        "df['Petal.Width'] = df['Petal.Width'].fillna(value=df['Petal.Width'].mean())\n",
        "df.count()                          # axis=0 by default."
      ]
    },
    {
      "cell_type": "code",
      "execution_count": null,
      "metadata": {
        "id": "_e6xObmg1jQq"
      },
      "outputs": [],
      "source": [
        "df.head(3)"
      ]
    },
    {
      "cell_type": "code",
      "execution_count": null,
      "metadata": {
        "id": "8Po9qVh41jQq"
      },
      "outputs": [],
      "source": [
        ""
      ]
    }
  ],
  "metadata": {
    "kernelspec": {
      "display_name": "Python 3.10.5 64-bit",
      "language": "python",
      "name": "python3"
    },
    "language_info": {
      "codemirror_mode": {
        "name": "ipython",
        "version": 3
      },
      "file_extension": ".py",
      "mimetype": "text/x-python",
      "name": "python",
      "nbconvert_exporter": "python",
      "pygments_lexer": "ipython3",
      "version": "3.10.5"
    },
    "vscode": {
      "interpreter": {
        "hash": "b59c3c51fbf7280eebbd8cbad263eecaa0e6f687d8c9a441ba8cbbb32184f0dc"
      }
    },
    "colab": {
      "provenance": []
    }
  },
  "nbformat": 4,
  "nbformat_minor": 0
}