{
  "cells": [
    {
      "cell_type": "markdown",
      "metadata": {
        "id": "view-in-github",
        "colab_type": "text"
      },
      "source": [
        "<a href=\"https://colab.research.google.com/github/tn-220/SIC-Machine-Learning/blob/main/SIC_ML_Coding_Exercises/SIC_ML_Chapter_03_Coding_Exercises/ex_0204.ipynb\" target=\"_parent\"><img src=\"https://colab.research.google.com/assets/colab-badge.svg\" alt=\"Open In Colab\"/></a>"
      ]
    },
    {
      "cell_type": "markdown",
      "metadata": {
        "id": "E5mkB7RiiuqO"
      },
      "source": [
        "## Coding Exercise #0204"
      ]
    },
    {
      "cell_type": "markdown",
      "metadata": {
        "id": "e6w4B5E9iuqR"
      },
      "source": [
        "### 1. Pandas Series:"
      ]
    },
    {
      "cell_type": "code",
      "execution_count": 45,
      "metadata": {
        "id": "jcgGJC0uiuqS"
      },
      "outputs": [],
      "source": [
        "import pandas as pd\n",
        "import numpy as np"
      ]
    },
    {
      "cell_type": "markdown",
      "metadata": {
        "id": "rgFSNfokiuqT"
      },
      "source": [
        "#### 1.1. Creating Series objects:"
      ]
    },
    {
      "cell_type": "code",
      "source": [
        "my_index = ['a','b','c']\n",
        "type(my_index)"
      ],
      "metadata": {
        "id": "D9sgrDjIjfog",
        "outputId": "a6c5616c-3ed7-4a44-dc08-f41c5f381a30",
        "colab": {
          "base_uri": "https://localhost:8080/"
        }
      },
      "execution_count": 46,
      "outputs": [
        {
          "output_type": "execute_result",
          "data": {
            "text/plain": [
              "list"
            ]
          },
          "metadata": {},
          "execution_count": 46
        }
      ]
    },
    {
      "cell_type": "code",
      "execution_count": 92,
      "metadata": {
        "id": "fq8fQYc0iuqT",
        "outputId": "436acb6c-65a5-4eaa-a178-465bfc192e1d",
        "colab": {
          "base_uri": "https://localhost:8080/"
        }
      },
      "outputs": [
        {
          "output_type": "stream",
          "name": "stdout",
          "text": [
            "my_index :  ['a', 'b', 'c'] \n",
            "\n",
            "my_values :  [222, 333, 444] \n",
            "\n",
            "my_values :  [222, 333, 444] \n",
            "\n",
            "my_dict :  {'a': 222, 'b': 555, 'c': 444} \n",
            "\n",
            "my_arr :  [222 333 444] \n",
            "\n"
          ]
        }
      ],
      "source": [
        "my_index = ['a','b','c']\n",
        "print(\"my_index : \", my_index,\"\\n\")\n",
        "\n",
        "my_values = [222,333,444]\n",
        "print(\"my_values : \", my_values,\"\\n\")\n",
        "\n",
        "my_values2 = (220,330,440)\n",
        "print(\"my_values : \", my_values,\"\\n\")\n",
        "\n",
        "my_dict = {'a':222, 'b':333, 'c':444, 'b':555}\n",
        "print(\"my_dict : \", my_dict,\"\\n\")\n",
        "\n",
        "my_arr = np.array(my_values)\n",
        "print(\"my_arr : \", my_arr,\"\\n\")"
      ]
    },
    {
      "cell_type": "code",
      "execution_count": 48,
      "metadata": {
        "id": "DlRWsMP3iuqU",
        "outputId": "aa5909fa-6aa7-49e8-eb4e-84dcc868a3a2",
        "colab": {
          "base_uri": "https://localhost:8080/"
        }
      },
      "outputs": [
        {
          "output_type": "execute_result",
          "data": {
            "text/plain": [
              "0    222\n",
              "1    333\n",
              "2    444\n",
              "dtype: int64"
            ]
          },
          "metadata": {},
          "execution_count": 48
        }
      ],
      "source": [
        "# Series with list of values\n",
        "pd.Series(my_values)"
      ]
    },
    {
      "cell_type": "code",
      "source": [
        "# Series with tuple of values\n",
        "pd.Series(my_values2)"
      ],
      "metadata": {
        "id": "QB_paE02XRgv",
        "outputId": "ad7d5445-2ba3-482f-c57a-8e86bf76285b",
        "colab": {
          "base_uri": "https://localhost:8080/"
        }
      },
      "execution_count": 49,
      "outputs": [
        {
          "output_type": "execute_result",
          "data": {
            "text/plain": [
              "0    220\n",
              "1    330\n",
              "2    440\n",
              "dtype: int64"
            ]
          },
          "metadata": {},
          "execution_count": 49
        }
      ]
    },
    {
      "cell_type": "code",
      "execution_count": 50,
      "metadata": {
        "id": "PahGMrOWiuqU",
        "outputId": "9c736e91-e649-44ff-d684-c582c03a593e",
        "colab": {
          "base_uri": "https://localhost:8080/"
        }
      },
      "outputs": [
        {
          "output_type": "execute_result",
          "data": {
            "text/plain": [
              "a    222\n",
              "b    333\n",
              "c    444\n",
              "dtype: int64"
            ]
          },
          "metadata": {},
          "execution_count": 50
        }
      ],
      "source": [
        "# Series with values and index labels.\n",
        "pd.Series(data=my_values, index=my_index)"
      ]
    },
    {
      "cell_type": "code",
      "execution_count": 51,
      "metadata": {
        "id": "txMrBgS3iuqU",
        "outputId": "dfc38adc-af55-4f42-9f87-fad78f2e2994",
        "colab": {
          "base_uri": "https://localhost:8080/"
        }
      },
      "outputs": [
        {
          "output_type": "execute_result",
          "data": {
            "text/plain": [
              "0    222\n",
              "1    333\n",
              "2    444\n",
              "dtype: int64"
            ]
          },
          "metadata": {},
          "execution_count": 51
        }
      ],
      "source": [
        "# Series from a NumPy array.\n",
        "pd.Series(my_arr)"
      ]
    },
    {
      "cell_type": "code",
      "execution_count": 52,
      "metadata": {
        "id": "uxdzoayBiuqV",
        "outputId": "ea8e4ffe-8558-4a08-eb01-c57feb9b0ee2",
        "colab": {
          "base_uri": "https://localhost:8080/"
        }
      },
      "outputs": [
        {
          "output_type": "execute_result",
          "data": {
            "text/plain": [
              "a    222\n",
              "b    333\n",
              "c    444\n",
              "dtype: int64"
            ]
          },
          "metadata": {},
          "execution_count": 52
        }
      ],
      "source": [
        "# Series from a NumPy array with index labels.\n",
        "pd.Series(my_arr, index=my_index)"
      ]
    },
    {
      "cell_type": "code",
      "execution_count": 94,
      "metadata": {
        "id": "YiRcJw7ViuqV",
        "outputId": "1ded8413-a0ff-4602-fc33-116eb5d28463",
        "colab": {
          "base_uri": "https://localhost:8080/"
        }
      },
      "outputs": [
        {
          "output_type": "execute_result",
          "data": {
            "text/plain": [
              "a    222\n",
              "b    555\n",
              "c    444\n",
              "dtype: int64"
            ]
          },
          "metadata": {},
          "execution_count": 94
        }
      ],
      "source": [
        "# Series from a dictionary.\n",
        "x = pd.Series(my_dict)\n",
        "x"
      ]
    },
    {
      "cell_type": "code",
      "source": [
        "x.values"
      ],
      "metadata": {
        "id": "leqyur26XzFA",
        "outputId": "e5ba71ab-b498-4100-b0cb-fb046ba8ceb7",
        "colab": {
          "base_uri": "https://localhost:8080/"
        }
      },
      "execution_count": 96,
      "outputs": [
        {
          "output_type": "execute_result",
          "data": {
            "text/plain": [
              "array([222, 555, 444])"
            ]
          },
          "metadata": {},
          "execution_count": 96
        }
      ]
    },
    {
      "cell_type": "code",
      "source": [
        "x.index"
      ],
      "metadata": {
        "id": "UX6dftX3YEC0",
        "outputId": "3f7385d5-3d41-4b6b-a17b-937858125fd5",
        "colab": {
          "base_uri": "https://localhost:8080/"
        }
      },
      "execution_count": 97,
      "outputs": [
        {
          "output_type": "execute_result",
          "data": {
            "text/plain": [
              "Index(['a', 'b', 'c'], dtype='object')"
            ]
          },
          "metadata": {},
          "execution_count": 97
        }
      ]
    },
    {
      "cell_type": "code",
      "source": [
        "x.values.std()"
      ],
      "metadata": {
        "id": "71DdudCDYHD-",
        "outputId": "eda6f7e8-9068-4121-dad2-b9487306bea8",
        "colab": {
          "base_uri": "https://localhost:8080/"
        }
      },
      "execution_count": 100,
      "outputs": [
        {
          "output_type": "execute_result",
          "data": {
            "text/plain": [
              "138.44132331063582"
            ]
          },
          "metadata": {},
          "execution_count": 100
        }
      ]
    },
    {
      "cell_type": "markdown",
      "metadata": {
        "id": "sDdhCJyriuqW"
      },
      "source": [
        "#### 1.2. Series attributes and indexing:"
      ]
    },
    {
      "cell_type": "code",
      "execution_count": 112,
      "metadata": {
        "id": "cST4dsIoiuqW",
        "outputId": "1730e1b8-6a61-4434-d9e8-abfbf4bd53ae",
        "colab": {
          "base_uri": "https://localhost:8080/"
        }
      },
      "outputs": [
        {
          "output_type": "stream",
          "name": "stdout",
          "text": [
            "a    111\n",
            "b    222\n",
            "c    333\n",
            "d    444\n",
            "Name: MySeries, dtype: object\n",
            "<class 'int'>\n",
            "<class 'str'>\n"
          ]
        }
      ],
      "source": [
        "s = pd.Series(data=[111,222,\"333\",444], index = ['a','b','c','d'], name='MySeries')\n",
        "print(s)\n",
        "print(type(s.values[1]))\n",
        "print(type(s.values[2]))"
      ]
    },
    {
      "cell_type": "markdown",
      "metadata": {
        "id": "7e6RYyIGiuqW"
      },
      "source": [
        "Series attributes:"
      ]
    },
    {
      "cell_type": "code",
      "execution_count": 110,
      "metadata": {
        "id": "MVeLY4GliuqW",
        "outputId": "3b42558c-90de-4ab7-8dde-b9a279b26fca",
        "colab": {
          "base_uri": "https://localhost:8080/"
        }
      },
      "outputs": [
        {
          "output_type": "execute_result",
          "data": {
            "text/plain": [
              "Index(['a', 'b', 'c', 'd'], dtype='object')"
            ]
          },
          "metadata": {},
          "execution_count": 110
        }
      ],
      "source": [
        "s.index                                   # Index labels."
      ]
    },
    {
      "cell_type": "code",
      "execution_count": 113,
      "metadata": {
        "id": "EasyzOyJiuqW",
        "outputId": "711e97a6-4eee-4cbc-9f29-dfc130bfe90f",
        "colab": {
          "base_uri": "https://localhost:8080/",
          "height": 35
        }
      },
      "outputs": [
        {
          "output_type": "execute_result",
          "data": {
            "text/plain": [
              "'MySeries'"
            ],
            "application/vnd.google.colaboratory.intrinsic+json": {
              "type": "string"
            }
          },
          "metadata": {},
          "execution_count": 113
        }
      ],
      "source": [
        "s.name                                    # Name attribute."
      ]
    },
    {
      "cell_type": "code",
      "execution_count": 114,
      "metadata": {
        "id": "YXfUCC-wiuqX",
        "outputId": "e0fee95c-0dae-4776-ede2-30ae68c41c14",
        "colab": {
          "base_uri": "https://localhost:8080/"
        }
      },
      "outputs": [
        {
          "output_type": "execute_result",
          "data": {
            "text/plain": [
              "dtype('O')"
            ]
          },
          "metadata": {},
          "execution_count": 114
        }
      ],
      "source": [
        "s.dtype                                   # Data type."
      ]
    },
    {
      "cell_type": "code",
      "source": [
        "type(s[1])"
      ],
      "metadata": {
        "id": "3fmnXEnIltAW",
        "outputId": "cb799941-9240-4ea4-f488-154dbb3e5300",
        "colab": {
          "base_uri": "https://localhost:8080/"
        }
      },
      "execution_count": 115,
      "outputs": [
        {
          "output_type": "execute_result",
          "data": {
            "text/plain": [
              "int"
            ]
          },
          "metadata": {},
          "execution_count": 115
        }
      ]
    },
    {
      "cell_type": "code",
      "source": [
        "type(s[2])"
      ],
      "metadata": {
        "id": "ksgniwHkl9CQ",
        "outputId": "7993aa57-38d5-45fa-b042-bbcfb4fe4c65",
        "colab": {
          "base_uri": "https://localhost:8080/"
        }
      },
      "execution_count": 116,
      "outputs": [
        {
          "output_type": "execute_result",
          "data": {
            "text/plain": [
              "str"
            ]
          },
          "metadata": {},
          "execution_count": 116
        }
      ]
    },
    {
      "cell_type": "code",
      "source": [
        "s.astype(float)       # Enables us to set or convert the data type of an existing data column in a dataset or a data frame."
      ],
      "metadata": {
        "id": "7fkYW7FHmTHh",
        "outputId": "d93ecba6-251f-48db-abed-9112ec0f68dd",
        "colab": {
          "base_uri": "https://localhost:8080/"
        }
      },
      "execution_count": 121,
      "outputs": [
        {
          "output_type": "execute_result",
          "data": {
            "text/plain": [
              "a    111.0\n",
              "b    222.0\n",
              "c    333.0\n",
              "d    444.0\n",
              "Name: MySeries, dtype: float64"
            ]
          },
          "metadata": {},
          "execution_count": 121
        }
      ]
    },
    {
      "cell_type": "code",
      "execution_count": 119,
      "metadata": {
        "id": "TlGn99eViuqX",
        "outputId": "29836c0c-c6fb-435f-c343-9d6f6b1f5729",
        "colab": {
          "base_uri": "https://localhost:8080/"
        }
      },
      "outputs": [
        {
          "output_type": "execute_result",
          "data": {
            "text/plain": [
              "array([111, 222, '333', 444], dtype=object)"
            ]
          },
          "metadata": {},
          "execution_count": 119
        }
      ],
      "source": [
        "s.values                          # The values as NumPy array."
      ]
    },
    {
      "cell_type": "markdown",
      "metadata": {
        "id": "vBg5Vu1HiuqX"
      },
      "source": [
        "Series indexing and slicing:"
      ]
    },
    {
      "cell_type": "code",
      "execution_count": 62,
      "metadata": {
        "id": "KdVJWAyliuqX",
        "outputId": "5acfdc9f-2314-44aa-a9ae-b42395e527ed",
        "colab": {
          "base_uri": "https://localhost:8080/"
        }
      },
      "outputs": [
        {
          "output_type": "execute_result",
          "data": {
            "text/plain": [
              "222"
            ]
          },
          "metadata": {},
          "execution_count": 62
        }
      ],
      "source": [
        "s[1]"
      ]
    },
    {
      "cell_type": "code",
      "execution_count": 63,
      "metadata": {
        "id": "A5gbeK_TiuqX",
        "outputId": "2167597f-223c-44fe-d2c3-9fac490163ca",
        "colab": {
          "base_uri": "https://localhost:8080/"
        }
      },
      "outputs": [
        {
          "output_type": "execute_result",
          "data": {
            "text/plain": [
              "111"
            ]
          },
          "metadata": {},
          "execution_count": 63
        }
      ],
      "source": [
        "s['a']"
      ]
    },
    {
      "cell_type": "code",
      "execution_count": 64,
      "metadata": {
        "id": "Lv-kfG2tiuqY",
        "outputId": "79a297ee-21dd-434c-b5b1-b95111ef090e",
        "colab": {
          "base_uri": "https://localhost:8080/"
        }
      },
      "outputs": [
        {
          "output_type": "execute_result",
          "data": {
            "text/plain": [
              "c    333\n",
              "d    444\n",
              "Name: MySeries, dtype: object"
            ]
          },
          "metadata": {},
          "execution_count": 64
        }
      ],
      "source": [
        "s[2:4]"
      ]
    },
    {
      "cell_type": "code",
      "source": [
        "s[2:10]       # Be careful that this does not give an error"
      ],
      "metadata": {
        "id": "SayAl98Kowng",
        "outputId": "402319ac-1763-46cc-e26d-53f19e1b010b",
        "colab": {
          "base_uri": "https://localhost:8080/"
        }
      },
      "execution_count": 65,
      "outputs": [
        {
          "output_type": "execute_result",
          "data": {
            "text/plain": [
              "c    333\n",
              "d    444\n",
              "Name: MySeries, dtype: object"
            ]
          },
          "metadata": {},
          "execution_count": 65
        }
      ]
    },
    {
      "cell_type": "code",
      "execution_count": 66,
      "metadata": {
        "id": "YsXf6EpRiuqY",
        "outputId": "051c9f6a-2b4b-4c38-fd32-3df97f7a6fa8",
        "colab": {
          "base_uri": "https://localhost:8080/"
        }
      },
      "outputs": [
        {
          "output_type": "execute_result",
          "data": {
            "text/plain": [
              "a    111\n",
              "d    444\n",
              "Name: MySeries, dtype: object"
            ]
          },
          "metadata": {},
          "execution_count": 66
        }
      ],
      "source": [
        "s[['a','d']]"
      ]
    },
    {
      "cell_type": "markdown",
      "metadata": {
        "id": "putmMJjfiuqY"
      },
      "source": [
        "#### 1.3. Series operations:"
      ]
    },
    {
      "cell_type": "code",
      "execution_count": 67,
      "metadata": {
        "id": "pv1nSFIFiuqY",
        "outputId": "099174ce-f3f6-4adb-b776-f68c944c7a91",
        "colab": {
          "base_uri": "https://localhost:8080/"
        }
      },
      "outputs": [
        {
          "output_type": "stream",
          "name": "stdout",
          "text": [
            "d    1\n",
            "b    2\n",
            "c    3\n",
            "a    4\n",
            "dtype: int64 \n",
            "\n",
            "a    1\n",
            "b    2\n",
            "d    3\n",
            "e    4\n",
            "dtype: int64\n"
          ]
        }
      ],
      "source": [
        "s1 = pd.Series(data=[1,2,3,4], index = ['d','b','c','a'])\n",
        "s2 = pd.Series(data=[1,2,3,4], index = ['a','b','d','e'])\n",
        "\n",
        "print(s1, \"\\n\")\n",
        "print(s2)"
      ]
    },
    {
      "cell_type": "markdown",
      "metadata": {
        "id": "y4ana0aQiuqY"
      },
      "source": [
        "Please notice that in the Series to Series operations, the elements are matched by the index labels. <br>\n",
        "When there is no mathing index label, we get **NaN**."
      ]
    },
    {
      "cell_type": "code",
      "execution_count": 68,
      "metadata": {
        "id": "grU6Ark6iuqY",
        "outputId": "7b510ff8-2e06-4c3e-ac1c-b9d5ef1a6500",
        "colab": {
          "base_uri": "https://localhost:8080/"
        }
      },
      "outputs": [
        {
          "output_type": "execute_result",
          "data": {
            "text/plain": [
              "a    5.0\n",
              "b    4.0\n",
              "c    NaN\n",
              "d    4.0\n",
              "e    NaN\n",
              "dtype: float64"
            ]
          },
          "metadata": {},
          "execution_count": 68
        }
      ],
      "source": [
        "s1 + s2"
      ]
    },
    {
      "cell_type": "code",
      "execution_count": 69,
      "metadata": {
        "id": "pHJafpwIiuqZ",
        "outputId": "39e24b36-6580-44e6-97a4-197197a65351",
        "colab": {
          "base_uri": "https://localhost:8080/"
        }
      },
      "outputs": [
        {
          "output_type": "execute_result",
          "data": {
            "text/plain": [
              "a    3.0\n",
              "b    0.0\n",
              "c    NaN\n",
              "d   -2.0\n",
              "e    NaN\n",
              "dtype: float64"
            ]
          },
          "metadata": {},
          "execution_count": 69
        }
      ],
      "source": [
        "s1 - s2"
      ]
    },
    {
      "cell_type": "code",
      "execution_count": 70,
      "metadata": {
        "id": "2h7BRXetiuqZ",
        "outputId": "729c039f-8615-40c5-f809-03935e846720",
        "colab": {
          "base_uri": "https://localhost:8080/"
        }
      },
      "outputs": [
        {
          "output_type": "execute_result",
          "data": {
            "text/plain": [
              "a    4.0\n",
              "b    4.0\n",
              "c    NaN\n",
              "d    3.0\n",
              "e    NaN\n",
              "dtype: float64"
            ]
          },
          "metadata": {},
          "execution_count": 70
        }
      ],
      "source": [
        "s1 * s2"
      ]
    },
    {
      "cell_type": "code",
      "execution_count": 71,
      "metadata": {
        "id": "HXI0u0qQiuqZ",
        "outputId": "823b3890-5b37-48cb-a321-60cfaad12327",
        "colab": {
          "base_uri": "https://localhost:8080/"
        }
      },
      "outputs": [
        {
          "output_type": "execute_result",
          "data": {
            "text/plain": [
              "a    4.000000\n",
              "b    1.000000\n",
              "c         NaN\n",
              "d    0.333333\n",
              "e         NaN\n",
              "dtype: float64"
            ]
          },
          "metadata": {},
          "execution_count": 71
        }
      ],
      "source": [
        "s1/s2"
      ]
    },
    {
      "cell_type": "code",
      "execution_count": 72,
      "metadata": {
        "id": "XsZqj4p0iuqZ",
        "outputId": "58c9d40e-bd17-4122-cdbf-74f9ff5ac587",
        "colab": {
          "base_uri": "https://localhost:8080/"
        }
      },
      "outputs": [
        {
          "output_type": "execute_result",
          "data": {
            "text/plain": [
              "d    2\n",
              "b    4\n",
              "c    6\n",
              "a    8\n",
              "dtype: int64"
            ]
          },
          "metadata": {},
          "execution_count": 72
        }
      ],
      "source": [
        "2*s1"
      ]
    },
    {
      "cell_type": "markdown",
      "metadata": {
        "id": "pSeok34MiuqZ"
      },
      "source": [
        "#### 1.4. Series methods:"
      ]
    },
    {
      "cell_type": "code",
      "execution_count": 73,
      "metadata": {
        "id": "mxahSiuniuqZ",
        "outputId": "9bb20455-7210-4810-f45f-15d0f59e80c0",
        "colab": {
          "base_uri": "https://localhost:8080/"
        }
      },
      "outputs": [
        {
          "output_type": "execute_result",
          "data": {
            "text/plain": [
              "10"
            ]
          },
          "metadata": {},
          "execution_count": 73
        }
      ],
      "source": [
        "s1.sum()"
      ]
    },
    {
      "cell_type": "code",
      "execution_count": 74,
      "metadata": {
        "id": "JLe0vYihiuqZ",
        "outputId": "d427ff9a-2833-4e3e-d5d3-8b7af109ecdb",
        "colab": {
          "base_uri": "https://localhost:8080/"
        }
      },
      "outputs": [
        {
          "output_type": "execute_result",
          "data": {
            "text/plain": [
              "2.5"
            ]
          },
          "metadata": {},
          "execution_count": 74
        }
      ],
      "source": [
        "s1.mean()"
      ]
    },
    {
      "cell_type": "code",
      "execution_count": 75,
      "metadata": {
        "id": "BE4zUdsJiuqZ",
        "outputId": "1b64fc25-60b8-4417-b87e-ecb56791753b",
        "colab": {
          "base_uri": "https://localhost:8080/"
        }
      },
      "outputs": [
        {
          "output_type": "execute_result",
          "data": {
            "text/plain": [
              "2.5"
            ]
          },
          "metadata": {},
          "execution_count": 75
        }
      ],
      "source": [
        "s1.median()"
      ]
    },
    {
      "cell_type": "code",
      "execution_count": 76,
      "metadata": {
        "id": "i4TgbkUviuqZ",
        "outputId": "8dc4b60c-8a31-47a4-8914-9672c3012bf6",
        "colab": {
          "base_uri": "https://localhost:8080/"
        }
      },
      "outputs": [
        {
          "output_type": "execute_result",
          "data": {
            "text/plain": [
              "4"
            ]
          },
          "metadata": {},
          "execution_count": 76
        }
      ],
      "source": [
        "s1.max()"
      ]
    },
    {
      "cell_type": "code",
      "execution_count": 77,
      "metadata": {
        "id": "mpe7-JsAiuqa",
        "outputId": "12ebbddf-34e0-446a-ad07-30d6f01bad5a",
        "colab": {
          "base_uri": "https://localhost:8080/"
        }
      },
      "outputs": [
        {
          "output_type": "execute_result",
          "data": {
            "text/plain": [
              "1.2909944487358056"
            ]
          },
          "metadata": {},
          "execution_count": 77
        }
      ],
      "source": [
        "s1.std()"
      ]
    },
    {
      "cell_type": "code",
      "execution_count": 78,
      "metadata": {
        "id": "DDGYd3xliuqa",
        "outputId": "0b30f725-e728-4d54-a19d-43b3d7614d77",
        "colab": {
          "base_uri": "https://localhost:8080/"
        }
      },
      "outputs": [
        {
          "output_type": "stream",
          "name": "stdout",
          "text": [
            "d    1\n",
            "b    2\n",
            "c    3\n",
            "a    4\n",
            "dtype: int64\n",
            "d    1\n",
            "b    2\n",
            "c    3\n",
            "a    4\n",
            "dtype: int64\n"
          ]
        }
      ],
      "source": [
        "print(s1)\n",
        "print(s1.sort_values())"
      ]
    },
    {
      "cell_type": "code",
      "source": [
        "print(s2)\n",
        "s2.sort_values()"
      ],
      "metadata": {
        "id": "s3KnjHwGq4yF",
        "outputId": "fc41c141-5583-4920-b44f-dac57dbb201a",
        "colab": {
          "base_uri": "https://localhost:8080/"
        }
      },
      "execution_count": 79,
      "outputs": [
        {
          "output_type": "stream",
          "name": "stdout",
          "text": [
            "a    1\n",
            "b    2\n",
            "d    3\n",
            "e    4\n",
            "dtype: int64\n"
          ]
        },
        {
          "output_type": "execute_result",
          "data": {
            "text/plain": [
              "a    1\n",
              "b    2\n",
              "d    3\n",
              "e    4\n",
              "dtype: int64"
            ]
          },
          "metadata": {},
          "execution_count": 79
        }
      ]
    },
    {
      "cell_type": "code",
      "execution_count": 80,
      "metadata": {
        "id": "MLjka3csiuqb",
        "outputId": "76009584-eb51-4626-df80-870f0088d0d8",
        "colab": {
          "base_uri": "https://localhost:8080/"
        }
      },
      "outputs": [
        {
          "output_type": "stream",
          "name": "stdout",
          "text": [
            "d    1\n",
            "b    2\n",
            "c    3\n",
            "a    4\n",
            "dtype: int64\n"
          ]
        },
        {
          "output_type": "execute_result",
          "data": {
            "text/plain": [
              "a    4\n",
              "b    2\n",
              "c    3\n",
              "d    1\n",
              "dtype: int64"
            ]
          },
          "metadata": {},
          "execution_count": 80
        }
      ],
      "source": [
        "print(s1)\n",
        "s1.sort_index()"
      ]
    },
    {
      "cell_type": "code",
      "source": [
        "print(s1)\n",
        "s1.sort_values(ascending=False)"
      ],
      "metadata": {
        "id": "jRGarcx7rrlB",
        "outputId": "f77156d3-a5dd-4b54-964a-988249f031d3",
        "colab": {
          "base_uri": "https://localhost:8080/"
        }
      },
      "execution_count": 81,
      "outputs": [
        {
          "output_type": "stream",
          "name": "stdout",
          "text": [
            "d    1\n",
            "b    2\n",
            "c    3\n",
            "a    4\n",
            "dtype: int64\n"
          ]
        },
        {
          "output_type": "execute_result",
          "data": {
            "text/plain": [
              "a    4\n",
              "c    3\n",
              "b    2\n",
              "d    1\n",
              "dtype: int64"
            ]
          },
          "metadata": {},
          "execution_count": 81
        }
      ]
    },
    {
      "cell_type": "markdown",
      "metadata": {
        "id": "LH94--CGiuqb"
      },
      "source": [
        "apply() method:"
      ]
    },
    {
      "cell_type": "code",
      "execution_count": 82,
      "metadata": {
        "id": "W35U2Iwviuqb",
        "outputId": "384ae10f-1349-41b2-a19d-251cbd0ac1fe",
        "colab": {
          "base_uri": "https://localhost:8080/"
        }
      },
      "outputs": [
        {
          "output_type": "stream",
          "name": "stdout",
          "text": [
            "0     165.3\n",
            "1     170.1\n",
            "2     175.0\n",
            "3     182.1\n",
            "4     168.0\n",
            "5     162.0\n",
            "6     155.2\n",
            "7     176.9\n",
            "8     178.5\n",
            "9     176.1\n",
            "10    167.1\n",
            "11    180.0\n",
            "12    162.2\n",
            "13    176.1\n",
            "14    158.2\n",
            "15    168.6\n",
            "16    169.2\n",
            "Name: height, dtype: float64\n"
          ]
        }
      ],
      "source": [
        "ser_height = pd.Series([165.3, 170.1, 175.0, 182.1, 168.0, 162.0, 155.2, 176.9, 178.5, 176.1, 167.1, 180.0, 162.2, 176.1, 158.2, 168.6, 169.2],\n",
        "                       name='height')\n",
        "print(ser_height)"
      ]
    },
    {
      "cell_type": "code",
      "execution_count": 83,
      "metadata": {
        "id": "65nr4KLXiuqb",
        "outputId": "260c0159-1791-4ce8-a1b5-1470152027e6",
        "colab": {
          "base_uri": "https://localhost:8080/"
        }
      },
      "outputs": [
        {
          "output_type": "execute_result",
          "data": {
            "text/plain": [
              "0     1.653\n",
              "1     1.701\n",
              "2     1.750\n",
              "3     1.821\n",
              "4     1.680\n",
              "5     1.620\n",
              "6     1.552\n",
              "7     1.769\n",
              "8     1.785\n",
              "9     1.761\n",
              "10    1.671\n",
              "11    1.800\n",
              "12    1.622\n",
              "13    1.761\n",
              "14    1.582\n",
              "15    1.686\n",
              "16    1.692\n",
              "Name: height, dtype: float64"
            ]
          },
          "metadata": {},
          "execution_count": 83
        }
      ],
      "source": [
        "ser_height.apply(lambda x: x/100)     # Convert cm to m"
      ]
    },
    {
      "cell_type": "code",
      "execution_count": 84,
      "metadata": {
        "id": "yhqD4YDciuqb",
        "outputId": "906aa2c2-5784-4643-9613-681151cd9373",
        "colab": {
          "base_uri": "https://localhost:8080/"
        }
      },
      "outputs": [
        {
          "output_type": "execute_result",
          "data": {
            "text/plain": [
              "16"
            ]
          },
          "metadata": {},
          "execution_count": 84
        }
      ],
      "source": [
        "ser_height.nunique()\t\t\t# Number of unique values in the Series."
      ]
    },
    {
      "cell_type": "code",
      "source": [
        "ser_height.unique()\t\t\t# Unique values of the Series given as a NumPy array"
      ],
      "metadata": {
        "id": "ivT7BMRytW8D",
        "outputId": "07d1ca25-f5de-470c-d701-16fb01a6c0aa",
        "colab": {
          "base_uri": "https://localhost:8080/"
        }
      },
      "execution_count": 85,
      "outputs": [
        {
          "output_type": "execute_result",
          "data": {
            "text/plain": [
              "array([165.3, 170.1, 175. , 182.1, 168. , 162. , 155.2, 176.9, 178.5,\n",
              "       176.1, 167.1, 180. , 162.2, 158.2, 168.6, 169.2])"
            ]
          },
          "metadata": {},
          "execution_count": 85
        }
      ]
    },
    {
      "cell_type": "code",
      "source": [
        "ser_height.value_counts()\t\t# Returns a frequency table."
      ],
      "metadata": {
        "id": "_rZHyS7At1xz",
        "outputId": "be4bcf1c-5dca-4f97-d486-27a34c3d2440",
        "colab": {
          "base_uri": "https://localhost:8080/"
        }
      },
      "execution_count": 86,
      "outputs": [
        {
          "output_type": "execute_result",
          "data": {
            "text/plain": [
              "176.1    2\n",
              "165.3    1\n",
              "170.1    1\n",
              "175.0    1\n",
              "182.1    1\n",
              "168.0    1\n",
              "162.0    1\n",
              "155.2    1\n",
              "176.9    1\n",
              "178.5    1\n",
              "167.1    1\n",
              "180.0    1\n",
              "162.2    1\n",
              "158.2    1\n",
              "168.6    1\n",
              "169.2    1\n",
              "Name: height, dtype: int64"
            ]
          },
          "metadata": {},
          "execution_count": 86
        }
      ]
    }
  ],
  "metadata": {
    "kernelspec": {
      "display_name": "Python 3",
      "language": "python",
      "name": "python3"
    },
    "language_info": {
      "codemirror_mode": {
        "name": "ipython",
        "version": 3
      },
      "file_extension": ".py",
      "mimetype": "text/x-python",
      "name": "python",
      "nbconvert_exporter": "python",
      "pygments_lexer": "ipython3",
      "version": "3.7.3"
    },
    "colab": {
      "provenance": [],
      "include_colab_link": true
    }
  },
  "nbformat": 4,
  "nbformat_minor": 0
}