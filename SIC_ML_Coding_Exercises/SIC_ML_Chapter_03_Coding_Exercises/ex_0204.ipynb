{
  "cells": [
    {
      "cell_type": "markdown",
      "metadata": {
        "id": "view-in-github",
        "colab_type": "text"
      },
      "source": [
        "<a href=\"https://colab.research.google.com/github/tn-220/SIC-Machine-Learning/blob/main/SIC_ML_Coding_Exercises/SIC_ML_Chapter_03_Coding_Exercises/ex_0204.ipynb\" target=\"_parent\"><img src=\"https://colab.research.google.com/assets/colab-badge.svg\" alt=\"Open In Colab\"/></a>"
      ]
    },
    {
      "cell_type": "markdown",
      "metadata": {
        "id": "E5mkB7RiiuqO"
      },
      "source": [
        "## Coding Exercise #0204"
      ]
    },
    {
      "cell_type": "markdown",
      "metadata": {
        "id": "e6w4B5E9iuqR"
      },
      "source": [
        "### 1. Pandas Series:"
      ]
    },
    {
      "cell_type": "code",
      "execution_count": 1,
      "metadata": {
        "id": "jcgGJC0uiuqS"
      },
      "outputs": [],
      "source": [
        "import pandas as pd\n",
        "import numpy as np"
      ]
    },
    {
      "cell_type": "markdown",
      "metadata": {
        "id": "rgFSNfokiuqT"
      },
      "source": [
        "#### 1.1. Creating Series objects:"
      ]
    },
    {
      "cell_type": "code",
      "source": [
        "my_index = ['a','b','c']\n",
        "type(my_index)"
      ],
      "metadata": {
        "id": "D9sgrDjIjfog",
        "colab": {
          "base_uri": "https://localhost:8080/"
        },
        "outputId": "7b48c60a-f88a-43e0-8eae-62cff3a0d714"
      },
      "execution_count": 2,
      "outputs": [
        {
          "output_type": "execute_result",
          "data": {
            "text/plain": [
              "list"
            ]
          },
          "metadata": {},
          "execution_count": 2
        }
      ]
    },
    {
      "cell_type": "code",
      "execution_count": 3,
      "metadata": {
        "id": "fq8fQYc0iuqT",
        "colab": {
          "base_uri": "https://localhost:8080/"
        },
        "outputId": "cd91c5be-c241-40f1-a9d9-2a9f589197d1"
      },
      "outputs": [
        {
          "output_type": "stream",
          "name": "stdout",
          "text": [
            "my_index :  ['a', 'b', 'c'] \n",
            "\n",
            "my_values :  [222, 333, 444] \n",
            "\n",
            "my_values :  [222, 333, 444] \n",
            "\n",
            "my_dict :  {'a': 222, 'b': 555, 'c': 444} \n",
            "\n",
            "my_arr :  [222 333 444] \n",
            "\n"
          ]
        }
      ],
      "source": [
        "my_index = ['a','b','c']\n",
        "print(\"my_index : \", my_index,\"\\n\")\n",
        "\n",
        "my_values = [222,333,444]\n",
        "print(\"my_values : \", my_values,\"\\n\")\n",
        "\n",
        "my_values2 = (220,330,440)\n",
        "print(\"my_values : \", my_values,\"\\n\")\n",
        "\n",
        "my_dict = {'a':222, 'b':333, 'c':444, 'b':555}\n",
        "print(\"my_dict : \", my_dict,\"\\n\")\n",
        "\n",
        "my_arr = np.array(my_values)\n",
        "print(\"my_arr : \", my_arr,\"\\n\")"
      ]
    },
    {
      "cell_type": "code",
      "execution_count": 4,
      "metadata": {
        "id": "DlRWsMP3iuqU",
        "colab": {
          "base_uri": "https://localhost:8080/"
        },
        "outputId": "d216ac1d-e1cd-4955-cefc-c6c4de0db8ee"
      },
      "outputs": [
        {
          "output_type": "execute_result",
          "data": {
            "text/plain": [
              "0    222\n",
              "1    333\n",
              "2    444\n",
              "dtype: int64"
            ]
          },
          "metadata": {},
          "execution_count": 4
        }
      ],
      "source": [
        "# Series with list of values\n",
        "pd.Series(my_values)"
      ]
    },
    {
      "cell_type": "code",
      "source": [
        "# Series with tuple of values\n",
        "pd.Series(my_values2)"
      ],
      "metadata": {
        "colab": {
          "base_uri": "https://localhost:8080/"
        },
        "id": "QB_paE02XRgv",
        "outputId": "e7dd66ee-f903-48dd-98c5-a118aa35d6fa"
      },
      "execution_count": 5,
      "outputs": [
        {
          "output_type": "execute_result",
          "data": {
            "text/plain": [
              "0    220\n",
              "1    330\n",
              "2    440\n",
              "dtype: int64"
            ]
          },
          "metadata": {},
          "execution_count": 5
        }
      ]
    },
    {
      "cell_type": "code",
      "execution_count": 6,
      "metadata": {
        "id": "PahGMrOWiuqU",
        "colab": {
          "base_uri": "https://localhost:8080/"
        },
        "outputId": "a09b2a8e-b882-475d-aead-f9f2e5b35a0a"
      },
      "outputs": [
        {
          "output_type": "execute_result",
          "data": {
            "text/plain": [
              "a    222\n",
              "b    333\n",
              "c    444\n",
              "dtype: int64"
            ]
          },
          "metadata": {},
          "execution_count": 6
        }
      ],
      "source": [
        "# Series with values and index labels.\n",
        "pd.Series(data=my_values, index=my_index)"
      ]
    },
    {
      "cell_type": "code",
      "execution_count": 7,
      "metadata": {
        "id": "txMrBgS3iuqU",
        "colab": {
          "base_uri": "https://localhost:8080/"
        },
        "outputId": "e0c1fab9-c8b4-4cf3-855e-f200675e90ad"
      },
      "outputs": [
        {
          "output_type": "execute_result",
          "data": {
            "text/plain": [
              "0    222\n",
              "1    333\n",
              "2    444\n",
              "dtype: int64"
            ]
          },
          "metadata": {},
          "execution_count": 7
        }
      ],
      "source": [
        "# Series from a NumPy array.\n",
        "pd.Series(my_arr)"
      ]
    },
    {
      "cell_type": "code",
      "execution_count": 8,
      "metadata": {
        "id": "uxdzoayBiuqV",
        "colab": {
          "base_uri": "https://localhost:8080/"
        },
        "outputId": "5d061b49-00b1-4405-ddc1-1b646dc863f6"
      },
      "outputs": [
        {
          "output_type": "execute_result",
          "data": {
            "text/plain": [
              "a    222\n",
              "b    333\n",
              "c    444\n",
              "dtype: int64"
            ]
          },
          "metadata": {},
          "execution_count": 8
        }
      ],
      "source": [
        "# Series from a NumPy array with index labels.\n",
        "pd.Series(my_arr, index=my_index)"
      ]
    },
    {
      "cell_type": "code",
      "execution_count": 9,
      "metadata": {
        "id": "YiRcJw7ViuqV",
        "colab": {
          "base_uri": "https://localhost:8080/"
        },
        "outputId": "35c0ab19-f78e-4160-803f-11047bb0d0d4"
      },
      "outputs": [
        {
          "output_type": "execute_result",
          "data": {
            "text/plain": [
              "a    222\n",
              "b    555\n",
              "c    444\n",
              "dtype: int64"
            ]
          },
          "metadata": {},
          "execution_count": 9
        }
      ],
      "source": [
        "# Series from a dictionary.\n",
        "x = pd.Series(my_dict)\n",
        "x"
      ]
    },
    {
      "cell_type": "code",
      "source": [
        "x.values"
      ],
      "metadata": {
        "colab": {
          "base_uri": "https://localhost:8080/"
        },
        "id": "leqyur26XzFA",
        "outputId": "2fc69a31-c34b-4831-b058-102fcf03037b"
      },
      "execution_count": 10,
      "outputs": [
        {
          "output_type": "execute_result",
          "data": {
            "text/plain": [
              "array([222, 555, 444])"
            ]
          },
          "metadata": {},
          "execution_count": 10
        }
      ]
    },
    {
      "cell_type": "code",
      "source": [
        "x.index"
      ],
      "metadata": {
        "colab": {
          "base_uri": "https://localhost:8080/"
        },
        "id": "UX6dftX3YEC0",
        "outputId": "20819005-3b5b-4889-b999-a7d44e3e1ab2"
      },
      "execution_count": 11,
      "outputs": [
        {
          "output_type": "execute_result",
          "data": {
            "text/plain": [
              "Index(['a', 'b', 'c'], dtype='object')"
            ]
          },
          "metadata": {},
          "execution_count": 11
        }
      ]
    },
    {
      "cell_type": "code",
      "source": [
        "x.values.std()"
      ],
      "metadata": {
        "colab": {
          "base_uri": "https://localhost:8080/"
        },
        "id": "71DdudCDYHD-",
        "outputId": "4d8e61e7-1783-4830-abd9-03dde4abd5a4"
      },
      "execution_count": 12,
      "outputs": [
        {
          "output_type": "execute_result",
          "data": {
            "text/plain": [
              "138.44132331063582"
            ]
          },
          "metadata": {},
          "execution_count": 12
        }
      ]
    },
    {
      "cell_type": "markdown",
      "metadata": {
        "id": "sDdhCJyriuqW"
      },
      "source": [
        "#### 1.2. Series attributes and indexing:"
      ]
    },
    {
      "cell_type": "code",
      "execution_count": 13,
      "metadata": {
        "id": "cST4dsIoiuqW",
        "colab": {
          "base_uri": "https://localhost:8080/"
        },
        "outputId": "7be87e4b-2e90-405d-b41a-c96a5a89518b"
      },
      "outputs": [
        {
          "output_type": "stream",
          "name": "stdout",
          "text": [
            "a    111\n",
            "b    222\n",
            "c    333\n",
            "d    444\n",
            "Name: MySeries, dtype: object\n",
            "<class 'int'>\n",
            "<class 'str'>\n"
          ]
        }
      ],
      "source": [
        "s = pd.Series(data=[111,222,\"333\",444], index = ['a','b','c','d'], name='MySeries')\n",
        "print(s)\n",
        "print(type(s.values[1]))\n",
        "print(type(s.values[2]))"
      ]
    },
    {
      "cell_type": "markdown",
      "metadata": {
        "id": "7e6RYyIGiuqW"
      },
      "source": [
        "Series attributes:"
      ]
    },
    {
      "cell_type": "code",
      "execution_count": 14,
      "metadata": {
        "id": "MVeLY4GliuqW",
        "colab": {
          "base_uri": "https://localhost:8080/"
        },
        "outputId": "c8f9cb8b-9faa-4bf2-cb1f-176bf7f551c1"
      },
      "outputs": [
        {
          "output_type": "execute_result",
          "data": {
            "text/plain": [
              "Index(['a', 'b', 'c', 'd'], dtype='object')"
            ]
          },
          "metadata": {},
          "execution_count": 14
        }
      ],
      "source": [
        "s.index                                   # Index labels."
      ]
    },
    {
      "cell_type": "code",
      "execution_count": 15,
      "metadata": {
        "id": "EasyzOyJiuqW",
        "colab": {
          "base_uri": "https://localhost:8080/",
          "height": 36
        },
        "outputId": "d8e25894-13f9-4545-f540-4b1982045831"
      },
      "outputs": [
        {
          "output_type": "execute_result",
          "data": {
            "text/plain": [
              "'MySeries'"
            ],
            "application/vnd.google.colaboratory.intrinsic+json": {
              "type": "string"
            }
          },
          "metadata": {},
          "execution_count": 15
        }
      ],
      "source": [
        "s.name                                    # Name attribute."
      ]
    },
    {
      "cell_type": "code",
      "execution_count": 16,
      "metadata": {
        "id": "YXfUCC-wiuqX",
        "colab": {
          "base_uri": "https://localhost:8080/"
        },
        "outputId": "3dafeb02-4eed-43d4-c0f3-8a20d2b7c58d"
      },
      "outputs": [
        {
          "output_type": "execute_result",
          "data": {
            "text/plain": [
              "dtype('O')"
            ]
          },
          "metadata": {},
          "execution_count": 16
        }
      ],
      "source": [
        "s.dtype                                   # Data type."
      ]
    },
    {
      "cell_type": "code",
      "source": [
        "type(s[1])"
      ],
      "metadata": {
        "id": "3fmnXEnIltAW",
        "colab": {
          "base_uri": "https://localhost:8080/"
        },
        "outputId": "e10d0898-6b3c-4652-bbdd-c40394d69558"
      },
      "execution_count": 17,
      "outputs": [
        {
          "output_type": "execute_result",
          "data": {
            "text/plain": [
              "int"
            ]
          },
          "metadata": {},
          "execution_count": 17
        }
      ]
    },
    {
      "cell_type": "code",
      "source": [
        "type(s[2])"
      ],
      "metadata": {
        "id": "ksgniwHkl9CQ",
        "colab": {
          "base_uri": "https://localhost:8080/"
        },
        "outputId": "504668fe-887b-4469-94ae-31113b6e28a8"
      },
      "execution_count": 18,
      "outputs": [
        {
          "output_type": "execute_result",
          "data": {
            "text/plain": [
              "str"
            ]
          },
          "metadata": {},
          "execution_count": 18
        }
      ]
    },
    {
      "cell_type": "code",
      "source": [
        "\"\"\"\n",
        "    astype(dtype, copy=True, errors='raise')\n",
        "      copy : Return a copy when copy=True (be very careful setting copy=False as changes to values then may propagate to other pandas objects).\n",
        "\"\"\"\n",
        "s.astype(float)       # Enables us to set or convert the data type of an existing data column in a dataset or a data frame."
      ],
      "metadata": {
        "id": "7fkYW7FHmTHh",
        "colab": {
          "base_uri": "https://localhost:8080/"
        },
        "outputId": "fa53ec71-5b5d-45c3-a53d-508911fa3c97"
      },
      "execution_count": 19,
      "outputs": [
        {
          "output_type": "execute_result",
          "data": {
            "text/plain": [
              "a    111.0\n",
              "b    222.0\n",
              "c    333.0\n",
              "d    444.0\n",
              "Name: MySeries, dtype: float64"
            ]
          },
          "metadata": {},
          "execution_count": 19
        }
      ]
    },
    {
      "cell_type": "code",
      "execution_count": 20,
      "metadata": {
        "id": "TlGn99eViuqX",
        "colab": {
          "base_uri": "https://localhost:8080/"
        },
        "outputId": "e1412aab-7572-4719-8c15-baa59d05b6c4"
      },
      "outputs": [
        {
          "output_type": "execute_result",
          "data": {
            "text/plain": [
              "array([111, 222, '333', 444], dtype=object)"
            ]
          },
          "metadata": {},
          "execution_count": 20
        }
      ],
      "source": [
        "s.values                          # The values as NumPy array."
      ]
    },
    {
      "cell_type": "markdown",
      "metadata": {
        "id": "vBg5Vu1HiuqX"
      },
      "source": [
        "Series indexing and slicing:"
      ]
    },
    {
      "cell_type": "code",
      "execution_count": 21,
      "metadata": {
        "id": "KdVJWAyliuqX",
        "colab": {
          "base_uri": "https://localhost:8080/"
        },
        "outputId": "1f4a3553-6151-4945-bc3d-81b6e85196a3"
      },
      "outputs": [
        {
          "output_type": "execute_result",
          "data": {
            "text/plain": [
              "222"
            ]
          },
          "metadata": {},
          "execution_count": 21
        }
      ],
      "source": [
        "s[1]"
      ]
    },
    {
      "cell_type": "code",
      "execution_count": 22,
      "metadata": {
        "id": "A5gbeK_TiuqX",
        "colab": {
          "base_uri": "https://localhost:8080/"
        },
        "outputId": "df7dc44c-3b55-4c20-c710-b53d31b68153"
      },
      "outputs": [
        {
          "output_type": "execute_result",
          "data": {
            "text/plain": [
              "111"
            ]
          },
          "metadata": {},
          "execution_count": 22
        }
      ],
      "source": [
        "s['a']"
      ]
    },
    {
      "cell_type": "code",
      "execution_count": 23,
      "metadata": {
        "id": "Lv-kfG2tiuqY",
        "colab": {
          "base_uri": "https://localhost:8080/"
        },
        "outputId": "fd9a73bc-9a36-415e-b86e-8d436c6913fe"
      },
      "outputs": [
        {
          "output_type": "execute_result",
          "data": {
            "text/plain": [
              "c    333\n",
              "d    444\n",
              "Name: MySeries, dtype: object"
            ]
          },
          "metadata": {},
          "execution_count": 23
        }
      ],
      "source": [
        "s[2:4]"
      ]
    },
    {
      "cell_type": "code",
      "source": [
        "s[2:10]       # Be careful that this does not give an error"
      ],
      "metadata": {
        "id": "SayAl98Kowng",
        "colab": {
          "base_uri": "https://localhost:8080/"
        },
        "outputId": "6fba762f-77b8-4f3b-f32e-04bc4e117a1b"
      },
      "execution_count": 24,
      "outputs": [
        {
          "output_type": "execute_result",
          "data": {
            "text/plain": [
              "c    333\n",
              "d    444\n",
              "Name: MySeries, dtype: object"
            ]
          },
          "metadata": {},
          "execution_count": 24
        }
      ]
    },
    {
      "cell_type": "code",
      "execution_count": 25,
      "metadata": {
        "id": "YsXf6EpRiuqY",
        "colab": {
          "base_uri": "https://localhost:8080/"
        },
        "outputId": "7be78439-aa63-4804-fc42-03a6dcf5b8ea"
      },
      "outputs": [
        {
          "output_type": "execute_result",
          "data": {
            "text/plain": [
              "a    111\n",
              "d    444\n",
              "Name: MySeries, dtype: object"
            ]
          },
          "metadata": {},
          "execution_count": 25
        }
      ],
      "source": [
        "s[['a','d']]"
      ]
    },
    {
      "cell_type": "markdown",
      "metadata": {
        "id": "putmMJjfiuqY"
      },
      "source": [
        "#### 1.3. Series operations:"
      ]
    },
    {
      "cell_type": "code",
      "execution_count": 26,
      "metadata": {
        "id": "pv1nSFIFiuqY",
        "colab": {
          "base_uri": "https://localhost:8080/"
        },
        "outputId": "e1ed97f0-468c-4883-c681-80e9f7e599e5"
      },
      "outputs": [
        {
          "output_type": "stream",
          "name": "stdout",
          "text": [
            "d    1\n",
            "b    2\n",
            "c    3\n",
            "a    4\n",
            "dtype: int64 \n",
            "\n",
            "a    1\n",
            "b    2\n",
            "d    3\n",
            "e    4\n",
            "dtype: int64\n"
          ]
        }
      ],
      "source": [
        "s1 = pd.Series(data=[1,2,3,4], index = ['d','b','c','a'])\n",
        "s2 = pd.Series(data=[1,2,3,4], index = ['a','b','d','e'])\n",
        "\n",
        "print(s1, \"\\n\")\n",
        "print(s2)"
      ]
    },
    {
      "cell_type": "markdown",
      "metadata": {
        "id": "y4ana0aQiuqY"
      },
      "source": [
        "Please notice that in the Series to Series operations, the elements are matched by the index labels. <br>\n",
        "When there is no mathing index label, we get **NaN**."
      ]
    },
    {
      "cell_type": "code",
      "execution_count": 27,
      "metadata": {
        "id": "grU6Ark6iuqY",
        "colab": {
          "base_uri": "https://localhost:8080/"
        },
        "outputId": "f6caaf63-c371-48c2-ebc7-f0d34c8f0848"
      },
      "outputs": [
        {
          "output_type": "execute_result",
          "data": {
            "text/plain": [
              "a    5.0\n",
              "b    4.0\n",
              "c    NaN\n",
              "d    4.0\n",
              "e    NaN\n",
              "dtype: float64"
            ]
          },
          "metadata": {},
          "execution_count": 27
        }
      ],
      "source": [
        "s1 + s2"
      ]
    },
    {
      "cell_type": "code",
      "execution_count": 28,
      "metadata": {
        "id": "pHJafpwIiuqZ",
        "colab": {
          "base_uri": "https://localhost:8080/"
        },
        "outputId": "cb969ad2-3be0-4c22-82ee-92bb084586e5"
      },
      "outputs": [
        {
          "output_type": "execute_result",
          "data": {
            "text/plain": [
              "a    3.0\n",
              "b    0.0\n",
              "c    NaN\n",
              "d   -2.0\n",
              "e    NaN\n",
              "dtype: float64"
            ]
          },
          "metadata": {},
          "execution_count": 28
        }
      ],
      "source": [
        "s1 - s2"
      ]
    },
    {
      "cell_type": "code",
      "execution_count": 29,
      "metadata": {
        "id": "2h7BRXetiuqZ",
        "colab": {
          "base_uri": "https://localhost:8080/"
        },
        "outputId": "06984456-fcec-4f51-aa12-5b095120b597"
      },
      "outputs": [
        {
          "output_type": "execute_result",
          "data": {
            "text/plain": [
              "a    4.0\n",
              "b    4.0\n",
              "c    NaN\n",
              "d    3.0\n",
              "e    NaN\n",
              "dtype: float64"
            ]
          },
          "metadata": {},
          "execution_count": 29
        }
      ],
      "source": [
        "s1 * s2"
      ]
    },
    {
      "cell_type": "code",
      "execution_count": 30,
      "metadata": {
        "id": "HXI0u0qQiuqZ",
        "colab": {
          "base_uri": "https://localhost:8080/"
        },
        "outputId": "301acc00-7d53-4eaf-afa5-adbefe48ecab"
      },
      "outputs": [
        {
          "output_type": "execute_result",
          "data": {
            "text/plain": [
              "a    4.000000\n",
              "b    1.000000\n",
              "c         NaN\n",
              "d    0.333333\n",
              "e         NaN\n",
              "dtype: float64"
            ]
          },
          "metadata": {},
          "execution_count": 30
        }
      ],
      "source": [
        "s1/s2"
      ]
    },
    {
      "cell_type": "code",
      "execution_count": 31,
      "metadata": {
        "id": "XsZqj4p0iuqZ",
        "colab": {
          "base_uri": "https://localhost:8080/"
        },
        "outputId": "106432a5-8cbe-4d96-8cf9-caa6aec43d04"
      },
      "outputs": [
        {
          "output_type": "execute_result",
          "data": {
            "text/plain": [
              "d    2\n",
              "b    4\n",
              "c    6\n",
              "a    8\n",
              "dtype: int64"
            ]
          },
          "metadata": {},
          "execution_count": 31
        }
      ],
      "source": [
        "2*s1"
      ]
    },
    {
      "cell_type": "markdown",
      "metadata": {
        "id": "pSeok34MiuqZ"
      },
      "source": [
        "#### 1.4. Series methods:"
      ]
    },
    {
      "cell_type": "code",
      "execution_count": 32,
      "metadata": {
        "id": "mxahSiuniuqZ",
        "colab": {
          "base_uri": "https://localhost:8080/"
        },
        "outputId": "aee964cf-45f8-4fe0-ad96-8142299f65c6"
      },
      "outputs": [
        {
          "output_type": "execute_result",
          "data": {
            "text/plain": [
              "10"
            ]
          },
          "metadata": {},
          "execution_count": 32
        }
      ],
      "source": [
        "s1.sum()"
      ]
    },
    {
      "cell_type": "code",
      "execution_count": 33,
      "metadata": {
        "id": "JLe0vYihiuqZ",
        "colab": {
          "base_uri": "https://localhost:8080/"
        },
        "outputId": "b4783337-ac53-41ba-ec31-ce6dc5c650af"
      },
      "outputs": [
        {
          "output_type": "execute_result",
          "data": {
            "text/plain": [
              "2.5"
            ]
          },
          "metadata": {},
          "execution_count": 33
        }
      ],
      "source": [
        "s1.mean()"
      ]
    },
    {
      "cell_type": "code",
      "execution_count": 34,
      "metadata": {
        "id": "BE4zUdsJiuqZ",
        "colab": {
          "base_uri": "https://localhost:8080/"
        },
        "outputId": "7334f994-fc7c-46fd-cff4-84ec079f3b39"
      },
      "outputs": [
        {
          "output_type": "execute_result",
          "data": {
            "text/plain": [
              "2.5"
            ]
          },
          "metadata": {},
          "execution_count": 34
        }
      ],
      "source": [
        "s1.median()"
      ]
    },
    {
      "cell_type": "code",
      "execution_count": 35,
      "metadata": {
        "id": "i4TgbkUviuqZ",
        "colab": {
          "base_uri": "https://localhost:8080/"
        },
        "outputId": "ed8e2c64-b92b-404c-8cd3-c321f7ad3c5d"
      },
      "outputs": [
        {
          "output_type": "execute_result",
          "data": {
            "text/plain": [
              "4"
            ]
          },
          "metadata": {},
          "execution_count": 35
        }
      ],
      "source": [
        "s1.max()"
      ]
    },
    {
      "cell_type": "code",
      "execution_count": 36,
      "metadata": {
        "id": "mpe7-JsAiuqa",
        "colab": {
          "base_uri": "https://localhost:8080/"
        },
        "outputId": "35fba970-c885-428f-c8eb-2ea24053be5a"
      },
      "outputs": [
        {
          "output_type": "execute_result",
          "data": {
            "text/plain": [
              "1.2909944487358056"
            ]
          },
          "metadata": {},
          "execution_count": 36
        }
      ],
      "source": [
        "s1.std()"
      ]
    },
    {
      "cell_type": "code",
      "execution_count": 37,
      "metadata": {
        "id": "DDGYd3xliuqa",
        "colab": {
          "base_uri": "https://localhost:8080/"
        },
        "outputId": "5cf2927a-20ac-4976-d812-d6973d69679c"
      },
      "outputs": [
        {
          "output_type": "stream",
          "name": "stdout",
          "text": [
            "d    1\n",
            "b    2\n",
            "c    3\n",
            "a    4\n",
            "dtype: int64\n",
            "d    1\n",
            "b    2\n",
            "c    3\n",
            "a    4\n",
            "dtype: int64\n"
          ]
        }
      ],
      "source": [
        "print(s1)\n",
        "print(s1.sort_values())"
      ]
    },
    {
      "cell_type": "code",
      "source": [
        "print(s2)\n",
        "s2.sort_values()"
      ],
      "metadata": {
        "id": "s3KnjHwGq4yF",
        "colab": {
          "base_uri": "https://localhost:8080/"
        },
        "outputId": "bd640e22-56be-44f3-9c6a-d4fd811837e2"
      },
      "execution_count": 38,
      "outputs": [
        {
          "output_type": "stream",
          "name": "stdout",
          "text": [
            "a    1\n",
            "b    2\n",
            "d    3\n",
            "e    4\n",
            "dtype: int64\n"
          ]
        },
        {
          "output_type": "execute_result",
          "data": {
            "text/plain": [
              "a    1\n",
              "b    2\n",
              "d    3\n",
              "e    4\n",
              "dtype: int64"
            ]
          },
          "metadata": {},
          "execution_count": 38
        }
      ]
    },
    {
      "cell_type": "code",
      "execution_count": 39,
      "metadata": {
        "id": "MLjka3csiuqb",
        "colab": {
          "base_uri": "https://localhost:8080/"
        },
        "outputId": "02a9581d-ea4b-4c05-db0f-d87534025147"
      },
      "outputs": [
        {
          "output_type": "stream",
          "name": "stdout",
          "text": [
            "d    1\n",
            "b    2\n",
            "c    3\n",
            "a    4\n",
            "dtype: int64\n"
          ]
        },
        {
          "output_type": "execute_result",
          "data": {
            "text/plain": [
              "a    4\n",
              "b    2\n",
              "c    3\n",
              "d    1\n",
              "dtype: int64"
            ]
          },
          "metadata": {},
          "execution_count": 39
        }
      ],
      "source": [
        "print(s1)\n",
        "s1.sort_index()"
      ]
    },
    {
      "cell_type": "code",
      "source": [
        "print(s1)\n",
        "s1.sort_values(ascending=False)"
      ],
      "metadata": {
        "id": "jRGarcx7rrlB",
        "colab": {
          "base_uri": "https://localhost:8080/"
        },
        "outputId": "71b0b5aa-d97b-49d5-88b0-c3309b9774aa"
      },
      "execution_count": 40,
      "outputs": [
        {
          "output_type": "stream",
          "name": "stdout",
          "text": [
            "d    1\n",
            "b    2\n",
            "c    3\n",
            "a    4\n",
            "dtype: int64\n"
          ]
        },
        {
          "output_type": "execute_result",
          "data": {
            "text/plain": [
              "a    4\n",
              "c    3\n",
              "b    2\n",
              "d    1\n",
              "dtype: int64"
            ]
          },
          "metadata": {},
          "execution_count": 40
        }
      ]
    },
    {
      "cell_type": "markdown",
      "metadata": {
        "id": "LH94--CGiuqb"
      },
      "source": [
        "apply() method:"
      ]
    },
    {
      "cell_type": "code",
      "execution_count": 41,
      "metadata": {
        "id": "W35U2Iwviuqb",
        "colab": {
          "base_uri": "https://localhost:8080/"
        },
        "outputId": "5837f984-01e1-4942-e1ea-165947dc8a83"
      },
      "outputs": [
        {
          "output_type": "stream",
          "name": "stdout",
          "text": [
            "0     165.3\n",
            "1     170.1\n",
            "2     175.0\n",
            "3     182.1\n",
            "4     168.0\n",
            "5     162.0\n",
            "6     155.2\n",
            "7     176.9\n",
            "8     178.5\n",
            "9     176.1\n",
            "10    167.1\n",
            "11    180.0\n",
            "12    162.2\n",
            "13    176.1\n",
            "14    158.2\n",
            "15    168.6\n",
            "16    169.2\n",
            "Name: height, dtype: float64\n"
          ]
        }
      ],
      "source": [
        "ser_height = pd.Series([165.3, 170.1, 175.0, 182.1, 168.0, 162.0, 155.2, 176.9, 178.5, 176.1, 167.1, 180.0, 162.2, 176.1, 158.2, 168.6, 169.2],\n",
        "                       name='height')\n",
        "print(ser_height)"
      ]
    },
    {
      "cell_type": "code",
      "execution_count": 42,
      "metadata": {
        "id": "65nr4KLXiuqb",
        "colab": {
          "base_uri": "https://localhost:8080/"
        },
        "outputId": "48b263e6-9e54-483f-e1f0-face78a48e65"
      },
      "outputs": [
        {
          "output_type": "execute_result",
          "data": {
            "text/plain": [
              "0     1.653\n",
              "1     1.701\n",
              "2     1.750\n",
              "3     1.821\n",
              "4     1.680\n",
              "5     1.620\n",
              "6     1.552\n",
              "7     1.769\n",
              "8     1.785\n",
              "9     1.761\n",
              "10    1.671\n",
              "11    1.800\n",
              "12    1.622\n",
              "13    1.761\n",
              "14    1.582\n",
              "15    1.686\n",
              "16    1.692\n",
              "Name: height, dtype: float64"
            ]
          },
          "metadata": {},
          "execution_count": 42
        }
      ],
      "source": [
        "ser_height.apply(lambda x: x/100)     # Convert cm to m"
      ]
    },
    {
      "cell_type": "code",
      "execution_count": 43,
      "metadata": {
        "id": "yhqD4YDciuqb",
        "colab": {
          "base_uri": "https://localhost:8080/"
        },
        "outputId": "617859df-ca8a-402b-9c30-e3a4f9886372"
      },
      "outputs": [
        {
          "output_type": "execute_result",
          "data": {
            "text/plain": [
              "16"
            ]
          },
          "metadata": {},
          "execution_count": 43
        }
      ],
      "source": [
        "ser_height.nunique()\t\t\t# Number of unique values in the Series."
      ]
    },
    {
      "cell_type": "code",
      "source": [
        "ser_height.unique()\t\t\t# Unique values of the Series given as a NumPy array"
      ],
      "metadata": {
        "id": "ivT7BMRytW8D",
        "colab": {
          "base_uri": "https://localhost:8080/"
        },
        "outputId": "79b08e1c-4668-40d5-b082-7277fa90688e"
      },
      "execution_count": 44,
      "outputs": [
        {
          "output_type": "execute_result",
          "data": {
            "text/plain": [
              "array([165.3, 170.1, 175. , 182.1, 168. , 162. , 155.2, 176.9, 178.5,\n",
              "       176.1, 167.1, 180. , 162.2, 158.2, 168.6, 169.2])"
            ]
          },
          "metadata": {},
          "execution_count": 44
        }
      ]
    },
    {
      "cell_type": "code",
      "source": [
        "ser_height.value_counts()\t\t# Returns a frequency table."
      ],
      "metadata": {
        "id": "_rZHyS7At1xz",
        "colab": {
          "base_uri": "https://localhost:8080/"
        },
        "outputId": "3bf159e8-0402-4a38-a0b7-9d3723452b99"
      },
      "execution_count": 45,
      "outputs": [
        {
          "output_type": "execute_result",
          "data": {
            "text/plain": [
              "176.1    2\n",
              "165.3    1\n",
              "170.1    1\n",
              "175.0    1\n",
              "182.1    1\n",
              "168.0    1\n",
              "162.0    1\n",
              "155.2    1\n",
              "176.9    1\n",
              "178.5    1\n",
              "167.1    1\n",
              "180.0    1\n",
              "162.2    1\n",
              "158.2    1\n",
              "168.6    1\n",
              "169.2    1\n",
              "Name: height, dtype: int64"
            ]
          },
          "metadata": {},
          "execution_count": 45
        }
      ]
    }
  ],
  "metadata": {
    "kernelspec": {
      "display_name": "Python 3",
      "language": "python",
      "name": "python3"
    },
    "language_info": {
      "codemirror_mode": {
        "name": "ipython",
        "version": 3
      },
      "file_extension": ".py",
      "mimetype": "text/x-python",
      "name": "python",
      "nbconvert_exporter": "python",
      "pygments_lexer": "ipython3",
      "version": "3.7.3"
    },
    "colab": {
      "provenance": [],
      "include_colab_link": true
    }
  },
  "nbformat": 4,
  "nbformat_minor": 0
}