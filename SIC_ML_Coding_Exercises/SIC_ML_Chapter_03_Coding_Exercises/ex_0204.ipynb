{
  "cells": [
    {
      "cell_type": "markdown",
      "metadata": {
        "id": "view-in-github",
        "colab_type": "text"
      },
      "source": [
        "<a href=\"https://colab.research.google.com/github/tn-220/SIC-Machine-Learning/blob/main/SIC_ML_Coding_Exercises/SIC_ML_Chapter_03_Coding_Exercises/ex_0204.ipynb\" target=\"_parent\"><img src=\"https://colab.research.google.com/assets/colab-badge.svg\" alt=\"Open In Colab\"/></a>"
      ]
    },
    {
      "cell_type": "markdown",
      "metadata": {
        "id": "E5mkB7RiiuqO"
      },
      "source": [
        "## Coding Exercise #0204"
      ]
    },
    {
      "cell_type": "markdown",
      "metadata": {
        "id": "e6w4B5E9iuqR"
      },
      "source": [
        "### 1. Pandas Series:"
      ]
    },
    {
      "cell_type": "code",
      "execution_count": null,
      "metadata": {
        "id": "jcgGJC0uiuqS"
      },
      "outputs": [],
      "source": [
        "import pandas as pd\n",
        "import numpy as np"
      ]
    },
    {
      "cell_type": "markdown",
      "metadata": {
        "id": "rgFSNfokiuqT"
      },
      "source": [
        "#### 1.1. Creating Series objects:"
      ]
    },
    {
      "cell_type": "code",
      "source": [
        "my_index = ['a','b','c']\n",
        "type(my_index)"
      ],
      "metadata": {
        "id": "D9sgrDjIjfog"
      },
      "execution_count": null,
      "outputs": []
    },
    {
      "cell_type": "code",
      "execution_count": null,
      "metadata": {
        "id": "fq8fQYc0iuqT"
      },
      "outputs": [],
      "source": [
        "my_index = ['a','b','c']\n",
        "print(\"my_index : \", my_index,\"\\n\")\n",
        "\n",
        "my_values = [222,333,444]\n",
        "print(\"my_values : \", my_values,\"\\n\")\n",
        "\n",
        "my_values2 = (220,330,440)\n",
        "print(\"my_values : \", my_values,\"\\n\")\n",
        "\n",
        "my_dict = {'a':222, 'b':333, 'c':444, 'b':555}\n",
        "print(\"my_dict : \", my_dict,\"\\n\")\n",
        "\n",
        "my_arr = np.array(my_values)\n",
        "print(\"my_arr : \", my_arr,\"\\n\")"
      ]
    },
    {
      "cell_type": "code",
      "execution_count": null,
      "metadata": {
        "id": "DlRWsMP3iuqU"
      },
      "outputs": [],
      "source": [
        "# Series with list of values\n",
        "pd.Series(my_values)"
      ]
    },
    {
      "cell_type": "code",
      "source": [
        "# Series with tuple of values\n",
        "pd.Series(my_values2)"
      ],
      "metadata": {
        "id": "QB_paE02XRgv"
      },
      "execution_count": null,
      "outputs": []
    },
    {
      "cell_type": "code",
      "execution_count": null,
      "metadata": {
        "id": "PahGMrOWiuqU"
      },
      "outputs": [],
      "source": [
        "# Series with values and index labels.\n",
        "pd.Series(data=my_values, index=my_index)"
      ]
    },
    {
      "cell_type": "code",
      "execution_count": null,
      "metadata": {
        "id": "txMrBgS3iuqU"
      },
      "outputs": [],
      "source": [
        "# Series from a NumPy array.\n",
        "pd.Series(my_arr)"
      ]
    },
    {
      "cell_type": "code",
      "execution_count": null,
      "metadata": {
        "id": "uxdzoayBiuqV"
      },
      "outputs": [],
      "source": [
        "# Series from a NumPy array with index labels.\n",
        "pd.Series(my_arr, index=my_index)"
      ]
    },
    {
      "cell_type": "code",
      "execution_count": null,
      "metadata": {
        "id": "YiRcJw7ViuqV"
      },
      "outputs": [],
      "source": [
        "# Series from a dictionary.\n",
        "x = pd.Series(my_dict)\n",
        "x"
      ]
    },
    {
      "cell_type": "code",
      "source": [
        "x.values"
      ],
      "metadata": {
        "id": "leqyur26XzFA"
      },
      "execution_count": null,
      "outputs": []
    },
    {
      "cell_type": "code",
      "source": [
        "x.index"
      ],
      "metadata": {
        "id": "UX6dftX3YEC0"
      },
      "execution_count": null,
      "outputs": []
    },
    {
      "cell_type": "code",
      "source": [
        "x.values.std()"
      ],
      "metadata": {
        "id": "71DdudCDYHD-"
      },
      "execution_count": null,
      "outputs": []
    },
    {
      "cell_type": "markdown",
      "metadata": {
        "id": "sDdhCJyriuqW"
      },
      "source": [
        "#### 1.2. Series attributes and indexing:"
      ]
    },
    {
      "cell_type": "code",
      "execution_count": null,
      "metadata": {
        "id": "cST4dsIoiuqW"
      },
      "outputs": [],
      "source": [
        "s = pd.Series(data=[111,222,\"333\",444], index = ['a','b','c','d'], name='MySeries')\n",
        "print(s)\n",
        "print(type(s.values[1]))\n",
        "print(type(s.values[2]))"
      ]
    },
    {
      "cell_type": "markdown",
      "metadata": {
        "id": "7e6RYyIGiuqW"
      },
      "source": [
        "Series attributes:"
      ]
    },
    {
      "cell_type": "code",
      "execution_count": null,
      "metadata": {
        "id": "MVeLY4GliuqW"
      },
      "outputs": [],
      "source": [
        "s.index                                   # Index labels."
      ]
    },
    {
      "cell_type": "code",
      "execution_count": null,
      "metadata": {
        "id": "EasyzOyJiuqW"
      },
      "outputs": [],
      "source": [
        "s.name                                    # Name attribute."
      ]
    },
    {
      "cell_type": "code",
      "execution_count": null,
      "metadata": {
        "id": "YXfUCC-wiuqX"
      },
      "outputs": [],
      "source": [
        "s.dtype                                   # Data type."
      ]
    },
    {
      "cell_type": "code",
      "source": [
        "type(s[1])"
      ],
      "metadata": {
        "id": "3fmnXEnIltAW"
      },
      "execution_count": null,
      "outputs": []
    },
    {
      "cell_type": "code",
      "source": [
        "type(s[2])"
      ],
      "metadata": {
        "id": "ksgniwHkl9CQ"
      },
      "execution_count": null,
      "outputs": []
    },
    {
      "cell_type": "code",
      "source": [
        "\"\"\"\n",
        "    astype(dtype, copy=True, errors='raise')\n",
        "      copy : Return a copy when copy=True (be very careful setting copy=False as changes to values then may propagate to other pandas objects).\n",
        "\"\"\"\n",
        "s.astype(float)       # Enables us to set or convert the data type of an existing data column in a dataset or a data frame."
      ],
      "metadata": {
        "id": "7fkYW7FHmTHh"
      },
      "execution_count": null,
      "outputs": []
    },
    {
      "cell_type": "code",
      "execution_count": null,
      "metadata": {
        "id": "TlGn99eViuqX"
      },
      "outputs": [],
      "source": [
        "s.values                          # The values as NumPy array."
      ]
    },
    {
      "cell_type": "markdown",
      "metadata": {
        "id": "vBg5Vu1HiuqX"
      },
      "source": [
        "Series indexing and slicing:"
      ]
    },
    {
      "cell_type": "code",
      "execution_count": null,
      "metadata": {
        "id": "KdVJWAyliuqX"
      },
      "outputs": [],
      "source": [
        "s[1]"
      ]
    },
    {
      "cell_type": "code",
      "execution_count": null,
      "metadata": {
        "id": "A5gbeK_TiuqX"
      },
      "outputs": [],
      "source": [
        "s['a']"
      ]
    },
    {
      "cell_type": "code",
      "execution_count": null,
      "metadata": {
        "id": "Lv-kfG2tiuqY"
      },
      "outputs": [],
      "source": [
        "s[2:4]"
      ]
    },
    {
      "cell_type": "code",
      "source": [
        "s[2:10]       # Be careful that this does not give an error"
      ],
      "metadata": {
        "id": "SayAl98Kowng"
      },
      "execution_count": null,
      "outputs": []
    },
    {
      "cell_type": "code",
      "execution_count": null,
      "metadata": {
        "id": "YsXf6EpRiuqY"
      },
      "outputs": [],
      "source": [
        "print(s[['a','d']])\n",
        "print(s[['a']])\n",
        "print(s[\"a\"])\n",
        "print(s[\"a\":\"d\"])\n",
        "\n",
        "print(\"\\n\", type(s[['a','d']]))\n",
        "print(type(s[['a']]))\n",
        "print(type(s[\"a\"]))\n",
        "print(type(s[\"a\":\"d\"]))"
      ]
    },
    {
      "cell_type": "code",
      "source": [
        "a = np.arange(9).reshape(3,3)\n",
        "print(a, \"\\n\")\n",
        "print(\"a[0] : \", a[0].shape, \"\\n\", a[0], \"\\n\")\n",
        "print(\"a[[0]] : \", a[[0]].shape, \"\\n\", a[[0]],\"\\n\")\n",
        "print(\"a[[0,1]] : \", a[[0,1]].shape, \"\\n\", a[[0, 1]], \"\\n\")\n",
        "print(\"a[0,1] : \", a[0,1].shape, \"\\n\", a[0,1], \"\\n\")"
      ],
      "metadata": {
        "id": "zpCxMpvL9Klf"
      },
      "execution_count": null,
      "outputs": []
    },
    {
      "cell_type": "markdown",
      "metadata": {
        "id": "putmMJjfiuqY"
      },
      "source": [
        "#### 1.3. Series operations:"
      ]
    },
    {
      "cell_type": "code",
      "execution_count": null,
      "metadata": {
        "id": "pv1nSFIFiuqY"
      },
      "outputs": [],
      "source": [
        "s1 = pd.Series(data=[1,2,3,4], index = ['d','b','c','a'])\n",
        "s2 = pd.Series(data=[1,2,3,4], index = ['a','b','d','e'])\n",
        "\n",
        "print(s1, \"\\n\")\n",
        "print(s2)"
      ]
    },
    {
      "cell_type": "markdown",
      "metadata": {
        "id": "y4ana0aQiuqY"
      },
      "source": [
        "Please notice that in the Series to Series operations, the elements are matched by the index labels. <br>\n",
        "When there is no mathing index label, we get **NaN**."
      ]
    },
    {
      "cell_type": "code",
      "execution_count": null,
      "metadata": {
        "id": "grU6Ark6iuqY"
      },
      "outputs": [],
      "source": [
        "s1 + s2"
      ]
    },
    {
      "cell_type": "code",
      "execution_count": null,
      "metadata": {
        "id": "pHJafpwIiuqZ"
      },
      "outputs": [],
      "source": [
        "s1 - s2"
      ]
    },
    {
      "cell_type": "code",
      "execution_count": null,
      "metadata": {
        "id": "2h7BRXetiuqZ"
      },
      "outputs": [],
      "source": [
        "s1 * s2"
      ]
    },
    {
      "cell_type": "code",
      "execution_count": null,
      "metadata": {
        "id": "HXI0u0qQiuqZ"
      },
      "outputs": [],
      "source": [
        "s1/s2"
      ]
    },
    {
      "cell_type": "code",
      "execution_count": null,
      "metadata": {
        "id": "XsZqj4p0iuqZ"
      },
      "outputs": [],
      "source": [
        "2*s1"
      ]
    },
    {
      "cell_type": "markdown",
      "metadata": {
        "id": "pSeok34MiuqZ"
      },
      "source": [
        "#### 1.4. Series methods:"
      ]
    },
    {
      "cell_type": "code",
      "execution_count": null,
      "metadata": {
        "id": "mxahSiuniuqZ"
      },
      "outputs": [],
      "source": [
        "s1.sum()"
      ]
    },
    {
      "cell_type": "code",
      "execution_count": null,
      "metadata": {
        "id": "JLe0vYihiuqZ"
      },
      "outputs": [],
      "source": [
        "s1.mean()"
      ]
    },
    {
      "cell_type": "code",
      "execution_count": null,
      "metadata": {
        "id": "BE4zUdsJiuqZ"
      },
      "outputs": [],
      "source": [
        "s1.median()"
      ]
    },
    {
      "cell_type": "code",
      "execution_count": null,
      "metadata": {
        "id": "i4TgbkUviuqZ"
      },
      "outputs": [],
      "source": [
        "s1.max()"
      ]
    },
    {
      "cell_type": "code",
      "execution_count": null,
      "metadata": {
        "id": "mpe7-JsAiuqa"
      },
      "outputs": [],
      "source": [
        "s1.std()"
      ]
    },
    {
      "cell_type": "code",
      "execution_count": null,
      "metadata": {
        "id": "DDGYd3xliuqa"
      },
      "outputs": [],
      "source": [
        "print(s1)\n",
        "print(s1.sort_values())"
      ]
    },
    {
      "cell_type": "code",
      "source": [
        "print(s2)\n",
        "s2.sort_values()"
      ],
      "metadata": {
        "id": "s3KnjHwGq4yF"
      },
      "execution_count": null,
      "outputs": []
    },
    {
      "cell_type": "code",
      "execution_count": null,
      "metadata": {
        "id": "MLjka3csiuqb"
      },
      "outputs": [],
      "source": [
        "print(s1)\n",
        "s1.sort_index()"
      ]
    },
    {
      "cell_type": "code",
      "source": [
        "print(s1)\n",
        "s1.sort_values(ascending=False)"
      ],
      "metadata": {
        "id": "jRGarcx7rrlB"
      },
      "execution_count": null,
      "outputs": []
    },
    {
      "cell_type": "markdown",
      "metadata": {
        "id": "LH94--CGiuqb"
      },
      "source": [
        "apply() method:"
      ]
    },
    {
      "cell_type": "code",
      "execution_count": null,
      "metadata": {
        "id": "W35U2Iwviuqb"
      },
      "outputs": [],
      "source": [
        "ser_height = pd.Series([165.3, 170.1, 175.0, 182.1, 168.0, 162.0, 155.2, 176.9, 178.5, 176.1, 167.1, 180.0, 162.2, 176.1, 158.2, 168.6, 169.2],\n",
        "                       name='height')\n",
        "print(ser_height)"
      ]
    },
    {
      "cell_type": "code",
      "execution_count": null,
      "metadata": {
        "id": "65nr4KLXiuqb"
      },
      "outputs": [],
      "source": [
        "ser_height.apply(lambda x: x/100)     # Convert cm to m"
      ]
    },
    {
      "cell_type": "code",
      "execution_count": null,
      "metadata": {
        "id": "yhqD4YDciuqb"
      },
      "outputs": [],
      "source": [
        "ser_height.nunique()\t\t\t# Number of unique values in the Series."
      ]
    },
    {
      "cell_type": "code",
      "source": [
        "ser_height.unique()\t\t\t# Unique values of the Series given as a NumPy array"
      ],
      "metadata": {
        "id": "ivT7BMRytW8D"
      },
      "execution_count": null,
      "outputs": []
    },
    {
      "cell_type": "code",
      "source": [
        "ser_height.value_counts()\t\t# Returns a frequency table."
      ],
      "metadata": {
        "id": "_rZHyS7At1xz"
      },
      "execution_count": null,
      "outputs": []
    }
  ],
  "metadata": {
    "kernelspec": {
      "display_name": "Python 3",
      "language": "python",
      "name": "python3"
    },
    "language_info": {
      "codemirror_mode": {
        "name": "ipython",
        "version": 3
      },
      "file_extension": ".py",
      "mimetype": "text/x-python",
      "name": "python",
      "nbconvert_exporter": "python",
      "pygments_lexer": "ipython3",
      "version": "3.7.3"
    },
    "colab": {
      "provenance": [],
      "include_colab_link": true
    }
  },
  "nbformat": 4,
  "nbformat_minor": 0
}