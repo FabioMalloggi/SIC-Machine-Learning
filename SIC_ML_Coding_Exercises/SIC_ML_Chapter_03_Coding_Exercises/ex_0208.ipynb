{
  "cells": [
    {
      "cell_type": "markdown",
      "metadata": {
        "id": "Mc_ze_0IJo_o"
      },
      "source": [
        "## Coding Exercise #0208"
      ]
    },
    {
      "cell_type": "markdown",
      "metadata": {
        "id": "4um63bjgJo_r"
      },
      "source": [
        "### 1. MultiIndex:"
      ]
    },
    {
      "cell_type": "code",
      "execution_count": null,
      "metadata": {
        "id": "5CykNGfwJo_s"
      },
      "outputs": [],
      "source": [
        "import pandas as pd\n",
        "import numpy as np\n",
        "import os"
      ]
    },
    {
      "cell_type": "markdown",
      "metadata": {
        "id": "KYTsQrLDJo_t"
      },
      "source": [
        "#### 1.1. Creating a DataFrame with MultiIndex:"
      ]
    },
    {
      "cell_type": "code",
      "execution_count": null,
      "metadata": {
        "id": "SClQVU__Jo_u"
      },
      "outputs": [],
      "source": [
        "my_header = ['A','B','C']\n",
        "print(my_header)"
      ]
    },
    {
      "cell_type": "code",
      "execution_count": null,
      "metadata": {
        "id": "RNiklvmaJo_u"
      },
      "outputs": [],
      "source": [
        "my_index_out = ['G1']*2 + ['G2']*2 + ['G3']*2\n",
        "my_index_in = ['a', 'b']*3\n",
        "\n",
        "print(my_index_out)\n",
        "print(my_index_in)"
      ]
    },
    {
      "cell_type": "code",
      "execution_count": null,
      "metadata": {
        "id": "VQc76Lj5Jo_u"
      },
      "outputs": [],
      "source": [
        "my_index_zipped = list(zip(my_index_out, my_index_in))\n",
        "my_index_zipped"
      ]
    },
    {
      "cell_type": "code",
      "execution_count": null,
      "metadata": {
        "id": "7bv9sv05Jo_v"
      },
      "outputs": [],
      "source": [
        "my_multi_index = pd.MultiIndex.from_tuples(my_index_zipped)\n",
        "print(my_multi_index)\n",
        "\n",
        "# numpy.random.randn return a sample (or samples) from the “standard normal” distribution.\n",
        "df = pd.DataFrame(data=np.random.randn(6,3), index=my_multi_index, columns=my_header)   "
      ]
    },
    {
      "cell_type": "code",
      "execution_count": null,
      "metadata": {
        "id": "Fz0InlWkJo_v"
      },
      "outputs": [],
      "source": [
        "df"
      ]
    },
    {
      "cell_type": "markdown",
      "metadata": {
        "id": "GQK0SnNrJo_w"
      },
      "source": [
        "#### 1.2. Indexing and slicing DataFrames with MultiIndex:"
      ]
    },
    {
      "cell_type": "code",
      "execution_count": null,
      "metadata": {
        "id": "pMdm1DqgJo_w"
      },
      "outputs": [],
      "source": [
        "df.loc['G1']"
      ]
    },
    {
      "cell_type": "code",
      "execution_count": null,
      "metadata": {
        "id": "kTpQyWovJo_x"
      },
      "outputs": [],
      "source": [
        "# Indexing followed by another indexing.\n",
        "df.loc['G1'].loc['a']"
      ]
    },
    {
      "cell_type": "code",
      "execution_count": null,
      "metadata": {
        "id": "Vr8S8yQJJo_x"
      },
      "outputs": [],
      "source": [
        "# Indexing followed by another indexing.\n",
        "df.loc['G1'].loc['a','B']"
      ]
    },
    {
      "cell_type": "markdown",
      "metadata": {
        "id": "Qg8li1SxJo_x"
      },
      "source": [
        "### 2. DataFrame summarization:"
      ]
    },
    {
      "cell_type": "markdown",
      "metadata": {
        "id": "2nt-h8sJJo_x"
      },
      "source": [
        "#### 2.1. Group by method:"
      ]
    },
    {
      "cell_type": "code",
      "execution_count": null,
      "metadata": {
        "id": "X8UM3No0Jo_x"
      },
      "outputs": [],
      "source": [
        "!wget --no-clobber https://raw.githubusercontent.com/tn-220/SIC-Machine-Learning/main/SIC_ML_Coding_Exercises/SIC_ML_Chapter_03_Coding_Exercises/data_studentlist.csv"
      ]
    },
    {
      "cell_type": "code",
      "execution_count": null,
      "metadata": {
        "id": "YAE8YsvKJo_y"
      },
      "outputs": [],
      "source": [
        "df = pd.read_csv('data_studentlist.csv',header='infer')"
      ]
    },
    {
      "cell_type": "code",
      "execution_count": null,
      "metadata": {
        "id": "5AqKgNPQJo_y"
      },
      "outputs": [],
      "source": [
        "df.head(3)"
      ]
    },
    {
      "cell_type": "code",
      "source": [
        "df['flag_tall'] = np.where(df['height']>= 180, 1, 0)  # Where condition is true it should be first option, otherwise second option\n",
        "df"
      ],
      "metadata": {
        "id": "zBsh69Bi5Ws_"
      },
      "execution_count": null,
      "outputs": []
    },
    {
      "cell_type": "code",
      "source": [
        "df['flag_tall'] = np.where((df['gender'] == 'M') & \n",
        "                           (df['height'] >= 180), 1, np.where((df['gender']=='F') & (df['height']>=167), 1, 0)) \n",
        "df"
      ],
      "metadata": {
        "id": "u2OgkasL6IuN"
      },
      "execution_count": null,
      "outputs": []
    },
    {
      "cell_type": "code",
      "source": [],
      "metadata": {
        "id": "agk-s2tz55gr"
      },
      "execution_count": null,
      "outputs": []
    },
    {
      "cell_type": "code",
      "execution_count": null,
      "metadata": {
        "id": "SE69rSgiJo_y"
      },
      "outputs": [],
      "source": [
        "df2 = df.groupby('gender').mean()\n",
        "df2"
      ]
    },
    {
      "cell_type": "code",
      "source": [
        "df.groupby('gender').mean().columns"
      ],
      "metadata": {
        "id": "0erx6Z0KPO3y"
      },
      "execution_count": null,
      "outputs": []
    },
    {
      "cell_type": "code",
      "source": [
        "df2.index"
      ],
      "metadata": {
        "id": "fIo9kz5cPo2u"
      },
      "execution_count": null,
      "outputs": []
    },
    {
      "cell_type": "code",
      "source": [
        "df2.index.name = None\n",
        "df2"
      ],
      "metadata": {
        "id": "-mp0cvCMPvSa"
      },
      "execution_count": null,
      "outputs": []
    },
    {
      "cell_type": "code",
      "execution_count": null,
      "metadata": {
        "id": "kVpcIXnWJo_z"
      },
      "outputs": [],
      "source": [
        "# Operation for one variable\n",
        "df.groupby('gender')['height'].mean()"
      ]
    },
    {
      "cell_type": "code",
      "execution_count": null,
      "metadata": {
        "id": "kaMTb2RTJo_z"
      },
      "outputs": [],
      "source": [
        "# To select more than one variable, you need to put them in a list\n",
        "df.groupby('gender')[['height','weight']].mean()"
      ]
    },
    {
      "cell_type": "code",
      "execution_count": null,
      "metadata": {
        "id": "-qelaw5cJo_z"
      },
      "outputs": [],
      "source": [
        "df.groupby('gender')[['grade','age', 'height']].std()"
      ]
    },
    {
      "cell_type": "code",
      "source": [
        "# agg operator which assigns different methods to the different columns\n",
        "df3 = df.groupby('gender')[['grade','age', 'height']].agg({'grade':'min', 'age': 'std'}) \n",
        "df3"
      ],
      "metadata": {
        "id": "gXLCGXFP-2AX"
      },
      "execution_count": null,
      "outputs": []
    },
    {
      "cell_type": "code",
      "execution_count": null,
      "metadata": {
        "id": "dYI0UBVkJo_z"
      },
      "outputs": [],
      "source": [
        "df.groupby('gender')['height'].describe()"
      ]
    },
    {
      "cell_type": "code",
      "execution_count": null,
      "metadata": {
        "id": "OdXtdiBjJo_z"
      },
      "outputs": [],
      "source": [
        "# for groupby more than one variable, each variable should be a categorical variable\n",
        "sr = df.groupby(['gender','bloodtype'])['height'].mean()     # MultiIndexed result.\n",
        "sr"
      ]
    },
    {
      "cell_type": "code",
      "source": [
        "sr.index.names = [None, None]\n",
        "sr"
      ],
      "metadata": {
        "id": "ZbKz43y3S87O"
      },
      "execution_count": null,
      "outputs": []
    },
    {
      "cell_type": "code",
      "execution_count": null,
      "metadata": {
        "id": "m1SIPlSdJo_0"
      },
      "outputs": [],
      "source": [
        "sr.loc['F']"
      ]
    },
    {
      "cell_type": "code",
      "execution_count": null,
      "metadata": {
        "id": "DaobPBByJo_0"
      },
      "outputs": [],
      "source": [
        "sr.loc['F'].loc['A']"
      ]
    },
    {
      "cell_type": "markdown",
      "metadata": {
        "id": "D7o0HlQoJo_0"
      },
      "source": [
        "#### 2.2.  DataFrame methods:"
      ]
    },
    {
      "cell_type": "code",
      "execution_count": null,
      "metadata": {
        "id": "fRk_k54sJo_0"
      },
      "outputs": [],
      "source": [
        "df['height'].apply(lambda x: x/100)"
      ]
    },
    {
      "cell_type": "code",
      "execution_count": null,
      "metadata": {
        "id": "RkWNsJq4Jo_0"
      },
      "outputs": [],
      "source": [
        "df.sort_values(by='bloodtype')"
      ]
    },
    {
      "cell_type": "code",
      "execution_count": null,
      "metadata": {
        "id": "tOq_nf-tJo_0"
      },
      "outputs": [],
      "source": [
        "df.sort_values(by='bloodtype', ascending=False)"
      ]
    },
    {
      "cell_type": "code",
      "execution_count": null,
      "metadata": {
        "id": "gA7xJhDoJo_0"
      },
      "outputs": [],
      "source": [
        "df.sort_values(by=['bloodtype','gender'])"
      ]
    },
    {
      "cell_type": "code",
      "execution_count": null,
      "metadata": {
        "id": "W8cQ9kSRJo_0"
      },
      "outputs": [],
      "source": [
        "df['bloodtype'].unique()"
      ]
    },
    {
      "cell_type": "code",
      "execution_count": null,
      "metadata": {
        "id": "3cAKZXd3Jo_1"
      },
      "outputs": [],
      "source": [
        "df['bloodtype'].nunique()"
      ]
    },
    {
      "cell_type": "code",
      "execution_count": null,
      "metadata": {
        "id": "UkGEgCsNJo_1"
      },
      "outputs": [],
      "source": [
        "# Frequency table.\n",
        "df['bloodtype'].value_counts()"
      ]
    },
    {
      "cell_type": "code",
      "execution_count": null,
      "metadata": {
        "id": "AEWYIgVrJo_1"
      },
      "outputs": [],
      "source": [
        "# Frequency table.\n",
        "df['gender'].value_counts()"
      ]
    },
    {
      "cell_type": "markdown",
      "metadata": {
        "id": "kyDITC1FJo_1"
      },
      "source": [
        "#### 2.3. Pivoting:"
      ]
    },
    {
      "cell_type": "code",
      "execution_count": null,
      "metadata": {
        "id": "fyeGpFKkJo_1"
      },
      "outputs": [],
      "source": [
        "my_dict = {\"Size\": [\"L\", \"L\", \"M\", \"M\", \"M\", \"S\", \"S\", \"S\", \"S\"],\n",
        "           \"Type\": [\"A\", \"A\", \"A\", \"B\", \"B\", \"A\", \"A\", \"B\", \"B\"],\n",
        "            \"Location\": [\"L1\", \"L1\", \"L1\", \"L2\", \"L2\", \"L1\", \"L2\", \"L2\", \"L1\"],\n",
        "            \"A\": [1, 2, 2, 3, 3, 4, 5, 6, 7],\n",
        "            \"B\": [2, 4, 5, 5, 6, 6, 8, 9, 9]}\n",
        "df = pd.DataFrame(my_dict)\n",
        "df"
      ]
    },
    {
      "cell_type": "code",
      "execution_count": null,
      "metadata": {
        "id": "nEZkKmhZJo_1"
      },
      "outputs": [],
      "source": [
        "# Index by 'Size' and 'Type'. Columns by 'Location'. Values provided by the 'B' column.\n",
        "dfr = pd.pivot_table(df, index=['Size','Type'], columns='Location', values='B')      \n",
        "print(dfr.columns.name)\n",
        "print(dfr.columns)\n",
        "print(dfr)"
      ]
    },
    {
      "cell_type": "code",
      "execution_count": null,
      "metadata": {
        "id": "qgIOk-oYJo_1"
      },
      "outputs": [],
      "source": [
        "dfr.columns"
      ]
    },
    {
      "cell_type": "code",
      "execution_count": null,
      "metadata": {
        "id": "KLNCtvWPJo_1"
      },
      "outputs": [],
      "source": [
        "dfr.index                                                                 # MultiIndex object!"
      ]
    },
    {
      "cell_type": "code",
      "execution_count": null,
      "metadata": {
        "id": "kE085Ib0Jo_1"
      },
      "outputs": [],
      "source": [
        "# The same as above, but fill the missing values with 0.\n",
        "pd.pivot_table(df, index=['Size','Type'], columns='Location', values='B', fill_value=0)"
      ]
    },
    {
      "cell_type": "code",
      "execution_count": null,
      "metadata": {
        "id": "vAQuuQKzJo_2"
      },
      "outputs": [],
      "source": [
        "# The same as above with the aggregation function specified.\n",
        "pd.pivot_table(df, index=['Size','Type'], columns='Location', values='B', aggfunc = np.mean, fill_value=0)"
      ]
    },
    {
      "cell_type": "code",
      "execution_count": null,
      "metadata": {
        "id": "J-s8LBAWJo_2"
      },
      "outputs": [],
      "source": [
        "# Index by ''Location'. Columns by 'Size' and 'Type'. Values provided by the 'B' column.\n",
        "dfr = pd.pivot_table(df, index='Location', columns=['Size','Type'], values='B')\n",
        "dfr"
      ]
    },
    {
      "cell_type": "code",
      "execution_count": null,
      "metadata": {
        "id": "NMixyrA1Jo_2"
      },
      "outputs": [],
      "source": [
        "dfr.index"
      ]
    },
    {
      "cell_type": "code",
      "execution_count": null,
      "metadata": {
        "id": "Gq5v-pCRJo_2"
      },
      "outputs": [],
      "source": [
        "dfr.columns                                                           # Now, MultiIndex object for the columns."
      ]
    },
    {
      "cell_type": "code",
      "execution_count": null,
      "metadata": {
        "id": "Z5zuRCTVJo_2"
      },
      "outputs": [],
      "source": [
        "# The aggregation funciton is numpy.median().\n",
        "pd.pivot_table(df, index=['Size','Type'], columns='Location', values='B', aggfunc = np.median, fill_value=0)"
      ]
    },
    {
      "cell_type": "code",
      "execution_count": null,
      "metadata": {
        "id": "sAETbPA9Jo_2"
      },
      "outputs": [],
      "source": [
        "# Group averages of the columns 'A' abd 'B'.\n",
        "pd.pivot_table(df, index=['Size','Type'], values=['A','B'], aggfunc=np.mean)"
      ]
    },
    {
      "cell_type": "code",
      "execution_count": null,
      "metadata": {
        "id": "-imE-RKWJo_2"
      },
      "outputs": [],
      "source": [
        "# Now, with groupby() method.\n",
        "# The result is the same. \n",
        "df.groupby(['Size','Type'])[['A','B']].mean()"
      ]
    },
    {
      "cell_type": "code",
      "execution_count": null,
      "metadata": {
        "id": "ov2FhTxYJo_2"
      },
      "outputs": [],
      "source": [
        "# Aggregate differenly the columns 'A' and 'B'.\n",
        "pd.pivot_table(df, index=['Size','Type'], values=['A','B'], aggfunc={'A':np.max,'B':np.min})"
      ]
    },
    {
      "cell_type": "code",
      "execution_count": null,
      "metadata": {
        "id": "nLt9g99hJo_2"
      },
      "outputs": [],
      "source": []
    }
  ],
  "metadata": {
    "kernelspec": {
      "display_name": "Python 3",
      "language": "python",
      "name": "python3"
    },
    "language_info": {
      "codemirror_mode": {
        "name": "ipython",
        "version": 3
      },
      "file_extension": ".py",
      "mimetype": "text/x-python",
      "name": "python",
      "nbconvert_exporter": "python",
      "pygments_lexer": "ipython3",
      "version": "3.7.3"
    },
    "colab": {
      "provenance": []
    }
  },
  "nbformat": 4,
  "nbformat_minor": 0
}