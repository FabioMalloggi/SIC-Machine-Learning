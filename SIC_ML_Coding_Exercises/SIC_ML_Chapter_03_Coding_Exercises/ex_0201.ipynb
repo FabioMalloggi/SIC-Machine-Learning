{
  "cells": [
    {
      "cell_type": "markdown",
      "metadata": {
        "id": "U1fgcKHLAIzc"
      },
      "source": [
        "## Coding Exercise 0201"
      ]
    },
    {
      "cell_type": "markdown",
      "metadata": {
        "id": "UQksyS6_AIzf"
      },
      "source": [
        "### 1. NumPy library:"
      ]
    },
    {
      "cell_type": "markdown",
      "metadata": {
        "id": "d17VE5gOAIzf"
      },
      "source": [
        "#### 1.1. NumPy basics:"
      ]
    },
    {
      "cell_type": "code",
      "execution_count": null,
      "metadata": {
        "id": "9dVWmy_XAIzg"
      },
      "outputs": [],
      "source": [
        "import numpy as np\n",
        "np.__version__"
      ]
    },
    {
      "cell_type": "code",
      "execution_count": null,
      "metadata": {
        "id": "6VthtzyyAIzg"
      },
      "outputs": [],
      "source": [
        "arr1 = np.array([1,3,5,7,9])\n",
        "arr2 = np.array((1,3,5,7,9))\n",
        "print(type(arr1))\n",
        "print(arr1)"
      ]
    },
    {
      "cell_type": "code",
      "source": [
        "lst = [1, 2, \"a\", False]"
      ],
      "metadata": {
        "id": "RNuQgQgZB9I6"
      },
      "execution_count": null,
      "outputs": []
    },
    {
      "cell_type": "code",
      "source": [
        "type(lst[3])"
      ],
      "metadata": {
        "id": "5mmLbpeyCD3R"
      },
      "execution_count": null,
      "outputs": []
    },
    {
      "cell_type": "code",
      "source": [
        "lstToArr = np.array(lst)    #Convert everything to the highest value\n",
        "print(lstToArr)"
      ],
      "metadata": {
        "id": "aKRosnHjCNb5"
      },
      "execution_count": null,
      "outputs": []
    },
    {
      "cell_type": "code",
      "execution_count": null,
      "metadata": {
        "id": "hRjXfeRrAIzh"
      },
      "outputs": [],
      "source": [
        "arr3 = arr1"
      ]
    },
    {
      "cell_type": "code",
      "execution_count": null,
      "metadata": {
        "id": "3CSFRplsAIzh"
      },
      "outputs": [],
      "source": [
        "id(arr1)"
      ]
    },
    {
      "cell_type": "code",
      "execution_count": null,
      "metadata": {
        "id": "lYayU-0eAIzi"
      },
      "outputs": [],
      "source": [
        "id(arr3)"
      ]
    },
    {
      "cell_type": "code",
      "execution_count": null,
      "metadata": {
        "id": "SFyshvzJAIzi"
      },
      "outputs": [],
      "source": [
        "arr4 = arr1.copy()"
      ]
    },
    {
      "cell_type": "code",
      "execution_count": null,
      "metadata": {
        "id": "0gAyKGJjAIzi"
      },
      "outputs": [],
      "source": [
        "id(arr4)"
      ]
    },
    {
      "cell_type": "code",
      "source": [
        "arr5 = np.array([1, 2, 3], dtype = float)\n",
        "print(arr5)"
      ],
      "metadata": {
        "id": "qX4xn6s1DL77"
      },
      "execution_count": null,
      "outputs": []
    },
    {
      "cell_type": "code",
      "source": [
        "print(type(arr1))\n",
        "print(type(arr2))\n",
        "print(type(arr5))"
      ],
      "metadata": {
        "id": "0kphCLwDDdkq"
      },
      "execution_count": null,
      "outputs": []
    },
    {
      "cell_type": "markdown",
      "metadata": {
        "id": "vKkEk2NmAIzj"
      },
      "source": [
        "#### 1.2. Creating NumPy arrays:"
      ]
    },
    {
      "cell_type": "markdown",
      "metadata": {
        "id": "xhYk3jbpAIzj"
      },
      "source": [
        "numpy.arange() function:"
      ]
    },
    {
      "cell_type": "code",
      "execution_count": null,
      "metadata": {
        "id": "DGHEdak8AIzj"
      },
      "outputs": [],
      "source": [
        "np.arange(10)"
      ]
    },
    {
      "cell_type": "code",
      "execution_count": null,
      "metadata": {
        "id": "UlAZ3LxPAIzj"
      },
      "outputs": [],
      "source": [
        "print(np.arange(10,20))"
      ]
    },
    {
      "cell_type": "code",
      "execution_count": null,
      "metadata": {
        "id": "3DMxwO4AAIzk"
      },
      "outputs": [],
      "source": [
        "np.arange(10, 20, 3)"
      ]
    },
    {
      "cell_type": "code",
      "execution_count": null,
      "metadata": {
        "id": "I__sFOkCAIzk"
      },
      "outputs": [],
      "source": [
        "arr = np.arange(10) \n",
        "print(arr)"
      ]
    },
    {
      "cell_type": "code",
      "execution_count": null,
      "metadata": {
        "id": "upHzTZxXAIzk"
      },
      "outputs": [],
      "source": [
        "len(arr)"
      ]
    },
    {
      "cell_type": "code",
      "execution_count": null,
      "metadata": {
        "id": "SDCsG-loAIzk"
      },
      "outputs": [],
      "source": [
        "\"\"\"\n",
        "size gives you the total number of elements in the array. \n",
        "size can also query the sizes of specific axes with np.size.\n",
        "len gives the length of the first dimension.\n",
        "\"\"\"\n",
        "print(arr.size)     "
      ]
    },
    {
      "cell_type": "markdown",
      "metadata": {
        "id": "vc2zCe9IAIzk"
      },
      "source": [
        "numpy.linspace() function:"
      ]
    },
    {
      "cell_type": "code",
      "execution_count": null,
      "metadata": {
        "id": "IA4JOqxZAIzk"
      },
      "outputs": [],
      "source": [
        "np.linspace(1, 10, 5)"
      ]
    },
    {
      "cell_type": "code",
      "execution_count": null,
      "metadata": {
        "id": "hV0InXBAAIzl"
      },
      "outputs": [],
      "source": [
        "arr = np.linspace(0, 10, 5, retstep=True)\n",
        "print(type(arr))\n",
        "print(arr)\n",
        "# print(arr.size)     # Since it is not a numpy array, it gives error (size is attribute of numpy array)\n"
      ]
    },
    {
      "cell_type": "code",
      "execution_count": null,
      "metadata": {
        "id": "ZZS0gvsRAIzl"
      },
      "outputs": [],
      "source": [
        "print(arr)\n",
        "type(arr[0])"
      ]
    },
    {
      "cell_type": "code",
      "execution_count": null,
      "metadata": {
        "id": "imXzt_EBAIzl"
      },
      "outputs": [],
      "source": [
        "arr[1]"
      ]
    },
    {
      "cell_type": "markdown",
      "metadata": {
        "id": "RSHS8j1JAIzl"
      },
      "source": [
        "numpy.zeros() and numpy.ones() functions:"
      ]
    },
    {
      "cell_type": "code",
      "execution_count": null,
      "metadata": {
        "id": "iSE0cAxEAIzl"
      },
      "outputs": [],
      "source": [
        "print(np.zeros(10))"
      ]
    },
    {
      "cell_type": "code",
      "execution_count": null,
      "metadata": {
        "id": "Su7jWmEmAIzl"
      },
      "outputs": [],
      "source": [
        "np.zeros((3,4))"
      ]
    },
    {
      "cell_type": "code",
      "execution_count": null,
      "metadata": {
        "id": "2iDuBcjSAIzl"
      },
      "outputs": [],
      "source": [
        "np.zeros(5, dtype ='int64')"
      ]
    },
    {
      "cell_type": "code",
      "execution_count": null,
      "metadata": {
        "id": "1l6OT6eAAIzl"
      },
      "outputs": [],
      "source": [
        "np.zeros(5, dtype ='int64').dtype"
      ]
    },
    {
      "cell_type": "code",
      "execution_count": null,
      "metadata": {
        "id": "IGGkQ_hEAIzm"
      },
      "outputs": [],
      "source": [
        "arr = np.ones((2,3), dtype ='int_')\n",
        "print(arr)"
      ]
    },
    {
      "cell_type": "code",
      "execution_count": null,
      "metadata": {
        "id": "4oiGxvJXAIzm"
      },
      "outputs": [],
      "source": [
        "arr.size"
      ]
    },
    {
      "cell_type": "code",
      "source": [
        "len(arr)"
      ],
      "metadata": {
        "id": "EGSFhArxH3Xe"
      },
      "execution_count": null,
      "outputs": []
    },
    {
      "cell_type": "code",
      "execution_count": null,
      "metadata": {
        "id": "0H_0gvo0AIzm"
      },
      "outputs": [],
      "source": [
        "arr.dtype"
      ]
    },
    {
      "cell_type": "code",
      "execution_count": null,
      "metadata": {
        "id": "eTYo6dm-AIzm"
      },
      "outputs": [],
      "source": [
        "arr.astype('float32')"
      ]
    },
    {
      "cell_type": "code",
      "source": [
        "print(arr.astype('float32'), \"\\n\")\n",
        "print(arr, \"\\n\")\n",
        "print(arr.astype('float32').size, \"\\n\")"
      ],
      "metadata": {
        "id": "5CQAV3ZeIARw"
      },
      "execution_count": null,
      "outputs": []
    },
    {
      "cell_type": "markdown",
      "metadata": {
        "id": "3MpO5P5hAIzm"
      },
      "source": [
        "Data type:"
      ]
    },
    {
      "cell_type": "code",
      "execution_count": null,
      "metadata": {
        "id": "c4Q8R7aoAIzm"
      },
      "outputs": [],
      "source": [
        "arr1 = np.array([111, 2.3,  True, False, False]) \n",
        "arr1"
      ]
    },
    {
      "cell_type": "code",
      "source": [
        "arr1.dtype"
      ],
      "metadata": {
        "id": "QpWb6ddpIfTy"
      },
      "execution_count": null,
      "outputs": []
    },
    {
      "cell_type": "code",
      "execution_count": null,
      "metadata": {
        "id": "sClujJXjAIzm"
      },
      "outputs": [],
      "source": [
        "arr2 = np.array([111, 2.3, 'python', 'abc']) \n",
        "arr2"
      ]
    },
    {
      "cell_type": "code",
      "source": [
        "arr2.dtype"
      ],
      "metadata": {
        "id": "VSKeekIrIkx-"
      },
      "execution_count": null,
      "outputs": []
    },
    {
      "cell_type": "code",
      "execution_count": null,
      "metadata": {
        "id": "LC4-QMXvAIzm"
      },
      "outputs": [],
      "source": [
        "arr3 = np.array([111, True, 'abc']) \n",
        "arr3"
      ]
    },
    {
      "cell_type": "markdown",
      "metadata": {
        "id": "A9VUZZk-AIzm"
      },
      "source": [
        "#### 1.3. Indexing and slicing NumPy arrays:"
      ]
    },
    {
      "cell_type": "code",
      "execution_count": null,
      "metadata": {
        "id": "yj2o1TOIAIzm"
      },
      "outputs": [],
      "source": [
        "a = np.array([1, 2, 3, 4, 5])\n",
        "a[2]"
      ]
    },
    {
      "cell_type": "code",
      "execution_count": null,
      "metadata": {
        "id": "wESDo-XDAIzn"
      },
      "outputs": [],
      "source": [
        "a[-1]"
      ]
    },
    {
      "cell_type": "code",
      "execution_count": null,
      "metadata": {
        "id": "NRNTL5jlAIzn"
      },
      "outputs": [],
      "source": [
        "a[:]"
      ]
    },
    {
      "cell_type": "code",
      "execution_count": null,
      "metadata": {
        "id": "-tx9_bouAIzn"
      },
      "outputs": [],
      "source": [
        "a = np.array([[1, 2, 3,], [4, 5, 6], [7, 8, 9]])\n",
        "a"
      ]
    },
    {
      "cell_type": "code",
      "execution_count": null,
      "metadata": {
        "id": "gjlmrSuFAIzn"
      },
      "outputs": [],
      "source": [
        "a[1]"
      ]
    },
    {
      "cell_type": "code",
      "execution_count": null,
      "metadata": {
        "id": "uhITbxARAIzn"
      },
      "outputs": [],
      "source": [
        "a[-1]"
      ]
    },
    {
      "cell_type": "code",
      "execution_count": null,
      "metadata": {
        "id": "Q8BhGLBrAIzn"
      },
      "outputs": [],
      "source": [
        "a[:2]"
      ]
    },
    {
      "cell_type": "code",
      "execution_count": null,
      "metadata": {
        "id": "CLG312D4AIzn"
      },
      "outputs": [],
      "source": [
        "a[2][1]"
      ]
    },
    {
      "cell_type": "code",
      "execution_count": null,
      "metadata": {
        "id": "6X0mgWaBAIzn"
      },
      "outputs": [],
      "source": [
        "a[2,1]"
      ]
    },
    {
      "cell_type": "code",
      "execution_count": null,
      "metadata": {
        "id": "6LFuGV_9AIzn"
      },
      "outputs": [],
      "source": [
        "print(a, \"\\n\")\n",
        "print(a[0,2], \"\\n\")\n",
        "print(a[[0,2]])"
      ]
    },
    {
      "cell_type": "code",
      "source": [
        "b = np.array([[1, 2, 3, 3], [4, 5, 6, 6], [7, 8, 9, 9], [10, 20, 30, 30], [40, 50, 60, 60]])\n",
        "print(b, \"\\n\")\n",
        "print(b[[0,3]])\n",
        "print(b[0,3])"
      ],
      "metadata": {
        "id": "HQC_vKchK-sn"
      },
      "execution_count": null,
      "outputs": []
    },
    {
      "cell_type": "code",
      "execution_count": null,
      "metadata": {
        "id": "Bp3W9kZ1AIzn"
      },
      "outputs": [],
      "source": [
        "a[1:,1:]"
      ]
    },
    {
      "cell_type": "markdown",
      "metadata": {
        "id": "HIdGXs1hAIzn"
      },
      "source": [
        "Fancy indexing:"
      ]
    },
    {
      "cell_type": "code",
      "execution_count": null,
      "metadata": {
        "id": "9Cr0V9xHAIzn"
      },
      "outputs": [],
      "source": [
        "arr = np.arange(100)\n",
        "arrMask = ( (arr % 5) == 0 ) \n",
        "print(arr, \"\\n\")\n",
        "print(arrMask, \"\\n\")\n",
        "print(arr[arrMask], \"\\n\")\n",
        "print(type(arr[arrMask]))"
      ]
    },
    {
      "cell_type": "code",
      "execution_count": null,
      "metadata": {
        "id": "2CV1HSk8AIzn"
      },
      "outputs": [],
      "source": [
        "arrMask = ( ( (arr % 5) == 0 )  & ( arr >0) )\n",
        "arr[arrMask]"
      ]
    },
    {
      "cell_type": "markdown",
      "metadata": {
        "id": "jZC4HHt_AIzo"
      },
      "source": [
        "#### 1.4. NumPy attributes and reshaping:"
      ]
    },
    {
      "cell_type": "code",
      "execution_count": null,
      "metadata": {
        "id": "QsaIZ-kVAIzo"
      },
      "outputs": [],
      "source": [
        "a.size"
      ]
    },
    {
      "cell_type": "code",
      "execution_count": null,
      "metadata": {
        "id": "PqaZ-Wi2AIzo"
      },
      "outputs": [],
      "source": [
        "a.shape"
      ]
    },
    {
      "cell_type": "code",
      "execution_count": null,
      "metadata": {
        "id": "z-Vgknh_AIzo"
      },
      "outputs": [],
      "source": [
        "a.ndim"
      ]
    },
    {
      "cell_type": "code",
      "source": [
        "len(a)"
      ],
      "metadata": {
        "id": "ztwwWFO3OsG_"
      },
      "execution_count": null,
      "outputs": []
    },
    {
      "cell_type": "markdown",
      "metadata": {
        "id": "r-qGNUkeAIzo"
      },
      "source": [
        "Change the shape with reshape() method:"
      ]
    },
    {
      "cell_type": "code",
      "execution_count": null,
      "metadata": {
        "id": "puPmyXnCAIzo"
      },
      "outputs": [],
      "source": [
        "a = np.arange(15)\n",
        "a.reshape(3,5)"
      ]
    },
    {
      "cell_type": "code",
      "execution_count": null,
      "metadata": {
        "id": "wUCTCfqdAIzo"
      },
      "outputs": [],
      "source": [
        "# reshape() just produced a 'view'.\n",
        "# So, there is no permanent change to 'a'.\n",
        "a"
      ]
    },
    {
      "cell_type": "code",
      "execution_count": null,
      "metadata": {
        "id": "TsLsTnj6AIzo"
      },
      "outputs": [],
      "source": [
        "a = a.reshape(3,5)\n",
        "a"
      ]
    },
    {
      "cell_type": "code",
      "execution_count": null,
      "metadata": {
        "id": "xqDKH1N6AIzo"
      },
      "outputs": [],
      "source": [
        "a = np.array([2,5,1,3])\n",
        "a.shape"
      ]
    },
    {
      "cell_type": "code",
      "execution_count": null,
      "metadata": {
        "id": "xfrjvPWQAIzo"
      },
      "outputs": [],
      "source": [
        "a = a.reshape((2,2))\n",
        "a"
      ]
    },
    {
      "cell_type": "markdown",
      "metadata": {
        "id": "3QL60B27AIzo"
      },
      "source": [
        "Careful that the reshape() method does not create a new object!"
      ]
    },
    {
      "cell_type": "code",
      "execution_count": null,
      "metadata": {
        "id": "a1ARVMgpAIzp"
      },
      "outputs": [],
      "source": [
        "a = np.arange(10)\n",
        "b = a.reshape(2,5)\n",
        "a[0] = -999"
      ]
    },
    {
      "cell_type": "code",
      "execution_count": null,
      "metadata": {
        "id": "KeGf2OuuAIzp"
      },
      "outputs": [],
      "source": [
        "b"
      ]
    },
    {
      "cell_type": "code",
      "execution_count": null,
      "metadata": {
        "id": "-vsTbK_YAIzp"
      },
      "outputs": [],
      "source": [
        "# Make a copy in order to create a new object.\n",
        "c = a.reshape(2,5).copy()\n",
        "c[0,0] = 0\n",
        "a"
      ]
    },
    {
      "cell_type": "markdown",
      "metadata": {
        "id": "f930u4xjAIzp"
      },
      "source": [
        "#### 1.5. Modifying NumPy arrays:"
      ]
    },
    {
      "cell_type": "markdown",
      "metadata": {
        "id": "pzegrJogAIzp"
      },
      "source": [
        "Appending elements, rows and columns to arrays:"
      ]
    },
    {
      "cell_type": "code",
      "execution_count": null,
      "metadata": {
        "id": "tNTJ0iWAAIzp"
      },
      "outputs": [],
      "source": [
        "a = np.array([1, 2, 3])\n",
        "b = np.append(a, [4, 5, 6])\n",
        "b"
      ]
    },
    {
      "cell_type": "code",
      "execution_count": null,
      "metadata": {
        "id": "PJ7DKiplAIzp"
      },
      "outputs": [],
      "source": [
        "a = np.array([[1, 2], [3, 4]])\n",
        "b = np.append(a, [[9, 9]], axis=0)\n",
        "print(a, \"\\n\")\n",
        "print(b)"
      ]
    },
    {
      "cell_type": "code",
      "execution_count": null,
      "metadata": {
        "id": "k5cIALzgAIzp"
      },
      "outputs": [],
      "source": [
        "c = np.append(a, [[9], [9]] , axis=1)\n",
        "c"
      ]
    },
    {
      "cell_type": "code",
      "source": [
        "d = np.array([[1, 2]])\n",
        "print(d)\n",
        "print(d.shape, \"\\n\")\n",
        "e = np.array([1, 2])\n",
        "print(e)\n",
        "print(e.shape, \"\\n\")\n",
        "print(e.ndim, \"\\n\")\n"
      ],
      "metadata": {
        "id": "ddI0yvTxRgl0"
      },
      "execution_count": null,
      "outputs": []
    },
    {
      "cell_type": "code",
      "source": [
        "d = np.array([[[[[[1, 2]]]]]])\n",
        "print(d)\n",
        "print(d.shape, \"\\n\")\n"
      ],
      "metadata": {
        "id": "Y8r5gb65a0ct"
      },
      "execution_count": null,
      "outputs": []
    },
    {
      "cell_type": "markdown",
      "metadata": {
        "id": "-dsOK8j9AIzp"
      },
      "source": [
        "Deleting array elements, rows and columns:"
      ]
    },
    {
      "cell_type": "code",
      "execution_count": null,
      "metadata": {
        "id": "74Hz-kCWAIzp"
      },
      "outputs": [],
      "source": [
        "a = np.array([[1, 2, 3],[4, 5, 6]])\n",
        "print(a, \"\\n\")\n",
        "print(np.delete(a, 0), \"\\n\")\n",
        "print(a)"
      ]
    },
    {
      "cell_type": "code",
      "execution_count": null,
      "metadata": {
        "id": "FpT5pXUxAIzp"
      },
      "outputs": [],
      "source": [
        "print(np.delete(a, (0, 2, 4)))"
      ]
    },
    {
      "cell_type": "code",
      "execution_count": null,
      "metadata": {
        "id": "-qLFmUJYAIzp"
      },
      "outputs": [],
      "source": [
        "print(np.delete(a, 0, axis = 0))"
      ]
    },
    {
      "cell_type": "code",
      "execution_count": null,
      "metadata": {
        "id": "e-y0GCuwAIzp"
      },
      "outputs": [],
      "source": [
        "print(np.delete(a, 1, axis = 1))"
      ]
    },
    {
      "cell_type": "code",
      "execution_count": null,
      "metadata": {
        "id": "j_5-R6xTAIzq"
      },
      "outputs": [],
      "source": []
    }
  ],
  "metadata": {
    "kernelspec": {
      "display_name": "Python 3.10.5 64-bit",
      "language": "python",
      "name": "python3"
    },
    "language_info": {
      "codemirror_mode": {
        "name": "ipython",
        "version": 3
      },
      "file_extension": ".py",
      "mimetype": "text/x-python",
      "name": "python",
      "nbconvert_exporter": "python",
      "pygments_lexer": "ipython3",
      "version": "3.10.5"
    },
    "vscode": {
      "interpreter": {
        "hash": "b59c3c51fbf7280eebbd8cbad263eecaa0e6f687d8c9a441ba8cbbb32184f0dc"
      }
    },
    "colab": {
      "provenance": []
    }
  },
  "nbformat": 4,
  "nbformat_minor": 0
}