{
 "cells": [
  {
   "cell_type": "markdown",
   "metadata": {},
   "source": [
    "## Coding Exercise #0708b"
   ]
  },
  {
   "cell_type": "markdown",
   "metadata": {},
   "source": [
    "### 1. Inverse transform with AutoEncoder (reduced dimensional input):"
   ]
  },
  {
   "cell_type": "code",
   "execution_count": null,
   "metadata": {},
   "outputs": [],
   "source": [
    "import pandas as pd\n",
    "import numpy as np\n",
    "import tensorflow as tf\n",
    "import matplotlib.pyplot as plt\n",
    "from tensorflow.examples.tutorials.mnist import input_data            # MNIST handwritten digits data!\n",
    "from sklearn.preprocessing import MinMaxScaler\n",
    "%matplotlib inline"
   ]
  },
  {
   "cell_type": "markdown",
   "metadata": {},
   "source": [
    "#### 1.1. Download the MNIST data:"
   ]
  },
  {
   "cell_type": "code",
   "execution_count": null,
   "metadata": {},
   "outputs": [],
   "source": [
    "# verbosity_saved = tf.logging.get_verbosity()                        # Save the current verbosity lebel if needed.\n",
    "tf.logging.set_verbosity(tf.logging.ERROR)                            # Set the verbosity lebel high so that most warnings are ignored. \n",
    "mnist = input_data.read_data_sets(\"MNIST_data/\",one_hot=True)         # Download the data.\n",
    "type(mnist)      "
   ]
  },
  {
   "cell_type": "markdown",
   "metadata": {},
   "source": [
    "#### 1.2. Visualize the data:"
   ]
  },
  {
   "cell_type": "code",
   "execution_count": null,
   "metadata": {
    "scrolled": true
   },
   "outputs": [],
   "source": [
    "n_rows = 3\n",
    "n_cols = 3\n",
    "n_shift = 10\n",
    "f, a = plt.subplots(n_rows, n_cols, figsize=(5, 5))\n",
    "for i in range(n_rows):\n",
    "    for j in range(n_cols):\n",
    "        single_image = mnist.test.images[n_shift+i*n_cols+j].reshape(28,28) \n",
    "        a[i,j].imshow(1.0-single_image, cmap='gist_gray')      # In Grayscale.\n",
    "plt.show()"
   ]
  },
  {
   "cell_type": "markdown",
   "metadata": {},
   "source": [
    "#### 1.3. Define an AutoEncoder model:"
   ]
  },
  {
   "cell_type": "code",
   "execution_count": null,
   "metadata": {},
   "outputs": [],
   "source": [
    "# Hyperparameters definition.\n",
    "n_input = 784             # Input layers has as many nodes as the number of variables.\n",
    "n_hidden = 98             # The number of nodes in the hidden layer <= targeted reduced dimension. \n",
    "n_output = n_input       # The output should have the same number of nodes as the input. \n",
    "learn_rate = 0.005\n",
    "n_epochs = 1001"
   ]
  },
  {
   "cell_type": "code",
   "execution_count": null,
   "metadata": {},
   "outputs": [],
   "source": [
    "# Variables definition.\n",
    "initializer = tf.variance_scaling_initializer()\n",
    "W1 = tf.Variable(initializer([n_input, n_hidden]), dtype=tf.float32)\n",
    "W2 = tf.Variable(initializer([n_hidden, n_output]), dtype=tf.float32)\n",
    "b1 = tf.Variable(tf.zeros(n_hidden))\n",
    "b2 = tf.Variable(tf.zeros(n_output))"
   ]
  },
  {
   "cell_type": "code",
   "execution_count": null,
   "metadata": {},
   "outputs": [],
   "source": [
    "# Placeholder definition.\n",
    "X_ph = tf.placeholder(tf.float32, shape=[None, n_input])"
   ]
  },
  {
   "cell_type": "code",
   "execution_count": null,
   "metadata": {},
   "outputs": [],
   "source": [
    "# AutoEncoder model definition.\n",
    "hidden_layer = tf.matmul(X_ph, W1) + b1                  # ReLu activation.\n",
    "y_model = tf.matmul(hidden_layer, W2) + b2"
   ]
  },
  {
   "cell_type": "code",
   "execution_count": null,
   "metadata": {},
   "outputs": [],
   "source": [
    "loss = tf.reduce_mean(tf.square(X_ph- y_model))         # 'X' takes the place of 'y'!!!"
   ]
  },
  {
   "cell_type": "code",
   "execution_count": null,
   "metadata": {},
   "outputs": [],
   "source": [
    "optimizer = tf.train.AdamOptimizer(learning_rate = learn_rate) "
   ]
  },
  {
   "cell_type": "code",
   "execution_count": null,
   "metadata": {},
   "outputs": [],
   "source": [
    "train = optimizer.minimize(loss)"
   ]
  },
  {
   "cell_type": "code",
   "execution_count": null,
   "metadata": {},
   "outputs": [],
   "source": [
    "init = tf.global_variables_initializer()"
   ]
  },
  {
   "cell_type": "markdown",
   "metadata": {},
   "source": [
    "#### 1.4. AutoEncoder training:"
   ]
  },
  {
   "cell_type": "code",
   "execution_count": null,
   "metadata": {},
   "outputs": [],
   "source": [
    "saver = tf.train.Saver() \n",
    "with tf.Session() as sess:\n",
    "        sess.run(init)\n",
    "        my_feed = {X_ph: mnist.test.images}\n",
    "        for i in range(n_epochs):\n",
    "            sess.run(train, feed_dict = my_feed)\n",
    "            mse = sess.run(loss, feed_dict = my_feed)\n",
    "            if (i % 100 == 0):\n",
    "                print(\"Step : {}    ,    MSE : {}\".format(i, mse))\n",
    "        saver.save(sess, \"./autoencoder\")           # Save the result."
   ]
  },
  {
   "cell_type": "markdown",
   "metadata": {},
   "source": [
    "#### 1.5. Visualize the result:"
   ]
  },
  {
   "cell_type": "code",
   "execution_count": null,
   "metadata": {},
   "outputs": [],
   "source": [
    "# Left 3x3 are the original.\n",
    "# Right 3x3 are the reduced dimensional input.\n",
    "n_images = n_rows*n_cols\n",
    "with tf.Session() as sess:\n",
    "    saver.restore(sess,\"./autoencoder\")\n",
    "    X_inverse_transform = y_model.eval(feed_dict={X_ph:mnist.test.images[n_shift:n_shift+n_images]})      # The output is the reduced dimensional input!\n",
    "    f, a = plt.subplots(n_rows, 2*n_cols, figsize=(20, 10))\n",
    "    for i in range(n_rows):\n",
    "        for j in range(n_cols):\n",
    "            single_image1 = mnist.test.images[n_shift+i*n_cols+j].reshape(28,28) \n",
    "            single_image2 = X_inverse_transform[i*n_cols+j].reshape(28,28) \n",
    "            a[i][j].imshow(1.0-single_image1, cmap='gist_gray')             # Grayscale.\n",
    "            a[i][j+n_cols].imshow(1.0-single_image2, cmap='gist_gray')      # Grayscale.\n",
    "    plt.show()"
   ]
  },
  {
   "cell_type": "code",
   "execution_count": null,
   "metadata": {},
   "outputs": [],
   "source": []
  }
 ],
 "metadata": {
  "kernelspec": {
   "display_name": "Python 3",
   "language": "python",
   "name": "python3"
  },
  "language_info": {
   "codemirror_mode": {
    "name": "ipython",
    "version": 3
   },
   "file_extension": ".py",
   "mimetype": "text/x-python",
   "name": "python",
   "nbconvert_exporter": "python",
   "pygments_lexer": "ipython3",
   "version": "3.7.3"
  }
 },
 "nbformat": 4,
 "nbformat_minor": 2
}
