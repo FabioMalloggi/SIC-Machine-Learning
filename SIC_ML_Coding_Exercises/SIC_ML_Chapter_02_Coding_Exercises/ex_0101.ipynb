{
  "cells": [
    {
      "cell_type": "markdown",
      "metadata": {
        "id": "FUIixdwrOEO1"
      },
      "source": [
        "## Coding Exercise #0101"
      ]
    },
    {
      "cell_type": "markdown",
      "metadata": {
        "id": "xWltLsHOOEO5"
      },
      "source": [
        "### 1. Markdown examples:"
      ]
    },
    {
      "cell_type": "markdown",
      "metadata": {
        "id": "vR3HjlOiOEO6"
      },
      "source": [
        "# Title 1\n",
        "## Title 2\n",
        "### Title 3\n",
        "#### Title 4"
      ]
    },
    {
      "cell_type": "markdown",
      "metadata": {
        "id": "yYvX2a57OEO6"
      },
      "source": [
        "[Go to Google](https://www.google.com)"
      ]
    },
    {
      "cell_type": "markdown",
      "metadata": {
        "id": "WmLSNz6MOEO6"
      },
      "source": [
        "*Italic font*\n",
        "\n",
        "**Bold font**"
      ]
    },
    {
      "cell_type": "markdown",
      "metadata": {
        "id": "YP2lTUovOEO7"
      },
      "source": [
        "An expression in LaTex: $Area = \\pi r^2$  <br>\n",
        "Another expression in LaTex: $P(x) = \\int_{-\\infty}^x f(x) dx$"
      ]
    },
    {
      "cell_type": "markdown",
      "metadata": {
        "id": "EBu-uhb1OEO7"
      },
      "source": [
        "The following is a list of items:\n",
        "- An item.\n",
        "- An item.\n",
        "- An item."
      ]
    },
    {
      "cell_type": "markdown",
      "metadata": {
        "id": "G6UDg6CTOEO7"
      },
      "source": [
        "> This is a quote.\n",
        "---\n",
        "> Another quote after horizontal line."
      ]
    },
    {
      "cell_type": "markdown",
      "metadata": {
        "id": "xjuMMx-6OEO8"
      },
      "source": [
        "### 2. Python quick look:"
      ]
    },
    {
      "cell_type": "code",
      "execution_count": null,
      "metadata": {
        "id": "vH3H8HAwOEO8"
      },
      "outputs": [],
      "source": [
        "# Print out Hello World!\n",
        "print('Hello World!')"
      ]
    },
    {
      "cell_type": "code",
      "execution_count": null,
      "metadata": {
        "id": "dDiipaCUOEO-"
      },
      "outputs": [],
      "source": [
        "# Simple arithmetics.\n",
        "1+1"
      ]
    },
    {
      "cell_type": "code",
      "execution_count": null,
      "metadata": {
        "id": "lkjgSeQ0OEO-"
      },
      "outputs": [],
      "source": [
        "4/3"
      ]
    },
    {
      "cell_type": "code",
      "execution_count": null,
      "metadata": {
        "id": "KTQaLwPROEO-"
      },
      "outputs": [],
      "source": [
        "# Floor division.\n",
        "4//3"
      ]
    },
    {
      "cell_type": "code",
      "execution_count": null,
      "metadata": {
        "id": "yui4hzwKOEO-"
      },
      "outputs": [],
      "source": [
        "# Data types.\n",
        "print(type(2**30))\n",
        "print(type(2**100))"
      ]
    },
    {
      "cell_type": "code",
      "execution_count": null,
      "metadata": {
        "id": "cK8QrsMgOEO_"
      },
      "outputs": [],
      "source": [
        "# Variable.\n",
        "x = 3\n",
        "print(x * 5)"
      ]
    },
    {
      "cell_type": "code",
      "execution_count": null,
      "metadata": {
        "id": "StXtr0eSOEO_"
      },
      "outputs": [],
      "source": [
        "# Iteration.\n",
        "for x in [1,2,3,4,5]:\n",
        "    print(x)"
      ]
    },
    {
      "cell_type": "code",
      "execution_count": null,
      "metadata": {
        "id": "VJVukCfXOEO_"
      },
      "outputs": [],
      "source": [
        "# Conditional structure.\n",
        "x = 7\n",
        "if x < 10:\n",
        "    print('x is smaller than 10.')\n",
        "else:\n",
        "    print('x is larger than 10.')"
      ]
    }
  ],
  "metadata": {
    "kernelspec": {
      "display_name": "Python 3",
      "language": "python",
      "name": "python3"
    },
    "language_info": {
      "codemirror_mode": {
        "name": "ipython",
        "version": 3
      },
      "file_extension": ".py",
      "mimetype": "text/x-python",
      "name": "python",
      "nbconvert_exporter": "python",
      "pygments_lexer": "ipython3",
      "version": "3.7.3"
    },
    "colab": {
      "provenance": []
    }
  },
  "nbformat": 4,
  "nbformat_minor": 0
}