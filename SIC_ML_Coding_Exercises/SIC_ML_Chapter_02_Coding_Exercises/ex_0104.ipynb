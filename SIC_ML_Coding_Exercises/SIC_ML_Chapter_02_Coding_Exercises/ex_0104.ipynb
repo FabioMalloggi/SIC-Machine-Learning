{
  "cells": [
    {
      "cell_type": "markdown",
      "metadata": {
        "id": "view-in-github",
        "colab_type": "text"
      },
      "source": [
        "<a href=\"https://colab.research.google.com/github/tn-220/SIC-Machine-Learning/blob/main/SIC_ML_Coding_Exercises/SIC_ML_Chapter_02_Coding_Exercises/ex_0104.ipynb\" target=\"_parent\"><img src=\"https://colab.research.google.com/assets/colab-badge.svg\" alt=\"Open In Colab\"/></a>"
      ]
    },
    {
      "cell_type": "markdown",
      "metadata": {
        "id": "XoO0MNjcbeFD"
      },
      "source": [
        "## Coding Exercise #0104"
      ]
    },
    {
      "cell_type": "markdown",
      "metadata": {
        "id": "xj5qegvtbeFG"
      },
      "source": [
        "### 1. Mutability:"
      ]
    },
    {
      "cell_type": "markdown",
      "metadata": {
        "id": "XyKkIlH0beFH"
      },
      "source": [
        "#### 1.1. Immutable data types:"
      ]
    },
    {
      "cell_type": "code",
      "execution_count": null,
      "metadata": {
        "id": "OwoBc_TIbeFH"
      },
      "outputs": [],
      "source": [
        "# 'a' as a tuple, it is immutable. \n",
        "# 'a' has mutable as well as immutable elements.\n",
        "a = (1, 2, [3, 4])"
      ]
    },
    {
      "cell_type": "code",
      "execution_count": null,
      "metadata": {
        "id": "zoMYlt9jbeFI"
      },
      "outputs": [],
      "source": [
        "# This will cause an error.\n",
        "a[0] = 1"
      ]
    },
    {
      "cell_type": "code",
      "execution_count": null,
      "metadata": {
        "id": "Pffvfk8EbeFJ"
      },
      "outputs": [],
      "source": [
        "# This is possible without causing error.\n",
        "# because, we are modifying mutable part (list) within an immutable object.\n",
        "a[2][0] = -999\n",
        "a"
      ]
    },
    {
      "cell_type": "markdown",
      "metadata": {
        "id": "3HKEUS3BbeFJ"
      },
      "source": [
        "#### 1.2. Mutable data types:"
      ]
    },
    {
      "cell_type": "code",
      "execution_count": null,
      "metadata": {
        "id": "DSOzScIWbeFK"
      },
      "outputs": [],
      "source": [
        "# 'a' as a list, it is mutable. However, the elements of 'a' are immutable.\n",
        "a = [1, 2, 3, 4, 5]\n",
        "b = a                              # A simple assignment."
      ]
    },
    {
      "cell_type": "code",
      "execution_count": null,
      "metadata": {
        "id": "Rv7HOWtGbeFL"
      },
      "outputs": [],
      "source": [
        "id(a)"
      ]
    },
    {
      "cell_type": "code",
      "execution_count": null,
      "metadata": {
        "id": "LUYf76CUbeFL"
      },
      "outputs": [],
      "source": [
        "id(b)"
      ]
    },
    {
      "cell_type": "markdown",
      "metadata": {
        "id": "dXZ1g8agbeFM"
      },
      "source": [
        "'a' and 'b' are essentailly the same object. Change in 'b' affects 'a'."
      ]
    },
    {
      "cell_type": "code",
      "execution_count": null,
      "metadata": {
        "id": "VjW2MQKbbeFM"
      },
      "outputs": [],
      "source": [
        "b[0] = -999\n",
        "b"
      ]
    },
    {
      "cell_type": "code",
      "execution_count": null,
      "metadata": {
        "id": "u2GlvW90beFM"
      },
      "outputs": [],
      "source": [
        "a"
      ]
    },
    {
      "cell_type": "markdown",
      "metadata": {
        "id": "M5YcvLC8beFN"
      },
      "source": [
        "#### 1.3. Shallow copy:"
      ]
    },
    {
      "cell_type": "code",
      "execution_count": null,
      "metadata": {
        "id": "LOaHO3RhbeFN"
      },
      "outputs": [],
      "source": [
        "# 'a' as a list, it is mutable. However, the elements of 'a' are immutable.\n",
        "a = [1, 2, 3, 4, 5]\n",
        "b = a.copy()                       # This is a shallow copy. Same as b = a[:]"
      ]
    },
    {
      "cell_type": "code",
      "execution_count": null,
      "metadata": {
        "id": "BAQAH5PybeFN"
      },
      "outputs": [],
      "source": [
        "id(a)"
      ]
    },
    {
      "cell_type": "code",
      "execution_count": null,
      "metadata": {
        "id": "Sk4JgdbsbeFN"
      },
      "outputs": [],
      "source": [
        "id(b)"
      ]
    },
    {
      "cell_type": "markdown",
      "metadata": {
        "id": "SZeXNrUVbeFO"
      },
      "source": [
        "'a' and 'b' are different objects. Change in 'b' does not affect 'a' or vice versa."
      ]
    },
    {
      "cell_type": "code",
      "execution_count": null,
      "metadata": {
        "id": "8eY2uQ9LbeFO"
      },
      "outputs": [],
      "source": [
        "b[0] = -999\n",
        "b"
      ]
    },
    {
      "cell_type": "code",
      "execution_count": null,
      "metadata": {
        "id": "B55OC2sQbeFQ"
      },
      "outputs": [],
      "source": [
        "a"
      ]
    },
    {
      "cell_type": "markdown",
      "metadata": {
        "id": "3nunlaIBbeFR"
      },
      "source": [
        "#### 1.4. Shallow copy vs Deep copy:"
      ]
    },
    {
      "cell_type": "code",
      "execution_count": null,
      "metadata": {
        "id": "HE4DVy0zbeFR"
      },
      "outputs": [],
      "source": [
        "import copy\n",
        "a = [1, 2, [3, 4, 5]]\n",
        "b = a.copy()                                   # 'b' is a shallow copy of 'a'.\n",
        "c = copy.deepcopy(a)                           # 'c' is a deep copy of 'a'. "
      ]
    },
    {
      "cell_type": "markdown",
      "metadata": {
        "id": "5cQpEtAebeFS"
      },
      "source": [
        "Change in the immutable element of 'a' only affects 'a':"
      ]
    },
    {
      "cell_type": "code",
      "execution_count": null,
      "metadata": {
        "id": "yzF3PP2wbeFT"
      },
      "outputs": [],
      "source": [
        "a[0] = 666"
      ]
    },
    {
      "cell_type": "code",
      "execution_count": null,
      "metadata": {
        "id": "IEJDo753beFT"
      },
      "outputs": [],
      "source": [
        "a"
      ]
    },
    {
      "cell_type": "code",
      "execution_count": null,
      "metadata": {
        "id": "_5jmNXt0beFT"
      },
      "outputs": [],
      "source": [
        "b"
      ]
    },
    {
      "cell_type": "code",
      "execution_count": null,
      "metadata": {
        "id": "IXjq8TK9beFU"
      },
      "outputs": [],
      "source": [
        "c"
      ]
    },
    {
      "cell_type": "markdown",
      "metadata": {
        "id": "b83rZtakbeFU"
      },
      "source": [
        "Change in the mutable element of 'a' also affects 'b', although 'c' remains still unaffected:"
      ]
    },
    {
      "cell_type": "code",
      "execution_count": null,
      "metadata": {
        "id": "xWJzfTonbeFU"
      },
      "outputs": [],
      "source": [
        "a[2][0] = -999"
      ]
    },
    {
      "cell_type": "code",
      "execution_count": null,
      "metadata": {
        "id": "UjLcHfa1beFU"
      },
      "outputs": [],
      "source": [
        "a"
      ]
    },
    {
      "cell_type": "code",
      "execution_count": null,
      "metadata": {
        "id": "JOjDJfACbeFV"
      },
      "outputs": [],
      "source": [
        "b"
      ]
    },
    {
      "cell_type": "code",
      "execution_count": null,
      "metadata": {
        "id": "VWtPtHRubeFV"
      },
      "outputs": [],
      "source": [
        "c"
      ]
    },
    {
      "cell_type": "markdown",
      "metadata": {
        "id": "2lkeGnfVbeFV"
      },
      "source": [
        "### 2. Variables:"
      ]
    },
    {
      "cell_type": "markdown",
      "metadata": {
        "id": "hUK2ersQbeFV"
      },
      "source": [
        "Define multiple variables at a time:"
      ]
    },
    {
      "cell_type": "code",
      "execution_count": null,
      "metadata": {
        "id": "5DaFZaTlbeFV"
      },
      "outputs": [],
      "source": [
        "a, b, c = (111, True, 'aaa')\n",
        "a, b, c = [111, True, 'aaa']\n",
        "a = b = c = 777"
      ]
    },
    {
      "cell_type": "markdown",
      "metadata": {
        "id": "tblmdAOAbeFV"
      },
      "source": [
        "Swapping varaible values:"
      ]
    },
    {
      "cell_type": "code",
      "execution_count": null,
      "metadata": {
        "id": "6w1wmo67beFW"
      },
      "outputs": [],
      "source": [
        "x, y = 666, 777\n",
        "x, y = y,x\n",
        "x, y "
      ]
    }
  ],
  "metadata": {
    "kernelspec": {
      "display_name": "Python 3",
      "language": "python",
      "name": "python3"
    },
    "language_info": {
      "codemirror_mode": {
        "name": "ipython",
        "version": 3
      },
      "file_extension": ".py",
      "mimetype": "text/x-python",
      "name": "python",
      "nbconvert_exporter": "python",
      "pygments_lexer": "ipython3",
      "version": "3.7.3"
    },
    "colab": {
      "provenance": [],
      "include_colab_link": true
    }
  },
  "nbformat": 4,
  "nbformat_minor": 0
}