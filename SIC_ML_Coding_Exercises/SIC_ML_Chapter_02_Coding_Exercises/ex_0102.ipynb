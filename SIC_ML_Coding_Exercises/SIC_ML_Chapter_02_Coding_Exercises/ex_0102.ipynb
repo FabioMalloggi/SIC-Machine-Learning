{
  "cells": [
    {
      "cell_type": "markdown",
      "metadata": {
        "id": "view-in-github",
        "colab_type": "text"
      },
      "source": [
        "<a href=\"https://colab.research.google.com/github/tn-220/SIC-Machine-Learning/blob/main/SIC_ML_Coding_Exercises/SIC_ML_Chapter_02_Coding_Exercises/ex_0102.ipynb\" target=\"_parent\"><img src=\"https://colab.research.google.com/assets/colab-badge.svg\" alt=\"Open In Colab\"/></a>"
      ]
    },
    {
      "cell_type": "markdown",
      "metadata": {
        "id": "CmuDPZqUaJ-5"
      },
      "source": [
        "## Coding Exercise: #0102"
      ]
    },
    {
      "cell_type": "markdown",
      "metadata": {
        "id": "rivswfeXaJ-9"
      },
      "source": [
        "### 1. Number:"
      ]
    },
    {
      "cell_type": "markdown",
      "metadata": {
        "id": "kD-YRt7CaJ-9"
      },
      "source": [
        "#### 1.1. Operations with numbers:"
      ]
    },
    {
      "cell_type": "code",
      "execution_count": null,
      "metadata": {
        "id": "GdixUdGJaJ--"
      },
      "outputs": [],
      "source": [
        "1+1"
      ]
    },
    {
      "cell_type": "code",
      "execution_count": null,
      "metadata": {
        "id": "GvcTqksgaJ-_"
      },
      "outputs": [],
      "source": [
        "2**3"
      ]
    },
    {
      "cell_type": "code",
      "execution_count": null,
      "metadata": {
        "id": "WX0MldObaJ-_"
      },
      "outputs": [],
      "source": [
        "8%5"
      ]
    },
    {
      "cell_type": "code",
      "execution_count": null,
      "metadata": {
        "id": "1JK5x43QaJ_A"
      },
      "outputs": [],
      "source": [
        "8.0//5.0"
      ]
    },
    {
      "cell_type": "markdown",
      "metadata": {
        "id": "rKbmNFr2aJ_A"
      },
      "source": [
        "### 2. String:"
      ]
    },
    {
      "cell_type": "markdown",
      "metadata": {
        "id": "JgE3z-V2aJ_B"
      },
      "source": [
        "#### 2.1. Basics:"
      ]
    },
    {
      "cell_type": "code",
      "execution_count": null,
      "metadata": {
        "id": "2_EqAMCDaJ_B"
      },
      "outputs": [],
      "source": [
        "# A quote within another quote.\n",
        "print(\"He said, 'Python is very easy'\")\n",
        "print('He said, \"Python is very easy\"')"
      ]
    },
    {
      "cell_type": "code",
      "execution_count": null,
      "metadata": {
        "id": "WRJ6hVQTaJ_C"
      },
      "outputs": [],
      "source": [
        "# Multi-line string.\n",
        "my_string = \"\"\"Hello !!!\n",
        "my\n",
        "name\n",
        "is\n",
        "Python.\"\"\"\n",
        "print(my_string)"
      ]
    },
    {
      "cell_type": "markdown",
      "metadata": {
        "id": "ew1_G3KkaJ_C"
      },
      "source": [
        "#### 2.2. Operations with strings:"
      ]
    },
    {
      "cell_type": "code",
      "execution_count": null,
      "metadata": {
        "id": "N_7D3D1BaJ_D"
      },
      "outputs": [],
      "source": [
        "str1 = 'First string. '\n",
        "str2 = 'Second string.'\n",
        "print(str1 + str2)"
      ]
    },
    {
      "cell_type": "code",
      "execution_count": null,
      "metadata": {
        "id": "zWR_MS3EaJ_D"
      },
      "outputs": [],
      "source": [
        "str = 'Python. '\n",
        "print(str*5)"
      ]
    },
    {
      "cell_type": "markdown",
      "metadata": {
        "id": "zFLOlEcmaJ_D"
      },
      "source": [
        "#### 2.3. Indexing and slilcing strings:"
      ]
    },
    {
      "cell_type": "code",
      "execution_count": null,
      "metadata": {
        "id": "nFSU-NmLaJ_E"
      },
      "outputs": [],
      "source": [
        "str = 'Life is too short, You need Python!'\n",
        "print(str[0])\n",
        "print(str[-1])\n",
        "print(str[0:4])\n",
        "print(str[5:])"
      ]
    },
    {
      "cell_type": "markdown",
      "metadata": {
        "id": "LYyHgA_oaJ_E"
      },
      "source": [
        "#### 2.4. Functions and methods for string objects:"
      ]
    },
    {
      "cell_type": "code",
      "execution_count": null,
      "metadata": {
        "id": "TzYLZT4-aJ_E"
      },
      "outputs": [],
      "source": [
        "x = 'Python'\n",
        "print(len(x))"
      ]
    },
    {
      "cell_type": "code",
      "execution_count": null,
      "metadata": {
        "id": "US5UoBRCaJ_F"
      },
      "outputs": [],
      "source": [
        "x.count('h')"
      ]
    },
    {
      "cell_type": "code",
      "execution_count": null,
      "metadata": {
        "id": "9BhHAl8waJ_F"
      },
      "outputs": [],
      "source": [
        "x.upper()"
      ]
    },
    {
      "cell_type": "code",
      "execution_count": null,
      "metadata": {
        "id": "YqpUa-MIaJ_F"
      },
      "outputs": [],
      "source": [
        "x.lower()"
      ]
    },
    {
      "cell_type": "code",
      "execution_count": null,
      "metadata": {
        "id": "geb7xw5VaJ_G"
      },
      "outputs": [],
      "source": [
        "x.find('o')"
      ]
    },
    {
      "cell_type": "code",
      "execution_count": null,
      "metadata": {
        "id": "UXWMl-NOaJ_G"
      },
      "outputs": [],
      "source": [
        "x.find('w')"
      ]
    },
    {
      "cell_type": "code",
      "execution_count": null,
      "metadata": {
        "id": "THDVJhtsaJ_H"
      },
      "outputs": [],
      "source": [
        "x.index('o')"
      ]
    },
    {
      "cell_type": "code",
      "execution_count": null,
      "metadata": {
        "id": "ZrvbUoVoaJ_H"
      },
      "outputs": [],
      "source": [
        "# 'w' is not found in x. This will result in an error.\n",
        "x.index('w')"
      ]
    },
    {
      "cell_type": "code",
      "execution_count": null,
      "metadata": {
        "id": "LL7FZZxmaJ_H"
      },
      "outputs": [],
      "source": [
        "x = 'Life is too short, You need Python!'"
      ]
    },
    {
      "cell_type": "code",
      "execution_count": null,
      "metadata": {
        "id": "LsUWDkrSaJ_H"
      },
      "outputs": [],
      "source": [
        "x.split(' ')"
      ]
    },
    {
      "cell_type": "code",
      "execution_count": null,
      "metadata": {
        "id": "asXT5hWEaJ_I"
      },
      "outputs": [],
      "source": [
        "y = x.split(' ')\n",
        "a = ' '\n",
        "print(a.join(y))"
      ]
    },
    {
      "cell_type": "markdown",
      "metadata": {
        "id": "zlh7TcLUaJ_I"
      },
      "source": [
        "### 3. Boolean:"
      ]
    },
    {
      "cell_type": "markdown",
      "metadata": {
        "id": "DvzYHhPHaJ_I"
      },
      "source": [
        "#### 3.1. Operations with Booleans:"
      ]
    },
    {
      "cell_type": "markdown",
      "metadata": {
        "id": "CZNsmKWUaJ_J"
      },
      "source": [
        "AND operator:"
      ]
    },
    {
      "cell_type": "code",
      "execution_count": null,
      "metadata": {
        "id": "YwBEY3tFaJ_J"
      },
      "outputs": [],
      "source": [
        "False and False"
      ]
    },
    {
      "cell_type": "code",
      "execution_count": null,
      "metadata": {
        "id": "MSruAOlCaJ_J"
      },
      "outputs": [],
      "source": [
        "False and True"
      ]
    },
    {
      "cell_type": "code",
      "execution_count": null,
      "metadata": {
        "id": "8krT3xJsaJ_J"
      },
      "outputs": [],
      "source": [
        "True and False"
      ]
    },
    {
      "cell_type": "code",
      "execution_count": null,
      "metadata": {
        "id": "WZbUw8XOaJ_J"
      },
      "outputs": [],
      "source": [
        "True and True"
      ]
    },
    {
      "cell_type": "code",
      "execution_count": null,
      "metadata": {
        "id": "rgEcyDxAaJ_K"
      },
      "outputs": [],
      "source": [
        "(3 > 2) and (5 < 4)"
      ]
    },
    {
      "cell_type": "code",
      "execution_count": null,
      "metadata": {
        "id": "RCQTLc8JaJ_K"
      },
      "outputs": [],
      "source": [
        "(3 > 2) and (5 > 4)"
      ]
    },
    {
      "cell_type": "markdown",
      "metadata": {
        "id": "nBJRsWKUaJ_K"
      },
      "source": [
        "OR operator:"
      ]
    },
    {
      "cell_type": "code",
      "execution_count": null,
      "metadata": {
        "id": "miBXW8WfaJ_L"
      },
      "outputs": [],
      "source": [
        "False or False"
      ]
    },
    {
      "cell_type": "code",
      "execution_count": null,
      "metadata": {
        "id": "zJGFN38taJ_L"
      },
      "outputs": [],
      "source": [
        "True or False"
      ]
    },
    {
      "cell_type": "code",
      "execution_count": null,
      "metadata": {
        "id": "S4T_w1qQaJ_L"
      },
      "outputs": [],
      "source": [
        "False or True"
      ]
    },
    {
      "cell_type": "code",
      "execution_count": null,
      "metadata": {
        "id": "jBOXDCicaJ_L"
      },
      "outputs": [],
      "source": [
        "False or True"
      ]
    },
    {
      "cell_type": "code",
      "execution_count": null,
      "metadata": {
        "id": "87_6PNKXaJ_L"
      },
      "outputs": [],
      "source": [
        "True or True"
      ]
    },
    {
      "cell_type": "markdown",
      "metadata": {
        "id": "sOYqdBi_aJ_L"
      },
      "source": [
        "NOT operator:"
      ]
    },
    {
      "cell_type": "code",
      "execution_count": null,
      "metadata": {
        "id": "X5-73iVuaJ_M"
      },
      "outputs": [],
      "source": [
        "not True"
      ]
    },
    {
      "cell_type": "code",
      "execution_count": null,
      "metadata": {
        "id": "bSmUBGVKaJ_M"
      },
      "outputs": [],
      "source": [
        "not False"
      ]
    },
    {
      "cell_type": "code",
      "execution_count": null,
      "metadata": {
        "id": "35AstwVuaJ_M"
      },
      "outputs": [],
      "source": [
        "not (4 > 2)"
      ]
    },
    {
      "cell_type": "code",
      "execution_count": null,
      "metadata": {
        "id": "KeGfaDPTaJ_M"
      },
      "outputs": [],
      "source": [
        "not (4 < 2)"
      ]
    },
    {
      "cell_type": "markdown",
      "metadata": {
        "id": "5y2CNqPGaJ_N"
      },
      "source": [
        "#### 3.2. Implicit Boolean:"
      ]
    },
    {
      "cell_type": "code",
      "execution_count": null,
      "metadata": {
        "id": "rHXegVj7aJ_N"
      },
      "outputs": [],
      "source": [
        "x = []\n",
        "y = [1,2,3]"
      ]
    },
    {
      "cell_type": "code",
      "execution_count": null,
      "metadata": {
        "id": "n8HxfshJaJ_N"
      },
      "outputs": [],
      "source": [
        "if x:\n",
        "    print('Not empty.')\n",
        "else:\n",
        "    print('Empty!')"
      ]
    },
    {
      "cell_type": "code",
      "execution_count": null,
      "metadata": {
        "id": "Uw-yCZvIaJ_N"
      },
      "outputs": [],
      "source": [
        "if y:\n",
        "    print('Not empty.')\n",
        "else:\n",
        "    print('Empty!')"
      ]
    },
    {
      "cell_type": "code",
      "execution_count": null,
      "metadata": {
        "id": "vSTkbuH9aJ_N"
      },
      "outputs": [],
      "source": [
        ""
      ]
    }
  ],
  "metadata": {
    "kernelspec": {
      "display_name": "Python 3",
      "language": "python",
      "name": "python3"
    },
    "language_info": {
      "codemirror_mode": {
        "name": "ipython",
        "version": 3
      },
      "file_extension": ".py",
      "mimetype": "text/x-python",
      "name": "python",
      "nbconvert_exporter": "python",
      "pygments_lexer": "ipython3",
      "version": "3.7.3"
    },
    "colab": {
      "provenance": [],
      "include_colab_link": true
    }
  },
  "nbformat": 4,
  "nbformat_minor": 0
}