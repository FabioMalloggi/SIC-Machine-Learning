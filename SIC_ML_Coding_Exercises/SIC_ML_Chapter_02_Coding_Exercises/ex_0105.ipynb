{
  "cells": [
    {
      "cell_type": "markdown",
      "metadata": {
        "id": "view-in-github",
        "colab_type": "text"
      },
      "source": [
        "<a href=\"https://colab.research.google.com/github/tn-220/SIC-Machine-Learning/blob/main/SIC_ML_Coding_Exercises/SIC_ML_Chapter_02_Coding_Exercises/ex_0105.ipynb\" target=\"_parent\"><img src=\"https://colab.research.google.com/assets/colab-badge.svg\" alt=\"Open In Colab\"/></a>"
      ]
    },
    {
      "cell_type": "markdown",
      "metadata": {
        "id": "aPqqcBnzbewB"
      },
      "source": [
        "## Coding Exercise: #0105"
      ]
    },
    {
      "cell_type": "markdown",
      "metadata": {
        "id": "8r7jsZk8bewE"
      },
      "source": [
        "### 1. Conditional structure:"
      ]
    },
    {
      "cell_type": "code",
      "execution_count": null,
      "metadata": {
        "id": "G249WOUwbewE"
      },
      "outputs": [],
      "source": [
        "x = input(\"How old are you? \")\n",
        "x = int(x)\n",
        "if x < 8 :\n",
        "    print( str(x) + \" years old... You are a bit too young.\")\n",
        "elif x >=8 and x<19:\n",
        "    print( str(x) + \" years old... You must be a student.\")\n",
        "else:\n",
        "    print( \"You are all grown up!\")"
      ]
    },
    {
      "cell_type": "code",
      "execution_count": null,
      "metadata": {
        "id": "Hq32dlmZbewF"
      },
      "outputs": [],
      "source": [
        "x = input(\"How much is 2*3? \")\n",
        "x = int(x)\n",
        "if x == 2*3 :\n",
        "    print( \"Correct.\")\n",
        "else:\n",
        "    print( \"Incorrect\")"
      ]
    },
    {
      "cell_type": "code",
      "execution_count": null,
      "metadata": {
        "id": "9qH8rrAVbewG"
      },
      "outputs": [],
      "source": [
        "x = input(\"How much is 2*3? \")\n",
        "x = int(x)\n",
        "if x !=2*3 :\n",
        "    print( \"Incorrect\")\n",
        "else:\n",
        "    print( \"Correct.\")"
      ]
    },
    {
      "cell_type": "code",
      "execution_count": null,
      "metadata": {
        "id": "hwV2RrVnbewG"
      },
      "outputs": [],
      "source": [
        "x = input(\"How much is 2*3? \")\n",
        "x = int(x)\n",
        "y = ( x == 2*3)                                         # A Boolean statement.\n",
        "if y:\n",
        "    print( \"Correct.\")\n",
        "else:\n",
        "    print( \"Incorrect\")"
      ]
    },
    {
      "cell_type": "markdown",
      "metadata": {
        "id": "6j4RvqYcbewG"
      },
      "source": [
        "### 2. Loop structure:"
      ]
    },
    {
      "cell_type": "markdown",
      "metadata": {
        "id": "fN8epTsYbewH"
      },
      "source": [
        "#### 2.1. For loops:"
      ]
    },
    {
      "cell_type": "code",
      "execution_count": null,
      "metadata": {
        "id": "BkNHoOa5bewH"
      },
      "outputs": [],
      "source": [
        "sum = 0\n",
        "for x in range(1, 11):\n",
        "    sum += x\n",
        "print(\"Sum from 1 to 10 = \" + str(sum))"
      ]
    },
    {
      "cell_type": "code",
      "execution_count": null,
      "metadata": {
        "id": "w3MVwNwNbewI"
      },
      "outputs": [],
      "source": [
        "sum = 0\n",
        "for x in range(2,101,2):\n",
        "    sum += x\n",
        "print(\"Sum of even numbers from 2 to 100 = \" + str(sum))"
      ]
    },
    {
      "cell_type": "code",
      "execution_count": null,
      "metadata": {
        "id": "6imsNq16bewI"
      },
      "outputs": [],
      "source": [
        "sum = 0\n",
        "for x in range(1,101):\n",
        "    if ( x % 2 ==0):\n",
        "        sum += x\n",
        "print(\"Sum of even numbers between 1 and 100 = \" + str(sum))"
      ]
    },
    {
      "cell_type": "code",
      "execution_count": null,
      "metadata": {
        "id": "loFSh_3cbewI"
      },
      "outputs": [],
      "source": [
        "sum = 0\n",
        "for x in range(1,101):\n",
        "    if ( x % 2 !=0):\n",
        "        sum += x\n",
        "print(\"Sum of odd numbers between 1 and 100 = \" + str(sum))"
      ]
    },
    {
      "cell_type": "code",
      "execution_count": null,
      "metadata": {
        "id": "rWpPSfpLbewJ"
      },
      "outputs": [],
      "source": [
        "sum = 0\n",
        "for x in range(1,101):\n",
        "    if x % 5 == 0:\n",
        "        sum += x\n",
        "print(\"Sum of multiples of 5 between 1 and 100 = \" + str(sum))"
      ]
    },
    {
      "cell_type": "code",
      "execution_count": null,
      "metadata": {
        "id": "p2ML6utabewJ"
      },
      "outputs": [],
      "source": [
        "my_list = ['You', 'need', 'Python!']\n",
        "for x in my_list:\n",
        "    print(x)"
      ]
    },
    {
      "cell_type": "code",
      "execution_count": null,
      "metadata": {
        "id": "eT4ohrUbbewJ"
      },
      "outputs": [],
      "source": [
        "# Multiplication table.\n",
        "# A 'for' loop within another.\n",
        "for i in range(2,10):\n",
        "    for j in range(2,10):\n",
        "        print( \"%1d * %1d = %2d \" % ( i, j, i * j))"
      ]
    },
    {
      "cell_type": "markdown",
      "metadata": {
        "id": "dEz2egF7bewJ"
      },
      "source": [
        "#### 2.2. While loops:"
      ]
    },
    {
      "cell_type": "code",
      "execution_count": null,
      "metadata": {
        "id": "_UzW9UF6bewK"
      },
      "outputs": [],
      "source": [
        "counter = 0\n",
        "sum = 0\n",
        "while counter < 11:\n",
        "    sum += counter\n",
        "    counter += 1\n",
        "print(\"Sum of 1 through 10 = \" + str(sum))"
      ]
    },
    {
      "cell_type": "code",
      "execution_count": null,
      "metadata": {
        "id": "xQc8Fo5ybewK"
      },
      "outputs": [],
      "source": [
        "counter = 0\n",
        "sum = 0\n",
        "while counter < 1001:\n",
        "    if counter % 5 == 0:\n",
        "        sum += counter\n",
        "    counter += 1\n",
        "print(\"Sum of multiples of 5 between 0 and 1000 = \" + str(sum))"
      ]
    },
    {
      "cell_type": "code",
      "execution_count": null,
      "metadata": {
        "id": "ZOL-BE7GbewK"
      },
      "outputs": [],
      "source": [
        "# Multiplication table.\n",
        "# A 'while' loop within another.\n",
        "i = 1\n",
        "while i < 9:\n",
        "    i += 1\n",
        "    j = 2\n",
        "    while j < 10:\n",
        "        print( \"%1d * %1d = %2d \" % ( i, j, i*j))\n",
        "        j += 1"
      ]
    },
    {
      "cell_type": "code",
      "execution_count": null,
      "metadata": {
        "id": "vTkMyjjkbewK"
      },
      "outputs": [],
      "source": [
        "# Multiplication table.\n",
        "# A 'for' loop within a 'while' loop.\n",
        "i = 1\n",
        "while i < 9:\n",
        "    i += 1\n",
        "    for j in range(1,10):\n",
        "        print( \"%1d * %1d = %2d \" % ( i, j, i*j))\n",
        "        j += 1"
      ]
    },
    {
      "cell_type": "code",
      "execution_count": null,
      "metadata": {
        "id": "RaySZ06bbewK"
      },
      "outputs": [],
      "source": [
        ""
      ]
    }
  ],
  "metadata": {
    "kernelspec": {
      "display_name": "Python 3",
      "language": "python",
      "name": "python3"
    },
    "language_info": {
      "codemirror_mode": {
        "name": "ipython",
        "version": 3
      },
      "file_extension": ".py",
      "mimetype": "text/x-python",
      "name": "python",
      "nbconvert_exporter": "python",
      "pygments_lexer": "ipython3",
      "version": "3.7.3"
    },
    "colab": {
      "provenance": [],
      "include_colab_link": true
    }
  },
  "nbformat": 4,
  "nbformat_minor": 0
}