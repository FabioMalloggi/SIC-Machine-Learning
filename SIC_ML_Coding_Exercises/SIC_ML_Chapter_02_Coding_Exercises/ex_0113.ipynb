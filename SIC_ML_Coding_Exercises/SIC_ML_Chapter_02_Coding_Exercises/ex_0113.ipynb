{
  "cells": [
    {
      "cell_type": "markdown",
      "metadata": {
        "id": "ElWfOfvIbU9D"
      },
      "source": [
        "## Coding Exercise #0113"
      ]
    },
    {
      "cell_type": "markdown",
      "metadata": {
        "id": "UHdb1J0RbU9G"
      },
      "source": [
        "### 1. Working with Word documents: \n",
        "\n",
        "* Similar to the Excel documents, a Word document also presents a hierarchical structure.\n",
        "* A Word document is composed of paragraphs and in turn a paragraph is composed of runs.\n",
        "* As for manipulating the word documents, you can use the docx library. \n",
        "* Once you open a Word document and assign it to an object, the paragraphs can be accessed.\n",
        "\n"
      ]
    },
    {
      "cell_type": "code",
      "execution_count": 1,
      "metadata": {
        "id": "IEKAHUEebU9H",
        "outputId": "36593537-6e42-465d-ec54-2c9bf9c5fdcc",
        "colab": {
          "base_uri": "https://localhost:8080/"
        }
      },
      "outputs": [
        {
          "output_type": "stream",
          "name": "stdout",
          "text": [
            "Looking in indexes: https://pypi.org/simple, https://us-python.pkg.dev/colab-wheels/public/simple/\n",
            "Collecting python-docx\n",
            "  Downloading python-docx-0.8.11.tar.gz (5.6 MB)\n",
            "\u001b[K     |████████████████████████████████| 5.6 MB 7.7 MB/s \n",
            "\u001b[?25hRequirement already satisfied: lxml>=2.3.2 in /usr/local/lib/python3.7/dist-packages (from python-docx) (4.9.1)\n",
            "Building wheels for collected packages: python-docx\n",
            "  Building wheel for python-docx (setup.py) ... \u001b[?25l\u001b[?25hdone\n",
            "  Created wheel for python-docx: filename=python_docx-0.8.11-py3-none-any.whl size=184507 sha256=74dd117c8b761fd09f2757d6d6caafa8105661febb98ae3eb8afe745dd0e4eff\n",
            "  Stored in directory: /root/.cache/pip/wheels/f6/6f/b9/d798122a8b55b74ad30b5f52b01482169b445fbb84a11797a6\n",
            "Successfully built python-docx\n",
            "Installing collected packages: python-docx\n",
            "Successfully installed python-docx-0.8.11\n"
          ]
        }
      ],
      "source": [
        "# Install the library.\n",
        "!pip install python-docx"
      ]
    },
    {
      "cell_type": "code",
      "execution_count": 2,
      "metadata": {
        "scrolled": true,
        "id": "Aeg1wShXbU9I"
      },
      "outputs": [],
      "source": [
        "# Import the required libraries.\n",
        "import docx\n",
        "import os"
      ]
    },
    {
      "cell_type": "code",
      "execution_count": 3,
      "metadata": {
        "id": "eaF0lu8xbU9I",
        "outputId": "9135c5a4-9d10-4487-fa13-50337c0d6c5b",
        "colab": {
          "base_uri": "https://localhost:8080/"
        }
      },
      "outputs": [
        {
          "output_type": "stream",
          "name": "stdout",
          "text": [
            "--2022-09-07 14:51:28--  https://github.com/tn-220/SIC-Machine-Learning/raw/main/SIC_ML_Coding_Exercises/SIC_ML_Chapter_02_Coding_Exercises/Artificial%20Intelligence.docx\n",
            "Resolving github.com (github.com)... 192.30.255.112\n",
            "Connecting to github.com (github.com)|192.30.255.112|:443... connected.\n",
            "HTTP request sent, awaiting response... 302 Found\n",
            "Location: https://raw.githubusercontent.com/tn-220/SIC-Machine-Learning/main/SIC_ML_Coding_Exercises/SIC_ML_Chapter_02_Coding_Exercises/Artificial%20Intelligence.docx [following]\n",
            "--2022-09-07 14:51:28--  https://raw.githubusercontent.com/tn-220/SIC-Machine-Learning/main/SIC_ML_Coding_Exercises/SIC_ML_Chapter_02_Coding_Exercises/Artificial%20Intelligence.docx\n",
            "Resolving raw.githubusercontent.com (raw.githubusercontent.com)... 185.199.108.133, 185.199.109.133, 185.199.110.133, ...\n",
            "Connecting to raw.githubusercontent.com (raw.githubusercontent.com)|185.199.108.133|:443... connected.\n",
            "HTTP request sent, awaiting response... 200 OK\n",
            "Length: 57096 (56K) [application/octet-stream]\n",
            "Saving to: ‘Artificial Intelligence.docx’\n",
            "\n",
            "Artificial Intellig 100%[===================>]  55.76K  --.-KB/s    in 0.008s  \n",
            "\n",
            "2022-09-07 14:51:28 (6.91 MB/s) - ‘Artificial Intelligence.docx’ saved [57096/57096]\n",
            "\n"
          ]
        }
      ],
      "source": [
        "!wget --no-clobber https://github.com/tn-220/SIC-Machine-Learning/raw/main/SIC_ML_Coding_Exercises/SIC_ML_Chapter_02_Coding_Exercises/Artificial%20Intelligence.docx"
      ]
    },
    {
      "cell_type": "code",
      "execution_count": null,
      "metadata": {
        "id": "Qng6dbrHbU9I"
      },
      "outputs": [],
      "source": [
        "# Go to the directory where the file is located. \n",
        "os.chdir(r'~~')                              # Please, replace the path with your own.  "
      ]
    },
    {
      "cell_type": "markdown",
      "metadata": {
        "id": "6DQRSb4mbU9J"
      },
      "source": [
        "#### 1.1. Working with existing documents: \n",
        "Document > Paragraph > Run.\n"
      ]
    },
    {
      "cell_type": "code",
      "execution_count": null,
      "metadata": {
        "id": "fu7O0j8WbU9J"
      },
      "outputs": [],
      "source": [
        "my_doc = docx.Document('Artificial Intelligence.docx')"
      ]
    },
    {
      "cell_type": "code",
      "execution_count": null,
      "metadata": {
        "id": "r92VeTS-bU9J"
      },
      "outputs": [],
      "source": [
        "n = len(my_doc.paragraphs)                  # Number of paragraphs.\n",
        "print(n)"
      ]
    },
    {
      "cell_type": "code",
      "execution_count": null,
      "metadata": {
        "id": "3HcH8kuBbU9K"
      },
      "outputs": [],
      "source": [
        "print(my_doc.paragraphs[10].text)           # Content of a paragraph."
      ]
    },
    {
      "cell_type": "code",
      "execution_count": null,
      "metadata": {
        "id": "kFAxMykjbU9K"
      },
      "outputs": [],
      "source": [
        "print(my_doc.paragraphs[12].text)           # Content of a paragraph."
      ]
    },
    {
      "cell_type": "code",
      "execution_count": null,
      "metadata": {
        "id": "9xxG3ZcFbU9L"
      },
      "outputs": [],
      "source": [
        "print(my_doc.paragraphs[34].text)           # Content of a paragraph."
      ]
    },
    {
      "cell_type": "code",
      "execution_count": null,
      "metadata": {
        "id": "gTq8i7rIbU9L"
      },
      "outputs": [],
      "source": [
        "m = len(my_doc.paragraphs[34].runs)         # Number of runs within a specific document.\n",
        "print(m)"
      ]
    },
    {
      "cell_type": "code",
      "execution_count": null,
      "metadata": {
        "id": "D0HuPRIbbU9L"
      },
      "outputs": [],
      "source": [
        "# run has attributes as text, bold, italic, underline, etc. \n",
        "print(my_doc.paragraphs[34].runs[0].text)  # text attribute af a run."
      ]
    },
    {
      "cell_type": "code",
      "execution_count": null,
      "metadata": {
        "id": "iu3PJW7ZbU9L"
      },
      "outputs": [],
      "source": [
        "# A function that gets all the paragraphs of a document.\n",
        "def getAllParagraphs(filename):\n",
        "    a_doc = docx.Document(filename)\n",
        "    fullText = []\n",
        "    for a_para in a_doc.paragraphs:\n",
        "        fullText.append(a_para.text)\n",
        "    return '\\n'.join(fullText)"
      ]
    },
    {
      "cell_type": "code",
      "execution_count": null,
      "metadata": {
        "id": "HhvTGqo_bU9M"
      },
      "outputs": [],
      "source": [
        "print(getAllParagraphs('Artificial Intelligence.docx'))"
      ]
    },
    {
      "cell_type": "markdown",
      "metadata": {
        "id": "ENoga4lfbU9M"
      },
      "source": [
        "#### 1.2. Creating a new document: "
      ]
    },
    {
      "cell_type": "code",
      "execution_count": null,
      "metadata": {
        "id": "xq1L0RVtbU9M"
      },
      "outputs": [],
      "source": [
        "# A new Word document object.\n",
        "my_new_doc = docx.Document()"
      ]
    },
    {
      "cell_type": "code",
      "execution_count": null,
      "metadata": {
        "id": "Vj0S4iOjbU9M"
      },
      "outputs": [],
      "source": [
        "# Add paragraphs.\n",
        "my_new_doc.add_paragraph(\"My first paragraph!\")\n",
        "my_new_doc.add_paragraph(\"My second paragraph!\")\n",
        "my_new_doc.add_paragraph(\"My third paragraph!\")"
      ]
    },
    {
      "cell_type": "code",
      "execution_count": null,
      "metadata": {
        "id": "no96lsJRbU9M"
      },
      "outputs": [],
      "source": [
        "# Save the Word object as a file.\n",
        "my_new_doc.save(\"my_new_doc.docx\")"
      ]
    },
    {
      "cell_type": "code",
      "execution_count": null,
      "metadata": {
        "id": "hsAC1-KQbU9N"
      },
      "outputs": [],
      "source": []
    }
  ],
  "metadata": {
    "kernelspec": {
      "display_name": "Python 3",
      "language": "python",
      "name": "python3"
    },
    "language_info": {
      "codemirror_mode": {
        "name": "ipython",
        "version": 3
      },
      "file_extension": ".py",
      "mimetype": "text/x-python",
      "name": "python",
      "nbconvert_exporter": "python",
      "pygments_lexer": "ipython3",
      "version": "3.7.3"
    },
    "colab": {
      "provenance": []
    }
  },
  "nbformat": 4,
  "nbformat_minor": 0
}