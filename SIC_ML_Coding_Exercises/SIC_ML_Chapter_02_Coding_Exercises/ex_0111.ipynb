{
  "cells": [
    {
      "cell_type": "markdown",
      "metadata": {
        "id": "view-in-github",
        "colab_type": "text"
      },
      "source": [
        "<a href=\"https://colab.research.google.com/github/tn-220/SIC-Machine-Learning/blob/main/SIC_ML_Coding_Exercises/SIC_ML_Chapter_02_Coding_Exercises/ex_0111.ipynb\" target=\"_parent\"><img src=\"https://colab.research.google.com/assets/colab-badge.svg\" alt=\"Open In Colab\"/></a>"
      ]
    },
    {
      "cell_type": "markdown",
      "metadata": {
        "id": "7voJnogRchdS"
      },
      "source": [
        "## Coding Exercise: #0111"
      ]
    },
    {
      "cell_type": "markdown",
      "metadata": {
        "id": "Ls8WzeJrchdV"
      },
      "source": [
        "### 1. Using the OS library:"
      ]
    },
    {
      "cell_type": "code",
      "execution_count": null,
      "metadata": {
        "id": "CVNL6zWBchdW"
      },
      "outputs": [],
      "source": [
        "# Import the library.\n",
        "import os"
      ]
    },
    {
      "cell_type": "code",
      "execution_count": null,
      "metadata": {
        "id": "GM5pvEF2chdX"
      },
      "outputs": [],
      "source": [
        "# Define a Windows type path.\n",
        "str1 = \"c:\"+ os.path.sep\n",
        "str2 = \"Users\"\n",
        "str3 = \"Public\"\n",
        "str4 = \"Documents\""
      ]
    },
    {
      "cell_type": "code",
      "execution_count": null,
      "metadata": {
        "id": "zAf3UG0QchdX"
      },
      "outputs": [],
      "source": [
        "# Make a path using the strings.\n",
        "str_path = os.path.join(str1, str2, str3, str4)\n",
        "print(os.path.sep)\n",
        "print(str_path)"
      ]
    },
    {
      "cell_type": "code",
      "execution_count": null,
      "metadata": {
        "id": "5SPldNbPchdX"
      },
      "outputs": [],
      "source": [
        "# Current working directory.\n",
        "print(os.getcwd())                   "
      ]
    },
    {
      "cell_type": "code",
      "execution_count": null,
      "metadata": {
        "id": "cGjujHuxchdY"
      },
      "outputs": [],
      "source": [
        "import sys"
      ]
    },
    {
      "cell_type": "code",
      "execution_count": null,
      "metadata": {
        "id": "ORLlv78RchdY"
      },
      "outputs": [],
      "source": [
        "# Move to a new directory if on Windows.\n",
        "if sys.platform.startswith('win32'):\n",
        "    os.chdir(str_path)                   \n",
        "\n",
        "# Current working directory.\n",
        "print(os.getcwd())  "
      ]
    },
    {
      "cell_type": "code",
      "execution_count": null,
      "metadata": {
        "id": "bGX0_6AqchdZ"
      },
      "outputs": [],
      "source": [
        "!wget --no-clobber https://raw.githubusercontent.com/stefannae/SIC-Artificial-Intelligence/main/SIC_AI_Coding_Exercises/SIC_AI_Chapter_02_Coding_Exercises/my_file.txt"
      ]
    },
    {
      "cell_type": "code",
      "execution_count": null,
      "metadata": {
        "id": "c9CXrYSzchdZ"
      },
      "outputs": [],
      "source": [
        "# Make an absolute path based on the current working directory.\n",
        "str_path_abs = os.path.abspath(\"my_file.txt\")            # Please, change \"my_file.txt\" to a file of your own choice.\n",
        "print(str_path_abs)"
      ]
    },
    {
      "cell_type": "code",
      "execution_count": null,
      "metadata": {
        "id": "MyMM_YWNchda"
      },
      "outputs": [],
      "source": [
        "# Check whether it is an absolute path.\n",
        "print(os.path.isabs(str_path_abs))\n",
        "# Just the file name.\n",
        "print(os.path.basename(str_path_abs))\n",
        "# Just the path up to the directory.\n",
        "print(os.path.dirname(str_path_abs))"
      ]
    },
    {
      "cell_type": "code",
      "execution_count": null,
      "metadata": {
        "id": "AG-GH4xnchda"
      },
      "outputs": [],
      "source": [
        "# Check whether the path is a directory.\n",
        "print(os.path.isdir(str_path))\n",
        "print(os.path.isdir(str_path_abs))"
      ]
    },
    {
      "cell_type": "code",
      "execution_count": null,
      "metadata": {
        "id": "P6y8Ylgfchda"
      },
      "outputs": [],
      "source": [
        "# Check whether the path ends in an actual file.\n",
        "print(os.path.isfile(str_path))\n",
        "print(os.path.isfile(str_path_abs))"
      ]
    },
    {
      "cell_type": "code",
      "execution_count": null,
      "metadata": {
        "id": "ez9Z0C-Ichda"
      },
      "outputs": [],
      "source": [
        "# Size of the file.\n",
        "os.path.getsize(\"my_file.txt\")                            # Please, change \"my_file.txt\" to a file of your own choice."
      ]
    },
    {
      "cell_type": "code",
      "execution_count": null,
      "metadata": {
        "id": "D4XUv8t_chda"
      },
      "outputs": [],
      "source": [
        "!wget --no-clobber https://github.com/stefannae/SIC-Artificial-Intelligence/raw/main/SIC_AI_Coding_Exercises/SIC_AI_Chapter_02_Coding_Exercises/Artificial%20Intelligence.pdf"
      ]
    },
    {
      "cell_type": "code",
      "execution_count": null,
      "metadata": {
        "id": "YWk7-wi4chdb"
      },
      "outputs": [],
      "source": [
        "# List the files in the current working directory.\n",
        "list_dir = os.listdir()\n",
        "list_dir.sort()\n",
        "\n",
        "# Show only those files with names starting with 'a' or 'A'.\n",
        "for x in list_dir:\n",
        "    if x.lower()[0] == 'a':\n",
        "        print(x)"
      ]
    },
    {
      "cell_type": "code",
      "execution_count": null,
      "metadata": {
        "id": "TByYKeD1chdb"
      },
      "outputs": [],
      "source": [
        "# Make a new subfolder if it doesn't exist yet.\n",
        "name_subdir = 'mySubDirectory'\n",
        "if not os.path.exists(name_subdir):\n",
        "    os.makedirs(name_subdir)"
      ]
    },
    {
      "cell_type": "code",
      "execution_count": null,
      "metadata": {
        "id": "wcs0uwsrchdb"
      },
      "outputs": [],
      "source": [
        "# Remove a directory.\n",
        "os.rmdir(name_subdir)"
      ]
    },
    {
      "cell_type": "code",
      "execution_count": null,
      "metadata": {
        "id": "nKFFYQVLchdb"
      },
      "outputs": [],
      "source": [
        "# Erase a file if it already exists.\n",
        "if os.path.isfile('my_test.txt'):\n",
        "    os.unlink('my_test.txt')"
      ]
    },
    {
      "cell_type": "code",
      "execution_count": null,
      "metadata": {
        "id": "K-LNjhkEchdb"
      },
      "outputs": [],
      "source": [
        "os.getcwd()"
      ]
    },
    {
      "cell_type": "markdown",
      "metadata": {
        "id": "QlxQkmPichdb"
      },
      "source": [
        "### 2. Reading and writing text files:"
      ]
    },
    {
      "cell_type": "code",
      "execution_count": null,
      "metadata": {
        "id": "ze7OB9Vjchdc"
      },
      "outputs": [],
      "source": [
        "# Get the current working directory.\n",
        "os.getcwd()"
      ]
    },
    {
      "cell_type": "code",
      "execution_count": null,
      "metadata": {
        "id": "ItEM4MiIchdc"
      },
      "outputs": [],
      "source": [
        "# Go to the directory where the file is located. \n",
        "os.chdir(r'~~')                # Please, replace the path with your own.   "
      ]
    },
    {
      "cell_type": "code",
      "execution_count": null,
      "metadata": {
        "id": "f9iRGp95chdc"
      },
      "outputs": [],
      "source": [
        "f = open('my_file.txt', 'r')   # Open the text file in read mode.\n",
        "all = f.read()                 # Read in all at once.\n",
        "print(all)                     # Print out all at once.\n",
        "f.close()                      # Close the file."
      ]
    },
    {
      "cell_type": "code",
      "execution_count": null,
      "metadata": {
        "id": "WEUYhZxychdc"
      },
      "outputs": [],
      "source": [
        "f = open('my_file.txt', 'r')   # Open the text file in read mode.\n",
        "all = f.read()                 # Read in all at once\n",
        "for line in all:\n",
        "     print(line)               # Print out line by line.\n",
        "f.close()                      # Close the file."
      ]
    },
    {
      "cell_type": "code",
      "execution_count": null,
      "metadata": {
        "id": "oQCrcgevchdc"
      },
      "outputs": [],
      "source": [
        "f = open('new_file.txt', 'w')  # Open the text file in write mode.\n",
        "f.write('This is a new file.') # write.\n",
        "f.close()                      # Close the file."
      ]
    },
    {
      "cell_type": "code",
      "execution_count": null,
      "metadata": {
        "id": "XVhaDDcZchdc"
      },
      "outputs": [],
      "source": [
        "f = open('new_file.txt', 'w')      # Open again the same file in write mode. (Overwrite)\n",
        "f.write('This is another file!')   # Write.\n",
        "f.close()                          # Close the file."
      ]
    },
    {
      "cell_type": "code",
      "execution_count": null,
      "metadata": {
        "id": "Rjzv-PUwchdc"
      },
      "outputs": [],
      "source": [
        "f = open('new_file.txt', 'a')       # Open the text file in append mode.\n",
        "f.write('This is the end!')        # Append.\n",
        "f.close()                          # Close the file."
      ]
    },
    {
      "cell_type": "markdown",
      "metadata": {
        "id": "nJaZuztIchdd"
      },
      "source": [
        "### 3. Using the Pickle library:"
      ]
    },
    {
      "cell_type": "code",
      "execution_count": null,
      "metadata": {
        "id": "0CqAzm4Wchdd"
      },
      "outputs": [],
      "source": [
        "# Import the library.\n",
        "import pickle"
      ]
    },
    {
      "cell_type": "code",
      "execution_count": null,
      "metadata": {
        "id": "ZJomqtA7chdd"
      },
      "outputs": [],
      "source": [
        "x = [1,2,3, {'Name':'John', 'Age':25, 'Score':9}]         # An object."
      ]
    },
    {
      "cell_type": "code",
      "execution_count": null,
      "metadata": {
        "id": "Gn0QF1jachdd"
      },
      "outputs": [],
      "source": [
        "pickle.dump(x, open('my_pickle.pkl','wb'))                # To be pickled."
      ]
    },
    {
      "cell_type": "code",
      "execution_count": null,
      "metadata": {
        "id": "hdS7ptBKchdd"
      },
      "outputs": [],
      "source": [
        "del x                                                     # Delete the current object."
      ]
    },
    {
      "cell_type": "code",
      "execution_count": null,
      "metadata": {
        "id": "79-_vedkchdd"
      },
      "outputs": [],
      "source": [
        "new_x = pickle.load(open('my_pickle.pkl','rb'))           # Bring back the pickled object.\n",
        "print(new_x)"
      ]
    },
    {
      "cell_type": "markdown",
      "metadata": {
        "id": "hrS_Ne73chdd"
      },
      "source": [
        "### 4. Using the Shelve library:"
      ]
    },
    {
      "cell_type": "code",
      "execution_count": null,
      "metadata": {
        "id": "3MaUYJpKchdd"
      },
      "outputs": [],
      "source": [
        "# Import the library.\n",
        "import shelve"
      ]
    },
    {
      "cell_type": "code",
      "execution_count": null,
      "metadata": {
        "id": "6WIvsnpWchdd"
      },
      "outputs": [],
      "source": [
        "# Write in a dictionary format.\n",
        "x = shelve.open('MyDict')               # 3 binary files are created: .bak, .dat, .dir\n",
        "x['Name'] = 'Andrew'                    # A key-value pair. \n",
        "x['Age'] = 23\n",
        "x['Score'] = 8\n",
        "x.close()"
      ]
    },
    {
      "cell_type": "code",
      "execution_count": null,
      "metadata": {
        "id": "k1914V8Fchde"
      },
      "outputs": [],
      "source": [
        "# Read.\n",
        "x = shelve.open('MyDict')\n",
        "print(list(x.keys()))\n",
        "print(list(x.values()))\n",
        "print(list(x.items()))\n",
        "x.close()"
      ]
    },
    {
      "cell_type": "code",
      "execution_count": null,
      "metadata": {
        "id": "BhpqpIdechde"
      },
      "outputs": [],
      "source": [
        ""
      ]
    }
  ],
  "metadata": {
    "kernelspec": {
      "display_name": "Python 3",
      "language": "python",
      "name": "python3"
    },
    "language_info": {
      "codemirror_mode": {
        "name": "ipython",
        "version": 3
      },
      "file_extension": ".py",
      "mimetype": "text/x-python",
      "name": "python",
      "nbconvert_exporter": "python",
      "pygments_lexer": "ipython3",
      "version": "3.7.3"
    },
    "colab": {
      "provenance": [],
      "include_colab_link": true
    }
  },
  "nbformat": 4,
  "nbformat_minor": 0
}