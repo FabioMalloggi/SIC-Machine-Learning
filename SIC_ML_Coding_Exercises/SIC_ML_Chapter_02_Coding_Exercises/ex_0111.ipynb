{
  "cells": [
    {
      "cell_type": "markdown",
      "metadata": {
        "id": "I5umWWGm9VR9"
      },
      "source": [
        "## Coding Exercise #0111"
      ]
    },
    {
      "cell_type": "markdown",
      "metadata": {
        "id": "h2iyzeEU9VSA"
      },
      "source": [
        "### 1. Using the OS library:"
      ]
    },
    {
      "cell_type": "code",
      "execution_count": null,
      "metadata": {
        "id": "EYVXeE5G9VSA"
      },
      "outputs": [],
      "source": [
        "# Import the library.\n",
        "import os"
      ]
    },
    {
      "cell_type": "code",
      "execution_count": null,
      "metadata": {
        "id": "v9k9j5lC9VSC"
      },
      "outputs": [],
      "source": [
        "# Define a Windows type path.\n",
        "str1 = \"c:\"+ os.path.sep\n",
        "str2 = \"Users\"\n",
        "str3 = \"Public\"\n",
        "str4 = \"Documents\""
      ]
    },
    {
      "cell_type": "code",
      "execution_count": null,
      "metadata": {
        "id": "lJMHQv2R9VSD"
      },
      "outputs": [],
      "source": [
        "# Make a path using the strings.\n",
        "str_path = os.path.join(str1, str2, str3, str4)\n",
        "print(os.path.sep)\n",
        "print(str_path)"
      ]
    },
    {
      "cell_type": "code",
      "execution_count": null,
      "metadata": {
        "id": "bTgER9uk9VSD"
      },
      "outputs": [],
      "source": [
        "# Current working directory.\n",
        "print(os.getcwd())                   "
      ]
    },
    {
      "cell_type": "code",
      "execution_count": null,
      "metadata": {
        "id": "6u1Y-r7O9VSD"
      },
      "outputs": [],
      "source": [
        "import sys"
      ]
    },
    {
      "cell_type": "code",
      "execution_count": null,
      "metadata": {
        "id": "Glz_qfpM9VSE"
      },
      "outputs": [],
      "source": [
        "# Move to a new directory if on Windows.\n",
        "if sys.platform.startswith('win32'):\n",
        "    os.chdir(str_path)                   \n",
        "\n",
        "# Current working directory.\n",
        "print(os.getcwd())  "
      ]
    },
    {
      "cell_type": "code",
      "execution_count": null,
      "metadata": {
        "id": "YVzzCUnl9VSF"
      },
      "outputs": [],
      "source": [
        "!wget --no-clobber https://raw.githubusercontent.com/stefannae/SIC-Artificial-Intelligence/main/SIC_AI_Coding_Exercises/SIC_AI_Chapter_02_Coding_Exercises/my_file.txt"
      ]
    },
    {
      "cell_type": "code",
      "execution_count": null,
      "metadata": {
        "id": "YkEtSi309VSF"
      },
      "outputs": [],
      "source": [
        "# Make an absolute path based on the current working directory.\n",
        "str_path_abs = os.path.abspath(\"my_file.txt\")            # Please, change \"my_file.txt\" to a file of your own choice.\n",
        "print(str_path_abs)"
      ]
    },
    {
      "cell_type": "code",
      "execution_count": null,
      "metadata": {
        "id": "wwrXxMOr9VSG"
      },
      "outputs": [],
      "source": [
        "# Check whether it is an absolute path.\n",
        "print(os.path.isabs(str_path_abs))\n",
        "# Just the file name.\n",
        "print(os.path.basename(str_path_abs))\n",
        "# Just the path up to the directory.\n",
        "print(os.path.dirname(str_path_abs))"
      ]
    },
    {
      "cell_type": "code",
      "execution_count": null,
      "metadata": {
        "id": "Kpfdjq2L9VSG"
      },
      "outputs": [],
      "source": [
        "# Check whether the path points to a folder\n",
        "print(str_path, \" is pointing to a folder? \", os.path.isdir(str_path))\n",
        "print(str_path_abs, \" is pointing to a folder? \", os.path.isdir(str_path_abs))"
      ]
    },
    {
      "cell_type": "code",
      "execution_count": null,
      "metadata": {
        "id": "a3R_uZ2g9VSH"
      },
      "outputs": [],
      "source": [
        "# Check whether the path ends in an actual file.\n",
        "print(str_path, \" is a file? \", os.path.isfile(str_path))\n",
        "print(str_path_abs, \" is a file? \", os.path.isfile(str_path_abs))"
      ]
    },
    {
      "cell_type": "code",
      "execution_count": null,
      "metadata": {
        "id": "SjUHHyMR9VSH"
      },
      "outputs": [],
      "source": [
        "# Size of the file.\n",
        "print(\"my_file.txt size is \", os.path.getsize(\"my_file.txt\"), \" bytes\")                            # Please, change \"my_file.txt\" to a file of your own choice."
      ]
    },
    {
      "cell_type": "code",
      "execution_count": null,
      "metadata": {
        "id": "L6T1cGAr9VSI"
      },
      "outputs": [],
      "source": [
        "!wget --no-clobber https://github.com/tn-220/SIC-Machine-Learning/raw/main/SIC_ML_Coding_Exercises/SIC_ML_Chapter_02_Coding_Exercises/Artificial%20Intelligence.pdf"
      ]
    },
    {
      "cell_type": "code",
      "execution_count": null,
      "metadata": {
        "id": "qiR9ASRR9VSI"
      },
      "outputs": [],
      "source": [
        "# List the files in the current working directory.\n",
        "list_dir = os.listdir()\n",
        "print(\"List of files in the current working directory :\\n\", list_dir, \"\\n\")\n",
        "\n",
        "list_dir.sort()\n",
        "print(\"Sorted list of files:\\n\", list_dir, \"\\n\")\n",
        "\n",
        "# Show only those files with names starting with 'a' or 'A'.\n",
        "for x in list_dir:\n",
        "    if x.lower()[0] == 'a':\n",
        "        print(x)"
      ]
    },
    {
      "cell_type": "code",
      "execution_count": null,
      "metadata": {
        "id": "_Qnhzu-k9VSI"
      },
      "outputs": [],
      "source": [
        "# Make a new subfolder if it doesn't exist yet.\n",
        "name_subdir = 'mySubDirectory'\n",
        "if not os.path.exists(name_subdir):\n",
        "    os.makedirs(name_subdir)"
      ]
    },
    {
      "cell_type": "code",
      "execution_count": null,
      "metadata": {
        "id": "QL6AAfSF9VSJ"
      },
      "outputs": [],
      "source": [
        "# Remove a directory.\n",
        "os.rmdir(name_subdir)"
      ]
    },
    {
      "cell_type": "code",
      "execution_count": null,
      "metadata": {
        "id": "6pwxwaKr9VSJ"
      },
      "outputs": [],
      "source": [
        "# Erase a file if it already exists.\n",
        "if os.path.isfile('my_test.txt'):\n",
        "    os.unlink('my_test.txt')"
      ]
    },
    {
      "cell_type": "code",
      "execution_count": null,
      "metadata": {
        "id": "aQyFccoZ9VSJ"
      },
      "outputs": [],
      "source": [
        "os.getcwd()"
      ]
    },
    {
      "cell_type": "markdown",
      "metadata": {
        "id": "QsOhS0ZU9VSJ"
      },
      "source": [
        "### 2. Reading and writing text files:"
      ]
    },
    {
      "cell_type": "code",
      "execution_count": null,
      "metadata": {
        "id": "VrXB4uaJ9VSK"
      },
      "outputs": [],
      "source": [
        "# Get the current working directory.\n",
        "os.getcwd()"
      ]
    },
    {
      "cell_type": "code",
      "execution_count": null,
      "metadata": {
        "id": "psZIwwRG9VSK"
      },
      "outputs": [],
      "source": [
        "# Go to the directory where the file is located. \n",
        "os.chdir(r'~~')                # Please, replace the path with your own.   "
      ]
    },
    {
      "cell_type": "code",
      "execution_count": null,
      "metadata": {
        "id": "bsOVeLUh9VSK"
      },
      "outputs": [],
      "source": [
        "f = open('my_file.txt', 'r')   # Open the text file in read mode.\n",
        "all = f.read()                 # Read in all at once.\n",
        "print(all)                     # Print out all at once.\n",
        "f.close()                      # Close the file."
      ]
    },
    {
      "cell_type": "code",
      "execution_count": null,
      "metadata": {
        "id": "GaJlM72X9VSL"
      },
      "outputs": [],
      "source": [
        "f = open('my_file.txt', 'r')   # Open the text file in read mode.\n",
        "all = f.read()                 # Read in all at once\n",
        "for line in all:\n",
        "     print(line)               # Print out line by line.\n",
        "f.close()                      # Close the file."
      ]
    },
    {
      "cell_type": "code",
      "execution_count": null,
      "metadata": {
        "id": "798o4Aiw9VSL"
      },
      "outputs": [],
      "source": [
        "f = open('new_file.txt', 'w')  # Open the text file in write mode.\n",
        "f.write('This is a new file.') # write.\n",
        "f.close()                      # Close the file."
      ]
    },
    {
      "cell_type": "code",
      "execution_count": null,
      "metadata": {
        "id": "2CQj7tuQ9VSL"
      },
      "outputs": [],
      "source": [
        "f = open('new_file.txt', 'w')      # Open again the same file in write mode. (Overwrite)\n",
        "f.write('This is another file!')   # Write.\n",
        "f.close()                          # Close the file."
      ]
    },
    {
      "cell_type": "code",
      "execution_count": null,
      "metadata": {
        "id": "zHgGzhOx9VSL"
      },
      "outputs": [],
      "source": [
        "f = open('new_file.txt', 'a')       # Open the text file in append mode.\n",
        "f.write('This is the end!')        # Append.\n",
        "f.close()                          # Close the file."
      ]
    },
    {
      "cell_type": "markdown",
      "metadata": {
        "id": "nRaDToRk9VSM"
      },
      "source": [
        "### 3. Using the Pickle library:"
      ]
    },
    {
      "cell_type": "code",
      "execution_count": null,
      "metadata": {
        "id": "5zXORG-z9VSM"
      },
      "outputs": [],
      "source": [
        "\"\"\"Pickle Module for saving objects (serialization) \n",
        "   which stores an object in an external file and \n",
        "   then restore it later.\"\"\"\n",
        "\n",
        "# Import the library.\n",
        "import pickle     \n"
      ]
    },
    {
      "cell_type": "code",
      "execution_count": null,
      "metadata": {
        "id": "WxOmBNiM9VSM"
      },
      "outputs": [],
      "source": [
        "x = [1,2,3, {'Name':'John', 'Age':25, 'Score':9}]         # An object."
      ]
    },
    {
      "cell_type": "code",
      "execution_count": null,
      "metadata": {
        "id": "9CdLWds-9VSM"
      },
      "outputs": [],
      "source": [
        "# dump() function stores an object in the binary format.\n",
        "pickle.dump(x, open('my_pickle.pkl','wb'))                # To be pickled."
      ]
    },
    {
      "cell_type": "code",
      "execution_count": null,
      "metadata": {
        "id": "oO1RIq8N9VSM"
      },
      "outputs": [],
      "source": [
        "del x                                                     # Delete the current object."
      ]
    },
    {
      "cell_type": "code",
      "execution_count": null,
      "metadata": {
        "id": "Lx4gWotI9VSM"
      },
      "outputs": [],
      "source": [
        "# load() function retrieves the stored object. \n",
        "new_x = pickle.load(open('my_pickle.pkl','rb'))           # Bring back the pickled object.\n",
        "print(new_x)"
      ]
    },
    {
      "cell_type": "markdown",
      "metadata": {
        "id": "sfj7U11P9VSM"
      },
      "source": [
        "### 4. Using the Shelve library:"
      ]
    },
    {
      "cell_type": "code",
      "execution_count": null,
      "metadata": {
        "id": "fa3bxu9x9VSM"
      },
      "outputs": [],
      "source": [
        "\"\"\" \n",
        "    Store data in an external file as a dictionary and then restore it later.\n",
        "    The “shelved” object can be used just like any other dictionary object.\n",
        "\"\"\"\n",
        "# Import the library.\n",
        "import shelve"
      ]
    },
    {
      "cell_type": "code",
      "execution_count": null,
      "metadata": {
        "id": "GuDwXwSP9VSN"
      },
      "outputs": [],
      "source": [
        "# Store data in an external file as a dictionary\n",
        "\n",
        "x = shelve.open('MyDict')               \n",
        "x['Name'] = 'Andrew'                    # A key-value pair. \n",
        "x['Age'] = 23\n",
        "x['Score'] = 8\n",
        "x.close()\n"
      ]
    },
    {
      "cell_type": "code",
      "execution_count": null,
      "metadata": {
        "id": "DpPHtIfO9VSN"
      },
      "outputs": [],
      "source": [
        "# Read in and restore.\n",
        "\n",
        "x = shelve.open('MyDict')\n",
        "print(list(x.keys()))\n",
        "print(list(x.values()))\n",
        "print(list(x.items()))\n",
        "x.close()"
      ]
    },
    {
      "cell_type": "code",
      "execution_count": null,
      "metadata": {
        "id": "ZlixFmP39VSN"
      },
      "outputs": [],
      "source": []
    }
  ],
  "metadata": {
    "kernelspec": {
      "display_name": "Python 3",
      "language": "python",
      "name": "python3"
    },
    "language_info": {
      "codemirror_mode": {
        "name": "ipython",
        "version": 3
      },
      "file_extension": ".py",
      "mimetype": "text/x-python",
      "name": "python",
      "nbconvert_exporter": "python",
      "pygments_lexer": "ipython3",
      "version": "3.7.3"
    },
    "colab": {
      "provenance": []
    }
  },
  "nbformat": 4,
  "nbformat_minor": 0
}