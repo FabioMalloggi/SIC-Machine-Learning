{
  "cells": [
    {
      "cell_type": "markdown",
      "metadata": {
        "id": "CCyqOg3RQMLb"
      },
      "source": [
        "## Coding Exercise #0106"
      ]
    },
    {
      "cell_type": "markdown",
      "metadata": {
        "id": "OmS2Sn-TQMLf"
      },
      "source": [
        "### 1. Functions:"
      ]
    },
    {
      "cell_type": "markdown",
      "metadata": {
        "id": "AZZf5HZcQMLf"
      },
      "source": [
        "#### 1.1. User defined functions (UDFs):"
      ]
    },
    {
      "cell_type": "markdown",
      "metadata": {
        "id": "I-xAGAsSQMLg"
      },
      "source": [
        "A function with input arguments and a returned value:"
      ]
    },
    {
      "cell_type": "code",
      "execution_count": null,
      "metadata": {
        "id": "FQyOl7AhQMLh"
      },
      "outputs": [],
      "source": [
        "def prod(a,b):\n",
        "    x = a*b\n",
        "    return x\n",
        "prod(3,4)"
      ]
    },
    {
      "cell_type": "markdown",
      "metadata": {
        "id": "dh-IonV6QMLi"
      },
      "source": [
        "A function without input argument:"
      ]
    },
    {
      "cell_type": "code",
      "execution_count": null,
      "metadata": {
        "id": "F3Jb_OHuQMLj"
      },
      "outputs": [],
      "source": [
        "def output():\n",
        "    return  'Hello World!'\n",
        "print(output())"
      ]
    },
    {
      "cell_type": "markdown",
      "metadata": {
        "id": "4aMwg1hSQMLj"
      },
      "source": [
        "A function without returned value:"
      ]
    },
    {
      "cell_type": "code",
      "execution_count": null,
      "metadata": {
        "id": "HtaXpvDUQMLk"
      },
      "outputs": [],
      "source": [
        "def times3(a):\n",
        "    print(3*a)    \n",
        "    return\n",
        "times3(7)"
      ]
    },
    {
      "cell_type": "markdown",
      "metadata": {
        "id": "vN6lRH9GQMLk"
      },
      "source": [
        "A function without input argument nor returned value:"
      ]
    },
    {
      "cell_type": "code",
      "execution_count": 2,
      "metadata": {
        "id": "JjGmNkAQQMLk",
        "outputId": "7ac1a2cb-8418-43dc-ca01-40a6926f5ab2",
        "colab": {
          "base_uri": "https://localhost:8080/"
        }
      },
      "outputs": [
        {
          "output_type": "stream",
          "name": "stdout",
          "text": [
            "0\n",
            "1\n",
            "2\n",
            "3\n",
            "4\n",
            "5\n",
            "6\n",
            "7\n",
            "8\n",
            "9\n",
            "10\n"
          ]
        },
        {
          "output_type": "execute_result",
          "data": {
            "text/plain": [
              "55"
            ]
          },
          "metadata": {},
          "execution_count": 2
        }
      ],
      "source": [
        "sum_total = 0\n",
        "def increase():\n",
        "    global sum_total\n",
        "    for i in range(11): \n",
        "      print(i)\n",
        "      sum_total += i\n",
        "      \n",
        "increase()\n",
        "sum_total"
      ]
    },
    {
      "cell_type": "markdown",
      "metadata": {
        "id": "5PbGwE8_QMLl"
      },
      "source": [
        "A function with undetermined number of input arguments:"
      ]
    },
    {
      "cell_type": "code",
      "execution_count": 7,
      "metadata": {
        "id": "jnKbXzzkQMLl"
      },
      "outputs": [],
      "source": [
        "def sum_up(*vals):\n",
        "    total = 0\n",
        "    print(vals)\n",
        "    for x in vals: \n",
        "        total += x\n",
        "    return total  "
      ]
    },
    {
      "cell_type": "code",
      "execution_count": 8,
      "metadata": {
        "id": "4vASVrRxQMLl",
        "outputId": "bdb97663-9084-4179-ffd4-7db138d7c110",
        "colab": {
          "base_uri": "https://localhost:8080/"
        }
      },
      "outputs": [
        {
          "output_type": "stream",
          "name": "stdout",
          "text": [
            "(1, 2, 3)\n"
          ]
        },
        {
          "output_type": "execute_result",
          "data": {
            "text/plain": [
              "6"
            ]
          },
          "metadata": {},
          "execution_count": 8
        }
      ],
      "source": [
        "sum_up(1,2,3)"
      ]
    },
    {
      "cell_type": "code",
      "execution_count": null,
      "metadata": {
        "id": "z5tjY97pQMLl"
      },
      "outputs": [],
      "source": [
        "sum_up(1,2,3,4,5)"
      ]
    },
    {
      "cell_type": "markdown",
      "metadata": {
        "id": "Q5IumPGRQMLl"
      },
      "source": [
        "A function with multiple return values:"
      ]
    },
    {
      "cell_type": "code",
      "execution_count": 9,
      "metadata": {
        "id": "lwrZy-CfQMLm"
      },
      "outputs": [],
      "source": [
        "def ArithmeticOprs(a,b):\n",
        "    return a + b, a-b, a * b, a/b"
      ]
    },
    {
      "cell_type": "code",
      "execution_count": 10,
      "metadata": {
        "id": "GZD8YbE4QMLm",
        "outputId": "575304a4-40e0-410c-96d2-e9d0f2eb93ec",
        "colab": {
          "base_uri": "https://localhost:8080/"
        }
      },
      "outputs": [
        {
          "output_type": "execute_result",
          "data": {
            "text/plain": [
              "tuple"
            ]
          },
          "metadata": {},
          "execution_count": 10
        }
      ],
      "source": [
        "type(ArithmeticOprs(4,2))"
      ]
    },
    {
      "cell_type": "code",
      "execution_count": 11,
      "metadata": {
        "id": "wm35jetkQMLn",
        "outputId": "c89dfd95-bbf3-4d54-fd91-abec7ea07e20",
        "colab": {
          "base_uri": "https://localhost:8080/"
        }
      },
      "outputs": [
        {
          "output_type": "execute_result",
          "data": {
            "text/plain": [
              "(6, 2, 8, 2.0)"
            ]
          },
          "metadata": {},
          "execution_count": 11
        }
      ],
      "source": [
        "ArithmeticOprs(4,2)"
      ]
    },
    {
      "cell_type": "markdown",
      "metadata": {
        "id": "s5UkhtwrQMLn"
      },
      "source": [
        "Default values for the input arguments:"
      ]
    },
    {
      "cell_type": "code",
      "execution_count": 12,
      "metadata": {
        "id": "H_isPVDJQMLn"
      },
      "outputs": [],
      "source": [
        "def ArithmeticOprs(a=2,b=1):\n",
        "    return a + b, a - b, a * b, a/b"
      ]
    },
    {
      "cell_type": "code",
      "execution_count": null,
      "metadata": {
        "id": "Vfb26AtyQMLn"
      },
      "outputs": [],
      "source": [
        "ArithmeticOprs()"
      ]
    },
    {
      "cell_type": "code",
      "execution_count": null,
      "metadata": {
        "id": "xlutIO7aQMLo"
      },
      "outputs": [],
      "source": [
        "ArithmeticOprs(3)"
      ]
    },
    {
      "cell_type": "code",
      "execution_count": null,
      "metadata": {
        "id": "wg9c3C48QMLo"
      },
      "outputs": [],
      "source": [
        "ArithmeticOprs(b=3)"
      ]
    },
    {
      "cell_type": "markdown",
      "metadata": {
        "id": "AHcmJha6QMLo"
      },
      "source": [
        "A local variable's scope is limited to the function body where it is defined:"
      ]
    },
    {
      "cell_type": "code",
      "execution_count": null,
      "metadata": {
        "id": "YpSFgm6GQMLo"
      },
      "outputs": [],
      "source": [
        "# 'result' inside of the function body and 'result' outside of it are different variables.\n",
        "result = 333\n",
        "def average(*a):\n",
        "    result = 0 \n",
        "    for x in a:\n",
        "        result += x\n",
        "    result /= len(a)\n",
        "    return result"
      ]
    },
    {
      "cell_type": "code",
      "execution_count": null,
      "metadata": {
        "id": "q3v8mBMHQMLo"
      },
      "outputs": [],
      "source": [
        "average(1,2,3,4,5)"
      ]
    },
    {
      "cell_type": "code",
      "execution_count": null,
      "metadata": {
        "id": "3ZPK9z7VQMLo"
      },
      "outputs": [],
      "source": [
        "# 'result' defined outside of the function kept its original value.\n",
        "result"
      ]
    },
    {
      "cell_type": "markdown",
      "metadata": {
        "id": "iIrzrhlPQMLo"
      },
      "source": [
        "As 'result' is defined as a global variable, it is the same as the one defined outside of the function body."
      ]
    },
    {
      "cell_type": "code",
      "execution_count": null,
      "metadata": {
        "id": "q3KuLIUlQMLo"
      },
      "outputs": [],
      "source": [
        "# Please, notice that there is no explicit return value.\n",
        "result = 0\n",
        "def average(*a):\n",
        "    global result\n",
        "    for x in a:\n",
        "        result += x\n",
        "    result /= len(a)\n",
        "    return "
      ]
    },
    {
      "cell_type": "code",
      "execution_count": null,
      "metadata": {
        "id": "aRyASn_6QMLp"
      },
      "outputs": [],
      "source": [
        "average(1,2,3,4,5)"
      ]
    },
    {
      "cell_type": "code",
      "execution_count": null,
      "metadata": {
        "id": "wa8aV9SwQMLp"
      },
      "outputs": [],
      "source": [
        "# Now, 'result' contains the value calculated byh the function.\n",
        "result"
      ]
    },
    {
      "cell_type": "markdown",
      "metadata": {
        "id": "8Kv6CL3aQMLp"
      },
      "source": [
        "#### 1.2. Lambda functions:"
      ]
    },
    {
      "cell_type": "code",
      "execution_count": null,
      "metadata": {
        "id": "jZB8cIqVQMLp"
      },
      "outputs": [],
      "source": [
        "# This function returns a lambda function.\n",
        "def makeMyFunc(a):\n",
        "    return lambda x: a*x "
      ]
    },
    {
      "cell_type": "code",
      "execution_count": null,
      "metadata": {
        "id": "t0BnT5O6QMLp"
      },
      "outputs": [],
      "source": [
        "# Assign lambda function to a variable, so that it can be used just like any other function.\n",
        "myFunc = makeMyFunc(3)"
      ]
    },
    {
      "cell_type": "code",
      "execution_count": null,
      "metadata": {
        "id": "bHkwK2M0QMLp"
      },
      "outputs": [],
      "source": [
        "type(myFunc)"
      ]
    },
    {
      "cell_type": "code",
      "execution_count": null,
      "metadata": {
        "id": "7knB9jHNQMLp"
      },
      "outputs": [],
      "source": [
        "myFunc(4)"
      ]
    },
    {
      "cell_type": "markdown",
      "metadata": {
        "id": "AdCOlU2GQMLp"
      },
      "source": [
        "Lambda function with map() and filter():"
      ]
    },
    {
      "cell_type": "code",
      "execution_count": null,
      "metadata": {
        "id": "VNc9keMBQMLp"
      },
      "outputs": [],
      "source": [
        "a = [1, 2, 3, 4, 5, 6, 7, 8, 9, 10]"
      ]
    },
    {
      "cell_type": "code",
      "execution_count": null,
      "metadata": {
        "id": "tC7zP0lVQMLp"
      },
      "outputs": [],
      "source": [
        "# Map the lambda function to each element of the list.\n",
        "list(map(lambda x: x * 2, a))"
      ]
    },
    {
      "cell_type": "code",
      "execution_count": null,
      "metadata": {
        "id": "SsCJ9bnTQMLq"
      },
      "outputs": [],
      "source": [
        "# Filter the list elements according to the condition given by the lambda function.\n",
        "list(filter(lambda x: x % 3 ==0, a))"
      ]
    },
    {
      "cell_type": "markdown",
      "metadata": {
        "id": "8ITn_K0RQMLq"
      },
      "source": [
        "#### 1.3. Custom modules:"
      ]
    },
    {
      "cell_type": "code",
      "execution_count": 13,
      "metadata": {
        "id": "kWOQBYHlQMLq",
        "outputId": "20f2dd7f-39fc-4c80-917d-57b9c43f2388",
        "colab": {
          "base_uri": "https://localhost:8080/"
        }
      },
      "outputs": [
        {
          "output_type": "stream",
          "name": "stdout",
          "text": [
            "--2022-08-31 14:17:25--  https://raw.githubusercontent.com/stefannae/SIC-Artificial-Intelligence/main/SIC_AI_Coding_Exercises/SIC_AI_Chapter_02_Coding_Exercises/myModule.py\n",
            "Resolving raw.githubusercontent.com (raw.githubusercontent.com)... 185.199.108.133, 185.199.109.133, 185.199.110.133, ...\n",
            "Connecting to raw.githubusercontent.com (raw.githubusercontent.com)|185.199.108.133|:443... connected.\n",
            "HTTP request sent, awaiting response... 200 OK\n",
            "Length: 246 [text/plain]\n",
            "Saving to: ‘myModule.py’\n",
            "\n",
            "myModule.py         100%[===================>]     246  --.-KB/s    in 0s      \n",
            "\n",
            "2022-08-31 14:17:26 (5.01 MB/s) - ‘myModule.py’ saved [246/246]\n",
            "\n"
          ]
        }
      ],
      "source": [
        "# Download the example module from the GitHub repo if it does not exist locally\n",
        "!wget --no-clobber https://raw.githubusercontent.com/tn-220/SIC-Machine-Learning/main/SIC_ML_Coding_Exercises/SIC_ML_Chapter_02_Coding_Exercises/myModule.py"
      ]
    },
    {
      "cell_type": "code",
      "execution_count": null,
      "metadata": {
        "id": "wVb5IULuQMLq"
      },
      "outputs": [],
      "source": [
        "import myModule as md"
      ]
    },
    {
      "cell_type": "code",
      "execution_count": null,
      "metadata": {
        "id": "ZQCHlo23QMLq"
      },
      "outputs": [],
      "source": [
        "md.sum(3,4)"
      ]
    },
    {
      "cell_type": "code",
      "execution_count": null,
      "metadata": {
        "id": "BU0gdBk0QMLq"
      },
      "outputs": [],
      "source": [
        "md.product(4,5)"
      ]
    },
    {
      "cell_type": "code",
      "execution_count": null,
      "metadata": {
        "id": "3T_Cu_GcQMLq"
      },
      "outputs": [],
      "source": []
    }
  ],
  "metadata": {
    "kernelspec": {
      "display_name": "Python 3",
      "language": "python",
      "name": "python3"
    },
    "language_info": {
      "codemirror_mode": {
        "name": "ipython",
        "version": 3
      },
      "file_extension": ".py",
      "mimetype": "text/x-python",
      "name": "python",
      "nbconvert_exporter": "python",
      "pygments_lexer": "ipython3",
      "version": "3.7.3"
    },
    "colab": {
      "provenance": []
    }
  },
  "nbformat": 4,
  "nbformat_minor": 0
}