{
  "cells": [
    {
      "cell_type": "markdown",
      "metadata": {
        "id": "Pg9t6H4XahLJ"
      },
      "source": [
        "## Coding Exercise #0112"
      ]
    },
    {
      "cell_type": "markdown",
      "metadata": {
        "id": "rwll9xvXahLM"
      },
      "source": [
        "### 1. Working with Excel documents:\n",
        "\n",
        "\n",
        "\n"
      ]
    },
    {
      "cell_type": "code",
      "execution_count": null,
      "metadata": {
        "id": "PS5phFyCahLN"
      },
      "outputs": [],
      "source": [
        "\"\"\"\n",
        "    Openpyxl library provides direct access to the Excel workbooks.\n",
        "    Each worksheet and each cell of a worksheet are accessible.\n",
        "\"\"\"\n",
        "# Install the library.\n",
        "!pip install openpyxl"
      ]
    },
    {
      "cell_type": "code",
      "execution_count": null,
      "metadata": {
        "id": "WrIUyjGaahLO"
      },
      "outputs": [],
      "source": [
        "# Import the required libraries.\n",
        "import openpyxl\n",
        "import os"
      ]
    },
    {
      "cell_type": "code",
      "execution_count": null,
      "metadata": {
        "id": "20RYm00oahLO"
      },
      "outputs": [],
      "source": [
        "!wget --no-clobber https://github.com/tn-220/SIC-Machine-Learning/raw/main/SIC_ML_Coding_Exercises/SIC_ML_Chapter_02_Coding_Exercises/my_excel_workbook.xlsx"
      ]
    },
    {
      "cell_type": "code",
      "execution_count": null,
      "metadata": {
        "id": "0N9yj-sjahLP"
      },
      "outputs": [],
      "source": [
        "# Go to the directory where the file is located. \n",
        "os.chdir(r'~~')                # Please, replace the path with your own.   "
      ]
    },
    {
      "cell_type": "markdown",
      "metadata": {
        "id": "LP99qnSqahLP"
      },
      "source": [
        "#### 1.1. Working with existing documents: \n",
        "Workbook > Sheet > Cell."
      ]
    },
    {
      "cell_type": "code",
      "execution_count": null,
      "metadata": {
        "id": "ykg4BEbTahLP"
      },
      "outputs": [],
      "source": [
        "wb = openpyxl.load_workbook('my_excel_workbook.xlsx')      # Open an workbook.\n",
        "wb.sheetnames                                              # Show the sheet names as a list."
      ]
    },
    {
      "cell_type": "code",
      "execution_count": null,
      "metadata": {
        "id": "0dxyysOVahLQ"
      },
      "outputs": [],
      "source": [
        "sh = wb['Sheet1']                                 # Get the 'Sheet1' as an object.\n",
        "cl = sh['A1']                                     # 'Get the A1' cell as an object.\n",
        "print(cl.value)                                   # Show the cell value.\n",
        "print(sh['A1'].value)                             # Another way to show the value of 'A1' cell.\n",
        "print(sh.cell(1,1).value)                         # Get the cell value by specifying the row and column positions."
      ]
    },
    {
      "cell_type": "code",
      "execution_count": null,
      "metadata": {
        "id": "YqR_2TDBahLQ"
      },
      "outputs": [],
      "source": [
        "# Show values from several cells.\n",
        "for i in range(1,11):\n",
        "     print(sh.cell(i,1).value )"
      ]
    },
    {
      "cell_type": "markdown",
      "metadata": {
        "id": "vWkVq8gDahLR"
      },
      "source": [
        "#### 1.2. Creating a new document: "
      ]
    },
    {
      "cell_type": "code",
      "execution_count": null,
      "metadata": {
        "id": "gbR8-QpAahLR"
      },
      "outputs": [],
      "source": [
        "# Create a new workbook.\n",
        "my_wb = openpyxl.Workbook()           # Create a new workbook object in the memory.\n",
        "print(my_wb.sheetnames)               # In this workbook there is only the 'Sheet'."
      ]
    },
    {
      "cell_type": "code",
      "execution_count": null,
      "metadata": {
        "id": "u_GCoEpqahLR"
      },
      "outputs": [],
      "source": [
        "# Manipulating the content of new new workbook.\n",
        "my_sh = my_wb['Sheet']                  \n",
        "my_sh['A1'].value = 999                  # Change the value of a cell.\n",
        "my_sh['A2'] = 666                        # Change the value of another cell. This is OK.\n",
        "my_sh.title = 'MySheet1'                 # Change the sheet name.\n",
        "my_sh2 = my_wb.create_sheet(index = 0, title = 'MySheet2')    # Append a new sheet.\n",
        "my_sh2['A1'].value = 777                 # Change the value of a cell in the new sheet. \n",
        "print(my_wb.sheetnames)"
      ]
    },
    {
      "cell_type": "code",
      "execution_count": null,
      "metadata": {
        "id": "EGNHGjC-ahLS"
      },
      "outputs": [],
      "source": [
        "# Save the workbook object as a file.\n",
        "my_wb.save('my_new_excel_workbook.xlsx')"
      ]
    },
    {
      "cell_type": "code",
      "execution_count": null,
      "metadata": {
        "id": "BkTCszbVahLS"
      },
      "outputs": [],
      "source": []
    }
  ],
  "metadata": {
    "kernelspec": {
      "display_name": "Python 3",
      "language": "python",
      "name": "python3"
    },
    "language_info": {
      "codemirror_mode": {
        "name": "ipython",
        "version": 3
      },
      "file_extension": ".py",
      "mimetype": "text/x-python",
      "name": "python",
      "nbconvert_exporter": "python",
      "pygments_lexer": "ipython3",
      "version": "3.7.3"
    },
    "colab": {
      "provenance": []
    }
  },
  "nbformat": 4,
  "nbformat_minor": 0
}