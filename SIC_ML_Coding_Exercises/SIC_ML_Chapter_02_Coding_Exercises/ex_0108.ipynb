{
  "cells": [
    {
      "cell_type": "markdown",
      "metadata": {
        "id": "view-in-github",
        "colab_type": "text"
      },
      "source": [
        "<a href=\"https://colab.research.google.com/github/tn-220/SIC-Machine-Learning/blob/main/SIC_ML_Coding_Exercises/SIC_ML_Chapter_02_Coding_Exercises/ex_0108.ipynb\" target=\"_parent\"><img src=\"https://colab.research.google.com/assets/colab-badge.svg\" alt=\"Open In Colab\"/></a>"
      ]
    },
    {
      "cell_type": "markdown",
      "metadata": {
        "id": "WakSMUyGbhlp"
      },
      "source": [
        "## Coding Exercise: #0108"
      ]
    },
    {
      "cell_type": "markdown",
      "metadata": {
        "id": "j-hxHWdvbhlr"
      },
      "source": [
        "### 1. Class inheritance:"
      ]
    },
    {
      "cell_type": "code",
      "execution_count": null,
      "metadata": {
        "id": "eC6umDgsbhlr"
      },
      "outputs": [],
      "source": [
        "class Pet: \n",
        "    counter = 0 \n",
        "    def __init__(self,name):\n",
        "        self.name = name\n",
        "        Pet.counter += 1\n",
        "    def __del__(self):\n",
        "        Pet.counter -= 1"
      ]
    },
    {
      "cell_type": "markdown",
      "metadata": {
        "id": "6qzkB2bVbhls"
      },
      "source": [
        "Cat and Dog inherit from the Pet class: "
      ]
    },
    {
      "cell_type": "code",
      "execution_count": null,
      "metadata": {
        "id": "g2N20jd4bhls"
      },
      "outputs": [],
      "source": [
        "class Cat(Pet):             \n",
        "    def purr(self):\n",
        "        print(self.name + ' is purring...')\n",
        "        \n",
        "class Dog(Pet):\n",
        "    def bark(self):\n",
        "        print(self.name + ' is barking...')"
      ]
    },
    {
      "cell_type": "code",
      "execution_count": null,
      "metadata": {
        "id": "_3x_tooqbhls"
      },
      "outputs": [],
      "source": [
        "a_cat = Cat('Kitty')\n",
        "a_dog = Dog('Fido')"
      ]
    },
    {
      "cell_type": "code",
      "execution_count": null,
      "metadata": {
        "id": "npCEs-Mbbhls"
      },
      "outputs": [],
      "source": [
        "a_cat.purr()"
      ]
    },
    {
      "cell_type": "code",
      "execution_count": null,
      "metadata": {
        "id": "nmWZ0vNZbhls"
      },
      "outputs": [],
      "source": [
        "a_dog.bark()"
      ]
    },
    {
      "cell_type": "markdown",
      "metadata": {
        "id": "7gl1gSzibhlt"
      },
      "source": [
        "Shitzu and Beagle inherit from the Dog class:"
      ]
    },
    {
      "cell_type": "code",
      "execution_count": null,
      "metadata": {
        "id": "lmbV7sfIbhlt"
      },
      "outputs": [],
      "source": [
        "class Shitzu(Dog):\n",
        "    def sleep(self):\n",
        "        print(self.name + ' sleeps 15 hours a day.')\n",
        "    def play(self):\n",
        "        print(self.name + ' plays 2 hours a day.')\n",
        "        \n",
        "class Beagle(Dog):\n",
        "    def sleep(self):\n",
        "        print(self.name + ' sleeps 12 hours a day.')\n",
        "    def play(self):\n",
        "        print(self.name + ' plays 6 hours a day.')"
      ]
    },
    {
      "cell_type": "code",
      "execution_count": null,
      "metadata": {
        "id": "dn7uHXTvbhlt"
      },
      "outputs": [],
      "source": [
        "dog1 = Shitzu('Ruby')\n",
        "dog2 = Shitzu('Buddy')\n",
        "dog3 = Beagle('Rocky')"
      ]
    },
    {
      "cell_type": "code",
      "execution_count": null,
      "metadata": {
        "id": "icKr_km0bhlt"
      },
      "outputs": [],
      "source": [
        "dog1.sleep()"
      ]
    },
    {
      "cell_type": "code",
      "execution_count": null,
      "metadata": {
        "id": "YvsSoDdVbhlt"
      },
      "outputs": [],
      "source": [
        "dog3.sleep()"
      ]
    },
    {
      "cell_type": "code",
      "execution_count": null,
      "metadata": {
        "id": "VIKzkKJxbhlt"
      },
      "outputs": [],
      "source": [
        "dog2.play()"
      ]
    },
    {
      "cell_type": "code",
      "execution_count": null,
      "metadata": {
        "id": "eMWtFMkQbhlu"
      },
      "outputs": [],
      "source": [
        "dog3.play()"
      ]
    },
    {
      "cell_type": "code",
      "execution_count": null,
      "metadata": {
        "id": "RYFGutJHbhlu"
      },
      "outputs": [],
      "source": [
        "Pet.counter"
      ]
    },
    {
      "cell_type": "code",
      "execution_count": null,
      "metadata": {
        "id": "q2aYqMXWbhlu"
      },
      "outputs": [],
      "source": [
        "del dog3"
      ]
    },
    {
      "cell_type": "code",
      "execution_count": null,
      "metadata": {
        "id": "l3SUweOibhlu"
      },
      "outputs": [],
      "source": [
        "Pet.counter"
      ]
    }
  ],
  "metadata": {
    "kernelspec": {
      "display_name": "Python 3",
      "language": "python",
      "name": "python3"
    },
    "language_info": {
      "codemirror_mode": {
        "name": "ipython",
        "version": 3
      },
      "file_extension": ".py",
      "mimetype": "text/x-python",
      "name": "python",
      "nbconvert_exporter": "python",
      "pygments_lexer": "ipython3",
      "version": "3.7.3"
    },
    "colab": {
      "provenance": [],
      "include_colab_link": true
    }
  },
  "nbformat": 4,
  "nbformat_minor": 0
}