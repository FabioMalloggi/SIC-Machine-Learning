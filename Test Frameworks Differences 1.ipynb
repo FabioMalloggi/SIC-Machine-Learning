{
 "cells": [
  {
   "cell_type": "markdown",
   "metadata": {
    "id": "l-8BUvC5sP3C"
   },
   "source": [
    "# Malloggi-Vigna SEAI Project - Project Test Base\n",
    "\n"
   ]
  },
  {
   "cell_type": "code",
   "execution_count": null,
   "metadata": {
    "colab": {
     "base_uri": "https://localhost:8080/"
    },
    "executionInfo": {
     "elapsed": 244,
     "status": "ok",
     "timestamp": 1717689166922,
     "user": {
      "displayName": "Fabio M",
      "userId": "09614366475601969276"
     },
     "user_tz": -120
    },
    "id": "Wma6P1HzxARc",
    "outputId": "7ede70b7-75ee-4613-91c2-9ed0fd24f002"
   },
   "outputs": [
    {
     "name": "stdout",
     "output_type": "stream",
     "text": [
      "nvcc: NVIDIA (R) Cuda compiler driver\n",
      "Copyright (c) 2005-2023 NVIDIA Corporation\n",
      "Built on Tue_Aug_15_22:02:13_PDT_2023\n",
      "Cuda compilation tools, release 12.2, V12.2.140\n",
      "Build cuda_12.2.r12.2/compiler.33191640_0\n"
     ]
    }
   ],
   "source": [
    "!nvcc  --version"
   ]
  },
  {
   "cell_type": "markdown",
   "metadata": {
    "id": "uDdeEXXYGpjn"
   },
   "source": [
    "## Colab (ONLY) Environment Setup"
   ]
  },
  {
   "cell_type": "markdown",
   "metadata": {
    "id": "7e8E0JtFeD51"
   },
   "source": [
    "reference:\n",
    "https://keras.io/getting_started/\n",
    "\n",
    "Aim of this project:\n",
    "- Keras 3\n",
    "- Tensorflow 2.16.1 (only one compatible with Keras3)\n",
    "\n",
    "Colab preinstalled packages:\n",
    "- Keras 2\n",
    "- Tensorflow 2.15.0\n",
    "- tf-keras 2.15.1 (previous keras version which was defined as tensorflow sub-package)\n",
    "\n",
    "Therefore we need to update Tensorflow to the latest version available.\n",
    "\n",
    "\n",
    "---\n",
    "reference: https://github.com/keras-team/tf-keras\n",
    "\n",
    "TF-Keras: the pure-TensorFlow implementation of Keras\n",
    "This repository hosts the development of the TF-Keras library. It is a pure TensorFlow implementation of Keras, based on the legacy tf.keras codebase.\n",
    "\n",
    "Note that the \"main\" version of Keras is now Keras 3 (formerly Keras Core), which is a multi-backend implementation of Keras, supporting JAX, PyTorch, and TensorFlow. Keras 3 is being developed at keras-team/keras."
   ]
  },
  {
   "cell_type": "code",
   "execution_count": null,
   "metadata": {
    "colab": {
     "base_uri": "https://localhost:8080/"
    },
    "executionInfo": {
     "elapsed": 84525,
     "status": "ok",
     "timestamp": 1717689254911,
     "user": {
      "displayName": "Fabio M",
      "userId": "09614366475601969276"
     },
     "user_tz": -120
    },
    "id": "lrGR7Un46UM_",
    "outputId": "a0d06f45-7747-40e3-aed0-2b35aa50b6c9"
   },
   "outputs": [
    {
     "name": "stdout",
     "output_type": "stream",
     "text": [
      "Found existing installation: tensorflow 2.15.0\n",
      "Uninstalling tensorflow-2.15.0:\n",
      "  Successfully uninstalled tensorflow-2.15.0\n",
      "Found existing installation: keras 2.15.0\n",
      "Uninstalling keras-2.15.0:\n",
      "  Successfully uninstalled keras-2.15.0\n",
      "Found existing installation: tf_keras 2.15.1\n",
      "Uninstalling tf_keras-2.15.1:\n",
      "  Successfully uninstalled tf_keras-2.15.1\n",
      "Collecting tensorflow\n",
      "  Downloading tensorflow-2.16.1-cp310-cp310-manylinux_2_17_x86_64.manylinux2014_x86_64.whl (589.8 MB)\n",
      "\u001b[2K     \u001b[90m━━━━━━━━━━━━━━━━━━━━━━━━━━━━━━━━━━━━━━━━\u001b[0m \u001b[32m589.8/589.8 MB\u001b[0m \u001b[31m1.5 MB/s\u001b[0m eta \u001b[36m0:00:00\u001b[0m\n",
      "\u001b[?25hRequirement already satisfied: absl-py>=1.0.0 in /usr/local/lib/python3.10/dist-packages (from tensorflow) (1.4.0)\n",
      "Requirement already satisfied: astunparse>=1.6.0 in /usr/local/lib/python3.10/dist-packages (from tensorflow) (1.6.3)\n",
      "Requirement already satisfied: flatbuffers>=23.5.26 in /usr/local/lib/python3.10/dist-packages (from tensorflow) (24.3.25)\n",
      "Requirement already satisfied: gast!=0.5.0,!=0.5.1,!=0.5.2,>=0.2.1 in /usr/local/lib/python3.10/dist-packages (from tensorflow) (0.5.4)\n",
      "Requirement already satisfied: google-pasta>=0.1.1 in /usr/local/lib/python3.10/dist-packages (from tensorflow) (0.2.0)\n",
      "Collecting h5py>=3.10.0 (from tensorflow)\n",
      "  Downloading h5py-3.11.0-cp310-cp310-manylinux_2_17_x86_64.manylinux2014_x86_64.whl (5.3 MB)\n",
      "\u001b[2K     \u001b[90m━━━━━━━━━━━━━━━━━━━━━━━━━━━━━━━━━━━━━━━━\u001b[0m \u001b[32m5.3/5.3 MB\u001b[0m \u001b[31m22.5 MB/s\u001b[0m eta \u001b[36m0:00:00\u001b[0m\n",
      "\u001b[?25hRequirement already satisfied: libclang>=13.0.0 in /usr/local/lib/python3.10/dist-packages (from tensorflow) (18.1.1)\n",
      "Collecting ml-dtypes~=0.3.1 (from tensorflow)\n",
      "  Downloading ml_dtypes-0.3.2-cp310-cp310-manylinux_2_17_x86_64.manylinux2014_x86_64.whl (2.2 MB)\n",
      "\u001b[2K     \u001b[90m━━━━━━━━━━━━━━━━━━━━━━━━━━━━━━━━━━━━━━━━\u001b[0m \u001b[32m2.2/2.2 MB\u001b[0m \u001b[31m23.9 MB/s\u001b[0m eta \u001b[36m0:00:00\u001b[0m\n",
      "\u001b[?25hRequirement already satisfied: opt-einsum>=2.3.2 in /usr/local/lib/python3.10/dist-packages (from tensorflow) (3.3.0)\n",
      "Requirement already satisfied: packaging in /usr/local/lib/python3.10/dist-packages (from tensorflow) (24.0)\n",
      "Requirement already satisfied: protobuf!=4.21.0,!=4.21.1,!=4.21.2,!=4.21.3,!=4.21.4,!=4.21.5,<5.0.0dev,>=3.20.3 in /usr/local/lib/python3.10/dist-packages (from tensorflow) (3.20.3)\n",
      "Requirement already satisfied: requests<3,>=2.21.0 in /usr/local/lib/python3.10/dist-packages (from tensorflow) (2.31.0)\n",
      "Requirement already satisfied: setuptools in /usr/local/lib/python3.10/dist-packages (from tensorflow) (67.7.2)\n",
      "Requirement already satisfied: six>=1.12.0 in /usr/local/lib/python3.10/dist-packages (from tensorflow) (1.16.0)\n",
      "Requirement already satisfied: termcolor>=1.1.0 in /usr/local/lib/python3.10/dist-packages (from tensorflow) (2.4.0)\n",
      "Requirement already satisfied: typing-extensions>=3.6.6 in /usr/local/lib/python3.10/dist-packages (from tensorflow) (4.12.1)\n",
      "Requirement already satisfied: wrapt>=1.11.0 in /usr/local/lib/python3.10/dist-packages (from tensorflow) (1.14.1)\n",
      "Requirement already satisfied: grpcio<2.0,>=1.24.3 in /usr/local/lib/python3.10/dist-packages (from tensorflow) (1.64.1)\n",
      "Collecting tensorboard<2.17,>=2.16 (from tensorflow)\n",
      "  Downloading tensorboard-2.16.2-py3-none-any.whl (5.5 MB)\n",
      "\u001b[2K     \u001b[90m━━━━━━━━━━━━━━━━━━━━━━━━━━━━━━━━━━━━━━━━\u001b[0m \u001b[32m5.5/5.5 MB\u001b[0m \u001b[31m24.6 MB/s\u001b[0m eta \u001b[36m0:00:00\u001b[0m\n",
      "\u001b[?25hCollecting keras>=3.0.0 (from tensorflow)\n",
      "  Downloading keras-3.3.3-py3-none-any.whl (1.1 MB)\n",
      "\u001b[2K     \u001b[90m━━━━━━━━━━━━━━━━━━━━━━━━━━━━━━━━━━━━━━━━\u001b[0m \u001b[32m1.1/1.1 MB\u001b[0m \u001b[31m23.7 MB/s\u001b[0m eta \u001b[36m0:00:00\u001b[0m\n",
      "\u001b[?25hRequirement already satisfied: tensorflow-io-gcs-filesystem>=0.23.1 in /usr/local/lib/python3.10/dist-packages (from tensorflow) (0.37.0)\n",
      "Requirement already satisfied: numpy<2.0.0,>=1.23.5 in /usr/local/lib/python3.10/dist-packages (from tensorflow) (1.25.2)\n",
      "Requirement already satisfied: wheel<1.0,>=0.23.0 in /usr/local/lib/python3.10/dist-packages (from astunparse>=1.6.0->tensorflow) (0.43.0)\n",
      "Requirement already satisfied: rich in /usr/local/lib/python3.10/dist-packages (from keras>=3.0.0->tensorflow) (13.7.1)\n",
      "Collecting namex (from keras>=3.0.0->tensorflow)\n",
      "  Downloading namex-0.0.8-py3-none-any.whl (5.8 kB)\n",
      "Collecting optree (from keras>=3.0.0->tensorflow)\n",
      "  Downloading optree-0.11.0-cp310-cp310-manylinux_2_17_x86_64.manylinux2014_x86_64.whl (311 kB)\n",
      "\u001b[2K     \u001b[90m━━━━━━━━━━━━━━━━━━━━━━━━━━━━━━━━━━━━━━━━\u001b[0m \u001b[32m311.2/311.2 kB\u001b[0m \u001b[31m26.8 MB/s\u001b[0m eta \u001b[36m0:00:00\u001b[0m\n",
      "\u001b[?25hRequirement already satisfied: charset-normalizer<4,>=2 in /usr/local/lib/python3.10/dist-packages (from requests<3,>=2.21.0->tensorflow) (3.3.2)\n",
      "Requirement already satisfied: idna<4,>=2.5 in /usr/local/lib/python3.10/dist-packages (from requests<3,>=2.21.0->tensorflow) (3.7)\n",
      "Requirement already satisfied: urllib3<3,>=1.21.1 in /usr/local/lib/python3.10/dist-packages (from requests<3,>=2.21.0->tensorflow) (2.0.7)\n",
      "Requirement already satisfied: certifi>=2017.4.17 in /usr/local/lib/python3.10/dist-packages (from requests<3,>=2.21.0->tensorflow) (2024.6.2)\n",
      "Requirement already satisfied: markdown>=2.6.8 in /usr/local/lib/python3.10/dist-packages (from tensorboard<2.17,>=2.16->tensorflow) (3.6)\n",
      "Requirement already satisfied: tensorboard-data-server<0.8.0,>=0.7.0 in /usr/local/lib/python3.10/dist-packages (from tensorboard<2.17,>=2.16->tensorflow) (0.7.2)\n",
      "Requirement already satisfied: werkzeug>=1.0.1 in /usr/local/lib/python3.10/dist-packages (from tensorboard<2.17,>=2.16->tensorflow) (3.0.3)\n",
      "Requirement already satisfied: MarkupSafe>=2.1.1 in /usr/local/lib/python3.10/dist-packages (from werkzeug>=1.0.1->tensorboard<2.17,>=2.16->tensorflow) (2.1.5)\n",
      "Requirement already satisfied: markdown-it-py>=2.2.0 in /usr/local/lib/python3.10/dist-packages (from rich->keras>=3.0.0->tensorflow) (3.0.0)\n",
      "Requirement already satisfied: pygments<3.0.0,>=2.13.0 in /usr/local/lib/python3.10/dist-packages (from rich->keras>=3.0.0->tensorflow) (2.16.1)\n",
      "Requirement already satisfied: mdurl~=0.1 in /usr/local/lib/python3.10/dist-packages (from markdown-it-py>=2.2.0->rich->keras>=3.0.0->tensorflow) (0.1.2)\n",
      "Installing collected packages: namex, optree, ml-dtypes, h5py, tensorboard, keras, tensorflow\n",
      "  Attempting uninstall: ml-dtypes\n",
      "    Found existing installation: ml-dtypes 0.2.0\n",
      "    Uninstalling ml-dtypes-0.2.0:\n",
      "      Successfully uninstalled ml-dtypes-0.2.0\n",
      "  Attempting uninstall: h5py\n",
      "    Found existing installation: h5py 3.9.0\n",
      "    Uninstalling h5py-3.9.0:\n",
      "      Successfully uninstalled h5py-3.9.0\n",
      "  Attempting uninstall: tensorboard\n",
      "    Found existing installation: tensorboard 2.15.2\n",
      "    Uninstalling tensorboard-2.15.2:\n",
      "      Successfully uninstalled tensorboard-2.15.2\n",
      "Successfully installed h5py-3.11.0 keras-3.3.3 ml-dtypes-0.3.2 namex-0.0.8 optree-0.11.0 tensorboard-2.16.2 tensorflow-2.16.1\n"
     ]
    }
   ],
   "source": [
    "# tensorflow 2.15.0 is already installed, it must be uninstalled first\n",
    "!pip uninstall tensorflow -y\n",
    "!pip uninstall keras -y\n",
    "!pip uninstall tf-keras -y\n",
    "!pip install tensorflow\n",
    "# !pip install --upgrade keras //automatically done installing tensorflow"
   ]
  },
  {
   "cell_type": "markdown",
   "metadata": {
    "id": "fZRdocSCu79b"
   },
   "source": [
    "# KERAS 3 - Multi-backend High-level API\n",
    "Keras is the high-level API of the TensorFlow platform. It provides an approachable, highly-productive interface for solving machine learning (ML) problems, with a focus on modern deep learning."
   ]
  },
  {
   "cell_type": "markdown",
   "metadata": {
    "id": "GVGrmCiFeD52"
   },
   "source": [
    "## Backend instantiation\n",
    "Remember to configure the backend before importing Keras (and the other modules), as the backend cannot be changed once the package is imported."
   ]
  },
  {
   "cell_type": "code",
   "execution_count": 1,
   "metadata": {
    "id": "z1IB3HFVrdpC"
   },
   "outputs": [],
   "source": [
    "# Available backend options are: \"jax\", \"tensorflow\", \"torch\".\n",
    "import os\n",
    "os.environ[\"KERAS_BACKEND\"] = \"tensorflow\""
   ]
  },
  {
   "cell_type": "markdown",
   "metadata": {
    "id": "6S1xZiAueD52"
   },
   "source": [
    "## frameworks version"
   ]
  },
  {
   "cell_type": "code",
   "execution_count": 2,
   "metadata": {
    "colab": {
     "base_uri": "https://localhost:8080/"
    },
    "executionInfo": {
     "elapsed": 18347,
     "status": "ok",
     "timestamp": 1717689280344,
     "user": {
      "displayName": "Fabio M",
      "userId": "09614366475601969276"
     },
     "user_tz": -120
    },
    "id": "3YU8vgnahsEd",
    "outputId": "0f8a0529-0438-4ac6-ba59-2298d28c36d0"
   },
   "outputs": [
    {
     "name": "stderr",
     "output_type": "stream",
     "text": [
      "2024-06-12 10:31:22.011179: I tensorflow/core/platform/cpu_feature_guard.cc:210] This TensorFlow binary is optimized to use available CPU instructions in performance-critical operations.\n",
      "To enable the following instructions: AVX2 FMA, in other operations, rebuild TensorFlow with the appropriate compiler flags.\n",
      "2024-06-12 10:31:22.907278: W tensorflow/compiler/tf2tensorrt/utils/py_utils.cc:38] TF-TRT Warning: Could not find TensorRT\n"
     ]
    },
    {
     "name": "stdout",
     "output_type": "stream",
     "text": [
      "python3: 3.10.12 (main, Nov 20 2023, 15:14:05) [GCC 11.4.0]\n",
      "tensorflow: 2.16.1\n",
      "jax: 0.4.26\n",
      "keras: 3.3.3\n",
      "numpy: 1.26.3\n",
      "torch: 2.3.0+cu118\n",
      "torchvision: 0.18.0+cu118\n",
      "CUDA: 11.8\n",
      "cuDNN: 8.9.7\n"
     ]
    }
   ],
   "source": [
    "import sys\n",
    "import tensorflow as tf\n",
    "import jax\n",
    "import jaxlib\n",
    "import keras\n",
    "import numpy as np\n",
    "import torch\n",
    "import torch.nn as nn\n",
    "import torchvision\n",
    "import torchvision.transforms\n",
    "from jax import numpy as jnp\n",
    "\n",
    "print(f\"python3: {sys.version}\")\n",
    "print(f\"tensorflow: {tf.__version__}\")\n",
    "print(f\"jax: {jax.__version__}\")\n",
    "print(f\"keras: {keras.__version__}\")\n",
    "print(f\"numpy: {np.__version__}\")\n",
    "print(f\"torch: {torch.__version__}\")\n",
    "print(f\"torchvision: {torchvision.__version__}\")\n",
    "print(f\"CUDA: {torch.version.cuda}\")\n",
    "\n",
    "cudnn = torch.backends.cudnn.version()\n",
    "cudnn_major = cudnn // 1000\n",
    "cudnn = cudnn % 1000\n",
    "cudnn_minor = cudnn // 100\n",
    "cudnn_patch = cudnn % 100\n",
    "print( 'cuDNN:', '.'.join([str(cudnn_major),str(cudnn_minor),str(cudnn_patch)]) )"
   ]
  },
  {
   "cell_type": "markdown",
   "metadata": {
    "id": "S6KNFNVHeD52"
   },
   "source": [
    "## GPU support"
   ]
  },
  {
   "cell_type": "code",
   "execution_count": 3,
   "metadata": {
    "colab": {
     "base_uri": "https://localhost:8080/"
    },
    "executionInfo": {
     "elapsed": 8,
     "status": "ok",
     "timestamp": 1716473587624,
     "user": {
      "displayName": "Fabio M",
      "userId": "09614366475601969276"
     },
     "user_tz": -120
    },
    "id": "BbUt693AeD52",
    "outputId": "640a3c6e-5fe3-437e-f1da-e815f381739e"
   },
   "outputs": [
    {
     "name": "stdout",
     "output_type": "stream",
     "text": [
      "['/physical_device:GPU:0']\n"
     ]
    },
    {
     "name": "stderr",
     "output_type": "stream",
     "text": [
      "2024-06-12 10:31:30.038049: I external/local_xla/xla/stream_executor/cuda/cuda_executor.cc:984] could not open file to read NUMA node: /sys/bus/pci/devices/0000:01:00.0/numa_node\n",
      "Your kernel may have been built without NUMA support.\n",
      "2024-06-12 10:31:30.164305: I external/local_xla/xla/stream_executor/cuda/cuda_executor.cc:984] could not open file to read NUMA node: /sys/bus/pci/devices/0000:01:00.0/numa_node\n",
      "Your kernel may have been built without NUMA support.\n",
      "2024-06-12 10:31:30.164357: I external/local_xla/xla/stream_executor/cuda/cuda_executor.cc:984] could not open file to read NUMA node: /sys/bus/pci/devices/0000:01:00.0/numa_node\n",
      "Your kernel may have been built without NUMA support.\n"
     ]
    }
   ],
   "source": [
    "from tensorflow.python.client import device_lib\n",
    "\n",
    "# Hide GPU from visible devices (force CPU-ONLY processing)\n",
    "#os.environ['CUDA_VISIBLE_DEVICES'] = '' OR #tf.config.set_visible_devices([], 'GPU')\n",
    "\n",
    "gpus = tf.config.list_physical_devices('GPU')\n",
    "print([d.name for d in gpus])\n",
    "\n",
    "# do not uncomment, check https://github.com/tensorflow/tensorflow/issues/9374\n",
    "# print(device_lib.list_local_devices())"
   ]
  },
  {
   "cell_type": "code",
   "execution_count": 4,
   "metadata": {
    "colab": {
     "base_uri": "https://localhost:8080/"
    },
    "executionInfo": {
     "elapsed": 8,
     "status": "ok",
     "timestamp": 1716473587624,
     "user": {
      "displayName": "Fabio M",
      "userId": "09614366475601969276"
     },
     "user_tz": -120
    },
    "id": "thE2mCDFeD52",
    "outputId": "47328ae4-f262-4724-c938-0dc3e4b02e68"
   },
   "outputs": [
    {
     "name": "stdout",
     "output_type": "stream",
     "text": [
      "Using device: cuda\n",
      "NVIDIA GeForce GTX 1060 6GB\n",
      "Currently Memory Allocated: 0.0 GB\n",
      "Currently Memory Cached:    0.0 GB\n"
     ]
    }
   ],
   "source": [
    "# setting device on GPU if available, else CPU\n",
    "device = torch.device('cuda' if torch.cuda.is_available() else 'cpu')\n",
    "print('Using device:', device)\n",
    "\n",
    "#Additional Info when using cuda\n",
    "if device.type == 'cuda':\n",
    "    print(torch.cuda.get_device_name(0))\n",
    "    print('Currently Memory Allocated:', round(torch.cuda.memory_allocated(0)/1024**3,1), 'GB')\n",
    "    print('Currently Memory Cached:   ', round(torch.cuda.memory_reserved(0)/1024**3,1), 'GB')"
   ]
  },
  {
   "cell_type": "markdown",
   "metadata": {
    "id": "8CMV1R6P7-jc"
   },
   "source": [
    "# Code To Test: LeNet-5 Architecture (CNN)\n",
    "\n",
    "\n",
    "---\n",
    "reference:\n",
    "\n",
    "pytorch & tensorflow 2.15 (compatible with keras2) examples: https://towardsdatascience.com/tensorflow-vs-pytorch-convolutional-neural-networks-cnn-dd9ca6ddafce\n",
    "\n",
    "pytorch (compatible with keras3) example: https://medium.com/@shivansh.kaushik/keras-core-3-0-the-multi-backend-beast-ac46609adb98\n",
    "\n",
    "keras example: https://keras.io/examples/vision/mnist_convnet/\n"
   ]
  },
  {
   "cell_type": "markdown",
   "metadata": {
    "id": "ZKDlVvA_Ns2B"
   },
   "source": [
    "## PyTorch LeNet-5 Architecture (CNN)"
   ]
  },
  {
   "cell_type": "markdown",
   "metadata": {
    "id": "myi6iTGDeD53"
   },
   "source": [
    "Step 0: Parameters setting and Libraries import"
   ]
  },
  {
   "cell_type": "code",
   "execution_count": 5,
   "metadata": {
    "id": "mwttHqIheD53"
   },
   "outputs": [],
   "source": [
    "batch_size_pt = 60000\n",
    "epochs_pt = 10"
   ]
  },
  {
   "cell_type": "markdown",
   "metadata": {
    "id": "-qf8dLlAzP5x"
   },
   "source": [
    "Step 1: Getting, Splitting and Loading the Data"
   ]
  },
  {
   "cell_type": "code",
   "execution_count": 6,
   "metadata": {
    "id": "qf4JBdjAzPl5"
   },
   "outputs": [
    {
     "name": "stdout",
     "output_type": "stream",
     "text": [
      "Downloading http://fashion-mnist.s3-website.eu-central-1.amazonaws.com/train-images-idx3-ubyte.gz\n",
      "Downloading http://fashion-mnist.s3-website.eu-central-1.amazonaws.com/train-images-idx3-ubyte.gz to ./data/FashionMNIST/raw/train-images-idx3-ubyte.gz\n"
     ]
    },
    {
     "name": "stderr",
     "output_type": "stream",
     "text": [
      "100%|██████████████████████████████████████████████████████████████████| 26421880/26421880 [00:04<00:00, 5851203.22it/s]\n"
     ]
    },
    {
     "name": "stdout",
     "output_type": "stream",
     "text": [
      "Extracting ./data/FashionMNIST/raw/train-images-idx3-ubyte.gz to ./data/FashionMNIST/raw\n",
      "\n",
      "Downloading http://fashion-mnist.s3-website.eu-central-1.amazonaws.com/train-labels-idx1-ubyte.gz\n",
      "Downloading http://fashion-mnist.s3-website.eu-central-1.amazonaws.com/train-labels-idx1-ubyte.gz to ./data/FashionMNIST/raw/train-labels-idx1-ubyte.gz\n"
     ]
    },
    {
     "name": "stderr",
     "output_type": "stream",
     "text": [
      "100%|████████████████████████████████████████████████████████████████████████| 29515/29515 [00:00<00:00, 1634687.48it/s]\n"
     ]
    },
    {
     "name": "stdout",
     "output_type": "stream",
     "text": [
      "Extracting ./data/FashionMNIST/raw/train-labels-idx1-ubyte.gz to ./data/FashionMNIST/raw\n",
      "\n",
      "Downloading http://fashion-mnist.s3-website.eu-central-1.amazonaws.com/t10k-images-idx3-ubyte.gz\n",
      "Downloading http://fashion-mnist.s3-website.eu-central-1.amazonaws.com/t10k-images-idx3-ubyte.gz to ./data/FashionMNIST/raw/t10k-images-idx3-ubyte.gz\n"
     ]
    },
    {
     "name": "stderr",
     "output_type": "stream",
     "text": [
      "100%|████████████████████████████████████████████████████████████████████| 4422102/4422102 [00:01<00:00, 3962986.36it/s]\n"
     ]
    },
    {
     "name": "stdout",
     "output_type": "stream",
     "text": [
      "Extracting ./data/FashionMNIST/raw/t10k-images-idx3-ubyte.gz to ./data/FashionMNIST/raw\n",
      "\n",
      "Downloading http://fashion-mnist.s3-website.eu-central-1.amazonaws.com/t10k-labels-idx1-ubyte.gz\n",
      "Downloading http://fashion-mnist.s3-website.eu-central-1.amazonaws.com/t10k-labels-idx1-ubyte.gz to ./data/FashionMNIST/raw/t10k-labels-idx1-ubyte.gz\n"
     ]
    },
    {
     "name": "stderr",
     "output_type": "stream",
     "text": [
      "100%|██████████████████████████████████████████████████████████████████████████| 5148/5148 [00:00<00:00, 5290927.96it/s]\n"
     ]
    },
    {
     "name": "stdout",
     "output_type": "stream",
     "text": [
      "Extracting ./data/FashionMNIST/raw/t10k-labels-idx1-ubyte.gz to ./data/FashionMNIST/raw\n",
      "\n",
      "Downloading http://fashion-mnist.s3-website.eu-central-1.amazonaws.com/train-images-idx3-ubyte.gz\n",
      "Downloading http://fashion-mnist.s3-website.eu-central-1.amazonaws.com/train-images-idx3-ubyte.gz to .data/FashionMNIST/raw/train-images-idx3-ubyte.gz\n"
     ]
    },
    {
     "name": "stderr",
     "output_type": "stream",
     "text": [
      "100%|██████████████████████████████████████████████████████████████████| 26421880/26421880 [00:04<00:00, 6191542.12it/s]\n"
     ]
    },
    {
     "name": "stdout",
     "output_type": "stream",
     "text": [
      "Extracting .data/FashionMNIST/raw/train-images-idx3-ubyte.gz to .data/FashionMNIST/raw\n",
      "\n",
      "Downloading http://fashion-mnist.s3-website.eu-central-1.amazonaws.com/train-labels-idx1-ubyte.gz\n",
      "Downloading http://fashion-mnist.s3-website.eu-central-1.amazonaws.com/train-labels-idx1-ubyte.gz to .data/FashionMNIST/raw/train-labels-idx1-ubyte.gz\n"
     ]
    },
    {
     "name": "stderr",
     "output_type": "stream",
     "text": [
      "100%|████████████████████████████████████████████████████████████████████████| 29515/29515 [00:00<00:00, 1378193.83it/s]\n"
     ]
    },
    {
     "name": "stdout",
     "output_type": "stream",
     "text": [
      "Extracting .data/FashionMNIST/raw/train-labels-idx1-ubyte.gz to .data/FashionMNIST/raw\n",
      "\n",
      "Downloading http://fashion-mnist.s3-website.eu-central-1.amazonaws.com/t10k-images-idx3-ubyte.gz\n",
      "Downloading http://fashion-mnist.s3-website.eu-central-1.amazonaws.com/t10k-images-idx3-ubyte.gz to .data/FashionMNIST/raw/t10k-images-idx3-ubyte.gz\n"
     ]
    },
    {
     "name": "stderr",
     "output_type": "stream",
     "text": [
      "100%|████████████████████████████████████████████████████████████████████| 4422102/4422102 [00:00<00:00, 5907362.09it/s]\n"
     ]
    },
    {
     "name": "stdout",
     "output_type": "stream",
     "text": [
      "Extracting .data/FashionMNIST/raw/t10k-images-idx3-ubyte.gz to .data/FashionMNIST/raw\n",
      "\n",
      "Downloading http://fashion-mnist.s3-website.eu-central-1.amazonaws.com/t10k-labels-idx1-ubyte.gz\n",
      "Downloading http://fashion-mnist.s3-website.eu-central-1.amazonaws.com/t10k-labels-idx1-ubyte.gz to .data/FashionMNIST/raw/t10k-labels-idx1-ubyte.gz\n"
     ]
    },
    {
     "name": "stderr",
     "output_type": "stream",
     "text": [
      "100%|██████████████████████████████████████████████████████████████████████████| 5148/5148 [00:00<00:00, 4746598.59it/s]"
     ]
    },
    {
     "name": "stdout",
     "output_type": "stream",
     "text": [
      "Extracting .data/FashionMNIST/raw/t10k-labels-idx1-ubyte.gz to .data/FashionMNIST/raw\n",
      "\n"
     ]
    },
    {
     "name": "stderr",
     "output_type": "stream",
     "text": [
      "\n"
     ]
    }
   ],
   "source": [
    "#PyTorch - Getting and Splitting the Dataset\n",
    "transforms = torchvision.transforms.Compose([torchvision.transforms.ToTensor()])\n",
    "train_dataset_pt = torchvision.datasets.FashionMNIST(root='./data/',\n",
    "                                                     train=True,\n",
    "                                                     transform=transforms,\n",
    "                                                     download=True)\n",
    "test_dataset_pt = torchvision.datasets.FashionMNIST(root='.data/',\n",
    "                                                     train=False,\n",
    "                                                     transform=transforms,\n",
    "                                                     download=True)\n",
    "\n",
    "#PyTorch - Loading the Data\n",
    "train_loader = torch.utils.data.DataLoader(dataset=train_dataset_pt,\n",
    "                                           batch_size=batch_size_pt,\n",
    "                                           shuffle=False)\n",
    "test_loader = torch.utils.data.DataLoader(dataset=test_dataset_pt,\n",
    "                                           #batch_size=32,\n",
    "                                           shuffle=False)"
   ]
  },
  {
   "cell_type": "markdown",
   "metadata": {
    "id": "0P4lPfykeD53"
   },
   "source": [
    "Step 2: Preparing the Data"
   ]
  },
  {
   "cell_type": "code",
   "execution_count": null,
   "metadata": {
    "id": "E83j5KpneD53"
   },
   "outputs": [],
   "source": []
  },
  {
   "cell_type": "markdown",
   "metadata": {
    "id": "qG8qJD8kzvoS"
   },
   "source": [
    "Step 3: Building the Model"
   ]
  },
  {
   "cell_type": "code",
   "execution_count": null,
   "metadata": {
    "colab": {
     "base_uri": "https://localhost:8080/"
    },
    "executionInfo": {
     "elapsed": 6,
     "status": "ok",
     "timestamp": 1716473587624,
     "user": {
      "displayName": "Fabio M",
      "userId": "09614366475601969276"
     },
     "user_tz": -120
    },
    "id": "e3uTv2REzu6y",
    "outputId": "2c34a1db-2891-4cab-c3bb-1a03169bca30"
   },
   "outputs": [
    {
     "data": {
      "text/plain": [
       "Sequential(\n",
       "  (0): Conv2d(1, 6, kernel_size=(5, 5), stride=(1, 1), padding=(2, 2))\n",
       "  (1): ReLU()\n",
       "  (2): AvgPool2d(kernel_size=(2, 2), stride=2, padding=0)\n",
       "  (3): Conv2d(6, 16, kernel_size=(5, 5), stride=(1, 1))\n",
       "  (4): ReLU()\n",
       "  (5): AvgPool2d(kernel_size=(2, 2), stride=2, padding=0)\n",
       "  (6): Flatten(start_dim=1, end_dim=-1)\n",
       "  (7): Linear(in_features=400, out_features=120, bias=True)\n",
       "  (8): ReLU()\n",
       "  (9): Linear(in_features=120, out_features=84, bias=True)\n",
       "  (10): ReLU()\n",
       "  (11): Linear(in_features=84, out_features=10, bias=True)\n",
       "  (12): Softmax(dim=1)\n",
       ")"
      ]
     },
     "execution_count": 19,
     "metadata": {},
     "output_type": "execute_result"
    }
   ],
   "source": [
    "#PyTorch - Building the Model\n",
    "model_pt = nn.Sequential(\n",
    "    # Layer1 = Conv1\n",
    "    nn.Conv2d(1, 6, (5, 5), stride=1, padding=2),\n",
    "    nn.ReLU(),\n",
    "    nn.AvgPool2d((2, 2), stride=2),\n",
    "\n",
    "    # Layer2 = Conv2\n",
    "    nn.Conv2d(6, 16, (5, 5), stride=1, padding=0),\n",
    "    nn.ReLU(),\n",
    "    nn.AvgPool2d((2, 2), stride=2),\n",
    "\n",
    "    nn.Flatten(),\n",
    "    # Layer3 = Conv3\n",
    "    nn.Linear(400,120),\n",
    "    nn.ReLU(),\n",
    "    nn.Linear(120,84),\n",
    "    nn.ReLU(),\n",
    "    nn.Linear(84,10),\n",
    "    nn.Softmax(dim=1)\n",
    ")\n",
    "model_pt.to(device)"
   ]
  },
  {
   "cell_type": "markdown",
   "metadata": {
    "id": "WWEUNjLJ0Tdp"
   },
   "source": [
    "Step 4: Training the Model"
   ]
  },
  {
   "cell_type": "markdown",
   "metadata": {
    "id": "pU91JzmGeD54"
   },
   "source": [
    "reference:\n",
    "https://medium.com/@soumensardarintmain/manage-cuda-cores-ultimate-memory-management-strategy-with-pytorch-2bed30cab1#:~:text=The%20recommended%20way%20is%20to,first%20and%20then%20call%20torch.\n",
    "\n",
    "---\n"
   ]
  },
  {
   "cell_type": "code",
   "execution_count": null,
   "metadata": {
    "colab": {
     "base_uri": "https://localhost:8080/"
    },
    "id": "cbLxC3JH0WSI",
    "outputId": "c334a439-f82d-46c9-a288-6828ec82db7b"
   },
   "outputs": [
    {
     "name": "stderr",
     "output_type": "stream",
     "text": [
      "Exception ignored in: <function _xla_gc_callback at 0x79af373deb90>\n",
      "Traceback (most recent call last):\n",
      "  File \"/usr/local/lib/python3.10/dist-packages/jax/_src/lib/__init__.py\", line 98, in _xla_gc_callback\n",
      "    def _xla_gc_callback(*args):\n",
      "KeyboardInterrupt: \n"
     ]
    },
    {
     "name": "stdout",
     "output_type": "stream",
     "text": [
      "Epoch 0 \t Time: 44.413 sec \t Loss: 2.303\n"
     ]
    }
   ],
   "source": [
    "import time\n",
    "import gc\n",
    "\n",
    "criterion = nn.CrossEntropyLoss()\n",
    "optim = torch.optim.Adam(model_pt.parameters())\n",
    "\n",
    "times = []\n",
    "\n",
    "#PyTorch - Training the Model\n",
    "for e in range(epochs_pt):\n",
    "    start_epoch = time.time()\n",
    "\n",
    "    # define the loss value after the epoch\n",
    "    losss = 0.0\n",
    "    number_of_sub_epoch = 0\n",
    "\n",
    "    # loop for every training batch (one epoch)\n",
    "    for images, labels in train_loader:\n",
    "\n",
    "        images = images.to(device)\n",
    "        labels = labels.to(device)\n",
    "        #create the output from the network\n",
    "        out = model_pt(images)\n",
    "        # count the loss function\n",
    "        loss = criterion(out, labels)\n",
    "        # in pytorch you have assign the zero for gradien in any sub epoch\n",
    "        optim.zero_grad()\n",
    "        # count the backpropagation\n",
    "        loss.backward()\n",
    "        # learning\n",
    "        optim.step()\n",
    "        # add new value to the main loss\n",
    "        losss += loss.item()\n",
    "        number_of_sub_epoch += 1\n",
    "\n",
    "\n",
    "    #torch.cuda.synchronize()\n",
    "    end_epoch = time.time()\n",
    "    print(\"Epoch {} \\t Time: {:.3f} sec \\t Loss: {:.3f}\".format(e, (end_epoch-start_epoch), losss / number_of_sub_epoch))\n",
    "    elapsed = end_epoch - start_epoch\n",
    "    times.append(elapsed)\n",
    "\n",
    "    #Cache Cleaning\n",
    "    #The recommended way is to delete the local variables (using del) first\n",
    "    del images\n",
    "    del labels\n",
    "    del losss\n",
    "    del out\n",
    "    # Then clean the cache\n",
    "    torch.cuda.empty_cache()\n",
    "    # then collect the garbage\n",
    "    gc.collect()\n",
    "\n",
    "tot_time_pt = sum(times)\n",
    "avg_time_pt = sum(times)/epochs_pt\n",
    "print(\"Backend: {} \\t Framework: {}\".format(os.environ[\"KERAS_BACKEND\"], \"pytorch\"))\n",
    "print(\"batch size: {:.3f}\".format(batch_size_pt))\n",
    "print(\"total time: {:.3f}\".format(tot_time_pt))\n",
    "print(\"average time: {:.3f}\".format(avg_time_pt))"
   ]
  },
  {
   "cell_type": "markdown",
   "metadata": {
    "id": "GLDTaUMG0ihp"
   },
   "source": [
    "Step 5: Evaluating the Model"
   ]
  },
  {
   "cell_type": "code",
   "execution_count": null,
   "metadata": {
    "id": "MMZk1bBg0op5"
   },
   "outputs": [],
   "source": [
    "#PyTorch - Comparing the Results\n",
    "correct = 0\n",
    "total = 0\n",
    "model_pt.eval()\n",
    "for images, labels in test_loader:\n",
    "    images = images.to(device)\n",
    "    labels = labels.to(device)\n",
    "    outputs = model_pt(images)\n",
    "    _, predicted = torch.max(outputs.data, 1)\n",
    "    total += labels.size(0)\n",
    "    correct += (predicted == labels).sum()\n",
    "print('Test Accuracy of the model on the {} test images: {}% with PyTorch'.format(total, 100 * correct // total))"
   ]
  },
  {
   "cell_type": "markdown",
   "metadata": {
    "id": "vMhRYToVy66R"
   },
   "source": [
    "## Keras-3 LeNet-5 Architecture (CNN)"
   ]
  },
  {
   "cell_type": "markdown",
   "metadata": {
    "id": "i2ZyMKEUzWxB"
   },
   "source": [
    "Step 1: Getting, Splitting and Loading the Data"
   ]
  },
  {
   "cell_type": "code",
   "execution_count": 5,
   "metadata": {
    "colab": {
     "base_uri": "https://localhost:8080/"
    },
    "executionInfo": {
     "elapsed": 1105,
     "status": "ok",
     "timestamp": 1717667443899,
     "user": {
      "displayName": "Fabio M",
      "userId": "09614366475601969276"
     },
     "user_tz": -120
    },
    "id": "ZWNbuGCgzWGp",
    "outputId": "5e4def7b-4d3a-4101-ad08-3c802ae13839"
   },
   "outputs": [],
   "source": [
    "# Model / data parameters\n",
    "num_classes = 10\n",
    "input_shape = (28, 28, 1)\n",
    "#TensorFlow - Getting and Splitting the Dataset\n",
    "fashion_mnist = keras.datasets.fashion_mnist\n",
    "#TensorFlow - Loading the Data\n",
    "(x_train, y_train), (x_test, y_test) = fashion_mnist.load_data()"
   ]
  },
  {
   "cell_type": "markdown",
   "metadata": {
    "id": "LPk-ooZTeD55"
   },
   "source": [
    "Step 2: Prepare the Data"
   ]
  },
  {
   "cell_type": "code",
   "execution_count": 6,
   "metadata": {
    "colab": {
     "base_uri": "https://localhost:8080/"
    },
    "executionInfo": {
     "elapsed": 2,
     "status": "ok",
     "timestamp": 1717667446541,
     "user": {
      "displayName": "Fabio M",
      "userId": "09614366475601969276"
     },
     "user_tz": -120
    },
    "id": "DboAEB4AeD55",
    "outputId": "d5353446-1f1c-4e63-8e37-238530d84622"
   },
   "outputs": [
    {
     "name": "stdout",
     "output_type": "stream",
     "text": [
      "x_train shape: (60000, 28, 28, 1)\n",
      "60000 train samples\n",
      "10000 test samples\n"
     ]
    }
   ],
   "source": [
    "# Scale images to the [0, 1] range\n",
    "x_train = x_train.astype(\"float32\") / 255\n",
    "x_test = x_test.astype(\"float32\") / 255\n",
    "\n",
    "# Make sure images have shape (28, 28, 1)\n",
    "x_train = np.expand_dims(x_train, -1)\n",
    "x_test = np.expand_dims(x_test, -1)\n",
    "\n",
    "print(\"x_train shape:\", x_train.shape)\n",
    "print(x_train.shape[0], \"train samples\")\n",
    "print(x_test.shape[0], \"test samples\")\n",
    "\n",
    "# convert class vectors to binary class matrices\n",
    "y_train = keras.utils.to_categorical(y_train, num_classes)\n",
    "y_test = keras.utils.to_categorical(y_test, num_classes)"
   ]
  },
  {
   "cell_type": "markdown",
   "metadata": {
    "id": "S-0SdrkJzwmx"
   },
   "source": [
    "Step 3: Building the Model"
   ]
  },
  {
   "cell_type": "code",
   "execution_count": 7,
   "metadata": {
    "colab": {
     "base_uri": "https://localhost:8080/"
    },
    "executionInfo": {
     "elapsed": 546,
     "status": "ok",
     "timestamp": 1717667450272,
     "user": {
      "displayName": "Fabio M",
      "userId": "09614366475601969276"
     },
     "user_tz": -120
    },
    "id": "qg0scwEH0EI5",
    "outputId": "1f6cb9d4-8732-416d-90be-4168a436b577"
   },
   "outputs": [
    {
     "name": "stderr",
     "output_type": "stream",
     "text": [
      "2024-06-12 10:31:52.403245: I external/local_xla/xla/stream_executor/cuda/cuda_executor.cc:984] could not open file to read NUMA node: /sys/bus/pci/devices/0000:01:00.0/numa_node\n",
      "Your kernel may have been built without NUMA support.\n",
      "2024-06-12 10:31:52.403368: I external/local_xla/xla/stream_executor/cuda/cuda_executor.cc:984] could not open file to read NUMA node: /sys/bus/pci/devices/0000:01:00.0/numa_node\n",
      "Your kernel may have been built without NUMA support.\n",
      "2024-06-12 10:31:52.403404: I external/local_xla/xla/stream_executor/cuda/cuda_executor.cc:984] could not open file to read NUMA node: /sys/bus/pci/devices/0000:01:00.0/numa_node\n",
      "Your kernel may have been built without NUMA support.\n",
      "2024-06-12 10:31:52.572548: I external/local_xla/xla/stream_executor/cuda/cuda_executor.cc:984] could not open file to read NUMA node: /sys/bus/pci/devices/0000:01:00.0/numa_node\n",
      "Your kernel may have been built without NUMA support.\n",
      "2024-06-12 10:31:52.572645: I external/local_xla/xla/stream_executor/cuda/cuda_executor.cc:984] could not open file to read NUMA node: /sys/bus/pci/devices/0000:01:00.0/numa_node\n",
      "Your kernel may have been built without NUMA support.\n",
      "2024-06-12 10:31:52.572658: I tensorflow/core/common_runtime/gpu/gpu_device.cc:2019] Could not identify NUMA node of platform GPU id 0, defaulting to 0.  Your kernel may not have been built with NUMA support.\n",
      "2024-06-12 10:31:52.572719: I external/local_xla/xla/stream_executor/cuda/cuda_executor.cc:984] could not open file to read NUMA node: /sys/bus/pci/devices/0000:01:00.0/numa_node\n",
      "Your kernel may have been built without NUMA support.\n",
      "2024-06-12 10:31:52.572762: I tensorflow/core/common_runtime/gpu/gpu_device.cc:1928] Created device /job:localhost/replica:0/task:0/device:GPU:0 with 4699 MB memory:  -> device: 0, name: NVIDIA GeForce GTX 1060 6GB, pci bus id: 0000:01:00.0, compute capability: 6.1\n"
     ]
    },
    {
     "data": {
      "text/html": [
       "<pre style=\"white-space:pre;overflow-x:auto;line-height:normal;font-family:Menlo,'DejaVu Sans Mono',consolas,'Courier New',monospace\"><span style=\"font-weight: bold\">Model: \"sequential\"</span>\n",
       "</pre>\n"
      ],
      "text/plain": [
       "\u001b[1mModel: \"sequential\"\u001b[0m\n"
      ]
     },
     "metadata": {},
     "output_type": "display_data"
    },
    {
     "data": {
      "text/html": [
       "<pre style=\"white-space:pre;overflow-x:auto;line-height:normal;font-family:Menlo,'DejaVu Sans Mono',consolas,'Courier New',monospace\">┏━━━━━━━━━━━━━━━━━━━━━━━━━━━━━━━━━┳━━━━━━━━━━━━━━━━━━━━━━━━┳━━━━━━━━━━━━━━━┓\n",
       "┃<span style=\"font-weight: bold\"> Layer (type)                    </span>┃<span style=\"font-weight: bold\"> Output Shape           </span>┃<span style=\"font-weight: bold\">       Param # </span>┃\n",
       "┡━━━━━━━━━━━━━━━━━━━━━━━━━━━━━━━━━╇━━━━━━━━━━━━━━━━━━━━━━━━╇━━━━━━━━━━━━━━━┩\n",
       "│ conv2d (<span style=\"color: #0087ff; text-decoration-color: #0087ff\">Conv2D</span>)                 │ (<span style=\"color: #00d7ff; text-decoration-color: #00d7ff\">None</span>, <span style=\"color: #00af00; text-decoration-color: #00af00\">28</span>, <span style=\"color: #00af00; text-decoration-color: #00af00\">28</span>, <span style=\"color: #00af00; text-decoration-color: #00af00\">6</span>)      │           <span style=\"color: #00af00; text-decoration-color: #00af00\">156</span> │\n",
       "├─────────────────────────────────┼────────────────────────┼───────────────┤\n",
       "│ average_pooling2d               │ (<span style=\"color: #00d7ff; text-decoration-color: #00d7ff\">None</span>, <span style=\"color: #00af00; text-decoration-color: #00af00\">14</span>, <span style=\"color: #00af00; text-decoration-color: #00af00\">14</span>, <span style=\"color: #00af00; text-decoration-color: #00af00\">6</span>)      │             <span style=\"color: #00af00; text-decoration-color: #00af00\">0</span> │\n",
       "│ (<span style=\"color: #0087ff; text-decoration-color: #0087ff\">AveragePooling2D</span>)              │                        │               │\n",
       "├─────────────────────────────────┼────────────────────────┼───────────────┤\n",
       "│ conv2d_1 (<span style=\"color: #0087ff; text-decoration-color: #0087ff\">Conv2D</span>)               │ (<span style=\"color: #00d7ff; text-decoration-color: #00d7ff\">None</span>, <span style=\"color: #00af00; text-decoration-color: #00af00\">14</span>, <span style=\"color: #00af00; text-decoration-color: #00af00\">14</span>, <span style=\"color: #00af00; text-decoration-color: #00af00\">16</span>)     │         <span style=\"color: #00af00; text-decoration-color: #00af00\">2,416</span> │\n",
       "├─────────────────────────────────┼────────────────────────┼───────────────┤\n",
       "│ average_pooling2d_1             │ (<span style=\"color: #00d7ff; text-decoration-color: #00d7ff\">None</span>, <span style=\"color: #00af00; text-decoration-color: #00af00\">7</span>, <span style=\"color: #00af00; text-decoration-color: #00af00\">7</span>, <span style=\"color: #00af00; text-decoration-color: #00af00\">16</span>)       │             <span style=\"color: #00af00; text-decoration-color: #00af00\">0</span> │\n",
       "│ (<span style=\"color: #0087ff; text-decoration-color: #0087ff\">AveragePooling2D</span>)              │                        │               │\n",
       "├─────────────────────────────────┼────────────────────────┼───────────────┤\n",
       "│ flatten (<span style=\"color: #0087ff; text-decoration-color: #0087ff\">Flatten</span>)               │ (<span style=\"color: #00d7ff; text-decoration-color: #00d7ff\">None</span>, <span style=\"color: #00af00; text-decoration-color: #00af00\">784</span>)            │             <span style=\"color: #00af00; text-decoration-color: #00af00\">0</span> │\n",
       "├─────────────────────────────────┼────────────────────────┼───────────────┤\n",
       "│ dense (<span style=\"color: #0087ff; text-decoration-color: #0087ff\">Dense</span>)                   │ (<span style=\"color: #00d7ff; text-decoration-color: #00d7ff\">None</span>, <span style=\"color: #00af00; text-decoration-color: #00af00\">120</span>)            │        <span style=\"color: #00af00; text-decoration-color: #00af00\">94,200</span> │\n",
       "├─────────────────────────────────┼────────────────────────┼───────────────┤\n",
       "│ dense_1 (<span style=\"color: #0087ff; text-decoration-color: #0087ff\">Dense</span>)                 │ (<span style=\"color: #00d7ff; text-decoration-color: #00d7ff\">None</span>, <span style=\"color: #00af00; text-decoration-color: #00af00\">84</span>)             │        <span style=\"color: #00af00; text-decoration-color: #00af00\">10,164</span> │\n",
       "├─────────────────────────────────┼────────────────────────┼───────────────┤\n",
       "│ dense_2 (<span style=\"color: #0087ff; text-decoration-color: #0087ff\">Dense</span>)                 │ (<span style=\"color: #00d7ff; text-decoration-color: #00d7ff\">None</span>, <span style=\"color: #00af00; text-decoration-color: #00af00\">10</span>)             │           <span style=\"color: #00af00; text-decoration-color: #00af00\">850</span> │\n",
       "└─────────────────────────────────┴────────────────────────┴───────────────┘\n",
       "</pre>\n"
      ],
      "text/plain": [
       "┏━━━━━━━━━━━━━━━━━━━━━━━━━━━━━━━━━┳━━━━━━━━━━━━━━━━━━━━━━━━┳━━━━━━━━━━━━━━━┓\n",
       "┃\u001b[1m \u001b[0m\u001b[1mLayer (type)                   \u001b[0m\u001b[1m \u001b[0m┃\u001b[1m \u001b[0m\u001b[1mOutput Shape          \u001b[0m\u001b[1m \u001b[0m┃\u001b[1m \u001b[0m\u001b[1m      Param #\u001b[0m\u001b[1m \u001b[0m┃\n",
       "┡━━━━━━━━━━━━━━━━━━━━━━━━━━━━━━━━━╇━━━━━━━━━━━━━━━━━━━━━━━━╇━━━━━━━━━━━━━━━┩\n",
       "│ conv2d (\u001b[38;5;33mConv2D\u001b[0m)                 │ (\u001b[38;5;45mNone\u001b[0m, \u001b[38;5;34m28\u001b[0m, \u001b[38;5;34m28\u001b[0m, \u001b[38;5;34m6\u001b[0m)      │           \u001b[38;5;34m156\u001b[0m │\n",
       "├─────────────────────────────────┼────────────────────────┼───────────────┤\n",
       "│ average_pooling2d               │ (\u001b[38;5;45mNone\u001b[0m, \u001b[38;5;34m14\u001b[0m, \u001b[38;5;34m14\u001b[0m, \u001b[38;5;34m6\u001b[0m)      │             \u001b[38;5;34m0\u001b[0m │\n",
       "│ (\u001b[38;5;33mAveragePooling2D\u001b[0m)              │                        │               │\n",
       "├─────────────────────────────────┼────────────────────────┼───────────────┤\n",
       "│ conv2d_1 (\u001b[38;5;33mConv2D\u001b[0m)               │ (\u001b[38;5;45mNone\u001b[0m, \u001b[38;5;34m14\u001b[0m, \u001b[38;5;34m14\u001b[0m, \u001b[38;5;34m16\u001b[0m)     │         \u001b[38;5;34m2,416\u001b[0m │\n",
       "├─────────────────────────────────┼────────────────────────┼───────────────┤\n",
       "│ average_pooling2d_1             │ (\u001b[38;5;45mNone\u001b[0m, \u001b[38;5;34m7\u001b[0m, \u001b[38;5;34m7\u001b[0m, \u001b[38;5;34m16\u001b[0m)       │             \u001b[38;5;34m0\u001b[0m │\n",
       "│ (\u001b[38;5;33mAveragePooling2D\u001b[0m)              │                        │               │\n",
       "├─────────────────────────────────┼────────────────────────┼───────────────┤\n",
       "│ flatten (\u001b[38;5;33mFlatten\u001b[0m)               │ (\u001b[38;5;45mNone\u001b[0m, \u001b[38;5;34m784\u001b[0m)            │             \u001b[38;5;34m0\u001b[0m │\n",
       "├─────────────────────────────────┼────────────────────────┼───────────────┤\n",
       "│ dense (\u001b[38;5;33mDense\u001b[0m)                   │ (\u001b[38;5;45mNone\u001b[0m, \u001b[38;5;34m120\u001b[0m)            │        \u001b[38;5;34m94,200\u001b[0m │\n",
       "├─────────────────────────────────┼────────────────────────┼───────────────┤\n",
       "│ dense_1 (\u001b[38;5;33mDense\u001b[0m)                 │ (\u001b[38;5;45mNone\u001b[0m, \u001b[38;5;34m84\u001b[0m)             │        \u001b[38;5;34m10,164\u001b[0m │\n",
       "├─────────────────────────────────┼────────────────────────┼───────────────┤\n",
       "│ dense_2 (\u001b[38;5;33mDense\u001b[0m)                 │ (\u001b[38;5;45mNone\u001b[0m, \u001b[38;5;34m10\u001b[0m)             │           \u001b[38;5;34m850\u001b[0m │\n",
       "└─────────────────────────────────┴────────────────────────┴───────────────┘\n"
      ]
     },
     "metadata": {},
     "output_type": "display_data"
    },
    {
     "data": {
      "text/html": [
       "<pre style=\"white-space:pre;overflow-x:auto;line-height:normal;font-family:Menlo,'DejaVu Sans Mono',consolas,'Courier New',monospace\"><span style=\"font-weight: bold\"> Total params: </span><span style=\"color: #00af00; text-decoration-color: #00af00\">107,786</span> (421.04 KB)\n",
       "</pre>\n"
      ],
      "text/plain": [
       "\u001b[1m Total params: \u001b[0m\u001b[38;5;34m107,786\u001b[0m (421.04 KB)\n"
      ]
     },
     "metadata": {},
     "output_type": "display_data"
    },
    {
     "data": {
      "text/html": [
       "<pre style=\"white-space:pre;overflow-x:auto;line-height:normal;font-family:Menlo,'DejaVu Sans Mono',consolas,'Courier New',monospace\"><span style=\"font-weight: bold\"> Trainable params: </span><span style=\"color: #00af00; text-decoration-color: #00af00\">107,786</span> (421.04 KB)\n",
       "</pre>\n"
      ],
      "text/plain": [
       "\u001b[1m Trainable params: \u001b[0m\u001b[38;5;34m107,786\u001b[0m (421.04 KB)\n"
      ]
     },
     "metadata": {},
     "output_type": "display_data"
    },
    {
     "data": {
      "text/html": [
       "<pre style=\"white-space:pre;overflow-x:auto;line-height:normal;font-family:Menlo,'DejaVu Sans Mono',consolas,'Courier New',monospace\"><span style=\"font-weight: bold\"> Non-trainable params: </span><span style=\"color: #00af00; text-decoration-color: #00af00\">0</span> (0.00 B)\n",
       "</pre>\n"
      ],
      "text/plain": [
       "\u001b[1m Non-trainable params: \u001b[0m\u001b[38;5;34m0\u001b[0m (0.00 B)\n"
      ]
     },
     "metadata": {},
     "output_type": "display_data"
    }
   ],
   "source": [
    "#Keras - Building the Model\n",
    "model_ks = keras.Sequential(\n",
    "    [\n",
    "        keras.Input(shape=input_shape),\n",
    "        keras.layers.Conv2D(6, kernel_size=(5, 5), strides=1, padding=\"same\", activation=\"relu\"),\n",
    "        keras.layers.AveragePooling2D(pool_size=(2, 2), strides=2),\n",
    "        keras.layers.Conv2D(16, kernel_size=(5, 5), strides=1, padding=\"same\", activation=\"relu\"),\n",
    "        keras.layers.AveragePooling2D(pool_size=(2, 2), strides=2),\n",
    "        keras.layers.Flatten(),\n",
    "        keras.layers.Dense(120, activation=\"relu\"),\n",
    "        keras.layers.Dense(84, activation=\"relu\"),\n",
    "        keras.layers.Dense(num_classes, activation=\"softmax\")\n",
    "    ]\n",
    ")\n",
    "#Keras - Visualizing the Model\n",
    "model_ks.summary()"
   ]
  },
  {
   "cell_type": "markdown",
   "metadata": {
    "id": "tMmoUROP0Sng"
   },
   "source": [
    "Step 4: Training the Model"
   ]
  },
  {
   "cell_type": "code",
   "execution_count": 10,
   "metadata": {
    "id": "yxoKsphY0fNx"
   },
   "outputs": [
    {
     "name": "stdout",
     "output_type": "stream",
     "text": [
      "Epoch 1/10\n"
     ]
    },
    {
     "name": "stderr",
     "output_type": "stream",
     "text": [
      "WARNING: All log messages before absl::InitializeLog() is called are written to STDERR\n",
      "I0000 00:00:1718180973.179971     449 service.cc:145] XLA service 0x7f5368004400 initialized for platform CUDA (this does not guarantee that XLA will be used). Devices:\n",
      "I0000 00:00:1718180973.180053     449 service.cc:153]   StreamExecutor device (0): NVIDIA GeForce GTX 1060 6GB, Compute Capability 6.1\n",
      "2024-06-12 10:29:33.483479: I tensorflow/compiler/mlir/tensorflow/utils/dump_mlir_util.cc:268] disabling MLIR crash reproducer, set env var `MLIR_CRASH_REPRODUCER_DIRECTORY` to enable.\n",
      "2024-06-12 10:29:34.132757: I external/local_xla/xla/stream_executor/cuda/cuda_dnn.cc:465] Loaded cuDNN version 8907\n"
     ]
    },
    {
     "name": "stdout",
     "output_type": "stream",
     "text": [
      "\u001b[1m 45/422\u001b[0m \u001b[32m━━\u001b[0m\u001b[37m━━━━━━━━━━━━━━━━━━\u001b[0m \u001b[1m1s\u001b[0m 4ms/step - accuracy: 0.4138 - loss: 1.6935"
     ]
    },
    {
     "name": "stderr",
     "output_type": "stream",
     "text": [
      "I0000 00:00:1718180979.831580     449 device_compiler.h:188] Compiled cluster using XLA!  This line is logged at most once for the lifetime of the process.\n"
     ]
    },
    {
     "name": "stdout",
     "output_type": "stream",
     "text": [
      "\u001b[1m422/422\u001b[0m \u001b[32m━━━━━━━━━━━━━━━━━━━━\u001b[0m\u001b[37m\u001b[0m \u001b[1m11s\u001b[0m 8ms/step - accuracy: 0.6823 - loss: 0.8939 - val_accuracy: 0.8142 - val_loss: 0.5016\n",
      "Epoch 2/10\n",
      "\u001b[1m422/422\u001b[0m \u001b[32m━━━━━━━━━━━━━━━━━━━━\u001b[0m\u001b[37m\u001b[0m \u001b[1m2s\u001b[0m 4ms/step - accuracy: 0.8377 - loss: 0.4510 - val_accuracy: 0.8600 - val_loss: 0.3900\n",
      "Epoch 3/10\n",
      "\u001b[1m422/422\u001b[0m \u001b[32m━━━━━━━━━━━━━━━━━━━━\u001b[0m\u001b[37m\u001b[0m \u001b[1m2s\u001b[0m 4ms/step - accuracy: 0.8596 - loss: 0.3863 - val_accuracy: 0.8648 - val_loss: 0.3737\n",
      "Epoch 4/10\n",
      "\u001b[1m422/422\u001b[0m \u001b[32m━━━━━━━━━━━━━━━━━━━━\u001b[0m\u001b[37m\u001b[0m \u001b[1m2s\u001b[0m 4ms/step - accuracy: 0.8749 - loss: 0.3475 - val_accuracy: 0.8747 - val_loss: 0.3461\n",
      "Epoch 5/10\n",
      "\u001b[1m422/422\u001b[0m \u001b[32m━━━━━━━━━━━━━━━━━━━━\u001b[0m\u001b[37m\u001b[0m \u001b[1m2s\u001b[0m 4ms/step - accuracy: 0.8816 - loss: 0.3256 - val_accuracy: 0.8732 - val_loss: 0.3351\n",
      "Epoch 6/10\n",
      "\u001b[1m422/422\u001b[0m \u001b[32m━━━━━━━━━━━━━━━━━━━━\u001b[0m\u001b[37m\u001b[0m \u001b[1m2s\u001b[0m 4ms/step - accuracy: 0.8896 - loss: 0.2991 - val_accuracy: 0.8840 - val_loss: 0.3126\n",
      "Epoch 7/10\n",
      "\u001b[1m422/422\u001b[0m \u001b[32m━━━━━━━━━━━━━━━━━━━━\u001b[0m\u001b[37m\u001b[0m \u001b[1m2s\u001b[0m 4ms/step - accuracy: 0.8930 - loss: 0.2845 - val_accuracy: 0.8817 - val_loss: 0.3206\n",
      "Epoch 8/10\n",
      "\u001b[1m422/422\u001b[0m \u001b[32m━━━━━━━━━━━━━━━━━━━━\u001b[0m\u001b[37m\u001b[0m \u001b[1m2s\u001b[0m 4ms/step - accuracy: 0.8964 - loss: 0.2758 - val_accuracy: 0.8885 - val_loss: 0.3047\n",
      "Epoch 9/10\n",
      "\u001b[1m422/422\u001b[0m \u001b[32m━━━━━━━━━━━━━━━━━━━━\u001b[0m\u001b[37m\u001b[0m \u001b[1m2s\u001b[0m 4ms/step - accuracy: 0.9037 - loss: 0.2593 - val_accuracy: 0.8927 - val_loss: 0.2889\n",
      "Epoch 10/10\n",
      "\u001b[1m422/422\u001b[0m \u001b[32m━━━━━━━━━━━━━━━━━━━━\u001b[0m\u001b[37m\u001b[0m \u001b[1m2s\u001b[0m 4ms/step - accuracy: 0.9074 - loss: 0.2505 - val_accuracy: 0.8907 - val_loss: 0.2839\n"
     ]
    },
    {
     "data": {
      "text/plain": [
       "<keras.src.callbacks.history.History at 0x7f54824f9c00>"
      ]
     },
     "execution_count": 10,
     "metadata": {},
     "output_type": "execute_result"
    }
   ],
   "source": [
    "#Keras - Training the Model\n",
    "model_ks.compile(loss=\"categorical_crossentropy\",\n",
    "                    optimizer=\"adam\",\n",
    "                    metrics=[\"accuracy\"])\n",
    "\n",
    "batch_size_ks = 128\n",
    "validation_split_ks = 0.1\n",
    "epochs_ks = 10\n",
    "\n",
    "model_ks.fit(x_train, y_train, batch_size=batch_size_ks, epochs=epochs_ks, validation_split=validation_split_ks)"
   ]
  },
  {
   "cell_type": "markdown",
   "metadata": {
    "id": "-F8E079L0hzR"
   },
   "source": [
    "Step 5: Evaluating the Model"
   ]
  },
  {
   "cell_type": "code",
   "execution_count": 11,
   "metadata": {
    "id": "-gpZZ7eC0sOY"
   },
   "outputs": [
    {
     "name": "stdout",
     "output_type": "stream",
     "text": [
      "Test loss: 0.29642748832702637\n",
      "Test accuracy: 0.890999972820282\n"
     ]
    }
   ],
   "source": [
    "score = model_ks.evaluate(x_test, y_test, verbose=0)\n",
    "print(\"Test loss:\", score[0])\n",
    "print(\"Test accuracy:\", score[1])"
   ]
  },
  {
   "cell_type": "markdown",
   "metadata": {
    "id": "N4vbfgYCv_zQ"
   },
   "source": [
    "## Tensorflow LeNet-5 Architecture (CNN)"
   ]
  },
  {
   "cell_type": "markdown",
   "metadata": {
    "id": "5sFr66D-wNvl"
   },
   "source": [
    "Step 1: Getting, Splitting and Loading the Data"
   ]
  },
  {
   "cell_type": "code",
   "execution_count": 20,
   "metadata": {
    "id": "h5E9SHRawI1l"
   },
   "outputs": [],
   "source": [
    "# Model / data parameters\n",
    "num_classes = 10\n",
    "input_shape = (28, 28, 1)\n",
    "learn_rate = 0.005\n",
    "epochs_tf = 10\n",
    "batch_size_tf = 1000\n",
    "\n",
    "#TensorFlow - Getting and Splitting the Dataset\n",
    "fashion_mnist = keras.datasets.fashion_mnist\n",
    "#TensorFlow - Loading the Data\n",
    "(x_train, y_train), (x_test, y_test) = fashion_mnist.load_data()"
   ]
  },
  {
   "cell_type": "markdown",
   "metadata": {
    "id": "DEYNc1TbwOh9"
   },
   "source": [
    "Step 2: Prepare the Data"
   ]
  },
  {
   "cell_type": "code",
   "execution_count": 21,
   "metadata": {
    "colab": {
     "base_uri": "https://localhost:8080/"
    },
    "executionInfo": {
     "elapsed": 196,
     "status": "ok",
     "timestamp": 1717691096619,
     "user": {
      "displayName": "Fabio M",
      "userId": "09614366475601969276"
     },
     "user_tz": -120
    },
    "id": "yY2eqdsgwYd2",
    "outputId": "0c821021-3086-4fb5-95e2-adfa98427c3d"
   },
   "outputs": [
    {
     "name": "stdout",
     "output_type": "stream",
     "text": [
      "x_train shape: (60000, 28, 28, 1)\n",
      "60000 train samples\n",
      "10000 test samples\n"
     ]
    }
   ],
   "source": [
    "# Scale images to the [0, 1] range\n",
    "x_train = x_train.astype(\"float32\") / 255\n",
    "x_test = x_test.astype(\"float32\") / 255\n",
    "\n",
    "# Make sure images have shape (28, 28, 1)\n",
    "x_train = np.expand_dims(x_train, -1)\n",
    "x_test = np.expand_dims(x_test, -1)\n",
    "\n",
    "print(\"x_train shape:\", x_train.shape)\n",
    "print(x_train.shape[0], \"train samples\")\n",
    "print(x_test.shape[0], \"test samples\")\n",
    "\n",
    "# convert class vectors to binary class matrices\n",
    "y_train = keras.utils.to_categorical(y_train, num_classes)\n",
    "y_test = keras.utils.to_categorical(y_test, num_classes)"
   ]
  },
  {
   "cell_type": "markdown",
   "metadata": {
    "id": "OvLpVIzVwT_1"
   },
   "source": [
    "Step 3: Building the Model"
   ]
  },
  {
   "cell_type": "code",
   "execution_count": 22,
   "metadata": {
    "id": "2Qdxww4lwYNe"
   },
   "outputs": [],
   "source": [
    "class Model_tf(tf.Module):\n",
    "    def __init__(self, name=\"LeNet_model_tf\"):\n",
    "        super().__init__(name=name)\n",
    "\n",
    "        # Variables definition\n",
    "        self.conv1 = tf.Variable(tf.random.normal([5, 5, input_shape[-1], 6]), name='conv1')\n",
    "        self.conv2 = tf.Variable(tf.random.normal([5, 5, 6, 16]), name='conv2')\n",
    "        self.fc1 = tf.Variable(tf.random.normal([784, 120]), name='fc1')\n",
    "        self.fc2 = tf.Variable(tf.random.normal([120, 84]), name='fc2')\n",
    "        self.fc3 = tf.Variable(tf.random.normal([84, num_classes]), name='fc3')\n",
    "\n",
    "        self.bias1 = tf.Variable(tf.zeros([6]), name='bias1')\n",
    "        self.bias2 = tf.Variable(tf.zeros([16]), name='bias2')\n",
    "        self.bias3 = tf.Variable(tf.zeros([120]), name='bias3')\n",
    "        self.bias4 = tf.Variable(tf.zeros([84]), name='bias4')\n",
    "        self.bias5 = tf.Variable(tf.zeros([num_classes]), name='bias5')\n",
    "\n",
    "    @tf.function\n",
    "    def __call__(self, x):\n",
    "        # 1st layer: Convolution\n",
    "        x = tf.nn.conv2d(x, self.conv1, strides=[1, 1, 1, 1], padding='SAME')\n",
    "        x = tf.nn.bias_add(x, self.bias1)\n",
    "        x = tf.nn.relu(x)\n",
    "        # 1st layer: Pooling\n",
    "        x = tf.nn.avg_pool2d(x, ksize=2, strides=2, padding='SAME')\n",
    "\n",
    "        # 2nd layer: Convolution\n",
    "        x = tf.nn.conv2d(x, self.conv2, strides=[1, 1, 1, 1], padding='SAME')\n",
    "        x = tf.nn.bias_add(x, self.bias2)\n",
    "        x = tf.nn.relu(x)\n",
    "        # 2nd layer: Pooling\n",
    "        x = tf.nn.avg_pool2d(x, ksize=2, strides=2, padding='SAME')\n",
    "\n",
    "        # flattening\n",
    "        x = tf.reshape(x, [-1, 784])\n",
    "\n",
    "        # 3rd layer: Dense\n",
    "        x = tf.nn.relu(tf.add(tf.matmul(x, self.fc1), self.bias3))\n",
    "        # 4th layer: Dense\n",
    "        x = tf.nn.relu(tf.add(tf.matmul(x, self.fc2), self.bias4))\n",
    "        # 5th layer: Dense\n",
    "        x = tf.add(tf.matmul(x, self.fc3), self.bias5)\n",
    "        return tf.nn.softmax(x)\n",
    "\n",
    "\n",
    "model_tf = Model_tf(name=\"LeNet5_model_tf\")\n"
   ]
  },
  {
   "cell_type": "code",
   "execution_count": 23,
   "metadata": {
    "id": "ncOkw4MUN1FH"
   },
   "outputs": [],
   "source": [
    "def loss_fn(y_true, y_pred):\n",
    "  return tf.reduce_mean(tf.nn.softmax_cross_entropy_with_logits(labels=y_true, logits=y_pred))\n",
    "\n",
    "optimizer = tf.optimizers.Adam()"
   ]
  },
  {
   "cell_type": "markdown",
   "metadata": {
    "id": "JQ8jai_AwVLt"
   },
   "source": [
    "Step 4: Training the Model"
   ]
  },
  {
   "cell_type": "code",
   "execution_count": 24,
   "metadata": {
    "colab": {
     "base_uri": "https://localhost:8080/"
    },
    "executionInfo": {
     "elapsed": 26625,
     "status": "ok",
     "timestamp": 1717691444030,
     "user": {
      "displayName": "Fabio M",
      "userId": "09614366475601969276"
     },
     "user_tz": -120
    },
    "id": "KG7dQHTxwX8e",
    "outputId": "346178e7-212f-42b0-e09d-b485bdd68cc7"
   },
   "outputs": [
    {
     "name": "stdout",
     "output_type": "stream",
     "text": [
      "Epoch = 0   ,   Accuracy = 0.816\n"
     ]
    }
   ],
   "source": [
    "@tf.function\n",
    "def train_step(model, X, y):\n",
    "    with tf.GradientTape(persistent=True) as tape:\n",
    "        y_model = model(X)\n",
    "        loss = loss_fn(y, y_model)\n",
    "    gradients = tape.gradient(loss, model.trainable_variables)\n",
    "    optimizer.apply_gradients(zip(gradients, model.trainable_variables))\n",
    "    return loss\n",
    "\n",
    "def test_step(model, X, y, step=None):\n",
    "    correct_predictions = tf.equal(y_test, model_tf(x_test))\n",
    "    accuracy = tf.reduce_mean(tf.cast(correct_predictions, tf.float32)) # Recast the Boolean as float32 first. Then calculate the mean.\n",
    "    accuracy_value = accuracy.numpy()\n",
    "    print(\"Epoch = {}   ,   Accuracy = {:5.3f}\".format(i, accuracy_value))\n",
    "\n",
    "\n",
    "# Training.\n",
    "for i in range(epochs_tf):\n",
    "    idx_rnd = np.random.choice(range(x_train.shape[0]), batch_size_tf, replace=False)                          # Random sampling w/o replacement for the batch indices.\n",
    "    batch_x = x_train[idx_rnd, :] # Sample a batch!\n",
    "    batch_y = y_train[idx_rnd]\n",
    "    train_step(model_tf, batch_x, batch_y)\n",
    "\n",
    "    if i%10 == 0:\n",
    "      test_step(model_tf, batch_x, batch_y, i)\n"
   ]
  },
  {
   "cell_type": "markdown",
   "metadata": {
    "id": "XFgHwuqnwWfW"
   },
   "source": [
    "Step 5: Evaluating the Model"
   ]
  },
  {
   "cell_type": "code",
   "execution_count": 25,
   "metadata": {
    "colab": {
     "base_uri": "https://localhost:8080/"
    },
    "executionInfo": {
     "elapsed": 220,
     "status": "ok",
     "timestamp": 1717691449562,
     "user": {
      "displayName": "Fabio M",
      "userId": "09614366475601969276"
     },
     "user_tz": -120
    },
    "id": "DeM6quLKwXll",
    "outputId": "9620aa38-c5d6-481e-aaa8-76afcfd23177"
   },
   "outputs": [
    {
     "name": "stdout",
     "output_type": "stream",
     "text": [
      "Epoch = 9   ,   Accuracy = 0.816\n"
     ]
    }
   ],
   "source": [
    "test_step(model_tf, batch_x, batch_y)"
   ]
  },
  {
   "cell_type": "markdown",
   "metadata": {
    "id": "buWkXQqSNtFz"
   },
   "source": [
    "## Jax-Flax LeNet-5 Architecture (CNN)\n",
    "\n",
    "---\n",
    "\n",
    "reference:\n",
    "https://github.com/8bitmp3/JAX-Flax-Tutorial-Image-Classification-with-Line\n",
    "\n",
    "https://www.machinelearningnuggets.com/jax-cnn/\n"
   ]
  },
  {
   "cell_type": "markdown",
   "metadata": {
    "id": "lmNZ50FvgnPw"
   },
   "source": [
    "!pip install --upgrade -q pip jax jaxlib flax optax tensorflow-datasets"
   ]
  },
  {
   "cell_type": "markdown",
   "metadata": {
    "id": "f08bKrnpNyMb"
   },
   "source": [
    "Step 1: Getting, Splitting and Loading the Data"
   ]
  },
  {
   "cell_type": "code",
   "execution_count": 1,
   "metadata": {
    "id": "urCuLAQ6NxqC"
   },
   "outputs": [],
   "source": [
    "import os\n",
    "os.environ[\"TF_CPP_MIN_LOG_LEVEL\"] = \"2\"\n",
    "import tensorflow_datasets as tfds\n",
    "import numpy as np\n",
    "import matplotlib.pyplot as plt\n",
    "import pandas as pd\n",
    "import keras\n",
    "\n",
    "import jax\n",
    "from jax import random\n",
    "from jax import numpy as jnp\n",
    "\n",
    "import optax\n",
    "from tqdm.auto import tqdm\n",
    "\n",
    "import flax\n",
    "from flax import linen as nn\n",
    "from flax.training import train_state"
   ]
  },
  {
   "cell_type": "code",
   "execution_count": 2,
   "metadata": {
    "id": "YXM12h7TUlIP"
   },
   "outputs": [
    {
     "data": {
      "text/plain": [
       "[cuda(id=0)]"
      ]
     },
     "execution_count": 2,
     "metadata": {},
     "output_type": "execute_result"
    }
   ],
   "source": [
    "jax.local_devices()"
   ]
  },
  {
   "cell_type": "code",
   "execution_count": 3,
   "metadata": {},
   "outputs": [],
   "source": [
    "# Model / data parameters\n",
    "learn_rate = 0.005\n",
    "epochs_JAX = 10\n",
    "batch_size_JAX = 1000\n",
    "\n",
    "IMG_SIZE = 28"
   ]
  },
  {
   "cell_type": "markdown",
   "metadata": {
    "id": "618TbyppOKB0"
   },
   "source": [
    "Step 2: Prepare the Data"
   ]
  },
  {
   "cell_type": "code",
   "execution_count": 5,
   "metadata": {
    "id": "Ac_xifg7OPN6"
   },
   "outputs": [
    {
     "name": "stdout",
     "output_type": "stream",
     "text": [
      "Directory 'mnist_images' contains exactly 2 non-empty subdirectories.\n",
      "Found 60000 files belonging to 10 classes.\n",
      "Using 48000 files for training.\n",
      "Found 60000 files belonging to 10 classes.\n",
      "Using 12000 files for validation.\n",
      "Found 10000 files belonging to 10 classes.\n"
     ]
    }
   ],
   "source": [
    "# Save the images to the corresponding directories, splitting training, validation and test set\n",
    "def save_images(images, labels, base_dir):\n",
    "    for idx, (image, label) in enumerate(zip(images, labels)):\n",
    "        label_dir = os.path.join(base_dir, str(label))\n",
    "        file_path = os.path.join(label_dir, f'{idx}.png')\n",
    "        keras.preprocessing.image.save_img(file_path, np.expand_dims(image, axis=-1))\n",
    "\n",
    "def directory_contains_two_nonempty_subdirs(directory):\n",
    "    if not os.path.exists(directory):\n",
    "        print(f\"Directory '{directory}' does not exist.\")\n",
    "        return False\n",
    "    \n",
    "    subdirs = [name for name in os.listdir(directory) if os.path.isdir(os.path.join(directory, name))]\n",
    "    \n",
    "    if len(subdirs) != 2:\n",
    "        print(f\"Directory '{directory}' does not contain exactly 2 subdirectories.\")\n",
    "        return False\n",
    "    \n",
    "    nonempty_subdirs_count = 0\n",
    "    for subdir in subdirs:\n",
    "        subdir_path = os.path.join(directory, subdir)\n",
    "        if any(os.listdir(subdir_path)):\n",
    "            nonempty_subdirs_count += 1\n",
    "    \n",
    "    if nonempty_subdirs_count == 2:\n",
    "        print(f\"Directory '{directory}' contains exactly 2 non-empty subdirectories.\")\n",
    "        return True\n",
    "    else:\n",
    "        print(f\"Directory '{directory}' does not contain 2 non-empty subdirectories.\")\n",
    "        return False\n",
    "\n",
    "base_dir = 'mnist_images'\n",
    "train_dir = os.path.join(base_dir, 'train')\n",
    "test_dir = os.path.join(base_dir, 'test')\n",
    "\n",
    "if (not directory_contains_two_nonempty_subdirs(base_dir)):\n",
    "    \n",
    "    ## Preparing the dataset\n",
    "    (train_images, train_labels), (test_images, test_labels) = keras.datasets.fashion_mnist.load_data()\n",
    "    \n",
    "    # Create directories for the dataset\n",
    "    \n",
    "    for i in range(10):\n",
    "        os.makedirs(os.path.join(train_dir, str(i)), exist_ok=True)\n",
    "        os.makedirs(os.path.join(test_dir, str(i)), exist_ok=True)\n",
    "\n",
    "    # Save train and test images\n",
    "    save_images(train_images, train_labels, train_dir)\n",
    "    save_images(test_images, test_labels, test_dir)\n",
    "\n",
    "# Use image_dataset_from_directory to create the dataset\n",
    "\n",
    "training_set = keras.utils.image_dataset_from_directory(\n",
    "    train_dir,\n",
    "    validation_split=0.2,\n",
    "    subset=\"training\",\n",
    "    seed=5603,\n",
    "    image_size=(IMG_SIZE, IMG_SIZE),  # MNIST images are 28x28\n",
    "    color_mode='grayscale',  # MNIST images are grayscale\n",
    "    batch_size=batch_size_JAX\n",
    ")\n",
    "\n",
    "validation_set = keras.utils.image_dataset_from_directory(\n",
    "    train_dir,\n",
    "    validation_split=0.2,\n",
    "    subset=\"validation\",\n",
    "    seed=5603,\n",
    "    image_size=(IMG_SIZE, IMG_SIZE),\n",
    "    color_mode='grayscale',\n",
    "    batch_size=batch_size_JAX\n",
    ")\n",
    "\n",
    "test_set = keras.utils.image_dataset_from_directory(\n",
    "    test_dir,\n",
    "    image_size=(IMG_SIZE, IMG_SIZE),\n",
    "    color_mode='grayscale',\n",
    "    batch_size=batch_size_JAX\n",
    ")\n"
   ]
  },
  {
   "cell_type": "code",
   "execution_count": 6,
   "metadata": {},
   "outputs": [
    {
     "data": {
      "image/png": "[encoded data removed]",
      "text/plain": [
       "<Figure size 1000x1000 with 9 Axes>"
      ]
     },
     "metadata": {},
     "output_type": "display_data"
    }
   ],
   "source": [
    "#Plot some training samples\n",
    "def plot_images(dataset):\n",
    "    plt.figure(figsize=(10, 10))\n",
    "    for images, labels in dataset.take(50):\n",
    "        for i in range(9):\n",
    "            ax = plt.subplot(3, 3, i + 1)\n",
    "            plt.imshow(images[i].numpy().astype(\"uint8\"), cmap='gray')\n",
    "            plt.title(int(labels[i]))\n",
    "            plt.axis(\"off\")\n",
    "    plt.show()\n",
    "\n",
    "# Plot the images\n",
    "plot_images(training_set)"
   ]
  },
  {
   "cell_type": "code",
   "execution_count": 7,
   "metadata": {},
   "outputs": [],
   "source": [
    "#Pre processing images resize and rescale\n",
    "resize_and_rescale = keras.Sequential(\n",
    "    [\n",
    "        keras.layers.Resizing(IMG_SIZE, IMG_SIZE),\n",
    "        keras.layers.Rescaling(1.0 / 255),\n",
    "    ]\n",
    ")\n",
    "\n",
    "#tf.data.AUTOTUNE\n",
    "AUTOTUNE = -1\n",
    "\n",
    "#Method to apply pre-processing to all the data\n",
    "def prepare(ds, shuffle=False):\n",
    "    # Rescale and resize all datasets.\n",
    "    ds = ds.map(lambda x, y: (resize_and_rescale(x), y), num_parallel_calls=AUTOTUNE)\n",
    "\n",
    "    if shuffle:\n",
    "        ds = ds.shuffle(1000)\n",
    "\n",
    "    # Use buffered prefetching on all datasets.\n",
    "    return ds.prefetch(buffer_size=AUTOTUNE)\n",
    "\n",
    "#Method to convert dataset into batch of dataset to be used in next phases.\n",
    "def get_batches(ds):\n",
    "    data = ds.prefetch(1)\n",
    "    # tfds.dataset_as_numpy converts the tf.data.Dataset into an iterable of NumPy arrays\n",
    "    return tfds.as_numpy(data)\n",
    "\n",
    "#Method that contains prepare+get_batches to produce three datasets\n",
    "def prepareBatchDatasets(training_set,validation_set,test_set):\n",
    "    train_ds = prepare(training_set, shuffle=True)\n",
    "    val_ds = prepare(validation_set)\n",
    "    evaluation_set = prepare(test_set)\n",
    "    \n",
    "    training_data = get_batches(train_ds)\n",
    "    validation_data = get_batches(val_ds)\n",
    "    evaluation_data = get_batches(evaluation_set)\n",
    "    return training_data,validation_data,evaluation_data\n",
    "\n",
    "\n",
    "training_data,validation_data,evaluation_data=prepareBatchDatasets(training_set,validation_set,test_set)"
   ]
  },
  {
   "cell_type": "markdown",
   "metadata": {
    "id": "eaUVOOEXOLUS"
   },
   "source": [
    "Step 3: Building the Model"
   ]
  },
  {
   "cell_type": "code",
   "execution_count": 8,
   "metadata": {
    "id": "kFWpQwDNOPi6"
   },
   "outputs": [],
   "source": [
    "# Define the LeNet architecture\n",
    "class LeNet(nn.Module):\n",
    "    @nn.compact\n",
    "    def __call__(self, x):\n",
    "        x = nn.Conv(features=6, kernel_size=(5, 5), strides=(1, 1), padding='SAME')(x)\n",
    "        x = nn.tanh(x)\n",
    "        x = nn.avg_pool(x, window_shape=(2, 2), strides=(2, 2), padding='VALID')\n",
    "        x = nn.Conv(features=16, kernel_size=(5, 5), strides=(1, 1), padding='VALID')(x)\n",
    "        x = nn.tanh(x)\n",
    "        x = nn.avg_pool(x, window_shape=(2, 2), strides=(2, 2), padding='VALID')\n",
    "        x = x.reshape((x.shape[0], -1))  # Flatten\n",
    "        x = nn.Dense(features=120)(x)\n",
    "        x = nn.tanh(x)\n",
    "        x = nn.Dense(features=84)(x)\n",
    "        x = nn.tanh(x)\n",
    "        x = nn.Dense(features=10)(x)\n",
    "        return x\n",
    "        \n",
    "class_names = training_set.class_names\n",
    "num_classes = len(class_names)"
   ]
  },
  {
   "cell_type": "code",
   "execution_count": 9,
   "metadata": {},
   "outputs": [
    {
     "data": {
      "text/plain": [
       "Array([[ 0.34913898,  0.14055441,  0.22010076, -0.05485532,  0.27679592,\n",
       "         0.09151288,  0.2330003 , -0.07789814, -0.19058019,  0.42997396]],      dtype=float32)"
      ]
     },
     "execution_count": 9,
     "metadata": {},
     "output_type": "execute_result"
    }
   ],
   "source": [
    "rng = random.PRNGKey(0)\n",
    "rng, init_rng = random.split(rng)\n",
    "\n",
    "model = LeNet()\n",
    "inp = jnp.ones([1, IMG_SIZE, IMG_SIZE, 1])\n",
    "\n",
    "# Initialize the model\n",
    "params = model.init(init_rng, inp)\n",
    "\n",
    "model.apply(params, inp)"
   ]
  },
  {
   "cell_type": "code",
   "execution_count": 10,
   "metadata": {},
   "outputs": [],
   "source": [
    "#Definition of the optimizer and update the model state\n",
    "\n",
    "optimizer = optax.adam(\n",
    "    learning_rate=learn_rate\n",
    ") \n",
    "\n",
    "model_state = train_state.TrainState.create(\n",
    "    apply_fn=model.apply, params=params, tx=optimizer\n",
    ")\n",
    "\n",
    "#Method use to calculate loss and accuracy\n",
    "def calculate_loss_acc(state, params, batch):\n",
    "    data_input, labels = batch\n",
    "    # Obtain the logits and predictions of the model for the input data\n",
    "    logits = state.apply_fn(params, data_input)\n",
    "    # Calculate the loss and accuracy\n",
    "    labels_onehot = jax.nn.one_hot(labels, num_classes=num_classes)\n",
    "    #uncomment the line below for multiclass classification\n",
    "    # loss = optax.softmax_cross_entropy(logits, labels_onehot).mean()\n",
    "    loss = optax.sigmoid_binary_cross_entropy(logits, labels_onehot).mean()\n",
    "    # comment the line above for multiclass problems\n",
    "    acc = jnp.mean(jnp.argmax(logits, -1) == labels)\n",
    "    return loss, acc"
   ]
  },
  {
   "cell_type": "code",
   "execution_count": 11,
   "metadata": {},
   "outputs": [
    {
     "data": {
      "text/plain": [
       "(Array(0.74572814, dtype=float32), Array(0.051, dtype=float32))"
      ]
     },
     "execution_count": 11,
     "metadata": {},
     "output_type": "execute_result"
    }
   ],
   "source": [
    "#Test if it works\n",
    "batch = next(iter(training_data))\n",
    "calculate_loss_acc(model_state, model_state.params, batch)"
   ]
  },
  {
   "cell_type": "markdown",
   "metadata": {
    "id": "BEXNZGM-OMAK"
   },
   "source": [
    "Step 4: Training the Model"
   ]
  },
  {
   "cell_type": "code",
   "execution_count": 12,
   "metadata": {
    "id": "upcRDfNVOP4i"
   },
   "outputs": [],
   "source": [
    "@jax.jit  # Jit the function for efficiency\n",
    "def train_step(state, batch):\n",
    "    # Gradient function\n",
    "    grad_fn = jax.value_and_grad(\n",
    "        calculate_loss_acc,  # Function to calculate the loss\n",
    "        argnums=1,  # Parameters are second argument of the function\n",
    "        has_aux=True,  # Function has additional outputs, here accuracy\n",
    "    )\n",
    "    \n",
    "    # Determine gradients for current model, parameters and batch\n",
    "    (loss, acc), grads = grad_fn(state, state.params, batch)\n",
    "    \n",
    "    # Perform parameter update with gradients and optimizer\n",
    "    state = state.apply_gradients(grads=grads)\n",
    "   \n",
    "    return state, loss, acc\n",
    "\n",
    "@jax.jit  # Jit the function for efficiency\n",
    "def eval_step(state, batch):\n",
    "    # Determine the accuracy\n",
    "    loss, acc = calculate_loss_acc(state, state.params, batch)\n",
    "    return loss, acc\n",
    "\n",
    "\n",
    "training_accuracy = []\n",
    "training_loss = []\n",
    "\n",
    "testing_loss = []\n",
    "testing_accuracy = []\n",
    "\n",
    "\n",
    "def train_model(state, train_loader, test_loader, num_epochs=30):\n",
    "    # Training loop\n",
    "    for epoch in tqdm(range(num_epochs)):\n",
    "        train_batch_loss, train_batch_accuracy = [], []\n",
    "        val_batch_loss, val_batch_accuracy = [], []\n",
    "\n",
    "        for train_batch in train_loader:\n",
    "            state, loss, acc = train_step(state, train_batch)\n",
    "            train_batch_loss.append(loss)\n",
    "            train_batch_accuracy.append(acc)\n",
    "\n",
    "        for val_batch in test_loader:\n",
    "            val_loss, val_acc = eval_step(state, val_batch)\n",
    "\n",
    "            val_batch_loss.append(val_loss)\n",
    "            val_batch_accuracy.append(val_acc)\n",
    "\n",
    "        # Loss for the current epoch\n",
    "        epoch_train_loss = np.mean(train_batch_loss)\n",
    "        epoch_val_loss = np.mean(val_batch_loss)\n",
    "\n",
    "        # Accuracy for the current epoch\n",
    "        epoch_train_acc = np.mean(train_batch_accuracy)\n",
    "        epoch_val_acc = np.mean(val_batch_accuracy)\n",
    "\n",
    "        testing_loss.append(epoch_val_loss)\n",
    "        testing_accuracy.append(epoch_val_acc)\n",
    "\n",
    "        training_loss.append(epoch_train_loss)\n",
    "        training_accuracy.append(epoch_train_acc)\n",
    "\n",
    "        print(\n",
    "            f\"Epoch: {epoch + 1}, loss: {epoch_train_loss:.2f}, acc: {epoch_train_acc:.2f} val loss: {epoch_val_loss:.2f} val acc {epoch_val_acc:.2f} \"\n",
    "        )\n",
    "\n",
    "    return state"
   ]
  },
  {
   "cell_type": "code",
   "execution_count": 13,
   "metadata": {},
   "outputs": [
    {
     "data": {
      "application/vnd.jupyter.widget-view+json": {
       "model_id": "f27d676bb1e640539734e2a0b157f6dc",
       "version_major": 2,
       "version_minor": 0
      },
      "text/plain": [
       "  0%|          | 0/10 [00:00<?, ?it/s]"
      ]
     },
     "metadata": {},
     "output_type": "display_data"
    },
    {
     "name": "stdout",
     "output_type": "stream",
     "text": [
      "Epoch: 1, loss: 0.23, acc: 0.51 val loss: 0.13 val acc 0.73 \n",
      "Epoch: 2, loss: 0.11, acc: 0.76 val loss: 0.09 val acc 0.80 \n",
      "Epoch: 3, loss: 0.09, acc: 0.81 val loss: 0.08 val acc 0.83 \n",
      "Epoch: 4, loss: 0.08, acc: 0.84 val loss: 0.08 val acc 0.84 \n",
      "Epoch: 5, loss: 0.07, acc: 0.85 val loss: 0.07 val acc 0.86 \n",
      "Epoch: 6, loss: 0.07, acc: 0.86 val loss: 0.07 val acc 0.87 \n",
      "Epoch: 7, loss: 0.07, acc: 0.87 val loss: 0.06 val acc 0.88 \n",
      "Epoch: 8, loss: 0.06, acc: 0.87 val loss: 0.06 val acc 0.87 \n",
      "Epoch: 9, loss: 0.06, acc: 0.88 val loss: 0.06 val acc 0.88 \n",
      "Epoch: 10, loss: 0.06, acc: 0.89 val loss: 0.06 val acc 0.88 \n"
     ]
    }
   ],
   "source": [
    "trained_model_state = train_model(\n",
    "    model_state, training_data, validation_data, num_epochs=epochs_JAX\n",
    ")"
   ]
  },
  {
   "cell_type": "markdown",
   "metadata": {
    "id": "dU-F-A3_OMtK"
   },
   "source": [
    "Step 5: Evaluating the Model"
   ]
  },
  {
   "cell_type": "code",
   "execution_count": 15,
   "metadata": {},
   "outputs": [
    {
     "data": {
      "text/plain": [
       "<Axes: >"
      ]
     },
     "execution_count": 15,
     "metadata": {},
     "output_type": "execute_result"
    },
    {
     "data": {
      "image/png": "[encoded data removed]",
      "text/plain": [
       "<Figure size 640x480 with 1 Axes>"
      ]
     },
     "metadata": {},
     "output_type": "display_data"
    }
   ],
   "source": [
    "metrics_df = pd.DataFrame(np.array(training_accuracy), columns=[\"accuracy\"])\n",
    "metrics_df[\"val_accuracy\"] = np.array(testing_accuracy)\n",
    "metrics_df[\"loss\"] = np.array(training_loss)\n",
    "metrics_df[\"val_loss\"] = np.array(testing_loss)\n",
    "metrics_df.head()\n",
    "\n",
    "metrics_df[[\"accuracy\", \"val_accuracy\"]].plot()"
   ]
  },
  {
   "cell_type": "code",
   "execution_count": 16,
   "metadata": {},
   "outputs": [
    {
     "name": "stdout",
     "output_type": "stream",
     "text": [
      "Test Loss: 0.0638, Test Accuracy: 86.98%\n"
     ]
    }
   ],
   "source": [
    "def evaluate_model(state, eval_loader):\n",
    "    eval_losses, eval_accs = [], []\n",
    "    for eval_batch in eval_loader:\n",
    "        loss, acc = eval_step(state, eval_batch)\n",
    "        eval_losses.append(loss)\n",
    "        eval_accs.append(acc)\n",
    "    mean_loss = np.mean(eval_losses)\n",
    "    mean_acc = np.mean(eval_accs)\n",
    "    return mean_loss, mean_acc\n",
    "\n",
    "test_loss, test_acc = evaluate_model(trained_model_state, evaluation_data)\n",
    "\n",
    "print(f\"Test Loss: {test_loss:.4f}, Test Accuracy: {test_acc * 100:.2f}%\")"
   ]
  },
  {
   "cell_type": "code",
   "execution_count": null,
   "metadata": {},
   "outputs": [],
   "source": [
    "# from flax.training import checkpoints\n",
    "\n",
    "# checkpoints.save_checkpoint(\n",
    "#     ckpt_dir=\"/content/my_checkpoints/\",  # Folder to save checkpoint in\n",
    "#     target=trained_model_state,  # What to save. To only save parameters, use model_state.params\n",
    "#     step=100,  # Training step or other metric to save best model on\n",
    "#     prefix=\"my_model\",  # Checkpoint file name prefix\n",
    "#     overwrite=True,  # Overwrite existing checkpoint files\n",
    "# )\n",
    "\n",
    "# loaded_model_state = checkpoints.restore_checkpoint(\n",
    "#     ckpt_dir=\"/content/my_checkpoints/\",  # Folder with the checkpoints\n",
    "#     target=model_state,  # (optional) matching object to rebuild state in\n",
    "#     prefix=\"my_model\",  # Checkpoint file name prefix\n",
    "# )"
   ]
  },
  {
   "cell_type": "code",
   "execution_count": 40,
   "metadata": {},
   "outputs": [],
   "source": [
    "##Utility to delete directly the dataset folder\n",
    "import os\n",
    "\n",
    "# def delete_directory_contents(directory):\n",
    "#     # List all files and directories in the directory\n",
    "#     for item in os.listdir(directory):\n",
    "#         item_path = os.path.join(directory, item)\n",
    "#         # Check if the item is a file\n",
    "#         if os.path.isfile(item_path):\n",
    "#             # Remove the file\n",
    "#             os.remove(item_path)\n",
    "#         # Check if the item is a directory\n",
    "#         elif os.path.isdir(item_path):\n",
    "#             # Remove the directory and its contents recursively\n",
    "#             delete_directory_contents(item_path)\n",
    "#             # Remove the empty directory\n",
    "#             os.rmdir(item_path)\n",
    "\n",
    "# # Example usage:\n",
    "# directory_path = 'mnist_images'\n",
    "# delete_directory_contents(directory_path)"
   ]
  }
 ],
 "metadata": {
  "accelerator": "GPU",
  "colab": {
   "gpuType": "T4",
   "provenance": [
    {
     "file_id": "17d1PWgH_pVube_ieHqlr64Lk-PaveGYp",
     "timestamp": 1715423387479
    }
   ]
  },
  "kernelspec": {
   "display_name": "Python 3 (ipykernel)",
   "language": "python",
   "name": "python3"
  },
  "language_info": {
   "codemirror_mode": {
    "name": "ipython",
    "version": 3
   },
   "file_extension": ".py",
   "mimetype": "text/x-python",
   "name": "python",
   "nbconvert_exporter": "python",
   "pygments_lexer": "ipython3",
   "version": "3.10.12"
  }
 },
 "nbformat": 4,
 "nbformat_minor": 4
}
